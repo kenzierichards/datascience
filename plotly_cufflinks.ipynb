{
 "cells": [
  {
   "cell_type": "code",
   "execution_count": 1,
   "metadata": {},
   "outputs": [],
   "source": [
    "#trying out plotly and cufflinks\n",
    "\n",
    "import pandas as pd\n",
    "import numpy as np\n",
    "%matplotlib inline"
   ]
  },
  {
   "cell_type": "markdown",
   "metadata": {},
   "source": [
    "## set up plotly & cufflinks"
   ]
  },
  {
   "cell_type": "code",
   "execution_count": 2,
   "metadata": {},
   "outputs": [
    {
     "name": "stdout",
     "output_type": "stream",
     "text": [
      "4.6.0\n"
     ]
    }
   ],
   "source": [
    "from plotly import __version__\n",
    "from plotly.offline import download_plotlyjs, init_notebook_mode, plot, iplot\n",
    "\n",
    "print(__version__)"
   ]
  },
  {
   "cell_type": "code",
   "execution_count": 3,
   "metadata": {},
   "outputs": [],
   "source": [
    "import cufflinks as cf"
   ]
  },
  {
   "cell_type": "code",
   "execution_count": 4,
   "metadata": {},
   "outputs": [
    {
     "data": {
      "text/html": [
       "        <script type=\"text/javascript\">\n",
       "        window.PlotlyConfig = {MathJaxConfig: 'local'};\n",
       "        if (window.MathJax) {MathJax.Hub.Config({SVG: {font: \"STIX-Web\"}});}\n",
       "        if (typeof require !== 'undefined') {\n",
       "        require.undef(\"plotly\");\n",
       "        requirejs.config({\n",
       "            paths: {\n",
       "                'plotly': ['https://cdn.plot.ly/plotly-latest.min']\n",
       "            }\n",
       "        });\n",
       "        require(['plotly'], function(Plotly) {\n",
       "            window._Plotly = Plotly;\n",
       "        });\n",
       "        }\n",
       "        </script>\n",
       "        "
      ]
     },
     "metadata": {},
     "output_type": "display_data"
    }
   ],
   "source": [
    "init_notebook_mode(connected=True)"
   ]
  },
  {
   "cell_type": "code",
   "execution_count": 5,
   "metadata": {},
   "outputs": [
    {
     "data": {
      "text/html": [
       "        <script type=\"text/javascript\">\n",
       "        window.PlotlyConfig = {MathJaxConfig: 'local'};\n",
       "        if (window.MathJax) {MathJax.Hub.Config({SVG: {font: \"STIX-Web\"}});}\n",
       "        if (typeof require !== 'undefined') {\n",
       "        require.undef(\"plotly\");\n",
       "        requirejs.config({\n",
       "            paths: {\n",
       "                'plotly': ['https://cdn.plot.ly/plotly-latest.min']\n",
       "            }\n",
       "        });\n",
       "        require(['plotly'], function(Plotly) {\n",
       "            window._Plotly = Plotly;\n",
       "        });\n",
       "        }\n",
       "        </script>\n",
       "        "
      ]
     },
     "metadata": {},
     "output_type": "display_data"
    }
   ],
   "source": [
    "cf.go_offline()"
   ]
  },
  {
   "cell_type": "markdown",
   "metadata": {},
   "source": [
    "## set up random data"
   ]
  },
  {
   "cell_type": "code",
   "execution_count": 6,
   "metadata": {},
   "outputs": [],
   "source": [
    "df = pd.DataFrame(np.random.randn(100,4),columns='A B C D'.split())"
   ]
  },
  {
   "cell_type": "code",
   "execution_count": 7,
   "metadata": {},
   "outputs": [
    {
     "data": {
      "text/html": [
       "<div>\n",
       "<style scoped>\n",
       "    .dataframe tbody tr th:only-of-type {\n",
       "        vertical-align: middle;\n",
       "    }\n",
       "\n",
       "    .dataframe tbody tr th {\n",
       "        vertical-align: top;\n",
       "    }\n",
       "\n",
       "    .dataframe thead th {\n",
       "        text-align: right;\n",
       "    }\n",
       "</style>\n",
       "<table border=\"1\" class=\"dataframe\">\n",
       "  <thead>\n",
       "    <tr style=\"text-align: right;\">\n",
       "      <th></th>\n",
       "      <th>A</th>\n",
       "      <th>B</th>\n",
       "      <th>C</th>\n",
       "      <th>D</th>\n",
       "    </tr>\n",
       "  </thead>\n",
       "  <tbody>\n",
       "    <tr>\n",
       "      <th>0</th>\n",
       "      <td>-2.195177</td>\n",
       "      <td>-0.255111</td>\n",
       "      <td>-1.078897</td>\n",
       "      <td>-0.559057</td>\n",
       "    </tr>\n",
       "    <tr>\n",
       "      <th>1</th>\n",
       "      <td>0.412971</td>\n",
       "      <td>-1.512746</td>\n",
       "      <td>-1.256758</td>\n",
       "      <td>-0.965248</td>\n",
       "    </tr>\n",
       "    <tr>\n",
       "      <th>2</th>\n",
       "      <td>0.523826</td>\n",
       "      <td>0.375801</td>\n",
       "      <td>2.306906</td>\n",
       "      <td>-1.390624</td>\n",
       "    </tr>\n",
       "    <tr>\n",
       "      <th>3</th>\n",
       "      <td>2.321660</td>\n",
       "      <td>1.885773</td>\n",
       "      <td>1.459719</td>\n",
       "      <td>-0.086870</td>\n",
       "    </tr>\n",
       "    <tr>\n",
       "      <th>4</th>\n",
       "      <td>-1.791887</td>\n",
       "      <td>1.662544</td>\n",
       "      <td>0.089939</td>\n",
       "      <td>0.154546</td>\n",
       "    </tr>\n",
       "  </tbody>\n",
       "</table>\n",
       "</div>"
      ],
      "text/plain": [
       "          A         B         C         D\n",
       "0 -2.195177 -0.255111 -1.078897 -0.559057\n",
       "1  0.412971 -1.512746 -1.256758 -0.965248\n",
       "2  0.523826  0.375801  2.306906 -1.390624\n",
       "3  2.321660  1.885773  1.459719 -0.086870\n",
       "4 -1.791887  1.662544  0.089939  0.154546"
      ]
     },
     "execution_count": 7,
     "metadata": {},
     "output_type": "execute_result"
    }
   ],
   "source": [
    "df.head()"
   ]
  },
  {
   "cell_type": "code",
   "execution_count": 9,
   "metadata": {},
   "outputs": [],
   "source": [
    "df2 = pd.DataFrame({'Category':['A','B','C'],'Values':[32,43,50]}) #new random data frame"
   ]
  },
  {
   "cell_type": "code",
   "execution_count": 10,
   "metadata": {},
   "outputs": [
    {
     "data": {
      "text/html": [
       "<div>\n",
       "<style scoped>\n",
       "    .dataframe tbody tr th:only-of-type {\n",
       "        vertical-align: middle;\n",
       "    }\n",
       "\n",
       "    .dataframe tbody tr th {\n",
       "        vertical-align: top;\n",
       "    }\n",
       "\n",
       "    .dataframe thead th {\n",
       "        text-align: right;\n",
       "    }\n",
       "</style>\n",
       "<table border=\"1\" class=\"dataframe\">\n",
       "  <thead>\n",
       "    <tr style=\"text-align: right;\">\n",
       "      <th></th>\n",
       "      <th>Category</th>\n",
       "      <th>Values</th>\n",
       "    </tr>\n",
       "  </thead>\n",
       "  <tbody>\n",
       "    <tr>\n",
       "      <th>0</th>\n",
       "      <td>A</td>\n",
       "      <td>32</td>\n",
       "    </tr>\n",
       "    <tr>\n",
       "      <th>1</th>\n",
       "      <td>B</td>\n",
       "      <td>43</td>\n",
       "    </tr>\n",
       "    <tr>\n",
       "      <th>2</th>\n",
       "      <td>C</td>\n",
       "      <td>50</td>\n",
       "    </tr>\n",
       "  </tbody>\n",
       "</table>\n",
       "</div>"
      ],
      "text/plain": [
       "  Category  Values\n",
       "0        A      32\n",
       "1        B      43\n",
       "2        C      50"
      ]
     },
     "execution_count": 10,
     "metadata": {},
     "output_type": "execute_result"
    }
   ],
   "source": [
    "df2.head()"
   ]
  },
  {
   "cell_type": "markdown",
   "metadata": {},
   "source": [
    "## scatter plot"
   ]
  },
  {
   "cell_type": "code",
   "execution_count": 11,
   "metadata": {},
   "outputs": [
    {
     "data": {
      "application/vnd.plotly.v1+json": {
       "config": {
        "linkText": "Export to plot.ly",
        "plotlyServerURL": "https://plot.ly",
        "showLink": true
       },
       "data": [
        {
         "line": {
          "color": "rgba(255, 153, 51, 1.0)",
          "dash": "solid",
          "shape": "linear",
          "width": 1.3
         },
         "marker": {
          "size": 10,
          "symbol": "circle"
         },
         "mode": "markers",
         "name": "B",
         "text": "",
         "type": "scatter",
         "x": [
          -2.19517732281781,
          0.41297071995567625,
          0.5238259134616036,
          2.321660493048887,
          -1.7918868447130059,
          -1.4003185528924975,
          -1.7297604866535865,
          -0.44388711000201464,
          -0.5052550235591972,
          -0.20154762526484626,
          -0.08352134157213167,
          -0.6855060781663106,
          1.0887687415999572,
          0.2855894125108078,
          0.7980404615235451,
          -1.0339660491462646,
          0.552988758119476,
          -0.011700097264279497,
          0.021437589270594415,
          -0.08236305549690165,
          0.5291996261975528,
          0.6551868758377841,
          -1.4859686060330128,
          -1.9244490589884782,
          0.8448386798137778,
          0.375889652742352,
          0.6713684703182022,
          0.5292666392387347,
          -1.8438289583630185,
          0.558440068266143,
          -0.6563135402637561,
          -1.6316467385018294,
          -0.39836303303761095,
          0.0691617062364122,
          0.1353258261082668,
          0.7185436507289951,
          1.553925211212386,
          -0.5714655522307664,
          1.4904875406858629,
          0.6217440104496987,
          0.7865768608697654,
          0.7378588602432641,
          -0.8985395833921609,
          0.6397978501868015,
          -0.2631592379934458,
          -0.18465379229969653,
          -1.766855324557164,
          0.12173746345167527,
          -0.743605387049839,
          0.784334833739347,
          0.3917372705482704,
          -0.5909559239175638,
          -0.40630782754950207,
          -0.9881423673945723,
          -1.4597607300847637,
          0.3023562251048793,
          -0.1954609877017618,
          1.8127924584945665,
          -0.438196644574794,
          0.9922522061400024,
          -0.859983652215299,
          0.4246206377667659,
          1.2931457895853469,
          -0.3197471206910602,
          -0.29015708985798294,
          -2.4200083935552144,
          -0.5531573484596305,
          0.9919788860691116,
          -0.10068870784096433,
          0.013473054882340725,
          0.8870424485265856,
          -1.52983366553648,
          0.8145957073039255,
          -0.81898061248173,
          -0.9098258908774242,
          -1.3752270874209238,
          1.3669607304331788,
          -0.040484151685499445,
          -1.1206413918176934,
          0.4768318852770323,
          -0.3417763069099912,
          -1.408962249978248,
          -1.5951427299765275,
          1.2197177433735997,
          0.5445789312288598,
          0.6313147555355381,
          0.32000780366272574,
          -0.8704515879612656,
          -0.627920771771115,
          0.8440369058295358,
          -1.2010314467224608,
          0.10303101875969292,
          1.7119342867501717,
          1.345218350267589,
          1.8895042692650679,
          0.5245714274017701,
          -0.010284788799988025,
          1.4983859268949218,
          0.6627916098655476,
          -0.9058275513453036
         ],
         "y": [
          -0.2551109513862989,
          -1.5127464737870182,
          0.3758014389849401,
          1.8857727661935286,
          1.662544285322015,
          -1.2664294656572934,
          -1.5174696024398788,
          0.5852178156544476,
          0.6965117049576418,
          -1.1279399272931596,
          -0.6863623724755933,
          -1.1044899382302837,
          0.07098359754755064,
          1.2151791713518312,
          0.2203176108637594,
          2.6295732761898005,
          0.6798859657591843,
          0.986074789157596,
          -1.2317801711589613,
          -0.7665611492450716,
          -0.022858667742858704,
          -0.6294825856993135,
          1.6306391943001899,
          1.6995515594849566,
          -0.5905495429530158,
          0.47793027697582735,
          -0.44609211623245887,
          1.7576040287335875,
          -1.0923347767002078,
          -1.8993634237607036,
          0.5844253290883914,
          -0.04822525857137415,
          0.3463651631429565,
          0.40013204209307585,
          0.22836136631949458,
          0.5377706594361823,
          -0.046788587259596004,
          -2.5718183127194134,
          -0.15116176468220824,
          -0.21953364549617513,
          -0.3325484225048974,
          -1.8096452038883564,
          0.7289382006548182,
          -0.09439706742108991,
          0.012540101956239863,
          -0.48136707668519524,
          1.1582886336009641,
          -0.4248727474952323,
          0.40709870307468116,
          1.0717332510596662,
          0.458827727449291,
          0.9438296370958118,
          1.4303013514646175,
          -0.403906433119754,
          0.7027145404728263,
          0.5103829539116806,
          -0.8123969957649172,
          0.3383761382920852,
          -1.171096152810323,
          0.46599418331537706,
          0.47419707617009593,
          -2.56535748723371,
          -0.06782037218279009,
          -0.9328199422531491,
          0.08936881595781979,
          1.105071798487719,
          1.292664158575097,
          -2.6250692746878195,
          -0.45631212365946394,
          1.018318165064855,
          -1.2526436138204882,
          -0.17168542970891618,
          -0.4699345868151425,
          0.38738762957994255,
          -1.5998498437689137,
          0.7609470697567795,
          -0.2616975602236235,
          0.08826540754723577,
          0.2378673846850535,
          0.32753070517438304,
          -0.6997696295911957,
          -0.9027758435345248,
          -0.07465487316390441,
          -2.4577222932537945,
          0.3340426817758278,
          0.6960081666749737,
          -0.26319239683785034,
          -0.9980782560498498,
          -0.12339060576071016,
          -0.17112287315675134,
          0.6429944355509232,
          0.9524051082923007,
          -1.323623217934063,
          0.23723427993329563,
          0.09923915891778237,
          0.05748639326282414,
          -0.8615285511403645,
          0.5099022980535224,
          -0.29916479814974173,
          -0.3551225033150403
         ]
        }
       ],
       "layout": {
        "legend": {
         "bgcolor": "#F5F6F9",
         "font": {
          "color": "#4D5663"
         }
        },
        "paper_bgcolor": "#F5F6F9",
        "plot_bgcolor": "#F5F6F9",
        "template": {
         "data": {
          "bar": [
           {
            "error_x": {
             "color": "#2a3f5f"
            },
            "error_y": {
             "color": "#2a3f5f"
            },
            "marker": {
             "line": {
              "color": "#E5ECF6",
              "width": 0.5
             }
            },
            "type": "bar"
           }
          ],
          "barpolar": [
           {
            "marker": {
             "line": {
              "color": "#E5ECF6",
              "width": 0.5
             }
            },
            "type": "barpolar"
           }
          ],
          "carpet": [
           {
            "aaxis": {
             "endlinecolor": "#2a3f5f",
             "gridcolor": "white",
             "linecolor": "white",
             "minorgridcolor": "white",
             "startlinecolor": "#2a3f5f"
            },
            "baxis": {
             "endlinecolor": "#2a3f5f",
             "gridcolor": "white",
             "linecolor": "white",
             "minorgridcolor": "white",
             "startlinecolor": "#2a3f5f"
            },
            "type": "carpet"
           }
          ],
          "choropleth": [
           {
            "colorbar": {
             "outlinewidth": 0,
             "ticks": ""
            },
            "type": "choropleth"
           }
          ],
          "contour": [
           {
            "colorbar": {
             "outlinewidth": 0,
             "ticks": ""
            },
            "colorscale": [
             [
              0,
              "#0d0887"
             ],
             [
              0.1111111111111111,
              "#46039f"
             ],
             [
              0.2222222222222222,
              "#7201a8"
             ],
             [
              0.3333333333333333,
              "#9c179e"
             ],
             [
              0.4444444444444444,
              "#bd3786"
             ],
             [
              0.5555555555555556,
              "#d8576b"
             ],
             [
              0.6666666666666666,
              "#ed7953"
             ],
             [
              0.7777777777777778,
              "#fb9f3a"
             ],
             [
              0.8888888888888888,
              "#fdca26"
             ],
             [
              1,
              "#f0f921"
             ]
            ],
            "type": "contour"
           }
          ],
          "contourcarpet": [
           {
            "colorbar": {
             "outlinewidth": 0,
             "ticks": ""
            },
            "type": "contourcarpet"
           }
          ],
          "heatmap": [
           {
            "colorbar": {
             "outlinewidth": 0,
             "ticks": ""
            },
            "colorscale": [
             [
              0,
              "#0d0887"
             ],
             [
              0.1111111111111111,
              "#46039f"
             ],
             [
              0.2222222222222222,
              "#7201a8"
             ],
             [
              0.3333333333333333,
              "#9c179e"
             ],
             [
              0.4444444444444444,
              "#bd3786"
             ],
             [
              0.5555555555555556,
              "#d8576b"
             ],
             [
              0.6666666666666666,
              "#ed7953"
             ],
             [
              0.7777777777777778,
              "#fb9f3a"
             ],
             [
              0.8888888888888888,
              "#fdca26"
             ],
             [
              1,
              "#f0f921"
             ]
            ],
            "type": "heatmap"
           }
          ],
          "heatmapgl": [
           {
            "colorbar": {
             "outlinewidth": 0,
             "ticks": ""
            },
            "colorscale": [
             [
              0,
              "#0d0887"
             ],
             [
              0.1111111111111111,
              "#46039f"
             ],
             [
              0.2222222222222222,
              "#7201a8"
             ],
             [
              0.3333333333333333,
              "#9c179e"
             ],
             [
              0.4444444444444444,
              "#bd3786"
             ],
             [
              0.5555555555555556,
              "#d8576b"
             ],
             [
              0.6666666666666666,
              "#ed7953"
             ],
             [
              0.7777777777777778,
              "#fb9f3a"
             ],
             [
              0.8888888888888888,
              "#fdca26"
             ],
             [
              1,
              "#f0f921"
             ]
            ],
            "type": "heatmapgl"
           }
          ],
          "histogram": [
           {
            "marker": {
             "colorbar": {
              "outlinewidth": 0,
              "ticks": ""
             }
            },
            "type": "histogram"
           }
          ],
          "histogram2d": [
           {
            "colorbar": {
             "outlinewidth": 0,
             "ticks": ""
            },
            "colorscale": [
             [
              0,
              "#0d0887"
             ],
             [
              0.1111111111111111,
              "#46039f"
             ],
             [
              0.2222222222222222,
              "#7201a8"
             ],
             [
              0.3333333333333333,
              "#9c179e"
             ],
             [
              0.4444444444444444,
              "#bd3786"
             ],
             [
              0.5555555555555556,
              "#d8576b"
             ],
             [
              0.6666666666666666,
              "#ed7953"
             ],
             [
              0.7777777777777778,
              "#fb9f3a"
             ],
             [
              0.8888888888888888,
              "#fdca26"
             ],
             [
              1,
              "#f0f921"
             ]
            ],
            "type": "histogram2d"
           }
          ],
          "histogram2dcontour": [
           {
            "colorbar": {
             "outlinewidth": 0,
             "ticks": ""
            },
            "colorscale": [
             [
              0,
              "#0d0887"
             ],
             [
              0.1111111111111111,
              "#46039f"
             ],
             [
              0.2222222222222222,
              "#7201a8"
             ],
             [
              0.3333333333333333,
              "#9c179e"
             ],
             [
              0.4444444444444444,
              "#bd3786"
             ],
             [
              0.5555555555555556,
              "#d8576b"
             ],
             [
              0.6666666666666666,
              "#ed7953"
             ],
             [
              0.7777777777777778,
              "#fb9f3a"
             ],
             [
              0.8888888888888888,
              "#fdca26"
             ],
             [
              1,
              "#f0f921"
             ]
            ],
            "type": "histogram2dcontour"
           }
          ],
          "mesh3d": [
           {
            "colorbar": {
             "outlinewidth": 0,
             "ticks": ""
            },
            "type": "mesh3d"
           }
          ],
          "parcoords": [
           {
            "line": {
             "colorbar": {
              "outlinewidth": 0,
              "ticks": ""
             }
            },
            "type": "parcoords"
           }
          ],
          "pie": [
           {
            "automargin": true,
            "type": "pie"
           }
          ],
          "scatter": [
           {
            "marker": {
             "colorbar": {
              "outlinewidth": 0,
              "ticks": ""
             }
            },
            "type": "scatter"
           }
          ],
          "scatter3d": [
           {
            "line": {
             "colorbar": {
              "outlinewidth": 0,
              "ticks": ""
             }
            },
            "marker": {
             "colorbar": {
              "outlinewidth": 0,
              "ticks": ""
             }
            },
            "type": "scatter3d"
           }
          ],
          "scattercarpet": [
           {
            "marker": {
             "colorbar": {
              "outlinewidth": 0,
              "ticks": ""
             }
            },
            "type": "scattercarpet"
           }
          ],
          "scattergeo": [
           {
            "marker": {
             "colorbar": {
              "outlinewidth": 0,
              "ticks": ""
             }
            },
            "type": "scattergeo"
           }
          ],
          "scattergl": [
           {
            "marker": {
             "colorbar": {
              "outlinewidth": 0,
              "ticks": ""
             }
            },
            "type": "scattergl"
           }
          ],
          "scattermapbox": [
           {
            "marker": {
             "colorbar": {
              "outlinewidth": 0,
              "ticks": ""
             }
            },
            "type": "scattermapbox"
           }
          ],
          "scatterpolar": [
           {
            "marker": {
             "colorbar": {
              "outlinewidth": 0,
              "ticks": ""
             }
            },
            "type": "scatterpolar"
           }
          ],
          "scatterpolargl": [
           {
            "marker": {
             "colorbar": {
              "outlinewidth": 0,
              "ticks": ""
             }
            },
            "type": "scatterpolargl"
           }
          ],
          "scatterternary": [
           {
            "marker": {
             "colorbar": {
              "outlinewidth": 0,
              "ticks": ""
             }
            },
            "type": "scatterternary"
           }
          ],
          "surface": [
           {
            "colorbar": {
             "outlinewidth": 0,
             "ticks": ""
            },
            "colorscale": [
             [
              0,
              "#0d0887"
             ],
             [
              0.1111111111111111,
              "#46039f"
             ],
             [
              0.2222222222222222,
              "#7201a8"
             ],
             [
              0.3333333333333333,
              "#9c179e"
             ],
             [
              0.4444444444444444,
              "#bd3786"
             ],
             [
              0.5555555555555556,
              "#d8576b"
             ],
             [
              0.6666666666666666,
              "#ed7953"
             ],
             [
              0.7777777777777778,
              "#fb9f3a"
             ],
             [
              0.8888888888888888,
              "#fdca26"
             ],
             [
              1,
              "#f0f921"
             ]
            ],
            "type": "surface"
           }
          ],
          "table": [
           {
            "cells": {
             "fill": {
              "color": "#EBF0F8"
             },
             "line": {
              "color": "white"
             }
            },
            "header": {
             "fill": {
              "color": "#C8D4E3"
             },
             "line": {
              "color": "white"
             }
            },
            "type": "table"
           }
          ]
         },
         "layout": {
          "annotationdefaults": {
           "arrowcolor": "#2a3f5f",
           "arrowhead": 0,
           "arrowwidth": 1
          },
          "coloraxis": {
           "colorbar": {
            "outlinewidth": 0,
            "ticks": ""
           }
          },
          "colorscale": {
           "diverging": [
            [
             0,
             "#8e0152"
            ],
            [
             0.1,
             "#c51b7d"
            ],
            [
             0.2,
             "#de77ae"
            ],
            [
             0.3,
             "#f1b6da"
            ],
            [
             0.4,
             "#fde0ef"
            ],
            [
             0.5,
             "#f7f7f7"
            ],
            [
             0.6,
             "#e6f5d0"
            ],
            [
             0.7,
             "#b8e186"
            ],
            [
             0.8,
             "#7fbc41"
            ],
            [
             0.9,
             "#4d9221"
            ],
            [
             1,
             "#276419"
            ]
           ],
           "sequential": [
            [
             0,
             "#0d0887"
            ],
            [
             0.1111111111111111,
             "#46039f"
            ],
            [
             0.2222222222222222,
             "#7201a8"
            ],
            [
             0.3333333333333333,
             "#9c179e"
            ],
            [
             0.4444444444444444,
             "#bd3786"
            ],
            [
             0.5555555555555556,
             "#d8576b"
            ],
            [
             0.6666666666666666,
             "#ed7953"
            ],
            [
             0.7777777777777778,
             "#fb9f3a"
            ],
            [
             0.8888888888888888,
             "#fdca26"
            ],
            [
             1,
             "#f0f921"
            ]
           ],
           "sequentialminus": [
            [
             0,
             "#0d0887"
            ],
            [
             0.1111111111111111,
             "#46039f"
            ],
            [
             0.2222222222222222,
             "#7201a8"
            ],
            [
             0.3333333333333333,
             "#9c179e"
            ],
            [
             0.4444444444444444,
             "#bd3786"
            ],
            [
             0.5555555555555556,
             "#d8576b"
            ],
            [
             0.6666666666666666,
             "#ed7953"
            ],
            [
             0.7777777777777778,
             "#fb9f3a"
            ],
            [
             0.8888888888888888,
             "#fdca26"
            ],
            [
             1,
             "#f0f921"
            ]
           ]
          },
          "colorway": [
           "#636efa",
           "#EF553B",
           "#00cc96",
           "#ab63fa",
           "#FFA15A",
           "#19d3f3",
           "#FF6692",
           "#B6E880",
           "#FF97FF",
           "#FECB52"
          ],
          "font": {
           "color": "#2a3f5f"
          },
          "geo": {
           "bgcolor": "white",
           "lakecolor": "white",
           "landcolor": "#E5ECF6",
           "showlakes": true,
           "showland": true,
           "subunitcolor": "white"
          },
          "hoverlabel": {
           "align": "left"
          },
          "hovermode": "closest",
          "mapbox": {
           "style": "light"
          },
          "paper_bgcolor": "white",
          "plot_bgcolor": "#E5ECF6",
          "polar": {
           "angularaxis": {
            "gridcolor": "white",
            "linecolor": "white",
            "ticks": ""
           },
           "bgcolor": "#E5ECF6",
           "radialaxis": {
            "gridcolor": "white",
            "linecolor": "white",
            "ticks": ""
           }
          },
          "scene": {
           "xaxis": {
            "backgroundcolor": "#E5ECF6",
            "gridcolor": "white",
            "gridwidth": 2,
            "linecolor": "white",
            "showbackground": true,
            "ticks": "",
            "zerolinecolor": "white"
           },
           "yaxis": {
            "backgroundcolor": "#E5ECF6",
            "gridcolor": "white",
            "gridwidth": 2,
            "linecolor": "white",
            "showbackground": true,
            "ticks": "",
            "zerolinecolor": "white"
           },
           "zaxis": {
            "backgroundcolor": "#E5ECF6",
            "gridcolor": "white",
            "gridwidth": 2,
            "linecolor": "white",
            "showbackground": true,
            "ticks": "",
            "zerolinecolor": "white"
           }
          },
          "shapedefaults": {
           "line": {
            "color": "#2a3f5f"
           }
          },
          "ternary": {
           "aaxis": {
            "gridcolor": "white",
            "linecolor": "white",
            "ticks": ""
           },
           "baxis": {
            "gridcolor": "white",
            "linecolor": "white",
            "ticks": ""
           },
           "bgcolor": "#E5ECF6",
           "caxis": {
            "gridcolor": "white",
            "linecolor": "white",
            "ticks": ""
           }
          },
          "title": {
           "x": 0.05
          },
          "xaxis": {
           "automargin": true,
           "gridcolor": "white",
           "linecolor": "white",
           "ticks": "",
           "title": {
            "standoff": 15
           },
           "zerolinecolor": "white",
           "zerolinewidth": 2
          },
          "yaxis": {
           "automargin": true,
           "gridcolor": "white",
           "linecolor": "white",
           "ticks": "",
           "title": {
            "standoff": 15
           },
           "zerolinecolor": "white",
           "zerolinewidth": 2
          }
         }
        },
        "title": {
         "font": {
          "color": "#4D5663"
         }
        },
        "xaxis": {
         "gridcolor": "#E1E5ED",
         "showgrid": true,
         "tickfont": {
          "color": "#4D5663"
         },
         "title": {
          "font": {
           "color": "#4D5663"
          },
          "text": ""
         },
         "zerolinecolor": "#E1E5ED"
        },
        "yaxis": {
         "gridcolor": "#E1E5ED",
         "showgrid": true,
         "tickfont": {
          "color": "#4D5663"
         },
         "title": {
          "font": {
           "color": "#4D5663"
          },
          "text": ""
         },
         "zerolinecolor": "#E1E5ED"
        }
       }
      },
      "text/html": [
       "<div>\n",
       "        \n",
       "        \n",
       "            <div id=\"4493fbf6-aaeb-4269-b342-ae509f362ce3\" class=\"plotly-graph-div\" style=\"height:525px; width:100%;\"></div>\n",
       "            <script type=\"text/javascript\">\n",
       "                require([\"plotly\"], function(Plotly) {\n",
       "                    window.PLOTLYENV=window.PLOTLYENV || {};\n",
       "                    window.PLOTLYENV.BASE_URL='https://plot.ly';\n",
       "                    \n",
       "                if (document.getElementById(\"4493fbf6-aaeb-4269-b342-ae509f362ce3\")) {\n",
       "                    Plotly.newPlot(\n",
       "                        '4493fbf6-aaeb-4269-b342-ae509f362ce3',\n",
       "                        [{\"line\": {\"color\": \"rgba(255, 153, 51, 1.0)\", \"dash\": \"solid\", \"shape\": \"linear\", \"width\": 1.3}, \"marker\": {\"size\": 10, \"symbol\": \"circle\"}, \"mode\": \"markers\", \"name\": \"B\", \"text\": \"\", \"type\": \"scatter\", \"x\": [-2.19517732281781, 0.41297071995567625, 0.5238259134616036, 2.321660493048887, -1.7918868447130059, -1.4003185528924975, -1.7297604866535865, -0.44388711000201464, -0.5052550235591972, -0.20154762526484626, -0.08352134157213167, -0.6855060781663106, 1.0887687415999572, 0.2855894125108078, 0.7980404615235451, -1.0339660491462646, 0.552988758119476, -0.011700097264279497, 0.021437589270594415, -0.08236305549690165, 0.5291996261975528, 0.6551868758377841, -1.4859686060330128, -1.9244490589884782, 0.8448386798137778, 0.375889652742352, 0.6713684703182022, 0.5292666392387347, -1.8438289583630185, 0.558440068266143, -0.6563135402637561, -1.6316467385018294, -0.39836303303761095, 0.0691617062364122, 0.1353258261082668, 0.7185436507289951, 1.553925211212386, -0.5714655522307664, 1.4904875406858629, 0.6217440104496987, 0.7865768608697654, 0.7378588602432641, -0.8985395833921609, 0.6397978501868015, -0.2631592379934458, -0.18465379229969653, -1.766855324557164, 0.12173746345167527, -0.743605387049839, 0.784334833739347, 0.3917372705482704, -0.5909559239175638, -0.40630782754950207, -0.9881423673945723, -1.4597607300847637, 0.3023562251048793, -0.1954609877017618, 1.8127924584945665, -0.438196644574794, 0.9922522061400024, -0.859983652215299, 0.4246206377667659, 1.2931457895853469, -0.3197471206910602, -0.29015708985798294, -2.4200083935552144, -0.5531573484596305, 0.9919788860691116, -0.10068870784096433, 0.013473054882340725, 0.8870424485265856, -1.52983366553648, 0.8145957073039255, -0.81898061248173, -0.9098258908774242, -1.3752270874209238, 1.3669607304331788, -0.040484151685499445, -1.1206413918176934, 0.4768318852770323, -0.3417763069099912, -1.408962249978248, -1.5951427299765275, 1.2197177433735997, 0.5445789312288598, 0.6313147555355381, 0.32000780366272574, -0.8704515879612656, -0.627920771771115, 0.8440369058295358, -1.2010314467224608, 0.10303101875969292, 1.7119342867501717, 1.345218350267589, 1.8895042692650679, 0.5245714274017701, -0.010284788799988025, 1.4983859268949218, 0.6627916098655476, -0.9058275513453036], \"y\": [-0.2551109513862989, -1.5127464737870182, 0.3758014389849401, 1.8857727661935286, 1.662544285322015, -1.2664294656572934, -1.5174696024398788, 0.5852178156544476, 0.6965117049576418, -1.1279399272931596, -0.6863623724755933, -1.1044899382302837, 0.07098359754755064, 1.2151791713518312, 0.2203176108637594, 2.6295732761898005, 0.6798859657591843, 0.986074789157596, -1.2317801711589613, -0.7665611492450716, -0.022858667742858704, -0.6294825856993135, 1.6306391943001899, 1.6995515594849566, -0.5905495429530158, 0.47793027697582735, -0.44609211623245887, 1.7576040287335875, -1.0923347767002078, -1.8993634237607036, 0.5844253290883914, -0.04822525857137415, 0.3463651631429565, 0.40013204209307585, 0.22836136631949458, 0.5377706594361823, -0.046788587259596004, -2.5718183127194134, -0.15116176468220824, -0.21953364549617513, -0.3325484225048974, -1.8096452038883564, 0.7289382006548182, -0.09439706742108991, 0.012540101956239863, -0.48136707668519524, 1.1582886336009641, -0.4248727474952323, 0.40709870307468116, 1.0717332510596662, 0.458827727449291, 0.9438296370958118, 1.4303013514646175, -0.403906433119754, 0.7027145404728263, 0.5103829539116806, -0.8123969957649172, 0.3383761382920852, -1.171096152810323, 0.46599418331537706, 0.47419707617009593, -2.56535748723371, -0.06782037218279009, -0.9328199422531491, 0.08936881595781979, 1.105071798487719, 1.292664158575097, -2.6250692746878195, -0.45631212365946394, 1.018318165064855, -1.2526436138204882, -0.17168542970891618, -0.4699345868151425, 0.38738762957994255, -1.5998498437689137, 0.7609470697567795, -0.2616975602236235, 0.08826540754723577, 0.2378673846850535, 0.32753070517438304, -0.6997696295911957, -0.9027758435345248, -0.07465487316390441, -2.4577222932537945, 0.3340426817758278, 0.6960081666749737, -0.26319239683785034, -0.9980782560498498, -0.12339060576071016, -0.17112287315675134, 0.6429944355509232, 0.9524051082923007, -1.323623217934063, 0.23723427993329563, 0.09923915891778237, 0.05748639326282414, -0.8615285511403645, 0.5099022980535224, -0.29916479814974173, -0.3551225033150403]}],\n",
       "                        {\"legend\": {\"bgcolor\": \"#F5F6F9\", \"font\": {\"color\": \"#4D5663\"}}, \"paper_bgcolor\": \"#F5F6F9\", \"plot_bgcolor\": \"#F5F6F9\", \"template\": {\"data\": {\"bar\": [{\"error_x\": {\"color\": \"#2a3f5f\"}, \"error_y\": {\"color\": \"#2a3f5f\"}, \"marker\": {\"line\": {\"color\": \"#E5ECF6\", \"width\": 0.5}}, \"type\": \"bar\"}], \"barpolar\": [{\"marker\": {\"line\": {\"color\": \"#E5ECF6\", \"width\": 0.5}}, \"type\": \"barpolar\"}], \"carpet\": [{\"aaxis\": {\"endlinecolor\": \"#2a3f5f\", \"gridcolor\": \"white\", \"linecolor\": \"white\", \"minorgridcolor\": \"white\", \"startlinecolor\": \"#2a3f5f\"}, \"baxis\": {\"endlinecolor\": \"#2a3f5f\", \"gridcolor\": \"white\", \"linecolor\": \"white\", \"minorgridcolor\": \"white\", \"startlinecolor\": \"#2a3f5f\"}, \"type\": \"carpet\"}], \"choropleth\": [{\"colorbar\": {\"outlinewidth\": 0, \"ticks\": \"\"}, \"type\": \"choropleth\"}], \"contour\": [{\"colorbar\": {\"outlinewidth\": 0, \"ticks\": \"\"}, \"colorscale\": [[0.0, \"#0d0887\"], [0.1111111111111111, \"#46039f\"], [0.2222222222222222, \"#7201a8\"], [0.3333333333333333, \"#9c179e\"], [0.4444444444444444, \"#bd3786\"], [0.5555555555555556, \"#d8576b\"], [0.6666666666666666, \"#ed7953\"], [0.7777777777777778, \"#fb9f3a\"], [0.8888888888888888, \"#fdca26\"], [1.0, \"#f0f921\"]], \"type\": \"contour\"}], \"contourcarpet\": [{\"colorbar\": {\"outlinewidth\": 0, \"ticks\": \"\"}, \"type\": \"contourcarpet\"}], \"heatmap\": [{\"colorbar\": {\"outlinewidth\": 0, \"ticks\": \"\"}, \"colorscale\": [[0.0, \"#0d0887\"], [0.1111111111111111, \"#46039f\"], [0.2222222222222222, \"#7201a8\"], [0.3333333333333333, \"#9c179e\"], [0.4444444444444444, \"#bd3786\"], [0.5555555555555556, \"#d8576b\"], [0.6666666666666666, \"#ed7953\"], [0.7777777777777778, \"#fb9f3a\"], [0.8888888888888888, \"#fdca26\"], [1.0, \"#f0f921\"]], \"type\": \"heatmap\"}], \"heatmapgl\": [{\"colorbar\": {\"outlinewidth\": 0, \"ticks\": \"\"}, \"colorscale\": [[0.0, \"#0d0887\"], [0.1111111111111111, \"#46039f\"], [0.2222222222222222, \"#7201a8\"], [0.3333333333333333, \"#9c179e\"], [0.4444444444444444, \"#bd3786\"], [0.5555555555555556, \"#d8576b\"], [0.6666666666666666, \"#ed7953\"], [0.7777777777777778, \"#fb9f3a\"], [0.8888888888888888, \"#fdca26\"], [1.0, \"#f0f921\"]], \"type\": \"heatmapgl\"}], \"histogram\": [{\"marker\": {\"colorbar\": {\"outlinewidth\": 0, \"ticks\": \"\"}}, \"type\": \"histogram\"}], \"histogram2d\": [{\"colorbar\": {\"outlinewidth\": 0, \"ticks\": \"\"}, \"colorscale\": [[0.0, \"#0d0887\"], [0.1111111111111111, \"#46039f\"], [0.2222222222222222, \"#7201a8\"], [0.3333333333333333, \"#9c179e\"], [0.4444444444444444, \"#bd3786\"], [0.5555555555555556, \"#d8576b\"], [0.6666666666666666, \"#ed7953\"], [0.7777777777777778, \"#fb9f3a\"], [0.8888888888888888, \"#fdca26\"], [1.0, \"#f0f921\"]], \"type\": \"histogram2d\"}], \"histogram2dcontour\": [{\"colorbar\": {\"outlinewidth\": 0, \"ticks\": \"\"}, \"colorscale\": [[0.0, \"#0d0887\"], [0.1111111111111111, \"#46039f\"], [0.2222222222222222, \"#7201a8\"], [0.3333333333333333, \"#9c179e\"], [0.4444444444444444, \"#bd3786\"], [0.5555555555555556, \"#d8576b\"], [0.6666666666666666, \"#ed7953\"], [0.7777777777777778, \"#fb9f3a\"], [0.8888888888888888, \"#fdca26\"], [1.0, \"#f0f921\"]], \"type\": \"histogram2dcontour\"}], \"mesh3d\": [{\"colorbar\": {\"outlinewidth\": 0, \"ticks\": \"\"}, \"type\": \"mesh3d\"}], \"parcoords\": [{\"line\": {\"colorbar\": {\"outlinewidth\": 0, \"ticks\": \"\"}}, \"type\": \"parcoords\"}], \"pie\": [{\"automargin\": true, \"type\": \"pie\"}], \"scatter\": [{\"marker\": {\"colorbar\": {\"outlinewidth\": 0, \"ticks\": \"\"}}, \"type\": \"scatter\"}], \"scatter3d\": [{\"line\": {\"colorbar\": {\"outlinewidth\": 0, \"ticks\": \"\"}}, \"marker\": {\"colorbar\": {\"outlinewidth\": 0, \"ticks\": \"\"}}, \"type\": \"scatter3d\"}], \"scattercarpet\": [{\"marker\": {\"colorbar\": {\"outlinewidth\": 0, \"ticks\": \"\"}}, \"type\": \"scattercarpet\"}], \"scattergeo\": [{\"marker\": {\"colorbar\": {\"outlinewidth\": 0, \"ticks\": \"\"}}, \"type\": \"scattergeo\"}], \"scattergl\": [{\"marker\": {\"colorbar\": {\"outlinewidth\": 0, \"ticks\": \"\"}}, \"type\": \"scattergl\"}], \"scattermapbox\": [{\"marker\": {\"colorbar\": {\"outlinewidth\": 0, \"ticks\": \"\"}}, \"type\": \"scattermapbox\"}], \"scatterpolar\": [{\"marker\": {\"colorbar\": {\"outlinewidth\": 0, \"ticks\": \"\"}}, \"type\": \"scatterpolar\"}], \"scatterpolargl\": [{\"marker\": {\"colorbar\": {\"outlinewidth\": 0, \"ticks\": \"\"}}, \"type\": \"scatterpolargl\"}], \"scatterternary\": [{\"marker\": {\"colorbar\": {\"outlinewidth\": 0, \"ticks\": \"\"}}, \"type\": \"scatterternary\"}], \"surface\": [{\"colorbar\": {\"outlinewidth\": 0, \"ticks\": \"\"}, \"colorscale\": [[0.0, \"#0d0887\"], [0.1111111111111111, \"#46039f\"], [0.2222222222222222, \"#7201a8\"], [0.3333333333333333, \"#9c179e\"], [0.4444444444444444, \"#bd3786\"], [0.5555555555555556, \"#d8576b\"], [0.6666666666666666, \"#ed7953\"], [0.7777777777777778, \"#fb9f3a\"], [0.8888888888888888, \"#fdca26\"], [1.0, \"#f0f921\"]], \"type\": \"surface\"}], \"table\": [{\"cells\": {\"fill\": {\"color\": \"#EBF0F8\"}, \"line\": {\"color\": \"white\"}}, \"header\": {\"fill\": {\"color\": \"#C8D4E3\"}, \"line\": {\"color\": \"white\"}}, \"type\": \"table\"}]}, \"layout\": {\"annotationdefaults\": {\"arrowcolor\": \"#2a3f5f\", \"arrowhead\": 0, \"arrowwidth\": 1}, \"coloraxis\": {\"colorbar\": {\"outlinewidth\": 0, \"ticks\": \"\"}}, \"colorscale\": {\"diverging\": [[0, \"#8e0152\"], [0.1, \"#c51b7d\"], [0.2, \"#de77ae\"], [0.3, \"#f1b6da\"], [0.4, \"#fde0ef\"], [0.5, \"#f7f7f7\"], [0.6, \"#e6f5d0\"], [0.7, \"#b8e186\"], [0.8, \"#7fbc41\"], [0.9, \"#4d9221\"], [1, \"#276419\"]], \"sequential\": [[0.0, \"#0d0887\"], [0.1111111111111111, \"#46039f\"], [0.2222222222222222, \"#7201a8\"], [0.3333333333333333, \"#9c179e\"], [0.4444444444444444, \"#bd3786\"], [0.5555555555555556, \"#d8576b\"], [0.6666666666666666, \"#ed7953\"], [0.7777777777777778, \"#fb9f3a\"], [0.8888888888888888, \"#fdca26\"], [1.0, \"#f0f921\"]], \"sequentialminus\": [[0.0, \"#0d0887\"], [0.1111111111111111, \"#46039f\"], [0.2222222222222222, \"#7201a8\"], [0.3333333333333333, \"#9c179e\"], [0.4444444444444444, \"#bd3786\"], [0.5555555555555556, \"#d8576b\"], [0.6666666666666666, \"#ed7953\"], [0.7777777777777778, \"#fb9f3a\"], [0.8888888888888888, \"#fdca26\"], [1.0, \"#f0f921\"]]}, \"colorway\": [\"#636efa\", \"#EF553B\", \"#00cc96\", \"#ab63fa\", \"#FFA15A\", \"#19d3f3\", \"#FF6692\", \"#B6E880\", \"#FF97FF\", \"#FECB52\"], \"font\": {\"color\": \"#2a3f5f\"}, \"geo\": {\"bgcolor\": \"white\", \"lakecolor\": \"white\", \"landcolor\": \"#E5ECF6\", \"showlakes\": true, \"showland\": true, \"subunitcolor\": \"white\"}, \"hoverlabel\": {\"align\": \"left\"}, \"hovermode\": \"closest\", \"mapbox\": {\"style\": \"light\"}, \"paper_bgcolor\": \"white\", \"plot_bgcolor\": \"#E5ECF6\", \"polar\": {\"angularaxis\": {\"gridcolor\": \"white\", \"linecolor\": \"white\", \"ticks\": \"\"}, \"bgcolor\": \"#E5ECF6\", \"radialaxis\": {\"gridcolor\": \"white\", \"linecolor\": \"white\", \"ticks\": \"\"}}, \"scene\": {\"xaxis\": {\"backgroundcolor\": \"#E5ECF6\", \"gridcolor\": \"white\", \"gridwidth\": 2, \"linecolor\": \"white\", \"showbackground\": true, \"ticks\": \"\", \"zerolinecolor\": \"white\"}, \"yaxis\": {\"backgroundcolor\": \"#E5ECF6\", \"gridcolor\": \"white\", \"gridwidth\": 2, \"linecolor\": \"white\", \"showbackground\": true, \"ticks\": \"\", \"zerolinecolor\": \"white\"}, \"zaxis\": {\"backgroundcolor\": \"#E5ECF6\", \"gridcolor\": \"white\", \"gridwidth\": 2, \"linecolor\": \"white\", \"showbackground\": true, \"ticks\": \"\", \"zerolinecolor\": \"white\"}}, \"shapedefaults\": {\"line\": {\"color\": \"#2a3f5f\"}}, \"ternary\": {\"aaxis\": {\"gridcolor\": \"white\", \"linecolor\": \"white\", \"ticks\": \"\"}, \"baxis\": {\"gridcolor\": \"white\", \"linecolor\": \"white\", \"ticks\": \"\"}, \"bgcolor\": \"#E5ECF6\", \"caxis\": {\"gridcolor\": \"white\", \"linecolor\": \"white\", \"ticks\": \"\"}}, \"title\": {\"x\": 0.05}, \"xaxis\": {\"automargin\": true, \"gridcolor\": \"white\", \"linecolor\": \"white\", \"ticks\": \"\", \"title\": {\"standoff\": 15}, \"zerolinecolor\": \"white\", \"zerolinewidth\": 2}, \"yaxis\": {\"automargin\": true, \"gridcolor\": \"white\", \"linecolor\": \"white\", \"ticks\": \"\", \"title\": {\"standoff\": 15}, \"zerolinecolor\": \"white\", \"zerolinewidth\": 2}}}, \"title\": {\"font\": {\"color\": \"#4D5663\"}}, \"xaxis\": {\"gridcolor\": \"#E1E5ED\", \"showgrid\": true, \"tickfont\": {\"color\": \"#4D5663\"}, \"title\": {\"font\": {\"color\": \"#4D5663\"}, \"text\": \"\"}, \"zerolinecolor\": \"#E1E5ED\"}, \"yaxis\": {\"gridcolor\": \"#E1E5ED\", \"showgrid\": true, \"tickfont\": {\"color\": \"#4D5663\"}, \"title\": {\"font\": {\"color\": \"#4D5663\"}, \"text\": \"\"}, \"zerolinecolor\": \"#E1E5ED\"}},\n",
       "                        {\"showLink\": true, \"linkText\": \"Export to plot.ly\", \"plotlyServerURL\": \"https://plot.ly\", \"responsive\": true}\n",
       "                    ).then(function(){\n",
       "                            \n",
       "var gd = document.getElementById('4493fbf6-aaeb-4269-b342-ae509f362ce3');\n",
       "var x = new MutationObserver(function (mutations, observer) {{\n",
       "        var display = window.getComputedStyle(gd).display;\n",
       "        if (!display || display === 'none') {{\n",
       "            console.log([gd, 'removed!']);\n",
       "            Plotly.purge(gd);\n",
       "            observer.disconnect();\n",
       "        }}\n",
       "}});\n",
       "\n",
       "// Listen for the removal of the full notebook cells\n",
       "var notebookContainer = gd.closest('#notebook-container');\n",
       "if (notebookContainer) {{\n",
       "    x.observe(notebookContainer, {childList: true});\n",
       "}}\n",
       "\n",
       "// Listen for the clearing of the current output cell\n",
       "var outputEl = gd.closest('.output');\n",
       "if (outputEl) {{\n",
       "    x.observe(outputEl, {childList: true});\n",
       "}}\n",
       "\n",
       "                        })\n",
       "                };\n",
       "                });\n",
       "            </script>\n",
       "        </div>"
      ]
     },
     "metadata": {},
     "output_type": "display_data"
    }
   ],
   "source": [
    "df.iplot(kind='scatter',x='A',y='B',mode='markers',size=10)"
   ]
  },
  {
   "cell_type": "markdown",
   "metadata": {},
   "source": [
    "## bar plot"
   ]
  },
  {
   "cell_type": "code",
   "execution_count": 12,
   "metadata": {},
   "outputs": [
    {
     "data": {
      "application/vnd.plotly.v1+json": {
       "config": {
        "linkText": "Export to plot.ly",
        "plotlyServerURL": "https://plot.ly",
        "showLink": true
       },
       "data": [
        {
         "marker": {
          "color": "rgba(255, 153, 51, 0.6)",
          "line": {
           "color": "rgba(255, 153, 51, 1.0)",
           "width": 1
          }
         },
         "name": "Values",
         "orientation": "v",
         "text": "",
         "type": "bar",
         "x": [
          "A",
          "B",
          "C"
         ],
         "y": [
          32,
          43,
          50
         ]
        }
       ],
       "layout": {
        "legend": {
         "bgcolor": "#F5F6F9",
         "font": {
          "color": "#4D5663"
         }
        },
        "paper_bgcolor": "#F5F6F9",
        "plot_bgcolor": "#F5F6F9",
        "template": {
         "data": {
          "bar": [
           {
            "error_x": {
             "color": "#2a3f5f"
            },
            "error_y": {
             "color": "#2a3f5f"
            },
            "marker": {
             "line": {
              "color": "#E5ECF6",
              "width": 0.5
             }
            },
            "type": "bar"
           }
          ],
          "barpolar": [
           {
            "marker": {
             "line": {
              "color": "#E5ECF6",
              "width": 0.5
             }
            },
            "type": "barpolar"
           }
          ],
          "carpet": [
           {
            "aaxis": {
             "endlinecolor": "#2a3f5f",
             "gridcolor": "white",
             "linecolor": "white",
             "minorgridcolor": "white",
             "startlinecolor": "#2a3f5f"
            },
            "baxis": {
             "endlinecolor": "#2a3f5f",
             "gridcolor": "white",
             "linecolor": "white",
             "minorgridcolor": "white",
             "startlinecolor": "#2a3f5f"
            },
            "type": "carpet"
           }
          ],
          "choropleth": [
           {
            "colorbar": {
             "outlinewidth": 0,
             "ticks": ""
            },
            "type": "choropleth"
           }
          ],
          "contour": [
           {
            "colorbar": {
             "outlinewidth": 0,
             "ticks": ""
            },
            "colorscale": [
             [
              0,
              "#0d0887"
             ],
             [
              0.1111111111111111,
              "#46039f"
             ],
             [
              0.2222222222222222,
              "#7201a8"
             ],
             [
              0.3333333333333333,
              "#9c179e"
             ],
             [
              0.4444444444444444,
              "#bd3786"
             ],
             [
              0.5555555555555556,
              "#d8576b"
             ],
             [
              0.6666666666666666,
              "#ed7953"
             ],
             [
              0.7777777777777778,
              "#fb9f3a"
             ],
             [
              0.8888888888888888,
              "#fdca26"
             ],
             [
              1,
              "#f0f921"
             ]
            ],
            "type": "contour"
           }
          ],
          "contourcarpet": [
           {
            "colorbar": {
             "outlinewidth": 0,
             "ticks": ""
            },
            "type": "contourcarpet"
           }
          ],
          "heatmap": [
           {
            "colorbar": {
             "outlinewidth": 0,
             "ticks": ""
            },
            "colorscale": [
             [
              0,
              "#0d0887"
             ],
             [
              0.1111111111111111,
              "#46039f"
             ],
             [
              0.2222222222222222,
              "#7201a8"
             ],
             [
              0.3333333333333333,
              "#9c179e"
             ],
             [
              0.4444444444444444,
              "#bd3786"
             ],
             [
              0.5555555555555556,
              "#d8576b"
             ],
             [
              0.6666666666666666,
              "#ed7953"
             ],
             [
              0.7777777777777778,
              "#fb9f3a"
             ],
             [
              0.8888888888888888,
              "#fdca26"
             ],
             [
              1,
              "#f0f921"
             ]
            ],
            "type": "heatmap"
           }
          ],
          "heatmapgl": [
           {
            "colorbar": {
             "outlinewidth": 0,
             "ticks": ""
            },
            "colorscale": [
             [
              0,
              "#0d0887"
             ],
             [
              0.1111111111111111,
              "#46039f"
             ],
             [
              0.2222222222222222,
              "#7201a8"
             ],
             [
              0.3333333333333333,
              "#9c179e"
             ],
             [
              0.4444444444444444,
              "#bd3786"
             ],
             [
              0.5555555555555556,
              "#d8576b"
             ],
             [
              0.6666666666666666,
              "#ed7953"
             ],
             [
              0.7777777777777778,
              "#fb9f3a"
             ],
             [
              0.8888888888888888,
              "#fdca26"
             ],
             [
              1,
              "#f0f921"
             ]
            ],
            "type": "heatmapgl"
           }
          ],
          "histogram": [
           {
            "marker": {
             "colorbar": {
              "outlinewidth": 0,
              "ticks": ""
             }
            },
            "type": "histogram"
           }
          ],
          "histogram2d": [
           {
            "colorbar": {
             "outlinewidth": 0,
             "ticks": ""
            },
            "colorscale": [
             [
              0,
              "#0d0887"
             ],
             [
              0.1111111111111111,
              "#46039f"
             ],
             [
              0.2222222222222222,
              "#7201a8"
             ],
             [
              0.3333333333333333,
              "#9c179e"
             ],
             [
              0.4444444444444444,
              "#bd3786"
             ],
             [
              0.5555555555555556,
              "#d8576b"
             ],
             [
              0.6666666666666666,
              "#ed7953"
             ],
             [
              0.7777777777777778,
              "#fb9f3a"
             ],
             [
              0.8888888888888888,
              "#fdca26"
             ],
             [
              1,
              "#f0f921"
             ]
            ],
            "type": "histogram2d"
           }
          ],
          "histogram2dcontour": [
           {
            "colorbar": {
             "outlinewidth": 0,
             "ticks": ""
            },
            "colorscale": [
             [
              0,
              "#0d0887"
             ],
             [
              0.1111111111111111,
              "#46039f"
             ],
             [
              0.2222222222222222,
              "#7201a8"
             ],
             [
              0.3333333333333333,
              "#9c179e"
             ],
             [
              0.4444444444444444,
              "#bd3786"
             ],
             [
              0.5555555555555556,
              "#d8576b"
             ],
             [
              0.6666666666666666,
              "#ed7953"
             ],
             [
              0.7777777777777778,
              "#fb9f3a"
             ],
             [
              0.8888888888888888,
              "#fdca26"
             ],
             [
              1,
              "#f0f921"
             ]
            ],
            "type": "histogram2dcontour"
           }
          ],
          "mesh3d": [
           {
            "colorbar": {
             "outlinewidth": 0,
             "ticks": ""
            },
            "type": "mesh3d"
           }
          ],
          "parcoords": [
           {
            "line": {
             "colorbar": {
              "outlinewidth": 0,
              "ticks": ""
             }
            },
            "type": "parcoords"
           }
          ],
          "pie": [
           {
            "automargin": true,
            "type": "pie"
           }
          ],
          "scatter": [
           {
            "marker": {
             "colorbar": {
              "outlinewidth": 0,
              "ticks": ""
             }
            },
            "type": "scatter"
           }
          ],
          "scatter3d": [
           {
            "line": {
             "colorbar": {
              "outlinewidth": 0,
              "ticks": ""
             }
            },
            "marker": {
             "colorbar": {
              "outlinewidth": 0,
              "ticks": ""
             }
            },
            "type": "scatter3d"
           }
          ],
          "scattercarpet": [
           {
            "marker": {
             "colorbar": {
              "outlinewidth": 0,
              "ticks": ""
             }
            },
            "type": "scattercarpet"
           }
          ],
          "scattergeo": [
           {
            "marker": {
             "colorbar": {
              "outlinewidth": 0,
              "ticks": ""
             }
            },
            "type": "scattergeo"
           }
          ],
          "scattergl": [
           {
            "marker": {
             "colorbar": {
              "outlinewidth": 0,
              "ticks": ""
             }
            },
            "type": "scattergl"
           }
          ],
          "scattermapbox": [
           {
            "marker": {
             "colorbar": {
              "outlinewidth": 0,
              "ticks": ""
             }
            },
            "type": "scattermapbox"
           }
          ],
          "scatterpolar": [
           {
            "marker": {
             "colorbar": {
              "outlinewidth": 0,
              "ticks": ""
             }
            },
            "type": "scatterpolar"
           }
          ],
          "scatterpolargl": [
           {
            "marker": {
             "colorbar": {
              "outlinewidth": 0,
              "ticks": ""
             }
            },
            "type": "scatterpolargl"
           }
          ],
          "scatterternary": [
           {
            "marker": {
             "colorbar": {
              "outlinewidth": 0,
              "ticks": ""
             }
            },
            "type": "scatterternary"
           }
          ],
          "surface": [
           {
            "colorbar": {
             "outlinewidth": 0,
             "ticks": ""
            },
            "colorscale": [
             [
              0,
              "#0d0887"
             ],
             [
              0.1111111111111111,
              "#46039f"
             ],
             [
              0.2222222222222222,
              "#7201a8"
             ],
             [
              0.3333333333333333,
              "#9c179e"
             ],
             [
              0.4444444444444444,
              "#bd3786"
             ],
             [
              0.5555555555555556,
              "#d8576b"
             ],
             [
              0.6666666666666666,
              "#ed7953"
             ],
             [
              0.7777777777777778,
              "#fb9f3a"
             ],
             [
              0.8888888888888888,
              "#fdca26"
             ],
             [
              1,
              "#f0f921"
             ]
            ],
            "type": "surface"
           }
          ],
          "table": [
           {
            "cells": {
             "fill": {
              "color": "#EBF0F8"
             },
             "line": {
              "color": "white"
             }
            },
            "header": {
             "fill": {
              "color": "#C8D4E3"
             },
             "line": {
              "color": "white"
             }
            },
            "type": "table"
           }
          ]
         },
         "layout": {
          "annotationdefaults": {
           "arrowcolor": "#2a3f5f",
           "arrowhead": 0,
           "arrowwidth": 1
          },
          "coloraxis": {
           "colorbar": {
            "outlinewidth": 0,
            "ticks": ""
           }
          },
          "colorscale": {
           "diverging": [
            [
             0,
             "#8e0152"
            ],
            [
             0.1,
             "#c51b7d"
            ],
            [
             0.2,
             "#de77ae"
            ],
            [
             0.3,
             "#f1b6da"
            ],
            [
             0.4,
             "#fde0ef"
            ],
            [
             0.5,
             "#f7f7f7"
            ],
            [
             0.6,
             "#e6f5d0"
            ],
            [
             0.7,
             "#b8e186"
            ],
            [
             0.8,
             "#7fbc41"
            ],
            [
             0.9,
             "#4d9221"
            ],
            [
             1,
             "#276419"
            ]
           ],
           "sequential": [
            [
             0,
             "#0d0887"
            ],
            [
             0.1111111111111111,
             "#46039f"
            ],
            [
             0.2222222222222222,
             "#7201a8"
            ],
            [
             0.3333333333333333,
             "#9c179e"
            ],
            [
             0.4444444444444444,
             "#bd3786"
            ],
            [
             0.5555555555555556,
             "#d8576b"
            ],
            [
             0.6666666666666666,
             "#ed7953"
            ],
            [
             0.7777777777777778,
             "#fb9f3a"
            ],
            [
             0.8888888888888888,
             "#fdca26"
            ],
            [
             1,
             "#f0f921"
            ]
           ],
           "sequentialminus": [
            [
             0,
             "#0d0887"
            ],
            [
             0.1111111111111111,
             "#46039f"
            ],
            [
             0.2222222222222222,
             "#7201a8"
            ],
            [
             0.3333333333333333,
             "#9c179e"
            ],
            [
             0.4444444444444444,
             "#bd3786"
            ],
            [
             0.5555555555555556,
             "#d8576b"
            ],
            [
             0.6666666666666666,
             "#ed7953"
            ],
            [
             0.7777777777777778,
             "#fb9f3a"
            ],
            [
             0.8888888888888888,
             "#fdca26"
            ],
            [
             1,
             "#f0f921"
            ]
           ]
          },
          "colorway": [
           "#636efa",
           "#EF553B",
           "#00cc96",
           "#ab63fa",
           "#FFA15A",
           "#19d3f3",
           "#FF6692",
           "#B6E880",
           "#FF97FF",
           "#FECB52"
          ],
          "font": {
           "color": "#2a3f5f"
          },
          "geo": {
           "bgcolor": "white",
           "lakecolor": "white",
           "landcolor": "#E5ECF6",
           "showlakes": true,
           "showland": true,
           "subunitcolor": "white"
          },
          "hoverlabel": {
           "align": "left"
          },
          "hovermode": "closest",
          "mapbox": {
           "style": "light"
          },
          "paper_bgcolor": "white",
          "plot_bgcolor": "#E5ECF6",
          "polar": {
           "angularaxis": {
            "gridcolor": "white",
            "linecolor": "white",
            "ticks": ""
           },
           "bgcolor": "#E5ECF6",
           "radialaxis": {
            "gridcolor": "white",
            "linecolor": "white",
            "ticks": ""
           }
          },
          "scene": {
           "xaxis": {
            "backgroundcolor": "#E5ECF6",
            "gridcolor": "white",
            "gridwidth": 2,
            "linecolor": "white",
            "showbackground": true,
            "ticks": "",
            "zerolinecolor": "white"
           },
           "yaxis": {
            "backgroundcolor": "#E5ECF6",
            "gridcolor": "white",
            "gridwidth": 2,
            "linecolor": "white",
            "showbackground": true,
            "ticks": "",
            "zerolinecolor": "white"
           },
           "zaxis": {
            "backgroundcolor": "#E5ECF6",
            "gridcolor": "white",
            "gridwidth": 2,
            "linecolor": "white",
            "showbackground": true,
            "ticks": "",
            "zerolinecolor": "white"
           }
          },
          "shapedefaults": {
           "line": {
            "color": "#2a3f5f"
           }
          },
          "ternary": {
           "aaxis": {
            "gridcolor": "white",
            "linecolor": "white",
            "ticks": ""
           },
           "baxis": {
            "gridcolor": "white",
            "linecolor": "white",
            "ticks": ""
           },
           "bgcolor": "#E5ECF6",
           "caxis": {
            "gridcolor": "white",
            "linecolor": "white",
            "ticks": ""
           }
          },
          "title": {
           "x": 0.05
          },
          "xaxis": {
           "automargin": true,
           "gridcolor": "white",
           "linecolor": "white",
           "ticks": "",
           "title": {
            "standoff": 15
           },
           "zerolinecolor": "white",
           "zerolinewidth": 2
          },
          "yaxis": {
           "automargin": true,
           "gridcolor": "white",
           "linecolor": "white",
           "ticks": "",
           "title": {
            "standoff": 15
           },
           "zerolinecolor": "white",
           "zerolinewidth": 2
          }
         }
        },
        "title": {
         "font": {
          "color": "#4D5663"
         }
        },
        "xaxis": {
         "gridcolor": "#E1E5ED",
         "showgrid": true,
         "tickfont": {
          "color": "#4D5663"
         },
         "title": {
          "font": {
           "color": "#4D5663"
          },
          "text": ""
         },
         "zerolinecolor": "#E1E5ED"
        },
        "yaxis": {
         "gridcolor": "#E1E5ED",
         "showgrid": true,
         "tickfont": {
          "color": "#4D5663"
         },
         "title": {
          "font": {
           "color": "#4D5663"
          },
          "text": ""
         },
         "zerolinecolor": "#E1E5ED"
        }
       }
      },
      "text/html": [
       "<div>\n",
       "        \n",
       "        \n",
       "            <div id=\"25a8977c-c734-491d-82c7-e2dd927c10cd\" class=\"plotly-graph-div\" style=\"height:525px; width:100%;\"></div>\n",
       "            <script type=\"text/javascript\">\n",
       "                require([\"plotly\"], function(Plotly) {\n",
       "                    window.PLOTLYENV=window.PLOTLYENV || {};\n",
       "                    window.PLOTLYENV.BASE_URL='https://plot.ly';\n",
       "                    \n",
       "                if (document.getElementById(\"25a8977c-c734-491d-82c7-e2dd927c10cd\")) {\n",
       "                    Plotly.newPlot(\n",
       "                        '25a8977c-c734-491d-82c7-e2dd927c10cd',\n",
       "                        [{\"marker\": {\"color\": \"rgba(255, 153, 51, 0.6)\", \"line\": {\"color\": \"rgba(255, 153, 51, 1.0)\", \"width\": 1}}, \"name\": \"Values\", \"orientation\": \"v\", \"text\": \"\", \"type\": \"bar\", \"x\": [\"A\", \"B\", \"C\"], \"y\": [32, 43, 50]}],\n",
       "                        {\"legend\": {\"bgcolor\": \"#F5F6F9\", \"font\": {\"color\": \"#4D5663\"}}, \"paper_bgcolor\": \"#F5F6F9\", \"plot_bgcolor\": \"#F5F6F9\", \"template\": {\"data\": {\"bar\": [{\"error_x\": {\"color\": \"#2a3f5f\"}, \"error_y\": {\"color\": \"#2a3f5f\"}, \"marker\": {\"line\": {\"color\": \"#E5ECF6\", \"width\": 0.5}}, \"type\": \"bar\"}], \"barpolar\": [{\"marker\": {\"line\": {\"color\": \"#E5ECF6\", \"width\": 0.5}}, \"type\": \"barpolar\"}], \"carpet\": [{\"aaxis\": {\"endlinecolor\": \"#2a3f5f\", \"gridcolor\": \"white\", \"linecolor\": \"white\", \"minorgridcolor\": \"white\", \"startlinecolor\": \"#2a3f5f\"}, \"baxis\": {\"endlinecolor\": \"#2a3f5f\", \"gridcolor\": \"white\", \"linecolor\": \"white\", \"minorgridcolor\": \"white\", \"startlinecolor\": \"#2a3f5f\"}, \"type\": \"carpet\"}], \"choropleth\": [{\"colorbar\": {\"outlinewidth\": 0, \"ticks\": \"\"}, \"type\": \"choropleth\"}], \"contour\": [{\"colorbar\": {\"outlinewidth\": 0, \"ticks\": \"\"}, \"colorscale\": [[0.0, \"#0d0887\"], [0.1111111111111111, \"#46039f\"], [0.2222222222222222, \"#7201a8\"], [0.3333333333333333, \"#9c179e\"], [0.4444444444444444, \"#bd3786\"], [0.5555555555555556, \"#d8576b\"], [0.6666666666666666, \"#ed7953\"], [0.7777777777777778, \"#fb9f3a\"], [0.8888888888888888, \"#fdca26\"], [1.0, \"#f0f921\"]], \"type\": \"contour\"}], \"contourcarpet\": [{\"colorbar\": {\"outlinewidth\": 0, \"ticks\": \"\"}, \"type\": \"contourcarpet\"}], \"heatmap\": [{\"colorbar\": {\"outlinewidth\": 0, \"ticks\": \"\"}, \"colorscale\": [[0.0, \"#0d0887\"], [0.1111111111111111, \"#46039f\"], [0.2222222222222222, \"#7201a8\"], [0.3333333333333333, \"#9c179e\"], [0.4444444444444444, \"#bd3786\"], [0.5555555555555556, \"#d8576b\"], [0.6666666666666666, \"#ed7953\"], [0.7777777777777778, \"#fb9f3a\"], [0.8888888888888888, \"#fdca26\"], [1.0, \"#f0f921\"]], \"type\": \"heatmap\"}], \"heatmapgl\": [{\"colorbar\": {\"outlinewidth\": 0, \"ticks\": \"\"}, \"colorscale\": [[0.0, \"#0d0887\"], [0.1111111111111111, \"#46039f\"], [0.2222222222222222, \"#7201a8\"], [0.3333333333333333, \"#9c179e\"], [0.4444444444444444, \"#bd3786\"], [0.5555555555555556, \"#d8576b\"], [0.6666666666666666, \"#ed7953\"], [0.7777777777777778, \"#fb9f3a\"], [0.8888888888888888, \"#fdca26\"], [1.0, \"#f0f921\"]], \"type\": \"heatmapgl\"}], \"histogram\": [{\"marker\": {\"colorbar\": {\"outlinewidth\": 0, \"ticks\": \"\"}}, \"type\": \"histogram\"}], \"histogram2d\": [{\"colorbar\": {\"outlinewidth\": 0, \"ticks\": \"\"}, \"colorscale\": [[0.0, \"#0d0887\"], [0.1111111111111111, \"#46039f\"], [0.2222222222222222, \"#7201a8\"], [0.3333333333333333, \"#9c179e\"], [0.4444444444444444, \"#bd3786\"], [0.5555555555555556, \"#d8576b\"], [0.6666666666666666, \"#ed7953\"], [0.7777777777777778, \"#fb9f3a\"], [0.8888888888888888, \"#fdca26\"], [1.0, \"#f0f921\"]], \"type\": \"histogram2d\"}], \"histogram2dcontour\": [{\"colorbar\": {\"outlinewidth\": 0, \"ticks\": \"\"}, \"colorscale\": [[0.0, \"#0d0887\"], [0.1111111111111111, \"#46039f\"], [0.2222222222222222, \"#7201a8\"], [0.3333333333333333, \"#9c179e\"], [0.4444444444444444, \"#bd3786\"], [0.5555555555555556, \"#d8576b\"], [0.6666666666666666, \"#ed7953\"], [0.7777777777777778, \"#fb9f3a\"], [0.8888888888888888, \"#fdca26\"], [1.0, \"#f0f921\"]], \"type\": \"histogram2dcontour\"}], \"mesh3d\": [{\"colorbar\": {\"outlinewidth\": 0, \"ticks\": \"\"}, \"type\": \"mesh3d\"}], \"parcoords\": [{\"line\": {\"colorbar\": {\"outlinewidth\": 0, \"ticks\": \"\"}}, \"type\": \"parcoords\"}], \"pie\": [{\"automargin\": true, \"type\": \"pie\"}], \"scatter\": [{\"marker\": {\"colorbar\": {\"outlinewidth\": 0, \"ticks\": \"\"}}, \"type\": \"scatter\"}], \"scatter3d\": [{\"line\": {\"colorbar\": {\"outlinewidth\": 0, \"ticks\": \"\"}}, \"marker\": {\"colorbar\": {\"outlinewidth\": 0, \"ticks\": \"\"}}, \"type\": \"scatter3d\"}], \"scattercarpet\": [{\"marker\": {\"colorbar\": {\"outlinewidth\": 0, \"ticks\": \"\"}}, \"type\": \"scattercarpet\"}], \"scattergeo\": [{\"marker\": {\"colorbar\": {\"outlinewidth\": 0, \"ticks\": \"\"}}, \"type\": \"scattergeo\"}], \"scattergl\": [{\"marker\": {\"colorbar\": {\"outlinewidth\": 0, \"ticks\": \"\"}}, \"type\": \"scattergl\"}], \"scattermapbox\": [{\"marker\": {\"colorbar\": {\"outlinewidth\": 0, \"ticks\": \"\"}}, \"type\": \"scattermapbox\"}], \"scatterpolar\": [{\"marker\": {\"colorbar\": {\"outlinewidth\": 0, \"ticks\": \"\"}}, \"type\": \"scatterpolar\"}], \"scatterpolargl\": [{\"marker\": {\"colorbar\": {\"outlinewidth\": 0, \"ticks\": \"\"}}, \"type\": \"scatterpolargl\"}], \"scatterternary\": [{\"marker\": {\"colorbar\": {\"outlinewidth\": 0, \"ticks\": \"\"}}, \"type\": \"scatterternary\"}], \"surface\": [{\"colorbar\": {\"outlinewidth\": 0, \"ticks\": \"\"}, \"colorscale\": [[0.0, \"#0d0887\"], [0.1111111111111111, \"#46039f\"], [0.2222222222222222, \"#7201a8\"], [0.3333333333333333, \"#9c179e\"], [0.4444444444444444, \"#bd3786\"], [0.5555555555555556, \"#d8576b\"], [0.6666666666666666, \"#ed7953\"], [0.7777777777777778, \"#fb9f3a\"], [0.8888888888888888, \"#fdca26\"], [1.0, \"#f0f921\"]], \"type\": \"surface\"}], \"table\": [{\"cells\": {\"fill\": {\"color\": \"#EBF0F8\"}, \"line\": {\"color\": \"white\"}}, \"header\": {\"fill\": {\"color\": \"#C8D4E3\"}, \"line\": {\"color\": \"white\"}}, \"type\": \"table\"}]}, \"layout\": {\"annotationdefaults\": {\"arrowcolor\": \"#2a3f5f\", \"arrowhead\": 0, \"arrowwidth\": 1}, \"coloraxis\": {\"colorbar\": {\"outlinewidth\": 0, \"ticks\": \"\"}}, \"colorscale\": {\"diverging\": [[0, \"#8e0152\"], [0.1, \"#c51b7d\"], [0.2, \"#de77ae\"], [0.3, \"#f1b6da\"], [0.4, \"#fde0ef\"], [0.5, \"#f7f7f7\"], [0.6, \"#e6f5d0\"], [0.7, \"#b8e186\"], [0.8, \"#7fbc41\"], [0.9, \"#4d9221\"], [1, \"#276419\"]], \"sequential\": [[0.0, \"#0d0887\"], [0.1111111111111111, \"#46039f\"], [0.2222222222222222, \"#7201a8\"], [0.3333333333333333, \"#9c179e\"], [0.4444444444444444, \"#bd3786\"], [0.5555555555555556, \"#d8576b\"], [0.6666666666666666, \"#ed7953\"], [0.7777777777777778, \"#fb9f3a\"], [0.8888888888888888, \"#fdca26\"], [1.0, \"#f0f921\"]], \"sequentialminus\": [[0.0, \"#0d0887\"], [0.1111111111111111, \"#46039f\"], [0.2222222222222222, \"#7201a8\"], [0.3333333333333333, \"#9c179e\"], [0.4444444444444444, \"#bd3786\"], [0.5555555555555556, \"#d8576b\"], [0.6666666666666666, \"#ed7953\"], [0.7777777777777778, \"#fb9f3a\"], [0.8888888888888888, \"#fdca26\"], [1.0, \"#f0f921\"]]}, \"colorway\": [\"#636efa\", \"#EF553B\", \"#00cc96\", \"#ab63fa\", \"#FFA15A\", \"#19d3f3\", \"#FF6692\", \"#B6E880\", \"#FF97FF\", \"#FECB52\"], \"font\": {\"color\": \"#2a3f5f\"}, \"geo\": {\"bgcolor\": \"white\", \"lakecolor\": \"white\", \"landcolor\": \"#E5ECF6\", \"showlakes\": true, \"showland\": true, \"subunitcolor\": \"white\"}, \"hoverlabel\": {\"align\": \"left\"}, \"hovermode\": \"closest\", \"mapbox\": {\"style\": \"light\"}, \"paper_bgcolor\": \"white\", \"plot_bgcolor\": \"#E5ECF6\", \"polar\": {\"angularaxis\": {\"gridcolor\": \"white\", \"linecolor\": \"white\", \"ticks\": \"\"}, \"bgcolor\": \"#E5ECF6\", \"radialaxis\": {\"gridcolor\": \"white\", \"linecolor\": \"white\", \"ticks\": \"\"}}, \"scene\": {\"xaxis\": {\"backgroundcolor\": \"#E5ECF6\", \"gridcolor\": \"white\", \"gridwidth\": 2, \"linecolor\": \"white\", \"showbackground\": true, \"ticks\": \"\", \"zerolinecolor\": \"white\"}, \"yaxis\": {\"backgroundcolor\": \"#E5ECF6\", \"gridcolor\": \"white\", \"gridwidth\": 2, \"linecolor\": \"white\", \"showbackground\": true, \"ticks\": \"\", \"zerolinecolor\": \"white\"}, \"zaxis\": {\"backgroundcolor\": \"#E5ECF6\", \"gridcolor\": \"white\", \"gridwidth\": 2, \"linecolor\": \"white\", \"showbackground\": true, \"ticks\": \"\", \"zerolinecolor\": \"white\"}}, \"shapedefaults\": {\"line\": {\"color\": \"#2a3f5f\"}}, \"ternary\": {\"aaxis\": {\"gridcolor\": \"white\", \"linecolor\": \"white\", \"ticks\": \"\"}, \"baxis\": {\"gridcolor\": \"white\", \"linecolor\": \"white\", \"ticks\": \"\"}, \"bgcolor\": \"#E5ECF6\", \"caxis\": {\"gridcolor\": \"white\", \"linecolor\": \"white\", \"ticks\": \"\"}}, \"title\": {\"x\": 0.05}, \"xaxis\": {\"automargin\": true, \"gridcolor\": \"white\", \"linecolor\": \"white\", \"ticks\": \"\", \"title\": {\"standoff\": 15}, \"zerolinecolor\": \"white\", \"zerolinewidth\": 2}, \"yaxis\": {\"automargin\": true, \"gridcolor\": \"white\", \"linecolor\": \"white\", \"ticks\": \"\", \"title\": {\"standoff\": 15}, \"zerolinecolor\": \"white\", \"zerolinewidth\": 2}}}, \"title\": {\"font\": {\"color\": \"#4D5663\"}}, \"xaxis\": {\"gridcolor\": \"#E1E5ED\", \"showgrid\": true, \"tickfont\": {\"color\": \"#4D5663\"}, \"title\": {\"font\": {\"color\": \"#4D5663\"}, \"text\": \"\"}, \"zerolinecolor\": \"#E1E5ED\"}, \"yaxis\": {\"gridcolor\": \"#E1E5ED\", \"showgrid\": true, \"tickfont\": {\"color\": \"#4D5663\"}, \"title\": {\"font\": {\"color\": \"#4D5663\"}, \"text\": \"\"}, \"zerolinecolor\": \"#E1E5ED\"}},\n",
       "                        {\"showLink\": true, \"linkText\": \"Export to plot.ly\", \"plotlyServerURL\": \"https://plot.ly\", \"responsive\": true}\n",
       "                    ).then(function(){\n",
       "                            \n",
       "var gd = document.getElementById('25a8977c-c734-491d-82c7-e2dd927c10cd');\n",
       "var x = new MutationObserver(function (mutations, observer) {{\n",
       "        var display = window.getComputedStyle(gd).display;\n",
       "        if (!display || display === 'none') {{\n",
       "            console.log([gd, 'removed!']);\n",
       "            Plotly.purge(gd);\n",
       "            observer.disconnect();\n",
       "        }}\n",
       "}});\n",
       "\n",
       "// Listen for the removal of the full notebook cells\n",
       "var notebookContainer = gd.closest('#notebook-container');\n",
       "if (notebookContainer) {{\n",
       "    x.observe(notebookContainer, {childList: true});\n",
       "}}\n",
       "\n",
       "// Listen for the clearing of the current output cell\n",
       "var outputEl = gd.closest('.output');\n",
       "if (outputEl) {{\n",
       "    x.observe(outputEl, {childList: true});\n",
       "}}\n",
       "\n",
       "                        })\n",
       "                };\n",
       "                });\n",
       "            </script>\n",
       "        </div>"
      ]
     },
     "metadata": {},
     "output_type": "display_data"
    }
   ],
   "source": [
    "df2.iplot(kind='bar',x='Category',y='Values')"
   ]
  },
  {
   "cell_type": "code",
   "execution_count": 13,
   "metadata": {},
   "outputs": [
    {
     "data": {
      "application/vnd.plotly.v1+json": {
       "config": {
        "linkText": "Export to plot.ly",
        "plotlyServerURL": "https://plot.ly",
        "showLink": true
       },
       "data": [
        {
         "marker": {
          "color": "rgba(255, 153, 51, 0.6)",
          "line": {
           "color": "rgba(255, 153, 51, 1.0)",
           "width": 1
          }
         },
         "name": "None",
         "orientation": "v",
         "text": "",
         "type": "bar",
         "x": [
          "A",
          "B",
          "C",
          "D"
         ],
         "y": [
          100,
          100,
          100,
          100
         ]
        }
       ],
       "layout": {
        "legend": {
         "bgcolor": "#F5F6F9",
         "font": {
          "color": "#4D5663"
         }
        },
        "paper_bgcolor": "#F5F6F9",
        "plot_bgcolor": "#F5F6F9",
        "template": {
         "data": {
          "bar": [
           {
            "error_x": {
             "color": "#2a3f5f"
            },
            "error_y": {
             "color": "#2a3f5f"
            },
            "marker": {
             "line": {
              "color": "#E5ECF6",
              "width": 0.5
             }
            },
            "type": "bar"
           }
          ],
          "barpolar": [
           {
            "marker": {
             "line": {
              "color": "#E5ECF6",
              "width": 0.5
             }
            },
            "type": "barpolar"
           }
          ],
          "carpet": [
           {
            "aaxis": {
             "endlinecolor": "#2a3f5f",
             "gridcolor": "white",
             "linecolor": "white",
             "minorgridcolor": "white",
             "startlinecolor": "#2a3f5f"
            },
            "baxis": {
             "endlinecolor": "#2a3f5f",
             "gridcolor": "white",
             "linecolor": "white",
             "minorgridcolor": "white",
             "startlinecolor": "#2a3f5f"
            },
            "type": "carpet"
           }
          ],
          "choropleth": [
           {
            "colorbar": {
             "outlinewidth": 0,
             "ticks": ""
            },
            "type": "choropleth"
           }
          ],
          "contour": [
           {
            "colorbar": {
             "outlinewidth": 0,
             "ticks": ""
            },
            "colorscale": [
             [
              0,
              "#0d0887"
             ],
             [
              0.1111111111111111,
              "#46039f"
             ],
             [
              0.2222222222222222,
              "#7201a8"
             ],
             [
              0.3333333333333333,
              "#9c179e"
             ],
             [
              0.4444444444444444,
              "#bd3786"
             ],
             [
              0.5555555555555556,
              "#d8576b"
             ],
             [
              0.6666666666666666,
              "#ed7953"
             ],
             [
              0.7777777777777778,
              "#fb9f3a"
             ],
             [
              0.8888888888888888,
              "#fdca26"
             ],
             [
              1,
              "#f0f921"
             ]
            ],
            "type": "contour"
           }
          ],
          "contourcarpet": [
           {
            "colorbar": {
             "outlinewidth": 0,
             "ticks": ""
            },
            "type": "contourcarpet"
           }
          ],
          "heatmap": [
           {
            "colorbar": {
             "outlinewidth": 0,
             "ticks": ""
            },
            "colorscale": [
             [
              0,
              "#0d0887"
             ],
             [
              0.1111111111111111,
              "#46039f"
             ],
             [
              0.2222222222222222,
              "#7201a8"
             ],
             [
              0.3333333333333333,
              "#9c179e"
             ],
             [
              0.4444444444444444,
              "#bd3786"
             ],
             [
              0.5555555555555556,
              "#d8576b"
             ],
             [
              0.6666666666666666,
              "#ed7953"
             ],
             [
              0.7777777777777778,
              "#fb9f3a"
             ],
             [
              0.8888888888888888,
              "#fdca26"
             ],
             [
              1,
              "#f0f921"
             ]
            ],
            "type": "heatmap"
           }
          ],
          "heatmapgl": [
           {
            "colorbar": {
             "outlinewidth": 0,
             "ticks": ""
            },
            "colorscale": [
             [
              0,
              "#0d0887"
             ],
             [
              0.1111111111111111,
              "#46039f"
             ],
             [
              0.2222222222222222,
              "#7201a8"
             ],
             [
              0.3333333333333333,
              "#9c179e"
             ],
             [
              0.4444444444444444,
              "#bd3786"
             ],
             [
              0.5555555555555556,
              "#d8576b"
             ],
             [
              0.6666666666666666,
              "#ed7953"
             ],
             [
              0.7777777777777778,
              "#fb9f3a"
             ],
             [
              0.8888888888888888,
              "#fdca26"
             ],
             [
              1,
              "#f0f921"
             ]
            ],
            "type": "heatmapgl"
           }
          ],
          "histogram": [
           {
            "marker": {
             "colorbar": {
              "outlinewidth": 0,
              "ticks": ""
             }
            },
            "type": "histogram"
           }
          ],
          "histogram2d": [
           {
            "colorbar": {
             "outlinewidth": 0,
             "ticks": ""
            },
            "colorscale": [
             [
              0,
              "#0d0887"
             ],
             [
              0.1111111111111111,
              "#46039f"
             ],
             [
              0.2222222222222222,
              "#7201a8"
             ],
             [
              0.3333333333333333,
              "#9c179e"
             ],
             [
              0.4444444444444444,
              "#bd3786"
             ],
             [
              0.5555555555555556,
              "#d8576b"
             ],
             [
              0.6666666666666666,
              "#ed7953"
             ],
             [
              0.7777777777777778,
              "#fb9f3a"
             ],
             [
              0.8888888888888888,
              "#fdca26"
             ],
             [
              1,
              "#f0f921"
             ]
            ],
            "type": "histogram2d"
           }
          ],
          "histogram2dcontour": [
           {
            "colorbar": {
             "outlinewidth": 0,
             "ticks": ""
            },
            "colorscale": [
             [
              0,
              "#0d0887"
             ],
             [
              0.1111111111111111,
              "#46039f"
             ],
             [
              0.2222222222222222,
              "#7201a8"
             ],
             [
              0.3333333333333333,
              "#9c179e"
             ],
             [
              0.4444444444444444,
              "#bd3786"
             ],
             [
              0.5555555555555556,
              "#d8576b"
             ],
             [
              0.6666666666666666,
              "#ed7953"
             ],
             [
              0.7777777777777778,
              "#fb9f3a"
             ],
             [
              0.8888888888888888,
              "#fdca26"
             ],
             [
              1,
              "#f0f921"
             ]
            ],
            "type": "histogram2dcontour"
           }
          ],
          "mesh3d": [
           {
            "colorbar": {
             "outlinewidth": 0,
             "ticks": ""
            },
            "type": "mesh3d"
           }
          ],
          "parcoords": [
           {
            "line": {
             "colorbar": {
              "outlinewidth": 0,
              "ticks": ""
             }
            },
            "type": "parcoords"
           }
          ],
          "pie": [
           {
            "automargin": true,
            "type": "pie"
           }
          ],
          "scatter": [
           {
            "marker": {
             "colorbar": {
              "outlinewidth": 0,
              "ticks": ""
             }
            },
            "type": "scatter"
           }
          ],
          "scatter3d": [
           {
            "line": {
             "colorbar": {
              "outlinewidth": 0,
              "ticks": ""
             }
            },
            "marker": {
             "colorbar": {
              "outlinewidth": 0,
              "ticks": ""
             }
            },
            "type": "scatter3d"
           }
          ],
          "scattercarpet": [
           {
            "marker": {
             "colorbar": {
              "outlinewidth": 0,
              "ticks": ""
             }
            },
            "type": "scattercarpet"
           }
          ],
          "scattergeo": [
           {
            "marker": {
             "colorbar": {
              "outlinewidth": 0,
              "ticks": ""
             }
            },
            "type": "scattergeo"
           }
          ],
          "scattergl": [
           {
            "marker": {
             "colorbar": {
              "outlinewidth": 0,
              "ticks": ""
             }
            },
            "type": "scattergl"
           }
          ],
          "scattermapbox": [
           {
            "marker": {
             "colorbar": {
              "outlinewidth": 0,
              "ticks": ""
             }
            },
            "type": "scattermapbox"
           }
          ],
          "scatterpolar": [
           {
            "marker": {
             "colorbar": {
              "outlinewidth": 0,
              "ticks": ""
             }
            },
            "type": "scatterpolar"
           }
          ],
          "scatterpolargl": [
           {
            "marker": {
             "colorbar": {
              "outlinewidth": 0,
              "ticks": ""
             }
            },
            "type": "scatterpolargl"
           }
          ],
          "scatterternary": [
           {
            "marker": {
             "colorbar": {
              "outlinewidth": 0,
              "ticks": ""
             }
            },
            "type": "scatterternary"
           }
          ],
          "surface": [
           {
            "colorbar": {
             "outlinewidth": 0,
             "ticks": ""
            },
            "colorscale": [
             [
              0,
              "#0d0887"
             ],
             [
              0.1111111111111111,
              "#46039f"
             ],
             [
              0.2222222222222222,
              "#7201a8"
             ],
             [
              0.3333333333333333,
              "#9c179e"
             ],
             [
              0.4444444444444444,
              "#bd3786"
             ],
             [
              0.5555555555555556,
              "#d8576b"
             ],
             [
              0.6666666666666666,
              "#ed7953"
             ],
             [
              0.7777777777777778,
              "#fb9f3a"
             ],
             [
              0.8888888888888888,
              "#fdca26"
             ],
             [
              1,
              "#f0f921"
             ]
            ],
            "type": "surface"
           }
          ],
          "table": [
           {
            "cells": {
             "fill": {
              "color": "#EBF0F8"
             },
             "line": {
              "color": "white"
             }
            },
            "header": {
             "fill": {
              "color": "#C8D4E3"
             },
             "line": {
              "color": "white"
             }
            },
            "type": "table"
           }
          ]
         },
         "layout": {
          "annotationdefaults": {
           "arrowcolor": "#2a3f5f",
           "arrowhead": 0,
           "arrowwidth": 1
          },
          "coloraxis": {
           "colorbar": {
            "outlinewidth": 0,
            "ticks": ""
           }
          },
          "colorscale": {
           "diverging": [
            [
             0,
             "#8e0152"
            ],
            [
             0.1,
             "#c51b7d"
            ],
            [
             0.2,
             "#de77ae"
            ],
            [
             0.3,
             "#f1b6da"
            ],
            [
             0.4,
             "#fde0ef"
            ],
            [
             0.5,
             "#f7f7f7"
            ],
            [
             0.6,
             "#e6f5d0"
            ],
            [
             0.7,
             "#b8e186"
            ],
            [
             0.8,
             "#7fbc41"
            ],
            [
             0.9,
             "#4d9221"
            ],
            [
             1,
             "#276419"
            ]
           ],
           "sequential": [
            [
             0,
             "#0d0887"
            ],
            [
             0.1111111111111111,
             "#46039f"
            ],
            [
             0.2222222222222222,
             "#7201a8"
            ],
            [
             0.3333333333333333,
             "#9c179e"
            ],
            [
             0.4444444444444444,
             "#bd3786"
            ],
            [
             0.5555555555555556,
             "#d8576b"
            ],
            [
             0.6666666666666666,
             "#ed7953"
            ],
            [
             0.7777777777777778,
             "#fb9f3a"
            ],
            [
             0.8888888888888888,
             "#fdca26"
            ],
            [
             1,
             "#f0f921"
            ]
           ],
           "sequentialminus": [
            [
             0,
             "#0d0887"
            ],
            [
             0.1111111111111111,
             "#46039f"
            ],
            [
             0.2222222222222222,
             "#7201a8"
            ],
            [
             0.3333333333333333,
             "#9c179e"
            ],
            [
             0.4444444444444444,
             "#bd3786"
            ],
            [
             0.5555555555555556,
             "#d8576b"
            ],
            [
             0.6666666666666666,
             "#ed7953"
            ],
            [
             0.7777777777777778,
             "#fb9f3a"
            ],
            [
             0.8888888888888888,
             "#fdca26"
            ],
            [
             1,
             "#f0f921"
            ]
           ]
          },
          "colorway": [
           "#636efa",
           "#EF553B",
           "#00cc96",
           "#ab63fa",
           "#FFA15A",
           "#19d3f3",
           "#FF6692",
           "#B6E880",
           "#FF97FF",
           "#FECB52"
          ],
          "font": {
           "color": "#2a3f5f"
          },
          "geo": {
           "bgcolor": "white",
           "lakecolor": "white",
           "landcolor": "#E5ECF6",
           "showlakes": true,
           "showland": true,
           "subunitcolor": "white"
          },
          "hoverlabel": {
           "align": "left"
          },
          "hovermode": "closest",
          "mapbox": {
           "style": "light"
          },
          "paper_bgcolor": "white",
          "plot_bgcolor": "#E5ECF6",
          "polar": {
           "angularaxis": {
            "gridcolor": "white",
            "linecolor": "white",
            "ticks": ""
           },
           "bgcolor": "#E5ECF6",
           "radialaxis": {
            "gridcolor": "white",
            "linecolor": "white",
            "ticks": ""
           }
          },
          "scene": {
           "xaxis": {
            "backgroundcolor": "#E5ECF6",
            "gridcolor": "white",
            "gridwidth": 2,
            "linecolor": "white",
            "showbackground": true,
            "ticks": "",
            "zerolinecolor": "white"
           },
           "yaxis": {
            "backgroundcolor": "#E5ECF6",
            "gridcolor": "white",
            "gridwidth": 2,
            "linecolor": "white",
            "showbackground": true,
            "ticks": "",
            "zerolinecolor": "white"
           },
           "zaxis": {
            "backgroundcolor": "#E5ECF6",
            "gridcolor": "white",
            "gridwidth": 2,
            "linecolor": "white",
            "showbackground": true,
            "ticks": "",
            "zerolinecolor": "white"
           }
          },
          "shapedefaults": {
           "line": {
            "color": "#2a3f5f"
           }
          },
          "ternary": {
           "aaxis": {
            "gridcolor": "white",
            "linecolor": "white",
            "ticks": ""
           },
           "baxis": {
            "gridcolor": "white",
            "linecolor": "white",
            "ticks": ""
           },
           "bgcolor": "#E5ECF6",
           "caxis": {
            "gridcolor": "white",
            "linecolor": "white",
            "ticks": ""
           }
          },
          "title": {
           "x": 0.05
          },
          "xaxis": {
           "automargin": true,
           "gridcolor": "white",
           "linecolor": "white",
           "ticks": "",
           "title": {
            "standoff": 15
           },
           "zerolinecolor": "white",
           "zerolinewidth": 2
          },
          "yaxis": {
           "automargin": true,
           "gridcolor": "white",
           "linecolor": "white",
           "ticks": "",
           "title": {
            "standoff": 15
           },
           "zerolinecolor": "white",
           "zerolinewidth": 2
          }
         }
        },
        "title": {
         "font": {
          "color": "#4D5663"
         }
        },
        "xaxis": {
         "gridcolor": "#E1E5ED",
         "showgrid": true,
         "tickfont": {
          "color": "#4D5663"
         },
         "title": {
          "font": {
           "color": "#4D5663"
          },
          "text": ""
         },
         "zerolinecolor": "#E1E5ED"
        },
        "yaxis": {
         "gridcolor": "#E1E5ED",
         "showgrid": true,
         "tickfont": {
          "color": "#4D5663"
         },
         "title": {
          "font": {
           "color": "#4D5663"
          },
          "text": ""
         },
         "zerolinecolor": "#E1E5ED"
        }
       }
      },
      "text/html": [
       "<div>\n",
       "        \n",
       "        \n",
       "            <div id=\"f4e64d3e-d6d5-4df0-804a-f74e20cae6ff\" class=\"plotly-graph-div\" style=\"height:525px; width:100%;\"></div>\n",
       "            <script type=\"text/javascript\">\n",
       "                require([\"plotly\"], function(Plotly) {\n",
       "                    window.PLOTLYENV=window.PLOTLYENV || {};\n",
       "                    window.PLOTLYENV.BASE_URL='https://plot.ly';\n",
       "                    \n",
       "                if (document.getElementById(\"f4e64d3e-d6d5-4df0-804a-f74e20cae6ff\")) {\n",
       "                    Plotly.newPlot(\n",
       "                        'f4e64d3e-d6d5-4df0-804a-f74e20cae6ff',\n",
       "                        [{\"marker\": {\"color\": \"rgba(255, 153, 51, 0.6)\", \"line\": {\"color\": \"rgba(255, 153, 51, 1.0)\", \"width\": 1}}, \"name\": \"None\", \"orientation\": \"v\", \"text\": \"\", \"type\": \"bar\", \"x\": [\"A\", \"B\", \"C\", \"D\"], \"y\": [100, 100, 100, 100]}],\n",
       "                        {\"legend\": {\"bgcolor\": \"#F5F6F9\", \"font\": {\"color\": \"#4D5663\"}}, \"paper_bgcolor\": \"#F5F6F9\", \"plot_bgcolor\": \"#F5F6F9\", \"template\": {\"data\": {\"bar\": [{\"error_x\": {\"color\": \"#2a3f5f\"}, \"error_y\": {\"color\": \"#2a3f5f\"}, \"marker\": {\"line\": {\"color\": \"#E5ECF6\", \"width\": 0.5}}, \"type\": \"bar\"}], \"barpolar\": [{\"marker\": {\"line\": {\"color\": \"#E5ECF6\", \"width\": 0.5}}, \"type\": \"barpolar\"}], \"carpet\": [{\"aaxis\": {\"endlinecolor\": \"#2a3f5f\", \"gridcolor\": \"white\", \"linecolor\": \"white\", \"minorgridcolor\": \"white\", \"startlinecolor\": \"#2a3f5f\"}, \"baxis\": {\"endlinecolor\": \"#2a3f5f\", \"gridcolor\": \"white\", \"linecolor\": \"white\", \"minorgridcolor\": \"white\", \"startlinecolor\": \"#2a3f5f\"}, \"type\": \"carpet\"}], \"choropleth\": [{\"colorbar\": {\"outlinewidth\": 0, \"ticks\": \"\"}, \"type\": \"choropleth\"}], \"contour\": [{\"colorbar\": {\"outlinewidth\": 0, \"ticks\": \"\"}, \"colorscale\": [[0.0, \"#0d0887\"], [0.1111111111111111, \"#46039f\"], [0.2222222222222222, \"#7201a8\"], [0.3333333333333333, \"#9c179e\"], [0.4444444444444444, \"#bd3786\"], [0.5555555555555556, \"#d8576b\"], [0.6666666666666666, \"#ed7953\"], [0.7777777777777778, \"#fb9f3a\"], [0.8888888888888888, \"#fdca26\"], [1.0, \"#f0f921\"]], \"type\": \"contour\"}], \"contourcarpet\": [{\"colorbar\": {\"outlinewidth\": 0, \"ticks\": \"\"}, \"type\": \"contourcarpet\"}], \"heatmap\": [{\"colorbar\": {\"outlinewidth\": 0, \"ticks\": \"\"}, \"colorscale\": [[0.0, \"#0d0887\"], [0.1111111111111111, \"#46039f\"], [0.2222222222222222, \"#7201a8\"], [0.3333333333333333, \"#9c179e\"], [0.4444444444444444, \"#bd3786\"], [0.5555555555555556, \"#d8576b\"], [0.6666666666666666, \"#ed7953\"], [0.7777777777777778, \"#fb9f3a\"], [0.8888888888888888, \"#fdca26\"], [1.0, \"#f0f921\"]], \"type\": \"heatmap\"}], \"heatmapgl\": [{\"colorbar\": {\"outlinewidth\": 0, \"ticks\": \"\"}, \"colorscale\": [[0.0, \"#0d0887\"], [0.1111111111111111, \"#46039f\"], [0.2222222222222222, \"#7201a8\"], [0.3333333333333333, \"#9c179e\"], [0.4444444444444444, \"#bd3786\"], [0.5555555555555556, \"#d8576b\"], [0.6666666666666666, \"#ed7953\"], [0.7777777777777778, \"#fb9f3a\"], [0.8888888888888888, \"#fdca26\"], [1.0, \"#f0f921\"]], \"type\": \"heatmapgl\"}], \"histogram\": [{\"marker\": {\"colorbar\": {\"outlinewidth\": 0, \"ticks\": \"\"}}, \"type\": \"histogram\"}], \"histogram2d\": [{\"colorbar\": {\"outlinewidth\": 0, \"ticks\": \"\"}, \"colorscale\": [[0.0, \"#0d0887\"], [0.1111111111111111, \"#46039f\"], [0.2222222222222222, \"#7201a8\"], [0.3333333333333333, \"#9c179e\"], [0.4444444444444444, \"#bd3786\"], [0.5555555555555556, \"#d8576b\"], [0.6666666666666666, \"#ed7953\"], [0.7777777777777778, \"#fb9f3a\"], [0.8888888888888888, \"#fdca26\"], [1.0, \"#f0f921\"]], \"type\": \"histogram2d\"}], \"histogram2dcontour\": [{\"colorbar\": {\"outlinewidth\": 0, \"ticks\": \"\"}, \"colorscale\": [[0.0, \"#0d0887\"], [0.1111111111111111, \"#46039f\"], [0.2222222222222222, \"#7201a8\"], [0.3333333333333333, \"#9c179e\"], [0.4444444444444444, \"#bd3786\"], [0.5555555555555556, \"#d8576b\"], [0.6666666666666666, \"#ed7953\"], [0.7777777777777778, \"#fb9f3a\"], [0.8888888888888888, \"#fdca26\"], [1.0, \"#f0f921\"]], \"type\": \"histogram2dcontour\"}], \"mesh3d\": [{\"colorbar\": {\"outlinewidth\": 0, \"ticks\": \"\"}, \"type\": \"mesh3d\"}], \"parcoords\": [{\"line\": {\"colorbar\": {\"outlinewidth\": 0, \"ticks\": \"\"}}, \"type\": \"parcoords\"}], \"pie\": [{\"automargin\": true, \"type\": \"pie\"}], \"scatter\": [{\"marker\": {\"colorbar\": {\"outlinewidth\": 0, \"ticks\": \"\"}}, \"type\": \"scatter\"}], \"scatter3d\": [{\"line\": {\"colorbar\": {\"outlinewidth\": 0, \"ticks\": \"\"}}, \"marker\": {\"colorbar\": {\"outlinewidth\": 0, \"ticks\": \"\"}}, \"type\": \"scatter3d\"}], \"scattercarpet\": [{\"marker\": {\"colorbar\": {\"outlinewidth\": 0, \"ticks\": \"\"}}, \"type\": \"scattercarpet\"}], \"scattergeo\": [{\"marker\": {\"colorbar\": {\"outlinewidth\": 0, \"ticks\": \"\"}}, \"type\": \"scattergeo\"}], \"scattergl\": [{\"marker\": {\"colorbar\": {\"outlinewidth\": 0, \"ticks\": \"\"}}, \"type\": \"scattergl\"}], \"scattermapbox\": [{\"marker\": {\"colorbar\": {\"outlinewidth\": 0, \"ticks\": \"\"}}, \"type\": \"scattermapbox\"}], \"scatterpolar\": [{\"marker\": {\"colorbar\": {\"outlinewidth\": 0, \"ticks\": \"\"}}, \"type\": \"scatterpolar\"}], \"scatterpolargl\": [{\"marker\": {\"colorbar\": {\"outlinewidth\": 0, \"ticks\": \"\"}}, \"type\": \"scatterpolargl\"}], \"scatterternary\": [{\"marker\": {\"colorbar\": {\"outlinewidth\": 0, \"ticks\": \"\"}}, \"type\": \"scatterternary\"}], \"surface\": [{\"colorbar\": {\"outlinewidth\": 0, \"ticks\": \"\"}, \"colorscale\": [[0.0, \"#0d0887\"], [0.1111111111111111, \"#46039f\"], [0.2222222222222222, \"#7201a8\"], [0.3333333333333333, \"#9c179e\"], [0.4444444444444444, \"#bd3786\"], [0.5555555555555556, \"#d8576b\"], [0.6666666666666666, \"#ed7953\"], [0.7777777777777778, \"#fb9f3a\"], [0.8888888888888888, \"#fdca26\"], [1.0, \"#f0f921\"]], \"type\": \"surface\"}], \"table\": [{\"cells\": {\"fill\": {\"color\": \"#EBF0F8\"}, \"line\": {\"color\": \"white\"}}, \"header\": {\"fill\": {\"color\": \"#C8D4E3\"}, \"line\": {\"color\": \"white\"}}, \"type\": \"table\"}]}, \"layout\": {\"annotationdefaults\": {\"arrowcolor\": \"#2a3f5f\", \"arrowhead\": 0, \"arrowwidth\": 1}, \"coloraxis\": {\"colorbar\": {\"outlinewidth\": 0, \"ticks\": \"\"}}, \"colorscale\": {\"diverging\": [[0, \"#8e0152\"], [0.1, \"#c51b7d\"], [0.2, \"#de77ae\"], [0.3, \"#f1b6da\"], [0.4, \"#fde0ef\"], [0.5, \"#f7f7f7\"], [0.6, \"#e6f5d0\"], [0.7, \"#b8e186\"], [0.8, \"#7fbc41\"], [0.9, \"#4d9221\"], [1, \"#276419\"]], \"sequential\": [[0.0, \"#0d0887\"], [0.1111111111111111, \"#46039f\"], [0.2222222222222222, \"#7201a8\"], [0.3333333333333333, \"#9c179e\"], [0.4444444444444444, \"#bd3786\"], [0.5555555555555556, \"#d8576b\"], [0.6666666666666666, \"#ed7953\"], [0.7777777777777778, \"#fb9f3a\"], [0.8888888888888888, \"#fdca26\"], [1.0, \"#f0f921\"]], \"sequentialminus\": [[0.0, \"#0d0887\"], [0.1111111111111111, \"#46039f\"], [0.2222222222222222, \"#7201a8\"], [0.3333333333333333, \"#9c179e\"], [0.4444444444444444, \"#bd3786\"], [0.5555555555555556, \"#d8576b\"], [0.6666666666666666, \"#ed7953\"], [0.7777777777777778, \"#fb9f3a\"], [0.8888888888888888, \"#fdca26\"], [1.0, \"#f0f921\"]]}, \"colorway\": [\"#636efa\", \"#EF553B\", \"#00cc96\", \"#ab63fa\", \"#FFA15A\", \"#19d3f3\", \"#FF6692\", \"#B6E880\", \"#FF97FF\", \"#FECB52\"], \"font\": {\"color\": \"#2a3f5f\"}, \"geo\": {\"bgcolor\": \"white\", \"lakecolor\": \"white\", \"landcolor\": \"#E5ECF6\", \"showlakes\": true, \"showland\": true, \"subunitcolor\": \"white\"}, \"hoverlabel\": {\"align\": \"left\"}, \"hovermode\": \"closest\", \"mapbox\": {\"style\": \"light\"}, \"paper_bgcolor\": \"white\", \"plot_bgcolor\": \"#E5ECF6\", \"polar\": {\"angularaxis\": {\"gridcolor\": \"white\", \"linecolor\": \"white\", \"ticks\": \"\"}, \"bgcolor\": \"#E5ECF6\", \"radialaxis\": {\"gridcolor\": \"white\", \"linecolor\": \"white\", \"ticks\": \"\"}}, \"scene\": {\"xaxis\": {\"backgroundcolor\": \"#E5ECF6\", \"gridcolor\": \"white\", \"gridwidth\": 2, \"linecolor\": \"white\", \"showbackground\": true, \"ticks\": \"\", \"zerolinecolor\": \"white\"}, \"yaxis\": {\"backgroundcolor\": \"#E5ECF6\", \"gridcolor\": \"white\", \"gridwidth\": 2, \"linecolor\": \"white\", \"showbackground\": true, \"ticks\": \"\", \"zerolinecolor\": \"white\"}, \"zaxis\": {\"backgroundcolor\": \"#E5ECF6\", \"gridcolor\": \"white\", \"gridwidth\": 2, \"linecolor\": \"white\", \"showbackground\": true, \"ticks\": \"\", \"zerolinecolor\": \"white\"}}, \"shapedefaults\": {\"line\": {\"color\": \"#2a3f5f\"}}, \"ternary\": {\"aaxis\": {\"gridcolor\": \"white\", \"linecolor\": \"white\", \"ticks\": \"\"}, \"baxis\": {\"gridcolor\": \"white\", \"linecolor\": \"white\", \"ticks\": \"\"}, \"bgcolor\": \"#E5ECF6\", \"caxis\": {\"gridcolor\": \"white\", \"linecolor\": \"white\", \"ticks\": \"\"}}, \"title\": {\"x\": 0.05}, \"xaxis\": {\"automargin\": true, \"gridcolor\": \"white\", \"linecolor\": \"white\", \"ticks\": \"\", \"title\": {\"standoff\": 15}, \"zerolinecolor\": \"white\", \"zerolinewidth\": 2}, \"yaxis\": {\"automargin\": true, \"gridcolor\": \"white\", \"linecolor\": \"white\", \"ticks\": \"\", \"title\": {\"standoff\": 15}, \"zerolinecolor\": \"white\", \"zerolinewidth\": 2}}}, \"title\": {\"font\": {\"color\": \"#4D5663\"}}, \"xaxis\": {\"gridcolor\": \"#E1E5ED\", \"showgrid\": true, \"tickfont\": {\"color\": \"#4D5663\"}, \"title\": {\"font\": {\"color\": \"#4D5663\"}, \"text\": \"\"}, \"zerolinecolor\": \"#E1E5ED\"}, \"yaxis\": {\"gridcolor\": \"#E1E5ED\", \"showgrid\": true, \"tickfont\": {\"color\": \"#4D5663\"}, \"title\": {\"font\": {\"color\": \"#4D5663\"}, \"text\": \"\"}, \"zerolinecolor\": \"#E1E5ED\"}},\n",
       "                        {\"showLink\": true, \"linkText\": \"Export to plot.ly\", \"plotlyServerURL\": \"https://plot.ly\", \"responsive\": true}\n",
       "                    ).then(function(){\n",
       "                            \n",
       "var gd = document.getElementById('f4e64d3e-d6d5-4df0-804a-f74e20cae6ff');\n",
       "var x = new MutationObserver(function (mutations, observer) {{\n",
       "        var display = window.getComputedStyle(gd).display;\n",
       "        if (!display || display === 'none') {{\n",
       "            console.log([gd, 'removed!']);\n",
       "            Plotly.purge(gd);\n",
       "            observer.disconnect();\n",
       "        }}\n",
       "}});\n",
       "\n",
       "// Listen for the removal of the full notebook cells\n",
       "var notebookContainer = gd.closest('#notebook-container');\n",
       "if (notebookContainer) {{\n",
       "    x.observe(notebookContainer, {childList: true});\n",
       "}}\n",
       "\n",
       "// Listen for the clearing of the current output cell\n",
       "var outputEl = gd.closest('.output');\n",
       "if (outputEl) {{\n",
       "    x.observe(outputEl, {childList: true});\n",
       "}}\n",
       "\n",
       "                        })\n",
       "                };\n",
       "                });\n",
       "            </script>\n",
       "        </div>"
      ]
     },
     "metadata": {},
     "output_type": "display_data"
    }
   ],
   "source": [
    "df.count().iplot(kind='bar')"
   ]
  },
  {
   "cell_type": "markdown",
   "metadata": {},
   "source": [
    "## box plots"
   ]
  },
  {
   "cell_type": "code",
   "execution_count": 14,
   "metadata": {},
   "outputs": [
    {
     "data": {
      "application/vnd.plotly.v1+json": {
       "config": {
        "linkText": "Export to plot.ly",
        "plotlyServerURL": "https://plot.ly",
        "showLink": true
       },
       "data": [
        {
         "boxpoints": false,
         "line": {
          "width": 1.3
         },
         "marker": {
          "color": "rgba(255, 153, 51, 1.0)"
         },
         "name": "A",
         "orientation": "v",
         "type": "box",
         "y": [
          -2.19517732281781,
          0.41297071995567625,
          0.5238259134616036,
          2.321660493048887,
          -1.7918868447130059,
          -1.4003185528924975,
          -1.7297604866535865,
          -0.44388711000201464,
          -0.5052550235591972,
          -0.20154762526484626,
          -0.08352134157213167,
          -0.6855060781663106,
          1.0887687415999572,
          0.2855894125108078,
          0.7980404615235451,
          -1.0339660491462646,
          0.552988758119476,
          -0.011700097264279497,
          0.021437589270594415,
          -0.08236305549690165,
          0.5291996261975528,
          0.6551868758377841,
          -1.4859686060330128,
          -1.9244490589884782,
          0.8448386798137778,
          0.375889652742352,
          0.6713684703182022,
          0.5292666392387347,
          -1.8438289583630185,
          0.558440068266143,
          -0.6563135402637561,
          -1.6316467385018294,
          -0.39836303303761095,
          0.0691617062364122,
          0.1353258261082668,
          0.7185436507289951,
          1.553925211212386,
          -0.5714655522307664,
          1.4904875406858629,
          0.6217440104496987,
          0.7865768608697654,
          0.7378588602432641,
          -0.8985395833921609,
          0.6397978501868015,
          -0.2631592379934458,
          -0.18465379229969653,
          -1.766855324557164,
          0.12173746345167527,
          -0.743605387049839,
          0.784334833739347,
          0.3917372705482704,
          -0.5909559239175638,
          -0.40630782754950207,
          -0.9881423673945723,
          -1.4597607300847637,
          0.3023562251048793,
          -0.1954609877017618,
          1.8127924584945665,
          -0.438196644574794,
          0.9922522061400024,
          -0.859983652215299,
          0.4246206377667659,
          1.2931457895853469,
          -0.3197471206910602,
          -0.29015708985798294,
          -2.4200083935552144,
          -0.5531573484596305,
          0.9919788860691116,
          -0.10068870784096433,
          0.013473054882340725,
          0.8870424485265856,
          -1.52983366553648,
          0.8145957073039255,
          -0.81898061248173,
          -0.9098258908774242,
          -1.3752270874209238,
          1.3669607304331788,
          -0.040484151685499445,
          -1.1206413918176934,
          0.4768318852770323,
          -0.3417763069099912,
          -1.408962249978248,
          -1.5951427299765275,
          1.2197177433735997,
          0.5445789312288598,
          0.6313147555355381,
          0.32000780366272574,
          -0.8704515879612656,
          -0.627920771771115,
          0.8440369058295358,
          -1.2010314467224608,
          0.10303101875969292,
          1.7119342867501717,
          1.345218350267589,
          1.8895042692650679,
          0.5245714274017701,
          -0.010284788799988025,
          1.4983859268949218,
          0.6627916098655476,
          -0.9058275513453036
         ]
        },
        {
         "boxpoints": false,
         "line": {
          "width": 1.3
         },
         "marker": {
          "color": "rgba(55, 128, 191, 1.0)"
         },
         "name": "B",
         "orientation": "v",
         "type": "box",
         "y": [
          -0.2551109513862989,
          -1.5127464737870182,
          0.3758014389849401,
          1.8857727661935286,
          1.662544285322015,
          -1.2664294656572934,
          -1.5174696024398788,
          0.5852178156544476,
          0.6965117049576418,
          -1.1279399272931596,
          -0.6863623724755933,
          -1.1044899382302837,
          0.07098359754755064,
          1.2151791713518312,
          0.2203176108637594,
          2.6295732761898005,
          0.6798859657591843,
          0.986074789157596,
          -1.2317801711589613,
          -0.7665611492450716,
          -0.022858667742858704,
          -0.6294825856993135,
          1.6306391943001899,
          1.6995515594849566,
          -0.5905495429530158,
          0.47793027697582735,
          -0.44609211623245887,
          1.7576040287335875,
          -1.0923347767002078,
          -1.8993634237607036,
          0.5844253290883914,
          -0.04822525857137415,
          0.3463651631429565,
          0.40013204209307585,
          0.22836136631949458,
          0.5377706594361823,
          -0.046788587259596004,
          -2.5718183127194134,
          -0.15116176468220824,
          -0.21953364549617513,
          -0.3325484225048974,
          -1.8096452038883564,
          0.7289382006548182,
          -0.09439706742108991,
          0.012540101956239863,
          -0.48136707668519524,
          1.1582886336009641,
          -0.4248727474952323,
          0.40709870307468116,
          1.0717332510596662,
          0.458827727449291,
          0.9438296370958118,
          1.4303013514646175,
          -0.403906433119754,
          0.7027145404728263,
          0.5103829539116806,
          -0.8123969957649172,
          0.3383761382920852,
          -1.171096152810323,
          0.46599418331537706,
          0.47419707617009593,
          -2.56535748723371,
          -0.06782037218279009,
          -0.9328199422531491,
          0.08936881595781979,
          1.105071798487719,
          1.292664158575097,
          -2.6250692746878195,
          -0.45631212365946394,
          1.018318165064855,
          -1.2526436138204882,
          -0.17168542970891618,
          -0.4699345868151425,
          0.38738762957994255,
          -1.5998498437689137,
          0.7609470697567795,
          -0.2616975602236235,
          0.08826540754723577,
          0.2378673846850535,
          0.32753070517438304,
          -0.6997696295911957,
          -0.9027758435345248,
          -0.07465487316390441,
          -2.4577222932537945,
          0.3340426817758278,
          0.6960081666749737,
          -0.26319239683785034,
          -0.9980782560498498,
          -0.12339060576071016,
          -0.17112287315675134,
          0.6429944355509232,
          0.9524051082923007,
          -1.323623217934063,
          0.23723427993329563,
          0.09923915891778237,
          0.05748639326282414,
          -0.8615285511403645,
          0.5099022980535224,
          -0.29916479814974173,
          -0.3551225033150403
         ]
        },
        {
         "boxpoints": false,
         "line": {
          "width": 1.3
         },
         "marker": {
          "color": "rgba(50, 171, 96, 1.0)"
         },
         "name": "C",
         "orientation": "v",
         "type": "box",
         "y": [
          -1.0788971856936262,
          -1.2567580655429562,
          2.306905757660575,
          1.4597194024759284,
          0.08993898843896211,
          0.99660105806891,
          -0.9019836835408349,
          0.859353588311807,
          0.71725570181717,
          0.08380403413390386,
          0.44119082233712265,
          0.1438418816097869,
          -1.247558375257457,
          -1.1442716126240062,
          -1.2617825554963564,
          -0.19087872415173907,
          0.4341101082887723,
          -1.1287682521621962,
          -1.3602623536692164,
          1.05375491177541,
          1.8209709905919105,
          0.1817511218888976,
          0.22467287735670233,
          1.6875574908256463,
          0.007166511506410807,
          -0.0050954727207124266,
          -0.7423566678317753,
          -0.40653941438145946,
          -0.0068370559735675875,
          -0.3841329768242768,
          -1.2524535142745092,
          -1.906151255377356,
          -0.1763321051587015,
          -0.5836410168125651,
          0.5518374528931556,
          1.4519255221120164,
          1.3643118237082614,
          -0.9979487982713429,
          -0.3645103593299708,
          -1.0174748573809365,
          0.8031952687280782,
          -1.3162986958711003,
          -1.9874803671405927,
          -0.40994448299083536,
          -0.657621109199126,
          -0.2441861701805242,
          -0.48494070247939963,
          -1.3795160568953664,
          -0.07059090968345638,
          -0.37464040312293606,
          0.6800215471504433,
          -0.6873726058624622,
          -1.241770993437353,
          0.05758086179807762,
          -0.5403668486477343,
          -1.3125466743292626,
          0.43703161569946325,
          0.4770647673840944,
          0.013742174347041376,
          0.9442069570899385,
          0.1528210048976337,
          0.25608505426833694,
          1.272652337867402,
          1.161795856037412,
          0.5306960137695097,
          0.30294924805684886,
          -0.011718203774587013,
          1.3751187811239185,
          -0.36030546879938913,
          -0.707594027756117,
          0.7255443632944976,
          0.6789982136122885,
          -0.9699242148957096,
          0.2778188395179725,
          -1.455676810569012,
          1.0279156175778397,
          -1.3393970564477102,
          -0.4543107025528251,
          -0.5360591728383689,
          1.0873434219180473,
          0.5713322131613005,
          0.5487943256282278,
          -0.5305824692030522,
          -0.8525390393332022,
          0.5113519006178853,
          0.5645692944823126,
          0.4296716748425944,
          -0.38857668370552584,
          0.8334927023304188,
          -0.17060926894242331,
          -0.29196042928222776,
          -1.4665800633973136,
          -0.4741414933070715,
          -0.07649969481687253,
          -0.5776916122635324,
          1.2800821684834214,
          2.1878392758982,
          0.9093467140440413,
          -0.7577571032797649,
          1.5706481783964563
         ]
        },
        {
         "boxpoints": false,
         "line": {
          "width": 1.3
         },
         "marker": {
          "color": "rgba(128, 0, 128, 1.0)"
         },
         "name": "D",
         "orientation": "v",
         "type": "box",
         "y": [
          -0.5590574727429467,
          -0.9652481973032375,
          -1.3906244582999019,
          -0.08687000251376722,
          0.1545456412609485,
          1.4654554026194144,
          1.7355261517364142,
          3.0866410008314973,
          1.007893155993295,
          -0.0878959082604831,
          1.284467497652036,
          -0.9963807409741994,
          0.036263894100578384,
          0.40023408716768255,
          -1.0246299571488198,
          2.28250247935137,
          -0.7013000342685121,
          -1.6206655240217647,
          1.4112203997059312,
          1.4373198921923294,
          -0.505991052532302,
          0.6779142603868307,
          -0.22510867140490098,
          0.8545883499934318,
          -1.4544427386993073,
          -0.9789075394224392,
          -0.9837519315782766,
          0.3885380832764085,
          -0.28032248335972537,
          0.7923336903765062,
          1.2075302537726125,
          -1.2176544591767497,
          0.0738198563533884,
          1.0064142879632798,
          -0.7706316917192473,
          0.4289913981974971,
          1.9084145086201643,
          -0.759623916011402,
          -0.7425070412671436,
          0.06277473045695621,
          -1.3580505718528622,
          0.10196013029678108,
          -0.5409824517556163,
          0.8786075417899561,
          -1.9178121656516358,
          -0.7370282624161755,
          -0.4237867494075362,
          1.9636892356315543,
          0.10401022158456855,
          -0.7365675799373227,
          -0.005439127042603156,
          -0.2933454827501467,
          1.4954542624775675,
          0.55802181627489,
          -0.6593403254748437,
          0.1988383461089805,
          1.964963411148573,
          1.3581791479795247,
          0.19833831351646278,
          -1.163290788844608,
          0.9132583074449778,
          1.1638660403619159,
          0.1982468492296855,
          -0.29347819983700696,
          -1.1289900244318574,
          1.6786268584259554,
          0.6752784131011865,
          0.28964405270534455,
          -1.7028904293033216,
          -0.3248457754664075,
          -0.044838207779540167,
          1.5281073134205174,
          -2.198051848748937,
          0.5219157564655361,
          0.13305749611839168,
          0.6697046858131003,
          2.0783492112196598,
          0.9929109397786321,
          0.16938681646939813,
          1.6124829761303008,
          1.1945936974657962,
          0.6407065679370807,
          1.077282719175627,
          -0.031450677049946675,
          1.721291153338183,
          -0.4883675671054236,
          -1.0751416403037444,
          -1.6437040422288198,
          -1.4805590800596549,
          -0.4327787443054158,
          1.4504884399154043,
          1.1293919825784633,
          -0.5720607111027293,
          -0.9108482132400754,
          0.15808052374103915,
          0.3987311937942134,
          -1.0799529107118289,
          -0.5951021534896669,
          -0.5904923295274668,
          -0.5697651843320882
         ]
        }
       ],
       "layout": {
        "legend": {
         "bgcolor": "#F5F6F9",
         "font": {
          "color": "#4D5663"
         }
        },
        "paper_bgcolor": "#F5F6F9",
        "plot_bgcolor": "#F5F6F9",
        "template": {
         "data": {
          "bar": [
           {
            "error_x": {
             "color": "#2a3f5f"
            },
            "error_y": {
             "color": "#2a3f5f"
            },
            "marker": {
             "line": {
              "color": "#E5ECF6",
              "width": 0.5
             }
            },
            "type": "bar"
           }
          ],
          "barpolar": [
           {
            "marker": {
             "line": {
              "color": "#E5ECF6",
              "width": 0.5
             }
            },
            "type": "barpolar"
           }
          ],
          "carpet": [
           {
            "aaxis": {
             "endlinecolor": "#2a3f5f",
             "gridcolor": "white",
             "linecolor": "white",
             "minorgridcolor": "white",
             "startlinecolor": "#2a3f5f"
            },
            "baxis": {
             "endlinecolor": "#2a3f5f",
             "gridcolor": "white",
             "linecolor": "white",
             "minorgridcolor": "white",
             "startlinecolor": "#2a3f5f"
            },
            "type": "carpet"
           }
          ],
          "choropleth": [
           {
            "colorbar": {
             "outlinewidth": 0,
             "ticks": ""
            },
            "type": "choropleth"
           }
          ],
          "contour": [
           {
            "colorbar": {
             "outlinewidth": 0,
             "ticks": ""
            },
            "colorscale": [
             [
              0,
              "#0d0887"
             ],
             [
              0.1111111111111111,
              "#46039f"
             ],
             [
              0.2222222222222222,
              "#7201a8"
             ],
             [
              0.3333333333333333,
              "#9c179e"
             ],
             [
              0.4444444444444444,
              "#bd3786"
             ],
             [
              0.5555555555555556,
              "#d8576b"
             ],
             [
              0.6666666666666666,
              "#ed7953"
             ],
             [
              0.7777777777777778,
              "#fb9f3a"
             ],
             [
              0.8888888888888888,
              "#fdca26"
             ],
             [
              1,
              "#f0f921"
             ]
            ],
            "type": "contour"
           }
          ],
          "contourcarpet": [
           {
            "colorbar": {
             "outlinewidth": 0,
             "ticks": ""
            },
            "type": "contourcarpet"
           }
          ],
          "heatmap": [
           {
            "colorbar": {
             "outlinewidth": 0,
             "ticks": ""
            },
            "colorscale": [
             [
              0,
              "#0d0887"
             ],
             [
              0.1111111111111111,
              "#46039f"
             ],
             [
              0.2222222222222222,
              "#7201a8"
             ],
             [
              0.3333333333333333,
              "#9c179e"
             ],
             [
              0.4444444444444444,
              "#bd3786"
             ],
             [
              0.5555555555555556,
              "#d8576b"
             ],
             [
              0.6666666666666666,
              "#ed7953"
             ],
             [
              0.7777777777777778,
              "#fb9f3a"
             ],
             [
              0.8888888888888888,
              "#fdca26"
             ],
             [
              1,
              "#f0f921"
             ]
            ],
            "type": "heatmap"
           }
          ],
          "heatmapgl": [
           {
            "colorbar": {
             "outlinewidth": 0,
             "ticks": ""
            },
            "colorscale": [
             [
              0,
              "#0d0887"
             ],
             [
              0.1111111111111111,
              "#46039f"
             ],
             [
              0.2222222222222222,
              "#7201a8"
             ],
             [
              0.3333333333333333,
              "#9c179e"
             ],
             [
              0.4444444444444444,
              "#bd3786"
             ],
             [
              0.5555555555555556,
              "#d8576b"
             ],
             [
              0.6666666666666666,
              "#ed7953"
             ],
             [
              0.7777777777777778,
              "#fb9f3a"
             ],
             [
              0.8888888888888888,
              "#fdca26"
             ],
             [
              1,
              "#f0f921"
             ]
            ],
            "type": "heatmapgl"
           }
          ],
          "histogram": [
           {
            "marker": {
             "colorbar": {
              "outlinewidth": 0,
              "ticks": ""
             }
            },
            "type": "histogram"
           }
          ],
          "histogram2d": [
           {
            "colorbar": {
             "outlinewidth": 0,
             "ticks": ""
            },
            "colorscale": [
             [
              0,
              "#0d0887"
             ],
             [
              0.1111111111111111,
              "#46039f"
             ],
             [
              0.2222222222222222,
              "#7201a8"
             ],
             [
              0.3333333333333333,
              "#9c179e"
             ],
             [
              0.4444444444444444,
              "#bd3786"
             ],
             [
              0.5555555555555556,
              "#d8576b"
             ],
             [
              0.6666666666666666,
              "#ed7953"
             ],
             [
              0.7777777777777778,
              "#fb9f3a"
             ],
             [
              0.8888888888888888,
              "#fdca26"
             ],
             [
              1,
              "#f0f921"
             ]
            ],
            "type": "histogram2d"
           }
          ],
          "histogram2dcontour": [
           {
            "colorbar": {
             "outlinewidth": 0,
             "ticks": ""
            },
            "colorscale": [
             [
              0,
              "#0d0887"
             ],
             [
              0.1111111111111111,
              "#46039f"
             ],
             [
              0.2222222222222222,
              "#7201a8"
             ],
             [
              0.3333333333333333,
              "#9c179e"
             ],
             [
              0.4444444444444444,
              "#bd3786"
             ],
             [
              0.5555555555555556,
              "#d8576b"
             ],
             [
              0.6666666666666666,
              "#ed7953"
             ],
             [
              0.7777777777777778,
              "#fb9f3a"
             ],
             [
              0.8888888888888888,
              "#fdca26"
             ],
             [
              1,
              "#f0f921"
             ]
            ],
            "type": "histogram2dcontour"
           }
          ],
          "mesh3d": [
           {
            "colorbar": {
             "outlinewidth": 0,
             "ticks": ""
            },
            "type": "mesh3d"
           }
          ],
          "parcoords": [
           {
            "line": {
             "colorbar": {
              "outlinewidth": 0,
              "ticks": ""
             }
            },
            "type": "parcoords"
           }
          ],
          "pie": [
           {
            "automargin": true,
            "type": "pie"
           }
          ],
          "scatter": [
           {
            "marker": {
             "colorbar": {
              "outlinewidth": 0,
              "ticks": ""
             }
            },
            "type": "scatter"
           }
          ],
          "scatter3d": [
           {
            "line": {
             "colorbar": {
              "outlinewidth": 0,
              "ticks": ""
             }
            },
            "marker": {
             "colorbar": {
              "outlinewidth": 0,
              "ticks": ""
             }
            },
            "type": "scatter3d"
           }
          ],
          "scattercarpet": [
           {
            "marker": {
             "colorbar": {
              "outlinewidth": 0,
              "ticks": ""
             }
            },
            "type": "scattercarpet"
           }
          ],
          "scattergeo": [
           {
            "marker": {
             "colorbar": {
              "outlinewidth": 0,
              "ticks": ""
             }
            },
            "type": "scattergeo"
           }
          ],
          "scattergl": [
           {
            "marker": {
             "colorbar": {
              "outlinewidth": 0,
              "ticks": ""
             }
            },
            "type": "scattergl"
           }
          ],
          "scattermapbox": [
           {
            "marker": {
             "colorbar": {
              "outlinewidth": 0,
              "ticks": ""
             }
            },
            "type": "scattermapbox"
           }
          ],
          "scatterpolar": [
           {
            "marker": {
             "colorbar": {
              "outlinewidth": 0,
              "ticks": ""
             }
            },
            "type": "scatterpolar"
           }
          ],
          "scatterpolargl": [
           {
            "marker": {
             "colorbar": {
              "outlinewidth": 0,
              "ticks": ""
             }
            },
            "type": "scatterpolargl"
           }
          ],
          "scatterternary": [
           {
            "marker": {
             "colorbar": {
              "outlinewidth": 0,
              "ticks": ""
             }
            },
            "type": "scatterternary"
           }
          ],
          "surface": [
           {
            "colorbar": {
             "outlinewidth": 0,
             "ticks": ""
            },
            "colorscale": [
             [
              0,
              "#0d0887"
             ],
             [
              0.1111111111111111,
              "#46039f"
             ],
             [
              0.2222222222222222,
              "#7201a8"
             ],
             [
              0.3333333333333333,
              "#9c179e"
             ],
             [
              0.4444444444444444,
              "#bd3786"
             ],
             [
              0.5555555555555556,
              "#d8576b"
             ],
             [
              0.6666666666666666,
              "#ed7953"
             ],
             [
              0.7777777777777778,
              "#fb9f3a"
             ],
             [
              0.8888888888888888,
              "#fdca26"
             ],
             [
              1,
              "#f0f921"
             ]
            ],
            "type": "surface"
           }
          ],
          "table": [
           {
            "cells": {
             "fill": {
              "color": "#EBF0F8"
             },
             "line": {
              "color": "white"
             }
            },
            "header": {
             "fill": {
              "color": "#C8D4E3"
             },
             "line": {
              "color": "white"
             }
            },
            "type": "table"
           }
          ]
         },
         "layout": {
          "annotationdefaults": {
           "arrowcolor": "#2a3f5f",
           "arrowhead": 0,
           "arrowwidth": 1
          },
          "coloraxis": {
           "colorbar": {
            "outlinewidth": 0,
            "ticks": ""
           }
          },
          "colorscale": {
           "diverging": [
            [
             0,
             "#8e0152"
            ],
            [
             0.1,
             "#c51b7d"
            ],
            [
             0.2,
             "#de77ae"
            ],
            [
             0.3,
             "#f1b6da"
            ],
            [
             0.4,
             "#fde0ef"
            ],
            [
             0.5,
             "#f7f7f7"
            ],
            [
             0.6,
             "#e6f5d0"
            ],
            [
             0.7,
             "#b8e186"
            ],
            [
             0.8,
             "#7fbc41"
            ],
            [
             0.9,
             "#4d9221"
            ],
            [
             1,
             "#276419"
            ]
           ],
           "sequential": [
            [
             0,
             "#0d0887"
            ],
            [
             0.1111111111111111,
             "#46039f"
            ],
            [
             0.2222222222222222,
             "#7201a8"
            ],
            [
             0.3333333333333333,
             "#9c179e"
            ],
            [
             0.4444444444444444,
             "#bd3786"
            ],
            [
             0.5555555555555556,
             "#d8576b"
            ],
            [
             0.6666666666666666,
             "#ed7953"
            ],
            [
             0.7777777777777778,
             "#fb9f3a"
            ],
            [
             0.8888888888888888,
             "#fdca26"
            ],
            [
             1,
             "#f0f921"
            ]
           ],
           "sequentialminus": [
            [
             0,
             "#0d0887"
            ],
            [
             0.1111111111111111,
             "#46039f"
            ],
            [
             0.2222222222222222,
             "#7201a8"
            ],
            [
             0.3333333333333333,
             "#9c179e"
            ],
            [
             0.4444444444444444,
             "#bd3786"
            ],
            [
             0.5555555555555556,
             "#d8576b"
            ],
            [
             0.6666666666666666,
             "#ed7953"
            ],
            [
             0.7777777777777778,
             "#fb9f3a"
            ],
            [
             0.8888888888888888,
             "#fdca26"
            ],
            [
             1,
             "#f0f921"
            ]
           ]
          },
          "colorway": [
           "#636efa",
           "#EF553B",
           "#00cc96",
           "#ab63fa",
           "#FFA15A",
           "#19d3f3",
           "#FF6692",
           "#B6E880",
           "#FF97FF",
           "#FECB52"
          ],
          "font": {
           "color": "#2a3f5f"
          },
          "geo": {
           "bgcolor": "white",
           "lakecolor": "white",
           "landcolor": "#E5ECF6",
           "showlakes": true,
           "showland": true,
           "subunitcolor": "white"
          },
          "hoverlabel": {
           "align": "left"
          },
          "hovermode": "closest",
          "mapbox": {
           "style": "light"
          },
          "paper_bgcolor": "white",
          "plot_bgcolor": "#E5ECF6",
          "polar": {
           "angularaxis": {
            "gridcolor": "white",
            "linecolor": "white",
            "ticks": ""
           },
           "bgcolor": "#E5ECF6",
           "radialaxis": {
            "gridcolor": "white",
            "linecolor": "white",
            "ticks": ""
           }
          },
          "scene": {
           "xaxis": {
            "backgroundcolor": "#E5ECF6",
            "gridcolor": "white",
            "gridwidth": 2,
            "linecolor": "white",
            "showbackground": true,
            "ticks": "",
            "zerolinecolor": "white"
           },
           "yaxis": {
            "backgroundcolor": "#E5ECF6",
            "gridcolor": "white",
            "gridwidth": 2,
            "linecolor": "white",
            "showbackground": true,
            "ticks": "",
            "zerolinecolor": "white"
           },
           "zaxis": {
            "backgroundcolor": "#E5ECF6",
            "gridcolor": "white",
            "gridwidth": 2,
            "linecolor": "white",
            "showbackground": true,
            "ticks": "",
            "zerolinecolor": "white"
           }
          },
          "shapedefaults": {
           "line": {
            "color": "#2a3f5f"
           }
          },
          "ternary": {
           "aaxis": {
            "gridcolor": "white",
            "linecolor": "white",
            "ticks": ""
           },
           "baxis": {
            "gridcolor": "white",
            "linecolor": "white",
            "ticks": ""
           },
           "bgcolor": "#E5ECF6",
           "caxis": {
            "gridcolor": "white",
            "linecolor": "white",
            "ticks": ""
           }
          },
          "title": {
           "x": 0.05
          },
          "xaxis": {
           "automargin": true,
           "gridcolor": "white",
           "linecolor": "white",
           "ticks": "",
           "title": {
            "standoff": 15
           },
           "zerolinecolor": "white",
           "zerolinewidth": 2
          },
          "yaxis": {
           "automargin": true,
           "gridcolor": "white",
           "linecolor": "white",
           "ticks": "",
           "title": {
            "standoff": 15
           },
           "zerolinecolor": "white",
           "zerolinewidth": 2
          }
         }
        },
        "title": {
         "font": {
          "color": "#4D5663"
         }
        },
        "xaxis": {
         "gridcolor": "#E1E5ED",
         "showgrid": true,
         "tickfont": {
          "color": "#4D5663"
         },
         "title": {
          "font": {
           "color": "#4D5663"
          },
          "text": ""
         },
         "zerolinecolor": "#E1E5ED"
        },
        "yaxis": {
         "gridcolor": "#E1E5ED",
         "showgrid": true,
         "tickfont": {
          "color": "#4D5663"
         },
         "title": {
          "font": {
           "color": "#4D5663"
          },
          "text": ""
         },
         "zerolinecolor": "#E1E5ED"
        }
       }
      },
      "text/html": [
       "<div>\n",
       "        \n",
       "        \n",
       "            <div id=\"9dad75d4-b1a9-465a-89e9-956201e2b660\" class=\"plotly-graph-div\" style=\"height:525px; width:100%;\"></div>\n",
       "            <script type=\"text/javascript\">\n",
       "                require([\"plotly\"], function(Plotly) {\n",
       "                    window.PLOTLYENV=window.PLOTLYENV || {};\n",
       "                    window.PLOTLYENV.BASE_URL='https://plot.ly';\n",
       "                    \n",
       "                if (document.getElementById(\"9dad75d4-b1a9-465a-89e9-956201e2b660\")) {\n",
       "                    Plotly.newPlot(\n",
       "                        '9dad75d4-b1a9-465a-89e9-956201e2b660',\n",
       "                        [{\"boxpoints\": false, \"line\": {\"width\": 1.3}, \"marker\": {\"color\": \"rgba(255, 153, 51, 1.0)\"}, \"name\": \"A\", \"orientation\": \"v\", \"type\": \"box\", \"y\": [-2.19517732281781, 0.41297071995567625, 0.5238259134616036, 2.321660493048887, -1.7918868447130059, -1.4003185528924975, -1.7297604866535865, -0.44388711000201464, -0.5052550235591972, -0.20154762526484626, -0.08352134157213167, -0.6855060781663106, 1.0887687415999572, 0.2855894125108078, 0.7980404615235451, -1.0339660491462646, 0.552988758119476, -0.011700097264279497, 0.021437589270594415, -0.08236305549690165, 0.5291996261975528, 0.6551868758377841, -1.4859686060330128, -1.9244490589884782, 0.8448386798137778, 0.375889652742352, 0.6713684703182022, 0.5292666392387347, -1.8438289583630185, 0.558440068266143, -0.6563135402637561, -1.6316467385018294, -0.39836303303761095, 0.0691617062364122, 0.1353258261082668, 0.7185436507289951, 1.553925211212386, -0.5714655522307664, 1.4904875406858629, 0.6217440104496987, 0.7865768608697654, 0.7378588602432641, -0.8985395833921609, 0.6397978501868015, -0.2631592379934458, -0.18465379229969653, -1.766855324557164, 0.12173746345167527, -0.743605387049839, 0.784334833739347, 0.3917372705482704, -0.5909559239175638, -0.40630782754950207, -0.9881423673945723, -1.4597607300847637, 0.3023562251048793, -0.1954609877017618, 1.8127924584945665, -0.438196644574794, 0.9922522061400024, -0.859983652215299, 0.4246206377667659, 1.2931457895853469, -0.3197471206910602, -0.29015708985798294, -2.4200083935552144, -0.5531573484596305, 0.9919788860691116, -0.10068870784096433, 0.013473054882340725, 0.8870424485265856, -1.52983366553648, 0.8145957073039255, -0.81898061248173, -0.9098258908774242, -1.3752270874209238, 1.3669607304331788, -0.040484151685499445, -1.1206413918176934, 0.4768318852770323, -0.3417763069099912, -1.408962249978248, -1.5951427299765275, 1.2197177433735997, 0.5445789312288598, 0.6313147555355381, 0.32000780366272574, -0.8704515879612656, -0.627920771771115, 0.8440369058295358, -1.2010314467224608, 0.10303101875969292, 1.7119342867501717, 1.345218350267589, 1.8895042692650679, 0.5245714274017701, -0.010284788799988025, 1.4983859268949218, 0.6627916098655476, -0.9058275513453036]}, {\"boxpoints\": false, \"line\": {\"width\": 1.3}, \"marker\": {\"color\": \"rgba(55, 128, 191, 1.0)\"}, \"name\": \"B\", \"orientation\": \"v\", \"type\": \"box\", \"y\": [-0.2551109513862989, -1.5127464737870182, 0.3758014389849401, 1.8857727661935286, 1.662544285322015, -1.2664294656572934, -1.5174696024398788, 0.5852178156544476, 0.6965117049576418, -1.1279399272931596, -0.6863623724755933, -1.1044899382302837, 0.07098359754755064, 1.2151791713518312, 0.2203176108637594, 2.6295732761898005, 0.6798859657591843, 0.986074789157596, -1.2317801711589613, -0.7665611492450716, -0.022858667742858704, -0.6294825856993135, 1.6306391943001899, 1.6995515594849566, -0.5905495429530158, 0.47793027697582735, -0.44609211623245887, 1.7576040287335875, -1.0923347767002078, -1.8993634237607036, 0.5844253290883914, -0.04822525857137415, 0.3463651631429565, 0.40013204209307585, 0.22836136631949458, 0.5377706594361823, -0.046788587259596004, -2.5718183127194134, -0.15116176468220824, -0.21953364549617513, -0.3325484225048974, -1.8096452038883564, 0.7289382006548182, -0.09439706742108991, 0.012540101956239863, -0.48136707668519524, 1.1582886336009641, -0.4248727474952323, 0.40709870307468116, 1.0717332510596662, 0.458827727449291, 0.9438296370958118, 1.4303013514646175, -0.403906433119754, 0.7027145404728263, 0.5103829539116806, -0.8123969957649172, 0.3383761382920852, -1.171096152810323, 0.46599418331537706, 0.47419707617009593, -2.56535748723371, -0.06782037218279009, -0.9328199422531491, 0.08936881595781979, 1.105071798487719, 1.292664158575097, -2.6250692746878195, -0.45631212365946394, 1.018318165064855, -1.2526436138204882, -0.17168542970891618, -0.4699345868151425, 0.38738762957994255, -1.5998498437689137, 0.7609470697567795, -0.2616975602236235, 0.08826540754723577, 0.2378673846850535, 0.32753070517438304, -0.6997696295911957, -0.9027758435345248, -0.07465487316390441, -2.4577222932537945, 0.3340426817758278, 0.6960081666749737, -0.26319239683785034, -0.9980782560498498, -0.12339060576071016, -0.17112287315675134, 0.6429944355509232, 0.9524051082923007, -1.323623217934063, 0.23723427993329563, 0.09923915891778237, 0.05748639326282414, -0.8615285511403645, 0.5099022980535224, -0.29916479814974173, -0.3551225033150403]}, {\"boxpoints\": false, \"line\": {\"width\": 1.3}, \"marker\": {\"color\": \"rgba(50, 171, 96, 1.0)\"}, \"name\": \"C\", \"orientation\": \"v\", \"type\": \"box\", \"y\": [-1.0788971856936262, -1.2567580655429562, 2.306905757660575, 1.4597194024759284, 0.08993898843896211, 0.99660105806891, -0.9019836835408349, 0.859353588311807, 0.71725570181717, 0.08380403413390386, 0.44119082233712265, 0.1438418816097869, -1.247558375257457, -1.1442716126240062, -1.2617825554963564, -0.19087872415173907, 0.4341101082887723, -1.1287682521621962, -1.3602623536692164, 1.05375491177541, 1.8209709905919105, 0.1817511218888976, 0.22467287735670233, 1.6875574908256463, 0.007166511506410807, -0.0050954727207124266, -0.7423566678317753, -0.40653941438145946, -0.0068370559735675875, -0.3841329768242768, -1.2524535142745092, -1.906151255377356, -0.1763321051587015, -0.5836410168125651, 0.5518374528931556, 1.4519255221120164, 1.3643118237082614, -0.9979487982713429, -0.3645103593299708, -1.0174748573809365, 0.8031952687280782, -1.3162986958711003, -1.9874803671405927, -0.40994448299083536, -0.657621109199126, -0.2441861701805242, -0.48494070247939963, -1.3795160568953664, -0.07059090968345638, -0.37464040312293606, 0.6800215471504433, -0.6873726058624622, -1.241770993437353, 0.05758086179807762, -0.5403668486477343, -1.3125466743292626, 0.43703161569946325, 0.4770647673840944, 0.013742174347041376, 0.9442069570899385, 0.1528210048976337, 0.25608505426833694, 1.272652337867402, 1.161795856037412, 0.5306960137695097, 0.30294924805684886, -0.011718203774587013, 1.3751187811239185, -0.36030546879938913, -0.707594027756117, 0.7255443632944976, 0.6789982136122885, -0.9699242148957096, 0.2778188395179725, -1.455676810569012, 1.0279156175778397, -1.3393970564477102, -0.4543107025528251, -0.5360591728383689, 1.0873434219180473, 0.5713322131613005, 0.5487943256282278, -0.5305824692030522, -0.8525390393332022, 0.5113519006178853, 0.5645692944823126, 0.4296716748425944, -0.38857668370552584, 0.8334927023304188, -0.17060926894242331, -0.29196042928222776, -1.4665800633973136, -0.4741414933070715, -0.07649969481687253, -0.5776916122635324, 1.2800821684834214, 2.1878392758982, 0.9093467140440413, -0.7577571032797649, 1.5706481783964563]}, {\"boxpoints\": false, \"line\": {\"width\": 1.3}, \"marker\": {\"color\": \"rgba(128, 0, 128, 1.0)\"}, \"name\": \"D\", \"orientation\": \"v\", \"type\": \"box\", \"y\": [-0.5590574727429467, -0.9652481973032375, -1.3906244582999019, -0.08687000251376722, 0.1545456412609485, 1.4654554026194144, 1.7355261517364142, 3.0866410008314973, 1.007893155993295, -0.0878959082604831, 1.284467497652036, -0.9963807409741994, 0.036263894100578384, 0.40023408716768255, -1.0246299571488198, 2.28250247935137, -0.7013000342685121, -1.6206655240217647, 1.4112203997059312, 1.4373198921923294, -0.505991052532302, 0.6779142603868307, -0.22510867140490098, 0.8545883499934318, -1.4544427386993073, -0.9789075394224392, -0.9837519315782766, 0.3885380832764085, -0.28032248335972537, 0.7923336903765062, 1.2075302537726125, -1.2176544591767497, 0.0738198563533884, 1.0064142879632798, -0.7706316917192473, 0.4289913981974971, 1.9084145086201643, -0.759623916011402, -0.7425070412671436, 0.06277473045695621, -1.3580505718528622, 0.10196013029678108, -0.5409824517556163, 0.8786075417899561, -1.9178121656516358, -0.7370282624161755, -0.4237867494075362, 1.9636892356315543, 0.10401022158456855, -0.7365675799373227, -0.005439127042603156, -0.2933454827501467, 1.4954542624775675, 0.55802181627489, -0.6593403254748437, 0.1988383461089805, 1.964963411148573, 1.3581791479795247, 0.19833831351646278, -1.163290788844608, 0.9132583074449778, 1.1638660403619159, 0.1982468492296855, -0.29347819983700696, -1.1289900244318574, 1.6786268584259554, 0.6752784131011865, 0.28964405270534455, -1.7028904293033216, -0.3248457754664075, -0.044838207779540167, 1.5281073134205174, -2.198051848748937, 0.5219157564655361, 0.13305749611839168, 0.6697046858131003, 2.0783492112196598, 0.9929109397786321, 0.16938681646939813, 1.6124829761303008, 1.1945936974657962, 0.6407065679370807, 1.077282719175627, -0.031450677049946675, 1.721291153338183, -0.4883675671054236, -1.0751416403037444, -1.6437040422288198, -1.4805590800596549, -0.4327787443054158, 1.4504884399154043, 1.1293919825784633, -0.5720607111027293, -0.9108482132400754, 0.15808052374103915, 0.3987311937942134, -1.0799529107118289, -0.5951021534896669, -0.5904923295274668, -0.5697651843320882]}],\n",
       "                        {\"legend\": {\"bgcolor\": \"#F5F6F9\", \"font\": {\"color\": \"#4D5663\"}}, \"paper_bgcolor\": \"#F5F6F9\", \"plot_bgcolor\": \"#F5F6F9\", \"template\": {\"data\": {\"bar\": [{\"error_x\": {\"color\": \"#2a3f5f\"}, \"error_y\": {\"color\": \"#2a3f5f\"}, \"marker\": {\"line\": {\"color\": \"#E5ECF6\", \"width\": 0.5}}, \"type\": \"bar\"}], \"barpolar\": [{\"marker\": {\"line\": {\"color\": \"#E5ECF6\", \"width\": 0.5}}, \"type\": \"barpolar\"}], \"carpet\": [{\"aaxis\": {\"endlinecolor\": \"#2a3f5f\", \"gridcolor\": \"white\", \"linecolor\": \"white\", \"minorgridcolor\": \"white\", \"startlinecolor\": \"#2a3f5f\"}, \"baxis\": {\"endlinecolor\": \"#2a3f5f\", \"gridcolor\": \"white\", \"linecolor\": \"white\", \"minorgridcolor\": \"white\", \"startlinecolor\": \"#2a3f5f\"}, \"type\": \"carpet\"}], \"choropleth\": [{\"colorbar\": {\"outlinewidth\": 0, \"ticks\": \"\"}, \"type\": \"choropleth\"}], \"contour\": [{\"colorbar\": {\"outlinewidth\": 0, \"ticks\": \"\"}, \"colorscale\": [[0.0, \"#0d0887\"], [0.1111111111111111, \"#46039f\"], [0.2222222222222222, \"#7201a8\"], [0.3333333333333333, \"#9c179e\"], [0.4444444444444444, \"#bd3786\"], [0.5555555555555556, \"#d8576b\"], [0.6666666666666666, \"#ed7953\"], [0.7777777777777778, \"#fb9f3a\"], [0.8888888888888888, \"#fdca26\"], [1.0, \"#f0f921\"]], \"type\": \"contour\"}], \"contourcarpet\": [{\"colorbar\": {\"outlinewidth\": 0, \"ticks\": \"\"}, \"type\": \"contourcarpet\"}], \"heatmap\": [{\"colorbar\": {\"outlinewidth\": 0, \"ticks\": \"\"}, \"colorscale\": [[0.0, \"#0d0887\"], [0.1111111111111111, \"#46039f\"], [0.2222222222222222, \"#7201a8\"], [0.3333333333333333, \"#9c179e\"], [0.4444444444444444, \"#bd3786\"], [0.5555555555555556, \"#d8576b\"], [0.6666666666666666, \"#ed7953\"], [0.7777777777777778, \"#fb9f3a\"], [0.8888888888888888, \"#fdca26\"], [1.0, \"#f0f921\"]], \"type\": \"heatmap\"}], \"heatmapgl\": [{\"colorbar\": {\"outlinewidth\": 0, \"ticks\": \"\"}, \"colorscale\": [[0.0, \"#0d0887\"], [0.1111111111111111, \"#46039f\"], [0.2222222222222222, \"#7201a8\"], [0.3333333333333333, \"#9c179e\"], [0.4444444444444444, \"#bd3786\"], [0.5555555555555556, \"#d8576b\"], [0.6666666666666666, \"#ed7953\"], [0.7777777777777778, \"#fb9f3a\"], [0.8888888888888888, \"#fdca26\"], [1.0, \"#f0f921\"]], \"type\": \"heatmapgl\"}], \"histogram\": [{\"marker\": {\"colorbar\": {\"outlinewidth\": 0, \"ticks\": \"\"}}, \"type\": \"histogram\"}], \"histogram2d\": [{\"colorbar\": {\"outlinewidth\": 0, \"ticks\": \"\"}, \"colorscale\": [[0.0, \"#0d0887\"], [0.1111111111111111, \"#46039f\"], [0.2222222222222222, \"#7201a8\"], [0.3333333333333333, \"#9c179e\"], [0.4444444444444444, \"#bd3786\"], [0.5555555555555556, \"#d8576b\"], [0.6666666666666666, \"#ed7953\"], [0.7777777777777778, \"#fb9f3a\"], [0.8888888888888888, \"#fdca26\"], [1.0, \"#f0f921\"]], \"type\": \"histogram2d\"}], \"histogram2dcontour\": [{\"colorbar\": {\"outlinewidth\": 0, \"ticks\": \"\"}, \"colorscale\": [[0.0, \"#0d0887\"], [0.1111111111111111, \"#46039f\"], [0.2222222222222222, \"#7201a8\"], [0.3333333333333333, \"#9c179e\"], [0.4444444444444444, \"#bd3786\"], [0.5555555555555556, \"#d8576b\"], [0.6666666666666666, \"#ed7953\"], [0.7777777777777778, \"#fb9f3a\"], [0.8888888888888888, \"#fdca26\"], [1.0, \"#f0f921\"]], \"type\": \"histogram2dcontour\"}], \"mesh3d\": [{\"colorbar\": {\"outlinewidth\": 0, \"ticks\": \"\"}, \"type\": \"mesh3d\"}], \"parcoords\": [{\"line\": {\"colorbar\": {\"outlinewidth\": 0, \"ticks\": \"\"}}, \"type\": \"parcoords\"}], \"pie\": [{\"automargin\": true, \"type\": \"pie\"}], \"scatter\": [{\"marker\": {\"colorbar\": {\"outlinewidth\": 0, \"ticks\": \"\"}}, \"type\": \"scatter\"}], \"scatter3d\": [{\"line\": {\"colorbar\": {\"outlinewidth\": 0, \"ticks\": \"\"}}, \"marker\": {\"colorbar\": {\"outlinewidth\": 0, \"ticks\": \"\"}}, \"type\": \"scatter3d\"}], \"scattercarpet\": [{\"marker\": {\"colorbar\": {\"outlinewidth\": 0, \"ticks\": \"\"}}, \"type\": \"scattercarpet\"}], \"scattergeo\": [{\"marker\": {\"colorbar\": {\"outlinewidth\": 0, \"ticks\": \"\"}}, \"type\": \"scattergeo\"}], \"scattergl\": [{\"marker\": {\"colorbar\": {\"outlinewidth\": 0, \"ticks\": \"\"}}, \"type\": \"scattergl\"}], \"scattermapbox\": [{\"marker\": {\"colorbar\": {\"outlinewidth\": 0, \"ticks\": \"\"}}, \"type\": \"scattermapbox\"}], \"scatterpolar\": [{\"marker\": {\"colorbar\": {\"outlinewidth\": 0, \"ticks\": \"\"}}, \"type\": \"scatterpolar\"}], \"scatterpolargl\": [{\"marker\": {\"colorbar\": {\"outlinewidth\": 0, \"ticks\": \"\"}}, \"type\": \"scatterpolargl\"}], \"scatterternary\": [{\"marker\": {\"colorbar\": {\"outlinewidth\": 0, \"ticks\": \"\"}}, \"type\": \"scatterternary\"}], \"surface\": [{\"colorbar\": {\"outlinewidth\": 0, \"ticks\": \"\"}, \"colorscale\": [[0.0, \"#0d0887\"], [0.1111111111111111, \"#46039f\"], [0.2222222222222222, \"#7201a8\"], [0.3333333333333333, \"#9c179e\"], [0.4444444444444444, \"#bd3786\"], [0.5555555555555556, \"#d8576b\"], [0.6666666666666666, \"#ed7953\"], [0.7777777777777778, \"#fb9f3a\"], [0.8888888888888888, \"#fdca26\"], [1.0, \"#f0f921\"]], \"type\": \"surface\"}], \"table\": [{\"cells\": {\"fill\": {\"color\": \"#EBF0F8\"}, \"line\": {\"color\": \"white\"}}, \"header\": {\"fill\": {\"color\": \"#C8D4E3\"}, \"line\": {\"color\": \"white\"}}, \"type\": \"table\"}]}, \"layout\": {\"annotationdefaults\": {\"arrowcolor\": \"#2a3f5f\", \"arrowhead\": 0, \"arrowwidth\": 1}, \"coloraxis\": {\"colorbar\": {\"outlinewidth\": 0, \"ticks\": \"\"}}, \"colorscale\": {\"diverging\": [[0, \"#8e0152\"], [0.1, \"#c51b7d\"], [0.2, \"#de77ae\"], [0.3, \"#f1b6da\"], [0.4, \"#fde0ef\"], [0.5, \"#f7f7f7\"], [0.6, \"#e6f5d0\"], [0.7, \"#b8e186\"], [0.8, \"#7fbc41\"], [0.9, \"#4d9221\"], [1, \"#276419\"]], \"sequential\": [[0.0, \"#0d0887\"], [0.1111111111111111, \"#46039f\"], [0.2222222222222222, \"#7201a8\"], [0.3333333333333333, \"#9c179e\"], [0.4444444444444444, \"#bd3786\"], [0.5555555555555556, \"#d8576b\"], [0.6666666666666666, \"#ed7953\"], [0.7777777777777778, \"#fb9f3a\"], [0.8888888888888888, \"#fdca26\"], [1.0, \"#f0f921\"]], \"sequentialminus\": [[0.0, \"#0d0887\"], [0.1111111111111111, \"#46039f\"], [0.2222222222222222, \"#7201a8\"], [0.3333333333333333, \"#9c179e\"], [0.4444444444444444, \"#bd3786\"], [0.5555555555555556, \"#d8576b\"], [0.6666666666666666, \"#ed7953\"], [0.7777777777777778, \"#fb9f3a\"], [0.8888888888888888, \"#fdca26\"], [1.0, \"#f0f921\"]]}, \"colorway\": [\"#636efa\", \"#EF553B\", \"#00cc96\", \"#ab63fa\", \"#FFA15A\", \"#19d3f3\", \"#FF6692\", \"#B6E880\", \"#FF97FF\", \"#FECB52\"], \"font\": {\"color\": \"#2a3f5f\"}, \"geo\": {\"bgcolor\": \"white\", \"lakecolor\": \"white\", \"landcolor\": \"#E5ECF6\", \"showlakes\": true, \"showland\": true, \"subunitcolor\": \"white\"}, \"hoverlabel\": {\"align\": \"left\"}, \"hovermode\": \"closest\", \"mapbox\": {\"style\": \"light\"}, \"paper_bgcolor\": \"white\", \"plot_bgcolor\": \"#E5ECF6\", \"polar\": {\"angularaxis\": {\"gridcolor\": \"white\", \"linecolor\": \"white\", \"ticks\": \"\"}, \"bgcolor\": \"#E5ECF6\", \"radialaxis\": {\"gridcolor\": \"white\", \"linecolor\": \"white\", \"ticks\": \"\"}}, \"scene\": {\"xaxis\": {\"backgroundcolor\": \"#E5ECF6\", \"gridcolor\": \"white\", \"gridwidth\": 2, \"linecolor\": \"white\", \"showbackground\": true, \"ticks\": \"\", \"zerolinecolor\": \"white\"}, \"yaxis\": {\"backgroundcolor\": \"#E5ECF6\", \"gridcolor\": \"white\", \"gridwidth\": 2, \"linecolor\": \"white\", \"showbackground\": true, \"ticks\": \"\", \"zerolinecolor\": \"white\"}, \"zaxis\": {\"backgroundcolor\": \"#E5ECF6\", \"gridcolor\": \"white\", \"gridwidth\": 2, \"linecolor\": \"white\", \"showbackground\": true, \"ticks\": \"\", \"zerolinecolor\": \"white\"}}, \"shapedefaults\": {\"line\": {\"color\": \"#2a3f5f\"}}, \"ternary\": {\"aaxis\": {\"gridcolor\": \"white\", \"linecolor\": \"white\", \"ticks\": \"\"}, \"baxis\": {\"gridcolor\": \"white\", \"linecolor\": \"white\", \"ticks\": \"\"}, \"bgcolor\": \"#E5ECF6\", \"caxis\": {\"gridcolor\": \"white\", \"linecolor\": \"white\", \"ticks\": \"\"}}, \"title\": {\"x\": 0.05}, \"xaxis\": {\"automargin\": true, \"gridcolor\": \"white\", \"linecolor\": \"white\", \"ticks\": \"\", \"title\": {\"standoff\": 15}, \"zerolinecolor\": \"white\", \"zerolinewidth\": 2}, \"yaxis\": {\"automargin\": true, \"gridcolor\": \"white\", \"linecolor\": \"white\", \"ticks\": \"\", \"title\": {\"standoff\": 15}, \"zerolinecolor\": \"white\", \"zerolinewidth\": 2}}}, \"title\": {\"font\": {\"color\": \"#4D5663\"}}, \"xaxis\": {\"gridcolor\": \"#E1E5ED\", \"showgrid\": true, \"tickfont\": {\"color\": \"#4D5663\"}, \"title\": {\"font\": {\"color\": \"#4D5663\"}, \"text\": \"\"}, \"zerolinecolor\": \"#E1E5ED\"}, \"yaxis\": {\"gridcolor\": \"#E1E5ED\", \"showgrid\": true, \"tickfont\": {\"color\": \"#4D5663\"}, \"title\": {\"font\": {\"color\": \"#4D5663\"}, \"text\": \"\"}, \"zerolinecolor\": \"#E1E5ED\"}},\n",
       "                        {\"showLink\": true, \"linkText\": \"Export to plot.ly\", \"plotlyServerURL\": \"https://plot.ly\", \"responsive\": true}\n",
       "                    ).then(function(){\n",
       "                            \n",
       "var gd = document.getElementById('9dad75d4-b1a9-465a-89e9-956201e2b660');\n",
       "var x = new MutationObserver(function (mutations, observer) {{\n",
       "        var display = window.getComputedStyle(gd).display;\n",
       "        if (!display || display === 'none') {{\n",
       "            console.log([gd, 'removed!']);\n",
       "            Plotly.purge(gd);\n",
       "            observer.disconnect();\n",
       "        }}\n",
       "}});\n",
       "\n",
       "// Listen for the removal of the full notebook cells\n",
       "var notebookContainer = gd.closest('#notebook-container');\n",
       "if (notebookContainer) {{\n",
       "    x.observe(notebookContainer, {childList: true});\n",
       "}}\n",
       "\n",
       "// Listen for the clearing of the current output cell\n",
       "var outputEl = gd.closest('.output');\n",
       "if (outputEl) {{\n",
       "    x.observe(outputEl, {childList: true});\n",
       "}}\n",
       "\n",
       "                        })\n",
       "                };\n",
       "                });\n",
       "            </script>\n",
       "        </div>"
      ]
     },
     "metadata": {},
     "output_type": "display_data"
    }
   ],
   "source": [
    "df.iplot(kind='box')"
   ]
  },
  {
   "cell_type": "markdown",
   "metadata": {},
   "source": [
    "## 3d surface plot"
   ]
  },
  {
   "cell_type": "code",
   "execution_count": 15,
   "metadata": {},
   "outputs": [
    {
     "data": {
      "application/vnd.plotly.v1+json": {
       "config": {
        "linkText": "Export to plot.ly",
        "plotlyServerURL": "https://plot.ly",
        "showLink": true
       },
       "data": [
        {
         "colorscale": [
          [
           0,
           "rgb(165,0,38)"
          ],
          [
           0.1,
           "rgb(215,48,39)"
          ],
          [
           0.2,
           "rgb(244,109,67)"
          ],
          [
           0.3,
           "rgb(253,174,97)"
          ],
          [
           0.4,
           "rgb(254,224,144)"
          ],
          [
           0.5,
           "rgb(255,255,191)"
          ],
          [
           0.6,
           "rgb(224,243,248)"
          ],
          [
           0.7,
           "rgb(171,217,233)"
          ],
          [
           0.8,
           "rgb(116,173,209)"
          ],
          [
           0.9,
           "rgb(69,117,180)"
          ],
          [
           1,
           "rgb(49,54,149)"
          ]
         ],
         "type": "surface",
         "x": [
          0,
          1,
          2,
          3,
          4
         ],
         "y": [
          "x",
          "y",
          "z"
         ],
         "z": [
          [
           1,
           2,
           3,
           4,
           5
          ],
          [
           10,
           20,
           30,
           20,
           10
          ],
          [
           5,
           4,
           3,
           2,
           1
          ]
         ]
        }
       ],
       "layout": {
        "legend": {
         "bgcolor": "#F5F6F9",
         "font": {
          "color": "#4D5663"
         }
        },
        "paper_bgcolor": "#F5F6F9",
        "plot_bgcolor": "#F5F6F9",
        "template": {
         "data": {
          "bar": [
           {
            "error_x": {
             "color": "#2a3f5f"
            },
            "error_y": {
             "color": "#2a3f5f"
            },
            "marker": {
             "line": {
              "color": "#E5ECF6",
              "width": 0.5
             }
            },
            "type": "bar"
           }
          ],
          "barpolar": [
           {
            "marker": {
             "line": {
              "color": "#E5ECF6",
              "width": 0.5
             }
            },
            "type": "barpolar"
           }
          ],
          "carpet": [
           {
            "aaxis": {
             "endlinecolor": "#2a3f5f",
             "gridcolor": "white",
             "linecolor": "white",
             "minorgridcolor": "white",
             "startlinecolor": "#2a3f5f"
            },
            "baxis": {
             "endlinecolor": "#2a3f5f",
             "gridcolor": "white",
             "linecolor": "white",
             "minorgridcolor": "white",
             "startlinecolor": "#2a3f5f"
            },
            "type": "carpet"
           }
          ],
          "choropleth": [
           {
            "colorbar": {
             "outlinewidth": 0,
             "ticks": ""
            },
            "type": "choropleth"
           }
          ],
          "contour": [
           {
            "colorbar": {
             "outlinewidth": 0,
             "ticks": ""
            },
            "colorscale": [
             [
              0,
              "#0d0887"
             ],
             [
              0.1111111111111111,
              "#46039f"
             ],
             [
              0.2222222222222222,
              "#7201a8"
             ],
             [
              0.3333333333333333,
              "#9c179e"
             ],
             [
              0.4444444444444444,
              "#bd3786"
             ],
             [
              0.5555555555555556,
              "#d8576b"
             ],
             [
              0.6666666666666666,
              "#ed7953"
             ],
             [
              0.7777777777777778,
              "#fb9f3a"
             ],
             [
              0.8888888888888888,
              "#fdca26"
             ],
             [
              1,
              "#f0f921"
             ]
            ],
            "type": "contour"
           }
          ],
          "contourcarpet": [
           {
            "colorbar": {
             "outlinewidth": 0,
             "ticks": ""
            },
            "type": "contourcarpet"
           }
          ],
          "heatmap": [
           {
            "colorbar": {
             "outlinewidth": 0,
             "ticks": ""
            },
            "colorscale": [
             [
              0,
              "#0d0887"
             ],
             [
              0.1111111111111111,
              "#46039f"
             ],
             [
              0.2222222222222222,
              "#7201a8"
             ],
             [
              0.3333333333333333,
              "#9c179e"
             ],
             [
              0.4444444444444444,
              "#bd3786"
             ],
             [
              0.5555555555555556,
              "#d8576b"
             ],
             [
              0.6666666666666666,
              "#ed7953"
             ],
             [
              0.7777777777777778,
              "#fb9f3a"
             ],
             [
              0.8888888888888888,
              "#fdca26"
             ],
             [
              1,
              "#f0f921"
             ]
            ],
            "type": "heatmap"
           }
          ],
          "heatmapgl": [
           {
            "colorbar": {
             "outlinewidth": 0,
             "ticks": ""
            },
            "colorscale": [
             [
              0,
              "#0d0887"
             ],
             [
              0.1111111111111111,
              "#46039f"
             ],
             [
              0.2222222222222222,
              "#7201a8"
             ],
             [
              0.3333333333333333,
              "#9c179e"
             ],
             [
              0.4444444444444444,
              "#bd3786"
             ],
             [
              0.5555555555555556,
              "#d8576b"
             ],
             [
              0.6666666666666666,
              "#ed7953"
             ],
             [
              0.7777777777777778,
              "#fb9f3a"
             ],
             [
              0.8888888888888888,
              "#fdca26"
             ],
             [
              1,
              "#f0f921"
             ]
            ],
            "type": "heatmapgl"
           }
          ],
          "histogram": [
           {
            "marker": {
             "colorbar": {
              "outlinewidth": 0,
              "ticks": ""
             }
            },
            "type": "histogram"
           }
          ],
          "histogram2d": [
           {
            "colorbar": {
             "outlinewidth": 0,
             "ticks": ""
            },
            "colorscale": [
             [
              0,
              "#0d0887"
             ],
             [
              0.1111111111111111,
              "#46039f"
             ],
             [
              0.2222222222222222,
              "#7201a8"
             ],
             [
              0.3333333333333333,
              "#9c179e"
             ],
             [
              0.4444444444444444,
              "#bd3786"
             ],
             [
              0.5555555555555556,
              "#d8576b"
             ],
             [
              0.6666666666666666,
              "#ed7953"
             ],
             [
              0.7777777777777778,
              "#fb9f3a"
             ],
             [
              0.8888888888888888,
              "#fdca26"
             ],
             [
              1,
              "#f0f921"
             ]
            ],
            "type": "histogram2d"
           }
          ],
          "histogram2dcontour": [
           {
            "colorbar": {
             "outlinewidth": 0,
             "ticks": ""
            },
            "colorscale": [
             [
              0,
              "#0d0887"
             ],
             [
              0.1111111111111111,
              "#46039f"
             ],
             [
              0.2222222222222222,
              "#7201a8"
             ],
             [
              0.3333333333333333,
              "#9c179e"
             ],
             [
              0.4444444444444444,
              "#bd3786"
             ],
             [
              0.5555555555555556,
              "#d8576b"
             ],
             [
              0.6666666666666666,
              "#ed7953"
             ],
             [
              0.7777777777777778,
              "#fb9f3a"
             ],
             [
              0.8888888888888888,
              "#fdca26"
             ],
             [
              1,
              "#f0f921"
             ]
            ],
            "type": "histogram2dcontour"
           }
          ],
          "mesh3d": [
           {
            "colorbar": {
             "outlinewidth": 0,
             "ticks": ""
            },
            "type": "mesh3d"
           }
          ],
          "parcoords": [
           {
            "line": {
             "colorbar": {
              "outlinewidth": 0,
              "ticks": ""
             }
            },
            "type": "parcoords"
           }
          ],
          "pie": [
           {
            "automargin": true,
            "type": "pie"
           }
          ],
          "scatter": [
           {
            "marker": {
             "colorbar": {
              "outlinewidth": 0,
              "ticks": ""
             }
            },
            "type": "scatter"
           }
          ],
          "scatter3d": [
           {
            "line": {
             "colorbar": {
              "outlinewidth": 0,
              "ticks": ""
             }
            },
            "marker": {
             "colorbar": {
              "outlinewidth": 0,
              "ticks": ""
             }
            },
            "type": "scatter3d"
           }
          ],
          "scattercarpet": [
           {
            "marker": {
             "colorbar": {
              "outlinewidth": 0,
              "ticks": ""
             }
            },
            "type": "scattercarpet"
           }
          ],
          "scattergeo": [
           {
            "marker": {
             "colorbar": {
              "outlinewidth": 0,
              "ticks": ""
             }
            },
            "type": "scattergeo"
           }
          ],
          "scattergl": [
           {
            "marker": {
             "colorbar": {
              "outlinewidth": 0,
              "ticks": ""
             }
            },
            "type": "scattergl"
           }
          ],
          "scattermapbox": [
           {
            "marker": {
             "colorbar": {
              "outlinewidth": 0,
              "ticks": ""
             }
            },
            "type": "scattermapbox"
           }
          ],
          "scatterpolar": [
           {
            "marker": {
             "colorbar": {
              "outlinewidth": 0,
              "ticks": ""
             }
            },
            "type": "scatterpolar"
           }
          ],
          "scatterpolargl": [
           {
            "marker": {
             "colorbar": {
              "outlinewidth": 0,
              "ticks": ""
             }
            },
            "type": "scatterpolargl"
           }
          ],
          "scatterternary": [
           {
            "marker": {
             "colorbar": {
              "outlinewidth": 0,
              "ticks": ""
             }
            },
            "type": "scatterternary"
           }
          ],
          "surface": [
           {
            "colorbar": {
             "outlinewidth": 0,
             "ticks": ""
            },
            "colorscale": [
             [
              0,
              "#0d0887"
             ],
             [
              0.1111111111111111,
              "#46039f"
             ],
             [
              0.2222222222222222,
              "#7201a8"
             ],
             [
              0.3333333333333333,
              "#9c179e"
             ],
             [
              0.4444444444444444,
              "#bd3786"
             ],
             [
              0.5555555555555556,
              "#d8576b"
             ],
             [
              0.6666666666666666,
              "#ed7953"
             ],
             [
              0.7777777777777778,
              "#fb9f3a"
             ],
             [
              0.8888888888888888,
              "#fdca26"
             ],
             [
              1,
              "#f0f921"
             ]
            ],
            "type": "surface"
           }
          ],
          "table": [
           {
            "cells": {
             "fill": {
              "color": "#EBF0F8"
             },
             "line": {
              "color": "white"
             }
            },
            "header": {
             "fill": {
              "color": "#C8D4E3"
             },
             "line": {
              "color": "white"
             }
            },
            "type": "table"
           }
          ]
         },
         "layout": {
          "annotationdefaults": {
           "arrowcolor": "#2a3f5f",
           "arrowhead": 0,
           "arrowwidth": 1
          },
          "coloraxis": {
           "colorbar": {
            "outlinewidth": 0,
            "ticks": ""
           }
          },
          "colorscale": {
           "diverging": [
            [
             0,
             "#8e0152"
            ],
            [
             0.1,
             "#c51b7d"
            ],
            [
             0.2,
             "#de77ae"
            ],
            [
             0.3,
             "#f1b6da"
            ],
            [
             0.4,
             "#fde0ef"
            ],
            [
             0.5,
             "#f7f7f7"
            ],
            [
             0.6,
             "#e6f5d0"
            ],
            [
             0.7,
             "#b8e186"
            ],
            [
             0.8,
             "#7fbc41"
            ],
            [
             0.9,
             "#4d9221"
            ],
            [
             1,
             "#276419"
            ]
           ],
           "sequential": [
            [
             0,
             "#0d0887"
            ],
            [
             0.1111111111111111,
             "#46039f"
            ],
            [
             0.2222222222222222,
             "#7201a8"
            ],
            [
             0.3333333333333333,
             "#9c179e"
            ],
            [
             0.4444444444444444,
             "#bd3786"
            ],
            [
             0.5555555555555556,
             "#d8576b"
            ],
            [
             0.6666666666666666,
             "#ed7953"
            ],
            [
             0.7777777777777778,
             "#fb9f3a"
            ],
            [
             0.8888888888888888,
             "#fdca26"
            ],
            [
             1,
             "#f0f921"
            ]
           ],
           "sequentialminus": [
            [
             0,
             "#0d0887"
            ],
            [
             0.1111111111111111,
             "#46039f"
            ],
            [
             0.2222222222222222,
             "#7201a8"
            ],
            [
             0.3333333333333333,
             "#9c179e"
            ],
            [
             0.4444444444444444,
             "#bd3786"
            ],
            [
             0.5555555555555556,
             "#d8576b"
            ],
            [
             0.6666666666666666,
             "#ed7953"
            ],
            [
             0.7777777777777778,
             "#fb9f3a"
            ],
            [
             0.8888888888888888,
             "#fdca26"
            ],
            [
             1,
             "#f0f921"
            ]
           ]
          },
          "colorway": [
           "#636efa",
           "#EF553B",
           "#00cc96",
           "#ab63fa",
           "#FFA15A",
           "#19d3f3",
           "#FF6692",
           "#B6E880",
           "#FF97FF",
           "#FECB52"
          ],
          "font": {
           "color": "#2a3f5f"
          },
          "geo": {
           "bgcolor": "white",
           "lakecolor": "white",
           "landcolor": "#E5ECF6",
           "showlakes": true,
           "showland": true,
           "subunitcolor": "white"
          },
          "hoverlabel": {
           "align": "left"
          },
          "hovermode": "closest",
          "mapbox": {
           "style": "light"
          },
          "paper_bgcolor": "white",
          "plot_bgcolor": "#E5ECF6",
          "polar": {
           "angularaxis": {
            "gridcolor": "white",
            "linecolor": "white",
            "ticks": ""
           },
           "bgcolor": "#E5ECF6",
           "radialaxis": {
            "gridcolor": "white",
            "linecolor": "white",
            "ticks": ""
           }
          },
          "scene": {
           "xaxis": {
            "backgroundcolor": "#E5ECF6",
            "gridcolor": "white",
            "gridwidth": 2,
            "linecolor": "white",
            "showbackground": true,
            "ticks": "",
            "zerolinecolor": "white"
           },
           "yaxis": {
            "backgroundcolor": "#E5ECF6",
            "gridcolor": "white",
            "gridwidth": 2,
            "linecolor": "white",
            "showbackground": true,
            "ticks": "",
            "zerolinecolor": "white"
           },
           "zaxis": {
            "backgroundcolor": "#E5ECF6",
            "gridcolor": "white",
            "gridwidth": 2,
            "linecolor": "white",
            "showbackground": true,
            "ticks": "",
            "zerolinecolor": "white"
           }
          },
          "shapedefaults": {
           "line": {
            "color": "#2a3f5f"
           }
          },
          "ternary": {
           "aaxis": {
            "gridcolor": "white",
            "linecolor": "white",
            "ticks": ""
           },
           "baxis": {
            "gridcolor": "white",
            "linecolor": "white",
            "ticks": ""
           },
           "bgcolor": "#E5ECF6",
           "caxis": {
            "gridcolor": "white",
            "linecolor": "white",
            "ticks": ""
           }
          },
          "title": {
           "x": 0.05
          },
          "xaxis": {
           "automargin": true,
           "gridcolor": "white",
           "linecolor": "white",
           "ticks": "",
           "title": {
            "standoff": 15
           },
           "zerolinecolor": "white",
           "zerolinewidth": 2
          },
          "yaxis": {
           "automargin": true,
           "gridcolor": "white",
           "linecolor": "white",
           "ticks": "",
           "title": {
            "standoff": 15
           },
           "zerolinecolor": "white",
           "zerolinewidth": 2
          }
         }
        },
        "title": {
         "font": {
          "color": "#4D5663"
         }
        },
        "xaxis": {
         "gridcolor": "#E1E5ED",
         "showgrid": true,
         "tickfont": {
          "color": "#4D5663"
         },
         "title": {
          "font": {
           "color": "#4D5663"
          },
          "text": ""
         },
         "zerolinecolor": "#E1E5ED"
        },
        "yaxis": {
         "gridcolor": "#E1E5ED",
         "showgrid": true,
         "tickfont": {
          "color": "#4D5663"
         },
         "title": {
          "font": {
           "color": "#4D5663"
          },
          "text": ""
         },
         "zerolinecolor": "#E1E5ED"
        }
       }
      },
      "text/html": [
       "<div>\n",
       "        \n",
       "        \n",
       "            <div id=\"c3604b79-f585-4c23-a262-74ffda814af3\" class=\"plotly-graph-div\" style=\"height:525px; width:100%;\"></div>\n",
       "            <script type=\"text/javascript\">\n",
       "                require([\"plotly\"], function(Plotly) {\n",
       "                    window.PLOTLYENV=window.PLOTLYENV || {};\n",
       "                    window.PLOTLYENV.BASE_URL='https://plot.ly';\n",
       "                    \n",
       "                if (document.getElementById(\"c3604b79-f585-4c23-a262-74ffda814af3\")) {\n",
       "                    Plotly.newPlot(\n",
       "                        'c3604b79-f585-4c23-a262-74ffda814af3',\n",
       "                        [{\"colorscale\": [[0.0, \"rgb(165,0,38)\"], [0.1, \"rgb(215,48,39)\"], [0.2, \"rgb(244,109,67)\"], [0.3, \"rgb(253,174,97)\"], [0.4, \"rgb(254,224,144)\"], [0.5, \"rgb(255,255,191)\"], [0.6, \"rgb(224,243,248)\"], [0.7, \"rgb(171,217,233)\"], [0.8, \"rgb(116,173,209)\"], [0.9, \"rgb(69,117,180)\"], [1.0, \"rgb(49,54,149)\"]], \"type\": \"surface\", \"x\": [0, 1, 2, 3, 4], \"y\": [\"x\", \"y\", \"z\"], \"z\": [[1, 2, 3, 4, 5], [10, 20, 30, 20, 10], [5, 4, 3, 2, 1]]}],\n",
       "                        {\"legend\": {\"bgcolor\": \"#F5F6F9\", \"font\": {\"color\": \"#4D5663\"}}, \"paper_bgcolor\": \"#F5F6F9\", \"plot_bgcolor\": \"#F5F6F9\", \"template\": {\"data\": {\"bar\": [{\"error_x\": {\"color\": \"#2a3f5f\"}, \"error_y\": {\"color\": \"#2a3f5f\"}, \"marker\": {\"line\": {\"color\": \"#E5ECF6\", \"width\": 0.5}}, \"type\": \"bar\"}], \"barpolar\": [{\"marker\": {\"line\": {\"color\": \"#E5ECF6\", \"width\": 0.5}}, \"type\": \"barpolar\"}], \"carpet\": [{\"aaxis\": {\"endlinecolor\": \"#2a3f5f\", \"gridcolor\": \"white\", \"linecolor\": \"white\", \"minorgridcolor\": \"white\", \"startlinecolor\": \"#2a3f5f\"}, \"baxis\": {\"endlinecolor\": \"#2a3f5f\", \"gridcolor\": \"white\", \"linecolor\": \"white\", \"minorgridcolor\": \"white\", \"startlinecolor\": \"#2a3f5f\"}, \"type\": \"carpet\"}], \"choropleth\": [{\"colorbar\": {\"outlinewidth\": 0, \"ticks\": \"\"}, \"type\": \"choropleth\"}], \"contour\": [{\"colorbar\": {\"outlinewidth\": 0, \"ticks\": \"\"}, \"colorscale\": [[0.0, \"#0d0887\"], [0.1111111111111111, \"#46039f\"], [0.2222222222222222, \"#7201a8\"], [0.3333333333333333, \"#9c179e\"], [0.4444444444444444, \"#bd3786\"], [0.5555555555555556, \"#d8576b\"], [0.6666666666666666, \"#ed7953\"], [0.7777777777777778, \"#fb9f3a\"], [0.8888888888888888, \"#fdca26\"], [1.0, \"#f0f921\"]], \"type\": \"contour\"}], \"contourcarpet\": [{\"colorbar\": {\"outlinewidth\": 0, \"ticks\": \"\"}, \"type\": \"contourcarpet\"}], \"heatmap\": [{\"colorbar\": {\"outlinewidth\": 0, \"ticks\": \"\"}, \"colorscale\": [[0.0, \"#0d0887\"], [0.1111111111111111, \"#46039f\"], [0.2222222222222222, \"#7201a8\"], [0.3333333333333333, \"#9c179e\"], [0.4444444444444444, \"#bd3786\"], [0.5555555555555556, \"#d8576b\"], [0.6666666666666666, \"#ed7953\"], [0.7777777777777778, \"#fb9f3a\"], [0.8888888888888888, \"#fdca26\"], [1.0, \"#f0f921\"]], \"type\": \"heatmap\"}], \"heatmapgl\": [{\"colorbar\": {\"outlinewidth\": 0, \"ticks\": \"\"}, \"colorscale\": [[0.0, \"#0d0887\"], [0.1111111111111111, \"#46039f\"], [0.2222222222222222, \"#7201a8\"], [0.3333333333333333, \"#9c179e\"], [0.4444444444444444, \"#bd3786\"], [0.5555555555555556, \"#d8576b\"], [0.6666666666666666, \"#ed7953\"], [0.7777777777777778, \"#fb9f3a\"], [0.8888888888888888, \"#fdca26\"], [1.0, \"#f0f921\"]], \"type\": \"heatmapgl\"}], \"histogram\": [{\"marker\": {\"colorbar\": {\"outlinewidth\": 0, \"ticks\": \"\"}}, \"type\": \"histogram\"}], \"histogram2d\": [{\"colorbar\": {\"outlinewidth\": 0, \"ticks\": \"\"}, \"colorscale\": [[0.0, \"#0d0887\"], [0.1111111111111111, \"#46039f\"], [0.2222222222222222, \"#7201a8\"], [0.3333333333333333, \"#9c179e\"], [0.4444444444444444, \"#bd3786\"], [0.5555555555555556, \"#d8576b\"], [0.6666666666666666, \"#ed7953\"], [0.7777777777777778, \"#fb9f3a\"], [0.8888888888888888, \"#fdca26\"], [1.0, \"#f0f921\"]], \"type\": \"histogram2d\"}], \"histogram2dcontour\": [{\"colorbar\": {\"outlinewidth\": 0, \"ticks\": \"\"}, \"colorscale\": [[0.0, \"#0d0887\"], [0.1111111111111111, \"#46039f\"], [0.2222222222222222, \"#7201a8\"], [0.3333333333333333, \"#9c179e\"], [0.4444444444444444, \"#bd3786\"], [0.5555555555555556, \"#d8576b\"], [0.6666666666666666, \"#ed7953\"], [0.7777777777777778, \"#fb9f3a\"], [0.8888888888888888, \"#fdca26\"], [1.0, \"#f0f921\"]], \"type\": \"histogram2dcontour\"}], \"mesh3d\": [{\"colorbar\": {\"outlinewidth\": 0, \"ticks\": \"\"}, \"type\": \"mesh3d\"}], \"parcoords\": [{\"line\": {\"colorbar\": {\"outlinewidth\": 0, \"ticks\": \"\"}}, \"type\": \"parcoords\"}], \"pie\": [{\"automargin\": true, \"type\": \"pie\"}], \"scatter\": [{\"marker\": {\"colorbar\": {\"outlinewidth\": 0, \"ticks\": \"\"}}, \"type\": \"scatter\"}], \"scatter3d\": [{\"line\": {\"colorbar\": {\"outlinewidth\": 0, \"ticks\": \"\"}}, \"marker\": {\"colorbar\": {\"outlinewidth\": 0, \"ticks\": \"\"}}, \"type\": \"scatter3d\"}], \"scattercarpet\": [{\"marker\": {\"colorbar\": {\"outlinewidth\": 0, \"ticks\": \"\"}}, \"type\": \"scattercarpet\"}], \"scattergeo\": [{\"marker\": {\"colorbar\": {\"outlinewidth\": 0, \"ticks\": \"\"}}, \"type\": \"scattergeo\"}], \"scattergl\": [{\"marker\": {\"colorbar\": {\"outlinewidth\": 0, \"ticks\": \"\"}}, \"type\": \"scattergl\"}], \"scattermapbox\": [{\"marker\": {\"colorbar\": {\"outlinewidth\": 0, \"ticks\": \"\"}}, \"type\": \"scattermapbox\"}], \"scatterpolar\": [{\"marker\": {\"colorbar\": {\"outlinewidth\": 0, \"ticks\": \"\"}}, \"type\": \"scatterpolar\"}], \"scatterpolargl\": [{\"marker\": {\"colorbar\": {\"outlinewidth\": 0, \"ticks\": \"\"}}, \"type\": \"scatterpolargl\"}], \"scatterternary\": [{\"marker\": {\"colorbar\": {\"outlinewidth\": 0, \"ticks\": \"\"}}, \"type\": \"scatterternary\"}], \"surface\": [{\"colorbar\": {\"outlinewidth\": 0, \"ticks\": \"\"}, \"colorscale\": [[0.0, \"#0d0887\"], [0.1111111111111111, \"#46039f\"], [0.2222222222222222, \"#7201a8\"], [0.3333333333333333, \"#9c179e\"], [0.4444444444444444, \"#bd3786\"], [0.5555555555555556, \"#d8576b\"], [0.6666666666666666, \"#ed7953\"], [0.7777777777777778, \"#fb9f3a\"], [0.8888888888888888, \"#fdca26\"], [1.0, \"#f0f921\"]], \"type\": \"surface\"}], \"table\": [{\"cells\": {\"fill\": {\"color\": \"#EBF0F8\"}, \"line\": {\"color\": \"white\"}}, \"header\": {\"fill\": {\"color\": \"#C8D4E3\"}, \"line\": {\"color\": \"white\"}}, \"type\": \"table\"}]}, \"layout\": {\"annotationdefaults\": {\"arrowcolor\": \"#2a3f5f\", \"arrowhead\": 0, \"arrowwidth\": 1}, \"coloraxis\": {\"colorbar\": {\"outlinewidth\": 0, \"ticks\": \"\"}}, \"colorscale\": {\"diverging\": [[0, \"#8e0152\"], [0.1, \"#c51b7d\"], [0.2, \"#de77ae\"], [0.3, \"#f1b6da\"], [0.4, \"#fde0ef\"], [0.5, \"#f7f7f7\"], [0.6, \"#e6f5d0\"], [0.7, \"#b8e186\"], [0.8, \"#7fbc41\"], [0.9, \"#4d9221\"], [1, \"#276419\"]], \"sequential\": [[0.0, \"#0d0887\"], [0.1111111111111111, \"#46039f\"], [0.2222222222222222, \"#7201a8\"], [0.3333333333333333, \"#9c179e\"], [0.4444444444444444, \"#bd3786\"], [0.5555555555555556, \"#d8576b\"], [0.6666666666666666, \"#ed7953\"], [0.7777777777777778, \"#fb9f3a\"], [0.8888888888888888, \"#fdca26\"], [1.0, \"#f0f921\"]], \"sequentialminus\": [[0.0, \"#0d0887\"], [0.1111111111111111, \"#46039f\"], [0.2222222222222222, \"#7201a8\"], [0.3333333333333333, \"#9c179e\"], [0.4444444444444444, \"#bd3786\"], [0.5555555555555556, \"#d8576b\"], [0.6666666666666666, \"#ed7953\"], [0.7777777777777778, \"#fb9f3a\"], [0.8888888888888888, \"#fdca26\"], [1.0, \"#f0f921\"]]}, \"colorway\": [\"#636efa\", \"#EF553B\", \"#00cc96\", \"#ab63fa\", \"#FFA15A\", \"#19d3f3\", \"#FF6692\", \"#B6E880\", \"#FF97FF\", \"#FECB52\"], \"font\": {\"color\": \"#2a3f5f\"}, \"geo\": {\"bgcolor\": \"white\", \"lakecolor\": \"white\", \"landcolor\": \"#E5ECF6\", \"showlakes\": true, \"showland\": true, \"subunitcolor\": \"white\"}, \"hoverlabel\": {\"align\": \"left\"}, \"hovermode\": \"closest\", \"mapbox\": {\"style\": \"light\"}, \"paper_bgcolor\": \"white\", \"plot_bgcolor\": \"#E5ECF6\", \"polar\": {\"angularaxis\": {\"gridcolor\": \"white\", \"linecolor\": \"white\", \"ticks\": \"\"}, \"bgcolor\": \"#E5ECF6\", \"radialaxis\": {\"gridcolor\": \"white\", \"linecolor\": \"white\", \"ticks\": \"\"}}, \"scene\": {\"xaxis\": {\"backgroundcolor\": \"#E5ECF6\", \"gridcolor\": \"white\", \"gridwidth\": 2, \"linecolor\": \"white\", \"showbackground\": true, \"ticks\": \"\", \"zerolinecolor\": \"white\"}, \"yaxis\": {\"backgroundcolor\": \"#E5ECF6\", \"gridcolor\": \"white\", \"gridwidth\": 2, \"linecolor\": \"white\", \"showbackground\": true, \"ticks\": \"\", \"zerolinecolor\": \"white\"}, \"zaxis\": {\"backgroundcolor\": \"#E5ECF6\", \"gridcolor\": \"white\", \"gridwidth\": 2, \"linecolor\": \"white\", \"showbackground\": true, \"ticks\": \"\", \"zerolinecolor\": \"white\"}}, \"shapedefaults\": {\"line\": {\"color\": \"#2a3f5f\"}}, \"ternary\": {\"aaxis\": {\"gridcolor\": \"white\", \"linecolor\": \"white\", \"ticks\": \"\"}, \"baxis\": {\"gridcolor\": \"white\", \"linecolor\": \"white\", \"ticks\": \"\"}, \"bgcolor\": \"#E5ECF6\", \"caxis\": {\"gridcolor\": \"white\", \"linecolor\": \"white\", \"ticks\": \"\"}}, \"title\": {\"x\": 0.05}, \"xaxis\": {\"automargin\": true, \"gridcolor\": \"white\", \"linecolor\": \"white\", \"ticks\": \"\", \"title\": {\"standoff\": 15}, \"zerolinecolor\": \"white\", \"zerolinewidth\": 2}, \"yaxis\": {\"automargin\": true, \"gridcolor\": \"white\", \"linecolor\": \"white\", \"ticks\": \"\", \"title\": {\"standoff\": 15}, \"zerolinecolor\": \"white\", \"zerolinewidth\": 2}}}, \"title\": {\"font\": {\"color\": \"#4D5663\"}}, \"xaxis\": {\"gridcolor\": \"#E1E5ED\", \"showgrid\": true, \"tickfont\": {\"color\": \"#4D5663\"}, \"title\": {\"font\": {\"color\": \"#4D5663\"}, \"text\": \"\"}, \"zerolinecolor\": \"#E1E5ED\"}, \"yaxis\": {\"gridcolor\": \"#E1E5ED\", \"showgrid\": true, \"tickfont\": {\"color\": \"#4D5663\"}, \"title\": {\"font\": {\"color\": \"#4D5663\"}, \"text\": \"\"}, \"zerolinecolor\": \"#E1E5ED\"}},\n",
       "                        {\"showLink\": true, \"linkText\": \"Export to plot.ly\", \"plotlyServerURL\": \"https://plot.ly\", \"responsive\": true}\n",
       "                    ).then(function(){\n",
       "                            \n",
       "var gd = document.getElementById('c3604b79-f585-4c23-a262-74ffda814af3');\n",
       "var x = new MutationObserver(function (mutations, observer) {{\n",
       "        var display = window.getComputedStyle(gd).display;\n",
       "        if (!display || display === 'none') {{\n",
       "            console.log([gd, 'removed!']);\n",
       "            Plotly.purge(gd);\n",
       "            observer.disconnect();\n",
       "        }}\n",
       "}});\n",
       "\n",
       "// Listen for the removal of the full notebook cells\n",
       "var notebookContainer = gd.closest('#notebook-container');\n",
       "if (notebookContainer) {{\n",
       "    x.observe(notebookContainer, {childList: true});\n",
       "}}\n",
       "\n",
       "// Listen for the clearing of the current output cell\n",
       "var outputEl = gd.closest('.output');\n",
       "if (outputEl) {{\n",
       "    x.observe(outputEl, {childList: true});\n",
       "}}\n",
       "\n",
       "                        })\n",
       "                };\n",
       "                });\n",
       "            </script>\n",
       "        </div>"
      ]
     },
     "metadata": {},
     "output_type": "display_data"
    }
   ],
   "source": [
    "df3 = pd.DataFrame({'x':[1,2,3,4,5],'y':[10,20,30,20,10],'z':[5,4,3,2,1]}) #3d array\n",
    "df3.iplot(kind='surface',colorscale='rdylbu')"
   ]
  },
  {
   "cell_type": "markdown",
   "metadata": {},
   "source": [
    "## spread plot"
   ]
  },
  {
   "cell_type": "code",
   "execution_count": 16,
   "metadata": {},
   "outputs": [
    {
     "name": "stderr",
     "output_type": "stream",
     "text": [
      "C:\\Users\\mrric\\anaconda3\\lib\\site-packages\\cufflinks\\plotlytools.py:849: FutureWarning:\n",
      "\n",
      "The pandas.np module is deprecated and will be removed from pandas in a future version. Import numpy directly instead\n",
      "\n",
      "C:\\Users\\mrric\\anaconda3\\lib\\site-packages\\cufflinks\\plotlytools.py:850: FutureWarning:\n",
      "\n",
      "The pandas.np module is deprecated and will be removed from pandas in a future version. Import numpy directly instead\n",
      "\n"
     ]
    },
    {
     "data": {
      "application/vnd.plotly.v1+json": {
       "config": {
        "linkText": "Export to plot.ly",
        "plotlyServerURL": "https://plot.ly",
        "showLink": true
       },
       "data": [
        {
         "line": {
          "color": "rgba(255, 153, 51, 1.0)",
          "dash": "solid",
          "shape": "linear",
          "width": 1.3
         },
         "mode": "lines",
         "name": "A",
         "text": "",
         "type": "scatter",
         "x": [
          0,
          1,
          2,
          3,
          4,
          5,
          6,
          7,
          8,
          9,
          10,
          11,
          12,
          13,
          14,
          15,
          16,
          17,
          18,
          19,
          20,
          21,
          22,
          23,
          24,
          25,
          26,
          27,
          28,
          29,
          30,
          31,
          32,
          33,
          34,
          35,
          36,
          37,
          38,
          39,
          40,
          41,
          42,
          43,
          44,
          45,
          46,
          47,
          48,
          49,
          50,
          51,
          52,
          53,
          54,
          55,
          56,
          57,
          58,
          59,
          60,
          61,
          62,
          63,
          64,
          65,
          66,
          67,
          68,
          69,
          70,
          71,
          72,
          73,
          74,
          75,
          76,
          77,
          78,
          79,
          80,
          81,
          82,
          83,
          84,
          85,
          86,
          87,
          88,
          89,
          90,
          91,
          92,
          93,
          94,
          95,
          96,
          97,
          98,
          99
         ],
         "y": [
          -2.19517732281781,
          0.41297071995567625,
          0.5238259134616036,
          2.321660493048887,
          -1.7918868447130059,
          -1.4003185528924975,
          -1.7297604866535865,
          -0.44388711000201464,
          -0.5052550235591972,
          -0.20154762526484626,
          -0.08352134157213167,
          -0.6855060781663106,
          1.0887687415999572,
          0.2855894125108078,
          0.7980404615235451,
          -1.0339660491462646,
          0.552988758119476,
          -0.011700097264279497,
          0.021437589270594415,
          -0.08236305549690165,
          0.5291996261975528,
          0.6551868758377841,
          -1.4859686060330128,
          -1.9244490589884782,
          0.8448386798137778,
          0.375889652742352,
          0.6713684703182022,
          0.5292666392387347,
          -1.8438289583630185,
          0.558440068266143,
          -0.6563135402637561,
          -1.6316467385018294,
          -0.39836303303761095,
          0.0691617062364122,
          0.1353258261082668,
          0.7185436507289951,
          1.553925211212386,
          -0.5714655522307664,
          1.4904875406858629,
          0.6217440104496987,
          0.7865768608697654,
          0.7378588602432641,
          -0.8985395833921609,
          0.6397978501868015,
          -0.2631592379934458,
          -0.18465379229969653,
          -1.766855324557164,
          0.12173746345167527,
          -0.743605387049839,
          0.784334833739347,
          0.3917372705482704,
          -0.5909559239175638,
          -0.40630782754950207,
          -0.9881423673945723,
          -1.4597607300847637,
          0.3023562251048793,
          -0.1954609877017618,
          1.8127924584945665,
          -0.438196644574794,
          0.9922522061400024,
          -0.859983652215299,
          0.4246206377667659,
          1.2931457895853469,
          -0.3197471206910602,
          -0.29015708985798294,
          -2.4200083935552144,
          -0.5531573484596305,
          0.9919788860691116,
          -0.10068870784096433,
          0.013473054882340725,
          0.8870424485265856,
          -1.52983366553648,
          0.8145957073039255,
          -0.81898061248173,
          -0.9098258908774242,
          -1.3752270874209238,
          1.3669607304331788,
          -0.040484151685499445,
          -1.1206413918176934,
          0.4768318852770323,
          -0.3417763069099912,
          -1.408962249978248,
          -1.5951427299765275,
          1.2197177433735997,
          0.5445789312288598,
          0.6313147555355381,
          0.32000780366272574,
          -0.8704515879612656,
          -0.627920771771115,
          0.8440369058295358,
          -1.2010314467224608,
          0.10303101875969292,
          1.7119342867501717,
          1.345218350267589,
          1.8895042692650679,
          0.5245714274017701,
          -0.010284788799988025,
          1.4983859268949218,
          0.6627916098655476,
          -0.9058275513453036
         ]
        },
        {
         "line": {
          "color": "rgba(55, 128, 191, 1.0)",
          "dash": "solid",
          "shape": "linear",
          "width": 1.3
         },
         "mode": "lines",
         "name": "B",
         "text": "",
         "type": "scatter",
         "x": [
          0,
          1,
          2,
          3,
          4,
          5,
          6,
          7,
          8,
          9,
          10,
          11,
          12,
          13,
          14,
          15,
          16,
          17,
          18,
          19,
          20,
          21,
          22,
          23,
          24,
          25,
          26,
          27,
          28,
          29,
          30,
          31,
          32,
          33,
          34,
          35,
          36,
          37,
          38,
          39,
          40,
          41,
          42,
          43,
          44,
          45,
          46,
          47,
          48,
          49,
          50,
          51,
          52,
          53,
          54,
          55,
          56,
          57,
          58,
          59,
          60,
          61,
          62,
          63,
          64,
          65,
          66,
          67,
          68,
          69,
          70,
          71,
          72,
          73,
          74,
          75,
          76,
          77,
          78,
          79,
          80,
          81,
          82,
          83,
          84,
          85,
          86,
          87,
          88,
          89,
          90,
          91,
          92,
          93,
          94,
          95,
          96,
          97,
          98,
          99
         ],
         "y": [
          -0.2551109513862989,
          -1.5127464737870182,
          0.3758014389849401,
          1.8857727661935286,
          1.662544285322015,
          -1.2664294656572934,
          -1.5174696024398788,
          0.5852178156544476,
          0.6965117049576418,
          -1.1279399272931596,
          -0.6863623724755933,
          -1.1044899382302837,
          0.07098359754755064,
          1.2151791713518312,
          0.2203176108637594,
          2.6295732761898005,
          0.6798859657591843,
          0.986074789157596,
          -1.2317801711589613,
          -0.7665611492450716,
          -0.022858667742858704,
          -0.6294825856993135,
          1.6306391943001899,
          1.6995515594849566,
          -0.5905495429530158,
          0.47793027697582735,
          -0.44609211623245887,
          1.7576040287335875,
          -1.0923347767002078,
          -1.8993634237607036,
          0.5844253290883914,
          -0.04822525857137415,
          0.3463651631429565,
          0.40013204209307585,
          0.22836136631949458,
          0.5377706594361823,
          -0.046788587259596004,
          -2.5718183127194134,
          -0.15116176468220824,
          -0.21953364549617513,
          -0.3325484225048974,
          -1.8096452038883564,
          0.7289382006548182,
          -0.09439706742108991,
          0.012540101956239863,
          -0.48136707668519524,
          1.1582886336009641,
          -0.4248727474952323,
          0.40709870307468116,
          1.0717332510596662,
          0.458827727449291,
          0.9438296370958118,
          1.4303013514646175,
          -0.403906433119754,
          0.7027145404728263,
          0.5103829539116806,
          -0.8123969957649172,
          0.3383761382920852,
          -1.171096152810323,
          0.46599418331537706,
          0.47419707617009593,
          -2.56535748723371,
          -0.06782037218279009,
          -0.9328199422531491,
          0.08936881595781979,
          1.105071798487719,
          1.292664158575097,
          -2.6250692746878195,
          -0.45631212365946394,
          1.018318165064855,
          -1.2526436138204882,
          -0.17168542970891618,
          -0.4699345868151425,
          0.38738762957994255,
          -1.5998498437689137,
          0.7609470697567795,
          -0.2616975602236235,
          0.08826540754723577,
          0.2378673846850535,
          0.32753070517438304,
          -0.6997696295911957,
          -0.9027758435345248,
          -0.07465487316390441,
          -2.4577222932537945,
          0.3340426817758278,
          0.6960081666749737,
          -0.26319239683785034,
          -0.9980782560498498,
          -0.12339060576071016,
          -0.17112287315675134,
          0.6429944355509232,
          0.9524051082923007,
          -1.323623217934063,
          0.23723427993329563,
          0.09923915891778237,
          0.05748639326282414,
          -0.8615285511403645,
          0.5099022980535224,
          -0.29916479814974173,
          -0.3551225033150403
         ]
        },
        {
         "connectgaps": false,
         "fill": "tozeroy",
         "line": {
          "color": "green",
          "dash": "solid",
          "shape": "linear",
          "width": 0.5
         },
         "mode": "lines",
         "name": "Spread",
         "showlegend": false,
         "type": "scatter",
         "x": [
          0,
          1,
          2,
          3,
          4,
          5,
          6,
          7,
          8,
          9,
          10,
          11,
          12,
          13,
          14,
          15,
          16,
          17,
          18,
          19,
          20,
          21,
          22,
          23,
          24,
          25,
          26,
          27,
          28,
          29,
          30,
          31,
          32,
          33,
          34,
          35,
          36,
          37,
          38,
          39,
          40,
          41,
          42,
          43,
          44,
          45,
          46,
          47,
          48,
          49,
          50,
          51,
          52,
          53,
          54,
          55,
          56,
          57,
          58,
          59,
          60,
          61,
          62,
          63,
          64,
          65,
          66,
          67,
          68,
          69,
          70,
          71,
          72,
          73,
          74,
          75,
          76,
          77,
          78,
          79,
          80,
          81,
          82,
          83,
          84,
          85,
          86,
          87,
          88,
          89,
          90,
          91,
          92,
          93,
          94,
          95,
          96,
          97,
          98,
          99
         ],
         "xaxis": "x2",
         "y": [
          "",
          1.9257171937426945,
          0.14802447447666345,
          0.4358877268553585,
          "",
          "",
          "",
          "",
          "",
          0.9263923020283134,
          0.6028410309034616,
          0.41898386006397315,
          1.0177851440524066,
          "",
          0.5777228506597858,
          "",
          "",
          "",
          1.2532177604295558,
          0.68419809374817,
          0.5520582939404115,
          1.2846694615370975,
          "",
          "",
          1.4353882227667936,
          "",
          1.117460586550661,
          "",
          "",
          2.4578034920268466,
          "",
          "",
          "",
          "",
          "",
          0.18077299129281277,
          1.6007137984719821,
          2.000352760488647,
          1.6416493053680712,
          0.8412776559458739,
          1.1191252833746628,
          2.5475040641316204,
          "",
          0.7341949176078914,
          "",
          0.2967132843854987,
          "",
          0.5466102109469075,
          "",
          "",
          "",
          "",
          "",
          "",
          "",
          "",
          0.6169360080631554,
          1.4744163202024814,
          0.732899508235529,
          0.5262580228246254,
          "",
          2.989978125000476,
          1.360966161768137,
          0.6130728215620889,
          "",
          "",
          "",
          3.617048160756931,
          0.3556234158184996,
          "",
          2.139686062347074,
          "",
          1.284530294119068,
          "",
          0.6900239528914895,
          "",
          1.6286582906568023,
          "",
          "",
          0.14930118010264926,
          0.3579933226812045,
          "",
          "",
          3.6774400366273943,
          0.210536249453032,
          "",
          0.5832002005005761,
          0.12762666808858414,
          "",
          1.0151597789862872,
          "",
          "",
          3.0355575046842347,
          1.1079840703342934,
          1.7902651103472855,
          0.467085034138946,
          0.8512437623403765,
          0.9884836288413994,
          0.9619564080152894,
          ""
         ],
         "yaxis": "y2"
        },
        {
         "connectgaps": false,
         "fill": "tozeroy",
         "line": {
          "color": "red",
          "dash": "solid",
          "shape": "linear",
          "width": 0.5
         },
         "mode": "lines",
         "name": "Spread",
         "showlegend": false,
         "type": "scatter",
         "x": [
          0,
          1,
          2,
          3,
          4,
          5,
          6,
          7,
          8,
          9,
          10,
          11,
          12,
          13,
          14,
          15,
          16,
          17,
          18,
          19,
          20,
          21,
          22,
          23,
          24,
          25,
          26,
          27,
          28,
          29,
          30,
          31,
          32,
          33,
          34,
          35,
          36,
          37,
          38,
          39,
          40,
          41,
          42,
          43,
          44,
          45,
          46,
          47,
          48,
          49,
          50,
          51,
          52,
          53,
          54,
          55,
          56,
          57,
          58,
          59,
          60,
          61,
          62,
          63,
          64,
          65,
          66,
          67,
          68,
          69,
          70,
          71,
          72,
          73,
          74,
          75,
          76,
          77,
          78,
          79,
          80,
          81,
          82,
          83,
          84,
          85,
          86,
          87,
          88,
          89,
          90,
          91,
          92,
          93,
          94,
          95,
          96,
          97,
          98,
          99
         ],
         "xaxis": "x2",
         "y": [
          -1.9400663714315112,
          "",
          "",
          "",
          -3.4544311300350206,
          -0.1338890872352041,
          -0.21229088421370768,
          -1.0291049256564624,
          -1.201766728516839,
          "",
          "",
          "",
          "",
          -0.9295897588410234,
          "",
          -3.663539325336065,
          -0.12689720763970824,
          -0.9977748864218755,
          "",
          "",
          "",
          "",
          -3.1166078003332025,
          -3.624000618473435,
          "",
          -0.10204062423347537,
          "",
          -1.2283373894948526,
          -0.7514941816628107,
          "",
          -1.2407388693521475,
          -1.5834214799304553,
          -0.7447281961805674,
          -0.33097033585666363,
          -0.09303554021122779,
          "",
          "",
          "",
          "",
          "",
          "",
          "",
          -1.6274777840469792,
          "",
          -0.27569933994968565,
          "",
          -2.925143958158128,
          "",
          -1.1507040901245202,
          -0.28739841732031923,
          -0.06709045690102061,
          -1.5347855610133756,
          -1.8366091790141195,
          -0.5842359342748182,
          -2.1624752705575903,
          -0.20802672880680134,
          "",
          "",
          "",
          "",
          -1.334180728385395,
          "",
          "",
          "",
          -0.3795259058158027,
          -3.5250801920429335,
          -1.8458215070347275,
          "",
          "",
          -1.0048451101825142,
          "",
          -1.3581482358275638,
          "",
          -1.2063682420616726,
          "",
          -2.1361741571777033,
          "",
          -0.12874955923273523,
          -1.3585087765027468,
          "",
          "",
          -0.5061864064437231,
          -1.520487856812623,
          "",
          "",
          -0.06469341113943561,
          "",
          "",
          -0.5045301660104049,
          "",
          -1.844025882273384,
          -0.8493740895326078,
          "",
          "",
          "",
          "",
          "",
          "",
          "",
          -0.5507050480302633
         ],
         "yaxis": "y2"
        }
       ],
       "layout": {
        "hovermode": "x",
        "legend": {
         "bgcolor": "#F5F6F9",
         "font": {
          "color": "#4D5663"
         }
        },
        "paper_bgcolor": "#F5F6F9",
        "plot_bgcolor": "#F5F6F9",
        "template": {
         "data": {
          "bar": [
           {
            "error_x": {
             "color": "#2a3f5f"
            },
            "error_y": {
             "color": "#2a3f5f"
            },
            "marker": {
             "line": {
              "color": "#E5ECF6",
              "width": 0.5
             }
            },
            "type": "bar"
           }
          ],
          "barpolar": [
           {
            "marker": {
             "line": {
              "color": "#E5ECF6",
              "width": 0.5
             }
            },
            "type": "barpolar"
           }
          ],
          "carpet": [
           {
            "aaxis": {
             "endlinecolor": "#2a3f5f",
             "gridcolor": "white",
             "linecolor": "white",
             "minorgridcolor": "white",
             "startlinecolor": "#2a3f5f"
            },
            "baxis": {
             "endlinecolor": "#2a3f5f",
             "gridcolor": "white",
             "linecolor": "white",
             "minorgridcolor": "white",
             "startlinecolor": "#2a3f5f"
            },
            "type": "carpet"
           }
          ],
          "choropleth": [
           {
            "colorbar": {
             "outlinewidth": 0,
             "ticks": ""
            },
            "type": "choropleth"
           }
          ],
          "contour": [
           {
            "colorbar": {
             "outlinewidth": 0,
             "ticks": ""
            },
            "colorscale": [
             [
              0,
              "#0d0887"
             ],
             [
              0.1111111111111111,
              "#46039f"
             ],
             [
              0.2222222222222222,
              "#7201a8"
             ],
             [
              0.3333333333333333,
              "#9c179e"
             ],
             [
              0.4444444444444444,
              "#bd3786"
             ],
             [
              0.5555555555555556,
              "#d8576b"
             ],
             [
              0.6666666666666666,
              "#ed7953"
             ],
             [
              0.7777777777777778,
              "#fb9f3a"
             ],
             [
              0.8888888888888888,
              "#fdca26"
             ],
             [
              1,
              "#f0f921"
             ]
            ],
            "type": "contour"
           }
          ],
          "contourcarpet": [
           {
            "colorbar": {
             "outlinewidth": 0,
             "ticks": ""
            },
            "type": "contourcarpet"
           }
          ],
          "heatmap": [
           {
            "colorbar": {
             "outlinewidth": 0,
             "ticks": ""
            },
            "colorscale": [
             [
              0,
              "#0d0887"
             ],
             [
              0.1111111111111111,
              "#46039f"
             ],
             [
              0.2222222222222222,
              "#7201a8"
             ],
             [
              0.3333333333333333,
              "#9c179e"
             ],
             [
              0.4444444444444444,
              "#bd3786"
             ],
             [
              0.5555555555555556,
              "#d8576b"
             ],
             [
              0.6666666666666666,
              "#ed7953"
             ],
             [
              0.7777777777777778,
              "#fb9f3a"
             ],
             [
              0.8888888888888888,
              "#fdca26"
             ],
             [
              1,
              "#f0f921"
             ]
            ],
            "type": "heatmap"
           }
          ],
          "heatmapgl": [
           {
            "colorbar": {
             "outlinewidth": 0,
             "ticks": ""
            },
            "colorscale": [
             [
              0,
              "#0d0887"
             ],
             [
              0.1111111111111111,
              "#46039f"
             ],
             [
              0.2222222222222222,
              "#7201a8"
             ],
             [
              0.3333333333333333,
              "#9c179e"
             ],
             [
              0.4444444444444444,
              "#bd3786"
             ],
             [
              0.5555555555555556,
              "#d8576b"
             ],
             [
              0.6666666666666666,
              "#ed7953"
             ],
             [
              0.7777777777777778,
              "#fb9f3a"
             ],
             [
              0.8888888888888888,
              "#fdca26"
             ],
             [
              1,
              "#f0f921"
             ]
            ],
            "type": "heatmapgl"
           }
          ],
          "histogram": [
           {
            "marker": {
             "colorbar": {
              "outlinewidth": 0,
              "ticks": ""
             }
            },
            "type": "histogram"
           }
          ],
          "histogram2d": [
           {
            "colorbar": {
             "outlinewidth": 0,
             "ticks": ""
            },
            "colorscale": [
             [
              0,
              "#0d0887"
             ],
             [
              0.1111111111111111,
              "#46039f"
             ],
             [
              0.2222222222222222,
              "#7201a8"
             ],
             [
              0.3333333333333333,
              "#9c179e"
             ],
             [
              0.4444444444444444,
              "#bd3786"
             ],
             [
              0.5555555555555556,
              "#d8576b"
             ],
             [
              0.6666666666666666,
              "#ed7953"
             ],
             [
              0.7777777777777778,
              "#fb9f3a"
             ],
             [
              0.8888888888888888,
              "#fdca26"
             ],
             [
              1,
              "#f0f921"
             ]
            ],
            "type": "histogram2d"
           }
          ],
          "histogram2dcontour": [
           {
            "colorbar": {
             "outlinewidth": 0,
             "ticks": ""
            },
            "colorscale": [
             [
              0,
              "#0d0887"
             ],
             [
              0.1111111111111111,
              "#46039f"
             ],
             [
              0.2222222222222222,
              "#7201a8"
             ],
             [
              0.3333333333333333,
              "#9c179e"
             ],
             [
              0.4444444444444444,
              "#bd3786"
             ],
             [
              0.5555555555555556,
              "#d8576b"
             ],
             [
              0.6666666666666666,
              "#ed7953"
             ],
             [
              0.7777777777777778,
              "#fb9f3a"
             ],
             [
              0.8888888888888888,
              "#fdca26"
             ],
             [
              1,
              "#f0f921"
             ]
            ],
            "type": "histogram2dcontour"
           }
          ],
          "mesh3d": [
           {
            "colorbar": {
             "outlinewidth": 0,
             "ticks": ""
            },
            "type": "mesh3d"
           }
          ],
          "parcoords": [
           {
            "line": {
             "colorbar": {
              "outlinewidth": 0,
              "ticks": ""
             }
            },
            "type": "parcoords"
           }
          ],
          "pie": [
           {
            "automargin": true,
            "type": "pie"
           }
          ],
          "scatter": [
           {
            "marker": {
             "colorbar": {
              "outlinewidth": 0,
              "ticks": ""
             }
            },
            "type": "scatter"
           }
          ],
          "scatter3d": [
           {
            "line": {
             "colorbar": {
              "outlinewidth": 0,
              "ticks": ""
             }
            },
            "marker": {
             "colorbar": {
              "outlinewidth": 0,
              "ticks": ""
             }
            },
            "type": "scatter3d"
           }
          ],
          "scattercarpet": [
           {
            "marker": {
             "colorbar": {
              "outlinewidth": 0,
              "ticks": ""
             }
            },
            "type": "scattercarpet"
           }
          ],
          "scattergeo": [
           {
            "marker": {
             "colorbar": {
              "outlinewidth": 0,
              "ticks": ""
             }
            },
            "type": "scattergeo"
           }
          ],
          "scattergl": [
           {
            "marker": {
             "colorbar": {
              "outlinewidth": 0,
              "ticks": ""
             }
            },
            "type": "scattergl"
           }
          ],
          "scattermapbox": [
           {
            "marker": {
             "colorbar": {
              "outlinewidth": 0,
              "ticks": ""
             }
            },
            "type": "scattermapbox"
           }
          ],
          "scatterpolar": [
           {
            "marker": {
             "colorbar": {
              "outlinewidth": 0,
              "ticks": ""
             }
            },
            "type": "scatterpolar"
           }
          ],
          "scatterpolargl": [
           {
            "marker": {
             "colorbar": {
              "outlinewidth": 0,
              "ticks": ""
             }
            },
            "type": "scatterpolargl"
           }
          ],
          "scatterternary": [
           {
            "marker": {
             "colorbar": {
              "outlinewidth": 0,
              "ticks": ""
             }
            },
            "type": "scatterternary"
           }
          ],
          "surface": [
           {
            "colorbar": {
             "outlinewidth": 0,
             "ticks": ""
            },
            "colorscale": [
             [
              0,
              "#0d0887"
             ],
             [
              0.1111111111111111,
              "#46039f"
             ],
             [
              0.2222222222222222,
              "#7201a8"
             ],
             [
              0.3333333333333333,
              "#9c179e"
             ],
             [
              0.4444444444444444,
              "#bd3786"
             ],
             [
              0.5555555555555556,
              "#d8576b"
             ],
             [
              0.6666666666666666,
              "#ed7953"
             ],
             [
              0.7777777777777778,
              "#fb9f3a"
             ],
             [
              0.8888888888888888,
              "#fdca26"
             ],
             [
              1,
              "#f0f921"
             ]
            ],
            "type": "surface"
           }
          ],
          "table": [
           {
            "cells": {
             "fill": {
              "color": "#EBF0F8"
             },
             "line": {
              "color": "white"
             }
            },
            "header": {
             "fill": {
              "color": "#C8D4E3"
             },
             "line": {
              "color": "white"
             }
            },
            "type": "table"
           }
          ]
         },
         "layout": {
          "annotationdefaults": {
           "arrowcolor": "#2a3f5f",
           "arrowhead": 0,
           "arrowwidth": 1
          },
          "coloraxis": {
           "colorbar": {
            "outlinewidth": 0,
            "ticks": ""
           }
          },
          "colorscale": {
           "diverging": [
            [
             0,
             "#8e0152"
            ],
            [
             0.1,
             "#c51b7d"
            ],
            [
             0.2,
             "#de77ae"
            ],
            [
             0.3,
             "#f1b6da"
            ],
            [
             0.4,
             "#fde0ef"
            ],
            [
             0.5,
             "#f7f7f7"
            ],
            [
             0.6,
             "#e6f5d0"
            ],
            [
             0.7,
             "#b8e186"
            ],
            [
             0.8,
             "#7fbc41"
            ],
            [
             0.9,
             "#4d9221"
            ],
            [
             1,
             "#276419"
            ]
           ],
           "sequential": [
            [
             0,
             "#0d0887"
            ],
            [
             0.1111111111111111,
             "#46039f"
            ],
            [
             0.2222222222222222,
             "#7201a8"
            ],
            [
             0.3333333333333333,
             "#9c179e"
            ],
            [
             0.4444444444444444,
             "#bd3786"
            ],
            [
             0.5555555555555556,
             "#d8576b"
            ],
            [
             0.6666666666666666,
             "#ed7953"
            ],
            [
             0.7777777777777778,
             "#fb9f3a"
            ],
            [
             0.8888888888888888,
             "#fdca26"
            ],
            [
             1,
             "#f0f921"
            ]
           ],
           "sequentialminus": [
            [
             0,
             "#0d0887"
            ],
            [
             0.1111111111111111,
             "#46039f"
            ],
            [
             0.2222222222222222,
             "#7201a8"
            ],
            [
             0.3333333333333333,
             "#9c179e"
            ],
            [
             0.4444444444444444,
             "#bd3786"
            ],
            [
             0.5555555555555556,
             "#d8576b"
            ],
            [
             0.6666666666666666,
             "#ed7953"
            ],
            [
             0.7777777777777778,
             "#fb9f3a"
            ],
            [
             0.8888888888888888,
             "#fdca26"
            ],
            [
             1,
             "#f0f921"
            ]
           ]
          },
          "colorway": [
           "#636efa",
           "#EF553B",
           "#00cc96",
           "#ab63fa",
           "#FFA15A",
           "#19d3f3",
           "#FF6692",
           "#B6E880",
           "#FF97FF",
           "#FECB52"
          ],
          "font": {
           "color": "#2a3f5f"
          },
          "geo": {
           "bgcolor": "white",
           "lakecolor": "white",
           "landcolor": "#E5ECF6",
           "showlakes": true,
           "showland": true,
           "subunitcolor": "white"
          },
          "hoverlabel": {
           "align": "left"
          },
          "hovermode": "closest",
          "mapbox": {
           "style": "light"
          },
          "paper_bgcolor": "white",
          "plot_bgcolor": "#E5ECF6",
          "polar": {
           "angularaxis": {
            "gridcolor": "white",
            "linecolor": "white",
            "ticks": ""
           },
           "bgcolor": "#E5ECF6",
           "radialaxis": {
            "gridcolor": "white",
            "linecolor": "white",
            "ticks": ""
           }
          },
          "scene": {
           "xaxis": {
            "backgroundcolor": "#E5ECF6",
            "gridcolor": "white",
            "gridwidth": 2,
            "linecolor": "white",
            "showbackground": true,
            "ticks": "",
            "zerolinecolor": "white"
           },
           "yaxis": {
            "backgroundcolor": "#E5ECF6",
            "gridcolor": "white",
            "gridwidth": 2,
            "linecolor": "white",
            "showbackground": true,
            "ticks": "",
            "zerolinecolor": "white"
           },
           "zaxis": {
            "backgroundcolor": "#E5ECF6",
            "gridcolor": "white",
            "gridwidth": 2,
            "linecolor": "white",
            "showbackground": true,
            "ticks": "",
            "zerolinecolor": "white"
           }
          },
          "shapedefaults": {
           "line": {
            "color": "#2a3f5f"
           }
          },
          "ternary": {
           "aaxis": {
            "gridcolor": "white",
            "linecolor": "white",
            "ticks": ""
           },
           "baxis": {
            "gridcolor": "white",
            "linecolor": "white",
            "ticks": ""
           },
           "bgcolor": "#E5ECF6",
           "caxis": {
            "gridcolor": "white",
            "linecolor": "white",
            "ticks": ""
           }
          },
          "title": {
           "x": 0.05
          },
          "xaxis": {
           "automargin": true,
           "gridcolor": "white",
           "linecolor": "white",
           "ticks": "",
           "title": {
            "standoff": 15
           },
           "zerolinecolor": "white",
           "zerolinewidth": 2
          },
          "yaxis": {
           "automargin": true,
           "gridcolor": "white",
           "linecolor": "white",
           "ticks": "",
           "title": {
            "standoff": 15
           },
           "zerolinecolor": "white",
           "zerolinewidth": 2
          }
         }
        },
        "title": {
         "font": {
          "color": "#4D5663"
         }
        },
        "xaxis": {
         "gridcolor": "#E1E5ED",
         "showgrid": true,
         "tickfont": {
          "color": "#4D5663"
         },
         "title": {
          "font": {
           "color": "#4D5663"
          },
          "text": ""
         },
         "zerolinecolor": "#E1E5ED"
        },
        "xaxis2": {
         "anchor": "y2",
         "gridcolor": "#E1E5ED",
         "showgrid": true,
         "showticklabels": false,
         "tickfont": {
          "color": "#4D5663"
         },
         "title": {
          "font": {
           "color": "#4D5663"
          },
          "text": ""
         },
         "zerolinecolor": "#E1E5ED"
        },
        "yaxis": {
         "domain": [
          0.3,
          1
         ],
         "gridcolor": "#E1E5ED",
         "showgrid": true,
         "tickfont": {
          "color": "#4D5663"
         },
         "title": {
          "font": {
           "color": "#4D5663"
          },
          "text": ""
         },
         "zerolinecolor": "#E1E5ED"
        },
        "yaxis2": {
         "domain": [
          0,
          0.25
         ],
         "gridcolor": "#E1E5ED",
         "showgrid": true,
         "tickfont": {
          "color": "#4D5663"
         },
         "title": {
          "font": {
           "color": "#4D5663"
          },
          "text": "Spread"
         },
         "zerolinecolor": "#E1E5ED"
        }
       }
      },
      "text/html": [
       "<div>\n",
       "        \n",
       "        \n",
       "            <div id=\"cd8e7197-0ae4-4a8e-b721-a17c55e61d3b\" class=\"plotly-graph-div\" style=\"height:525px; width:100%;\"></div>\n",
       "            <script type=\"text/javascript\">\n",
       "                require([\"plotly\"], function(Plotly) {\n",
       "                    window.PLOTLYENV=window.PLOTLYENV || {};\n",
       "                    window.PLOTLYENV.BASE_URL='https://plot.ly';\n",
       "                    \n",
       "                if (document.getElementById(\"cd8e7197-0ae4-4a8e-b721-a17c55e61d3b\")) {\n",
       "                    Plotly.newPlot(\n",
       "                        'cd8e7197-0ae4-4a8e-b721-a17c55e61d3b',\n",
       "                        [{\"line\": {\"color\": \"rgba(255, 153, 51, 1.0)\", \"dash\": \"solid\", \"shape\": \"linear\", \"width\": 1.3}, \"mode\": \"lines\", \"name\": \"A\", \"text\": \"\", \"type\": \"scatter\", \"x\": [0, 1, 2, 3, 4, 5, 6, 7, 8, 9, 10, 11, 12, 13, 14, 15, 16, 17, 18, 19, 20, 21, 22, 23, 24, 25, 26, 27, 28, 29, 30, 31, 32, 33, 34, 35, 36, 37, 38, 39, 40, 41, 42, 43, 44, 45, 46, 47, 48, 49, 50, 51, 52, 53, 54, 55, 56, 57, 58, 59, 60, 61, 62, 63, 64, 65, 66, 67, 68, 69, 70, 71, 72, 73, 74, 75, 76, 77, 78, 79, 80, 81, 82, 83, 84, 85, 86, 87, 88, 89, 90, 91, 92, 93, 94, 95, 96, 97, 98, 99], \"y\": [-2.19517732281781, 0.41297071995567625, 0.5238259134616036, 2.321660493048887, -1.7918868447130059, -1.4003185528924975, -1.7297604866535865, -0.44388711000201464, -0.5052550235591972, -0.20154762526484626, -0.08352134157213167, -0.6855060781663106, 1.0887687415999572, 0.2855894125108078, 0.7980404615235451, -1.0339660491462646, 0.552988758119476, -0.011700097264279497, 0.021437589270594415, -0.08236305549690165, 0.5291996261975528, 0.6551868758377841, -1.4859686060330128, -1.9244490589884782, 0.8448386798137778, 0.375889652742352, 0.6713684703182022, 0.5292666392387347, -1.8438289583630185, 0.558440068266143, -0.6563135402637561, -1.6316467385018294, -0.39836303303761095, 0.0691617062364122, 0.1353258261082668, 0.7185436507289951, 1.553925211212386, -0.5714655522307664, 1.4904875406858629, 0.6217440104496987, 0.7865768608697654, 0.7378588602432641, -0.8985395833921609, 0.6397978501868015, -0.2631592379934458, -0.18465379229969653, -1.766855324557164, 0.12173746345167527, -0.743605387049839, 0.784334833739347, 0.3917372705482704, -0.5909559239175638, -0.40630782754950207, -0.9881423673945723, -1.4597607300847637, 0.3023562251048793, -0.1954609877017618, 1.8127924584945665, -0.438196644574794, 0.9922522061400024, -0.859983652215299, 0.4246206377667659, 1.2931457895853469, -0.3197471206910602, -0.29015708985798294, -2.4200083935552144, -0.5531573484596305, 0.9919788860691116, -0.10068870784096433, 0.013473054882340725, 0.8870424485265856, -1.52983366553648, 0.8145957073039255, -0.81898061248173, -0.9098258908774242, -1.3752270874209238, 1.3669607304331788, -0.040484151685499445, -1.1206413918176934, 0.4768318852770323, -0.3417763069099912, -1.408962249978248, -1.5951427299765275, 1.2197177433735997, 0.5445789312288598, 0.6313147555355381, 0.32000780366272574, -0.8704515879612656, -0.627920771771115, 0.8440369058295358, -1.2010314467224608, 0.10303101875969292, 1.7119342867501717, 1.345218350267589, 1.8895042692650679, 0.5245714274017701, -0.010284788799988025, 1.4983859268949218, 0.6627916098655476, -0.9058275513453036]}, {\"line\": {\"color\": \"rgba(55, 128, 191, 1.0)\", \"dash\": \"solid\", \"shape\": \"linear\", \"width\": 1.3}, \"mode\": \"lines\", \"name\": \"B\", \"text\": \"\", \"type\": \"scatter\", \"x\": [0, 1, 2, 3, 4, 5, 6, 7, 8, 9, 10, 11, 12, 13, 14, 15, 16, 17, 18, 19, 20, 21, 22, 23, 24, 25, 26, 27, 28, 29, 30, 31, 32, 33, 34, 35, 36, 37, 38, 39, 40, 41, 42, 43, 44, 45, 46, 47, 48, 49, 50, 51, 52, 53, 54, 55, 56, 57, 58, 59, 60, 61, 62, 63, 64, 65, 66, 67, 68, 69, 70, 71, 72, 73, 74, 75, 76, 77, 78, 79, 80, 81, 82, 83, 84, 85, 86, 87, 88, 89, 90, 91, 92, 93, 94, 95, 96, 97, 98, 99], \"y\": [-0.2551109513862989, -1.5127464737870182, 0.3758014389849401, 1.8857727661935286, 1.662544285322015, -1.2664294656572934, -1.5174696024398788, 0.5852178156544476, 0.6965117049576418, -1.1279399272931596, -0.6863623724755933, -1.1044899382302837, 0.07098359754755064, 1.2151791713518312, 0.2203176108637594, 2.6295732761898005, 0.6798859657591843, 0.986074789157596, -1.2317801711589613, -0.7665611492450716, -0.022858667742858704, -0.6294825856993135, 1.6306391943001899, 1.6995515594849566, -0.5905495429530158, 0.47793027697582735, -0.44609211623245887, 1.7576040287335875, -1.0923347767002078, -1.8993634237607036, 0.5844253290883914, -0.04822525857137415, 0.3463651631429565, 0.40013204209307585, 0.22836136631949458, 0.5377706594361823, -0.046788587259596004, -2.5718183127194134, -0.15116176468220824, -0.21953364549617513, -0.3325484225048974, -1.8096452038883564, 0.7289382006548182, -0.09439706742108991, 0.012540101956239863, -0.48136707668519524, 1.1582886336009641, -0.4248727474952323, 0.40709870307468116, 1.0717332510596662, 0.458827727449291, 0.9438296370958118, 1.4303013514646175, -0.403906433119754, 0.7027145404728263, 0.5103829539116806, -0.8123969957649172, 0.3383761382920852, -1.171096152810323, 0.46599418331537706, 0.47419707617009593, -2.56535748723371, -0.06782037218279009, -0.9328199422531491, 0.08936881595781979, 1.105071798487719, 1.292664158575097, -2.6250692746878195, -0.45631212365946394, 1.018318165064855, -1.2526436138204882, -0.17168542970891618, -0.4699345868151425, 0.38738762957994255, -1.5998498437689137, 0.7609470697567795, -0.2616975602236235, 0.08826540754723577, 0.2378673846850535, 0.32753070517438304, -0.6997696295911957, -0.9027758435345248, -0.07465487316390441, -2.4577222932537945, 0.3340426817758278, 0.6960081666749737, -0.26319239683785034, -0.9980782560498498, -0.12339060576071016, -0.17112287315675134, 0.6429944355509232, 0.9524051082923007, -1.323623217934063, 0.23723427993329563, 0.09923915891778237, 0.05748639326282414, -0.8615285511403645, 0.5099022980535224, -0.29916479814974173, -0.3551225033150403]}, {\"connectgaps\": false, \"fill\": \"tozeroy\", \"line\": {\"color\": \"green\", \"dash\": \"solid\", \"shape\": \"linear\", \"width\": 0.5}, \"mode\": \"lines\", \"name\": \"Spread\", \"showlegend\": false, \"type\": \"scatter\", \"x\": [0, 1, 2, 3, 4, 5, 6, 7, 8, 9, 10, 11, 12, 13, 14, 15, 16, 17, 18, 19, 20, 21, 22, 23, 24, 25, 26, 27, 28, 29, 30, 31, 32, 33, 34, 35, 36, 37, 38, 39, 40, 41, 42, 43, 44, 45, 46, 47, 48, 49, 50, 51, 52, 53, 54, 55, 56, 57, 58, 59, 60, 61, 62, 63, 64, 65, 66, 67, 68, 69, 70, 71, 72, 73, 74, 75, 76, 77, 78, 79, 80, 81, 82, 83, 84, 85, 86, 87, 88, 89, 90, 91, 92, 93, 94, 95, 96, 97, 98, 99], \"xaxis\": \"x2\", \"y\": [\"\", 1.9257171937426945, 0.14802447447666345, 0.4358877268553585, \"\", \"\", \"\", \"\", \"\", 0.9263923020283134, 0.6028410309034616, 0.41898386006397315, 1.0177851440524066, \"\", 0.5777228506597858, \"\", \"\", \"\", 1.2532177604295558, 0.68419809374817, 0.5520582939404115, 1.2846694615370975, \"\", \"\", 1.4353882227667936, \"\", 1.117460586550661, \"\", \"\", 2.4578034920268466, \"\", \"\", \"\", \"\", \"\", 0.18077299129281277, 1.6007137984719821, 2.000352760488647, 1.6416493053680712, 0.8412776559458739, 1.1191252833746628, 2.5475040641316204, \"\", 0.7341949176078914, \"\", 0.2967132843854987, \"\", 0.5466102109469075, \"\", \"\", \"\", \"\", \"\", \"\", \"\", \"\", 0.6169360080631554, 1.4744163202024814, 0.732899508235529, 0.5262580228246254, \"\", 2.989978125000476, 1.360966161768137, 0.6130728215620889, \"\", \"\", \"\", 3.617048160756931, 0.3556234158184996, \"\", 2.139686062347074, \"\", 1.284530294119068, \"\", 0.6900239528914895, \"\", 1.6286582906568023, \"\", \"\", 0.14930118010264926, 0.3579933226812045, \"\", \"\", 3.6774400366273943, 0.210536249453032, \"\", 0.5832002005005761, 0.12762666808858414, \"\", 1.0151597789862872, \"\", \"\", 3.0355575046842347, 1.1079840703342934, 1.7902651103472855, 0.467085034138946, 0.8512437623403765, 0.9884836288413994, 0.9619564080152894, \"\"], \"yaxis\": \"y2\"}, {\"connectgaps\": false, \"fill\": \"tozeroy\", \"line\": {\"color\": \"red\", \"dash\": \"solid\", \"shape\": \"linear\", \"width\": 0.5}, \"mode\": \"lines\", \"name\": \"Spread\", \"showlegend\": false, \"type\": \"scatter\", \"x\": [0, 1, 2, 3, 4, 5, 6, 7, 8, 9, 10, 11, 12, 13, 14, 15, 16, 17, 18, 19, 20, 21, 22, 23, 24, 25, 26, 27, 28, 29, 30, 31, 32, 33, 34, 35, 36, 37, 38, 39, 40, 41, 42, 43, 44, 45, 46, 47, 48, 49, 50, 51, 52, 53, 54, 55, 56, 57, 58, 59, 60, 61, 62, 63, 64, 65, 66, 67, 68, 69, 70, 71, 72, 73, 74, 75, 76, 77, 78, 79, 80, 81, 82, 83, 84, 85, 86, 87, 88, 89, 90, 91, 92, 93, 94, 95, 96, 97, 98, 99], \"xaxis\": \"x2\", \"y\": [-1.9400663714315112, \"\", \"\", \"\", -3.4544311300350206, -0.1338890872352041, -0.21229088421370768, -1.0291049256564624, -1.201766728516839, \"\", \"\", \"\", \"\", -0.9295897588410234, \"\", -3.663539325336065, -0.12689720763970824, -0.9977748864218755, \"\", \"\", \"\", \"\", -3.1166078003332025, -3.624000618473435, \"\", -0.10204062423347537, \"\", -1.2283373894948526, -0.7514941816628107, \"\", -1.2407388693521475, -1.5834214799304553, -0.7447281961805674, -0.33097033585666363, -0.09303554021122779, \"\", \"\", \"\", \"\", \"\", \"\", \"\", -1.6274777840469792, \"\", -0.27569933994968565, \"\", -2.925143958158128, \"\", -1.1507040901245202, -0.28739841732031923, -0.06709045690102061, -1.5347855610133756, -1.8366091790141195, -0.5842359342748182, -2.1624752705575903, -0.20802672880680134, \"\", \"\", \"\", \"\", -1.334180728385395, \"\", \"\", \"\", -0.3795259058158027, -3.5250801920429335, -1.8458215070347275, \"\", \"\", -1.0048451101825142, \"\", -1.3581482358275638, \"\", -1.2063682420616726, \"\", -2.1361741571777033, \"\", -0.12874955923273523, -1.3585087765027468, \"\", \"\", -0.5061864064437231, -1.520487856812623, \"\", \"\", -0.06469341113943561, \"\", \"\", -0.5045301660104049, \"\", -1.844025882273384, -0.8493740895326078, \"\", \"\", \"\", \"\", \"\", \"\", \"\", -0.5507050480302633], \"yaxis\": \"y2\"}],\n",
       "                        {\"hovermode\": \"x\", \"legend\": {\"bgcolor\": \"#F5F6F9\", \"font\": {\"color\": \"#4D5663\"}}, \"paper_bgcolor\": \"#F5F6F9\", \"plot_bgcolor\": \"#F5F6F9\", \"template\": {\"data\": {\"bar\": [{\"error_x\": {\"color\": \"#2a3f5f\"}, \"error_y\": {\"color\": \"#2a3f5f\"}, \"marker\": {\"line\": {\"color\": \"#E5ECF6\", \"width\": 0.5}}, \"type\": \"bar\"}], \"barpolar\": [{\"marker\": {\"line\": {\"color\": \"#E5ECF6\", \"width\": 0.5}}, \"type\": \"barpolar\"}], \"carpet\": [{\"aaxis\": {\"endlinecolor\": \"#2a3f5f\", \"gridcolor\": \"white\", \"linecolor\": \"white\", \"minorgridcolor\": \"white\", \"startlinecolor\": \"#2a3f5f\"}, \"baxis\": {\"endlinecolor\": \"#2a3f5f\", \"gridcolor\": \"white\", \"linecolor\": \"white\", \"minorgridcolor\": \"white\", \"startlinecolor\": \"#2a3f5f\"}, \"type\": \"carpet\"}], \"choropleth\": [{\"colorbar\": {\"outlinewidth\": 0, \"ticks\": \"\"}, \"type\": \"choropleth\"}], \"contour\": [{\"colorbar\": {\"outlinewidth\": 0, \"ticks\": \"\"}, \"colorscale\": [[0.0, \"#0d0887\"], [0.1111111111111111, \"#46039f\"], [0.2222222222222222, \"#7201a8\"], [0.3333333333333333, \"#9c179e\"], [0.4444444444444444, \"#bd3786\"], [0.5555555555555556, \"#d8576b\"], [0.6666666666666666, \"#ed7953\"], [0.7777777777777778, \"#fb9f3a\"], [0.8888888888888888, \"#fdca26\"], [1.0, \"#f0f921\"]], \"type\": \"contour\"}], \"contourcarpet\": [{\"colorbar\": {\"outlinewidth\": 0, \"ticks\": \"\"}, \"type\": \"contourcarpet\"}], \"heatmap\": [{\"colorbar\": {\"outlinewidth\": 0, \"ticks\": \"\"}, \"colorscale\": [[0.0, \"#0d0887\"], [0.1111111111111111, \"#46039f\"], [0.2222222222222222, \"#7201a8\"], [0.3333333333333333, \"#9c179e\"], [0.4444444444444444, \"#bd3786\"], [0.5555555555555556, \"#d8576b\"], [0.6666666666666666, \"#ed7953\"], [0.7777777777777778, \"#fb9f3a\"], [0.8888888888888888, \"#fdca26\"], [1.0, \"#f0f921\"]], \"type\": \"heatmap\"}], \"heatmapgl\": [{\"colorbar\": {\"outlinewidth\": 0, \"ticks\": \"\"}, \"colorscale\": [[0.0, \"#0d0887\"], [0.1111111111111111, \"#46039f\"], [0.2222222222222222, \"#7201a8\"], [0.3333333333333333, \"#9c179e\"], [0.4444444444444444, \"#bd3786\"], [0.5555555555555556, \"#d8576b\"], [0.6666666666666666, \"#ed7953\"], [0.7777777777777778, \"#fb9f3a\"], [0.8888888888888888, \"#fdca26\"], [1.0, \"#f0f921\"]], \"type\": \"heatmapgl\"}], \"histogram\": [{\"marker\": {\"colorbar\": {\"outlinewidth\": 0, \"ticks\": \"\"}}, \"type\": \"histogram\"}], \"histogram2d\": [{\"colorbar\": {\"outlinewidth\": 0, \"ticks\": \"\"}, \"colorscale\": [[0.0, \"#0d0887\"], [0.1111111111111111, \"#46039f\"], [0.2222222222222222, \"#7201a8\"], [0.3333333333333333, \"#9c179e\"], [0.4444444444444444, \"#bd3786\"], [0.5555555555555556, \"#d8576b\"], [0.6666666666666666, \"#ed7953\"], [0.7777777777777778, \"#fb9f3a\"], [0.8888888888888888, \"#fdca26\"], [1.0, \"#f0f921\"]], \"type\": \"histogram2d\"}], \"histogram2dcontour\": [{\"colorbar\": {\"outlinewidth\": 0, \"ticks\": \"\"}, \"colorscale\": [[0.0, \"#0d0887\"], [0.1111111111111111, \"#46039f\"], [0.2222222222222222, \"#7201a8\"], [0.3333333333333333, \"#9c179e\"], [0.4444444444444444, \"#bd3786\"], [0.5555555555555556, \"#d8576b\"], [0.6666666666666666, \"#ed7953\"], [0.7777777777777778, \"#fb9f3a\"], [0.8888888888888888, \"#fdca26\"], [1.0, \"#f0f921\"]], \"type\": \"histogram2dcontour\"}], \"mesh3d\": [{\"colorbar\": {\"outlinewidth\": 0, \"ticks\": \"\"}, \"type\": \"mesh3d\"}], \"parcoords\": [{\"line\": {\"colorbar\": {\"outlinewidth\": 0, \"ticks\": \"\"}}, \"type\": \"parcoords\"}], \"pie\": [{\"automargin\": true, \"type\": \"pie\"}], \"scatter\": [{\"marker\": {\"colorbar\": {\"outlinewidth\": 0, \"ticks\": \"\"}}, \"type\": \"scatter\"}], \"scatter3d\": [{\"line\": {\"colorbar\": {\"outlinewidth\": 0, \"ticks\": \"\"}}, \"marker\": {\"colorbar\": {\"outlinewidth\": 0, \"ticks\": \"\"}}, \"type\": \"scatter3d\"}], \"scattercarpet\": [{\"marker\": {\"colorbar\": {\"outlinewidth\": 0, \"ticks\": \"\"}}, \"type\": \"scattercarpet\"}], \"scattergeo\": [{\"marker\": {\"colorbar\": {\"outlinewidth\": 0, \"ticks\": \"\"}}, \"type\": \"scattergeo\"}], \"scattergl\": [{\"marker\": {\"colorbar\": {\"outlinewidth\": 0, \"ticks\": \"\"}}, \"type\": \"scattergl\"}], \"scattermapbox\": [{\"marker\": {\"colorbar\": {\"outlinewidth\": 0, \"ticks\": \"\"}}, \"type\": \"scattermapbox\"}], \"scatterpolar\": [{\"marker\": {\"colorbar\": {\"outlinewidth\": 0, \"ticks\": \"\"}}, \"type\": \"scatterpolar\"}], \"scatterpolargl\": [{\"marker\": {\"colorbar\": {\"outlinewidth\": 0, \"ticks\": \"\"}}, \"type\": \"scatterpolargl\"}], \"scatterternary\": [{\"marker\": {\"colorbar\": {\"outlinewidth\": 0, \"ticks\": \"\"}}, \"type\": \"scatterternary\"}], \"surface\": [{\"colorbar\": {\"outlinewidth\": 0, \"ticks\": \"\"}, \"colorscale\": [[0.0, \"#0d0887\"], [0.1111111111111111, \"#46039f\"], [0.2222222222222222, \"#7201a8\"], [0.3333333333333333, \"#9c179e\"], [0.4444444444444444, \"#bd3786\"], [0.5555555555555556, \"#d8576b\"], [0.6666666666666666, \"#ed7953\"], [0.7777777777777778, \"#fb9f3a\"], [0.8888888888888888, \"#fdca26\"], [1.0, \"#f0f921\"]], \"type\": \"surface\"}], \"table\": [{\"cells\": {\"fill\": {\"color\": \"#EBF0F8\"}, \"line\": {\"color\": \"white\"}}, \"header\": {\"fill\": {\"color\": \"#C8D4E3\"}, \"line\": {\"color\": \"white\"}}, \"type\": \"table\"}]}, \"layout\": {\"annotationdefaults\": {\"arrowcolor\": \"#2a3f5f\", \"arrowhead\": 0, \"arrowwidth\": 1}, \"coloraxis\": {\"colorbar\": {\"outlinewidth\": 0, \"ticks\": \"\"}}, \"colorscale\": {\"diverging\": [[0, \"#8e0152\"], [0.1, \"#c51b7d\"], [0.2, \"#de77ae\"], [0.3, \"#f1b6da\"], [0.4, \"#fde0ef\"], [0.5, \"#f7f7f7\"], [0.6, \"#e6f5d0\"], [0.7, \"#b8e186\"], [0.8, \"#7fbc41\"], [0.9, \"#4d9221\"], [1, \"#276419\"]], \"sequential\": [[0.0, \"#0d0887\"], [0.1111111111111111, \"#46039f\"], [0.2222222222222222, \"#7201a8\"], [0.3333333333333333, \"#9c179e\"], [0.4444444444444444, \"#bd3786\"], [0.5555555555555556, \"#d8576b\"], [0.6666666666666666, \"#ed7953\"], [0.7777777777777778, \"#fb9f3a\"], [0.8888888888888888, \"#fdca26\"], [1.0, \"#f0f921\"]], \"sequentialminus\": [[0.0, \"#0d0887\"], [0.1111111111111111, \"#46039f\"], [0.2222222222222222, \"#7201a8\"], [0.3333333333333333, \"#9c179e\"], [0.4444444444444444, \"#bd3786\"], [0.5555555555555556, \"#d8576b\"], [0.6666666666666666, \"#ed7953\"], [0.7777777777777778, \"#fb9f3a\"], [0.8888888888888888, \"#fdca26\"], [1.0, \"#f0f921\"]]}, \"colorway\": [\"#636efa\", \"#EF553B\", \"#00cc96\", \"#ab63fa\", \"#FFA15A\", \"#19d3f3\", \"#FF6692\", \"#B6E880\", \"#FF97FF\", \"#FECB52\"], \"font\": {\"color\": \"#2a3f5f\"}, \"geo\": {\"bgcolor\": \"white\", \"lakecolor\": \"white\", \"landcolor\": \"#E5ECF6\", \"showlakes\": true, \"showland\": true, \"subunitcolor\": \"white\"}, \"hoverlabel\": {\"align\": \"left\"}, \"hovermode\": \"closest\", \"mapbox\": {\"style\": \"light\"}, \"paper_bgcolor\": \"white\", \"plot_bgcolor\": \"#E5ECF6\", \"polar\": {\"angularaxis\": {\"gridcolor\": \"white\", \"linecolor\": \"white\", \"ticks\": \"\"}, \"bgcolor\": \"#E5ECF6\", \"radialaxis\": {\"gridcolor\": \"white\", \"linecolor\": \"white\", \"ticks\": \"\"}}, \"scene\": {\"xaxis\": {\"backgroundcolor\": \"#E5ECF6\", \"gridcolor\": \"white\", \"gridwidth\": 2, \"linecolor\": \"white\", \"showbackground\": true, \"ticks\": \"\", \"zerolinecolor\": \"white\"}, \"yaxis\": {\"backgroundcolor\": \"#E5ECF6\", \"gridcolor\": \"white\", \"gridwidth\": 2, \"linecolor\": \"white\", \"showbackground\": true, \"ticks\": \"\", \"zerolinecolor\": \"white\"}, \"zaxis\": {\"backgroundcolor\": \"#E5ECF6\", \"gridcolor\": \"white\", \"gridwidth\": 2, \"linecolor\": \"white\", \"showbackground\": true, \"ticks\": \"\", \"zerolinecolor\": \"white\"}}, \"shapedefaults\": {\"line\": {\"color\": \"#2a3f5f\"}}, \"ternary\": {\"aaxis\": {\"gridcolor\": \"white\", \"linecolor\": \"white\", \"ticks\": \"\"}, \"baxis\": {\"gridcolor\": \"white\", \"linecolor\": \"white\", \"ticks\": \"\"}, \"bgcolor\": \"#E5ECF6\", \"caxis\": {\"gridcolor\": \"white\", \"linecolor\": \"white\", \"ticks\": \"\"}}, \"title\": {\"x\": 0.05}, \"xaxis\": {\"automargin\": true, \"gridcolor\": \"white\", \"linecolor\": \"white\", \"ticks\": \"\", \"title\": {\"standoff\": 15}, \"zerolinecolor\": \"white\", \"zerolinewidth\": 2}, \"yaxis\": {\"automargin\": true, \"gridcolor\": \"white\", \"linecolor\": \"white\", \"ticks\": \"\", \"title\": {\"standoff\": 15}, \"zerolinecolor\": \"white\", \"zerolinewidth\": 2}}}, \"title\": {\"font\": {\"color\": \"#4D5663\"}}, \"xaxis\": {\"gridcolor\": \"#E1E5ED\", \"showgrid\": true, \"tickfont\": {\"color\": \"#4D5663\"}, \"title\": {\"font\": {\"color\": \"#4D5663\"}, \"text\": \"\"}, \"zerolinecolor\": \"#E1E5ED\"}, \"xaxis2\": {\"anchor\": \"y2\", \"gridcolor\": \"#E1E5ED\", \"showgrid\": true, \"showticklabels\": false, \"tickfont\": {\"color\": \"#4D5663\"}, \"title\": {\"font\": {\"color\": \"#4D5663\"}, \"text\": \"\"}, \"zerolinecolor\": \"#E1E5ED\"}, \"yaxis\": {\"domain\": [0.3, 1], \"gridcolor\": \"#E1E5ED\", \"showgrid\": true, \"tickfont\": {\"color\": \"#4D5663\"}, \"title\": {\"font\": {\"color\": \"#4D5663\"}, \"text\": \"\"}, \"zerolinecolor\": \"#E1E5ED\"}, \"yaxis2\": {\"domain\": [0, 0.25], \"gridcolor\": \"#E1E5ED\", \"showgrid\": true, \"tickfont\": {\"color\": \"#4D5663\"}, \"title\": {\"font\": {\"color\": \"#4D5663\"}, \"text\": \"Spread\"}, \"zerolinecolor\": \"#E1E5ED\"}},\n",
       "                        {\"showLink\": true, \"linkText\": \"Export to plot.ly\", \"plotlyServerURL\": \"https://plot.ly\", \"responsive\": true}\n",
       "                    ).then(function(){\n",
       "                            \n",
       "var gd = document.getElementById('cd8e7197-0ae4-4a8e-b721-a17c55e61d3b');\n",
       "var x = new MutationObserver(function (mutations, observer) {{\n",
       "        var display = window.getComputedStyle(gd).display;\n",
       "        if (!display || display === 'none') {{\n",
       "            console.log([gd, 'removed!']);\n",
       "            Plotly.purge(gd);\n",
       "            observer.disconnect();\n",
       "        }}\n",
       "}});\n",
       "\n",
       "// Listen for the removal of the full notebook cells\n",
       "var notebookContainer = gd.closest('#notebook-container');\n",
       "if (notebookContainer) {{\n",
       "    x.observe(notebookContainer, {childList: true});\n",
       "}}\n",
       "\n",
       "// Listen for the clearing of the current output cell\n",
       "var outputEl = gd.closest('.output');\n",
       "if (outputEl) {{\n",
       "    x.observe(outputEl, {childList: true});\n",
       "}}\n",
       "\n",
       "                        })\n",
       "                };\n",
       "                });\n",
       "            </script>\n",
       "        </div>"
      ]
     },
     "metadata": {},
     "output_type": "display_data"
    }
   ],
   "source": [
    "#used for markets, plots data linearly and their spread (range)\n",
    "\n",
    "df[['A','B']].iplot(kind='spread') "
   ]
  },
  {
   "cell_type": "markdown",
   "metadata": {},
   "source": [
    "## histogram"
   ]
  },
  {
   "cell_type": "code",
   "execution_count": 17,
   "metadata": {},
   "outputs": [
    {
     "data": {
      "application/vnd.plotly.v1+json": {
       "config": {
        "linkText": "Export to plot.ly",
        "plotlyServerURL": "https://plot.ly",
        "showLink": true
       },
       "data": [
        {
         "histfunc": "count",
         "histnorm": "",
         "marker": {
          "color": "rgba(255, 153, 51, 1.0)",
          "line": {
           "color": "#4D5663",
           "width": 1.3
          }
         },
         "name": "A",
         "nbinsx": 25,
         "opacity": 0.8,
         "orientation": "v",
         "type": "histogram",
         "x": [
          -2.19517732281781,
          0.41297071995567625,
          0.5238259134616036,
          2.321660493048887,
          -1.7918868447130059,
          -1.4003185528924975,
          -1.7297604866535865,
          -0.44388711000201464,
          -0.5052550235591972,
          -0.20154762526484626,
          -0.08352134157213167,
          -0.6855060781663106,
          1.0887687415999572,
          0.2855894125108078,
          0.7980404615235451,
          -1.0339660491462646,
          0.552988758119476,
          -0.011700097264279497,
          0.021437589270594415,
          -0.08236305549690165,
          0.5291996261975528,
          0.6551868758377841,
          -1.4859686060330128,
          -1.9244490589884782,
          0.8448386798137778,
          0.375889652742352,
          0.6713684703182022,
          0.5292666392387347,
          -1.8438289583630185,
          0.558440068266143,
          -0.6563135402637561,
          -1.6316467385018294,
          -0.39836303303761095,
          0.0691617062364122,
          0.1353258261082668,
          0.7185436507289951,
          1.553925211212386,
          -0.5714655522307664,
          1.4904875406858629,
          0.6217440104496987,
          0.7865768608697654,
          0.7378588602432641,
          -0.8985395833921609,
          0.6397978501868015,
          -0.2631592379934458,
          -0.18465379229969653,
          -1.766855324557164,
          0.12173746345167527,
          -0.743605387049839,
          0.784334833739347,
          0.3917372705482704,
          -0.5909559239175638,
          -0.40630782754950207,
          -0.9881423673945723,
          -1.4597607300847637,
          0.3023562251048793,
          -0.1954609877017618,
          1.8127924584945665,
          -0.438196644574794,
          0.9922522061400024,
          -0.859983652215299,
          0.4246206377667659,
          1.2931457895853469,
          -0.3197471206910602,
          -0.29015708985798294,
          -2.4200083935552144,
          -0.5531573484596305,
          0.9919788860691116,
          -0.10068870784096433,
          0.013473054882340725,
          0.8870424485265856,
          -1.52983366553648,
          0.8145957073039255,
          -0.81898061248173,
          -0.9098258908774242,
          -1.3752270874209238,
          1.3669607304331788,
          -0.040484151685499445,
          -1.1206413918176934,
          0.4768318852770323,
          -0.3417763069099912,
          -1.408962249978248,
          -1.5951427299765275,
          1.2197177433735997,
          0.5445789312288598,
          0.6313147555355381,
          0.32000780366272574,
          -0.8704515879612656,
          -0.627920771771115,
          0.8440369058295358,
          -1.2010314467224608,
          0.10303101875969292,
          1.7119342867501717,
          1.345218350267589,
          1.8895042692650679,
          0.5245714274017701,
          -0.010284788799988025,
          1.4983859268949218,
          0.6627916098655476,
          -0.9058275513453036
         ]
        }
       ],
       "layout": {
        "barmode": "overlay",
        "legend": {
         "bgcolor": "#F5F6F9",
         "font": {
          "color": "#4D5663"
         }
        },
        "paper_bgcolor": "#F5F6F9",
        "plot_bgcolor": "#F5F6F9",
        "template": {
         "data": {
          "bar": [
           {
            "error_x": {
             "color": "#2a3f5f"
            },
            "error_y": {
             "color": "#2a3f5f"
            },
            "marker": {
             "line": {
              "color": "#E5ECF6",
              "width": 0.5
             }
            },
            "type": "bar"
           }
          ],
          "barpolar": [
           {
            "marker": {
             "line": {
              "color": "#E5ECF6",
              "width": 0.5
             }
            },
            "type": "barpolar"
           }
          ],
          "carpet": [
           {
            "aaxis": {
             "endlinecolor": "#2a3f5f",
             "gridcolor": "white",
             "linecolor": "white",
             "minorgridcolor": "white",
             "startlinecolor": "#2a3f5f"
            },
            "baxis": {
             "endlinecolor": "#2a3f5f",
             "gridcolor": "white",
             "linecolor": "white",
             "minorgridcolor": "white",
             "startlinecolor": "#2a3f5f"
            },
            "type": "carpet"
           }
          ],
          "choropleth": [
           {
            "colorbar": {
             "outlinewidth": 0,
             "ticks": ""
            },
            "type": "choropleth"
           }
          ],
          "contour": [
           {
            "colorbar": {
             "outlinewidth": 0,
             "ticks": ""
            },
            "colorscale": [
             [
              0,
              "#0d0887"
             ],
             [
              0.1111111111111111,
              "#46039f"
             ],
             [
              0.2222222222222222,
              "#7201a8"
             ],
             [
              0.3333333333333333,
              "#9c179e"
             ],
             [
              0.4444444444444444,
              "#bd3786"
             ],
             [
              0.5555555555555556,
              "#d8576b"
             ],
             [
              0.6666666666666666,
              "#ed7953"
             ],
             [
              0.7777777777777778,
              "#fb9f3a"
             ],
             [
              0.8888888888888888,
              "#fdca26"
             ],
             [
              1,
              "#f0f921"
             ]
            ],
            "type": "contour"
           }
          ],
          "contourcarpet": [
           {
            "colorbar": {
             "outlinewidth": 0,
             "ticks": ""
            },
            "type": "contourcarpet"
           }
          ],
          "heatmap": [
           {
            "colorbar": {
             "outlinewidth": 0,
             "ticks": ""
            },
            "colorscale": [
             [
              0,
              "#0d0887"
             ],
             [
              0.1111111111111111,
              "#46039f"
             ],
             [
              0.2222222222222222,
              "#7201a8"
             ],
             [
              0.3333333333333333,
              "#9c179e"
             ],
             [
              0.4444444444444444,
              "#bd3786"
             ],
             [
              0.5555555555555556,
              "#d8576b"
             ],
             [
              0.6666666666666666,
              "#ed7953"
             ],
             [
              0.7777777777777778,
              "#fb9f3a"
             ],
             [
              0.8888888888888888,
              "#fdca26"
             ],
             [
              1,
              "#f0f921"
             ]
            ],
            "type": "heatmap"
           }
          ],
          "heatmapgl": [
           {
            "colorbar": {
             "outlinewidth": 0,
             "ticks": ""
            },
            "colorscale": [
             [
              0,
              "#0d0887"
             ],
             [
              0.1111111111111111,
              "#46039f"
             ],
             [
              0.2222222222222222,
              "#7201a8"
             ],
             [
              0.3333333333333333,
              "#9c179e"
             ],
             [
              0.4444444444444444,
              "#bd3786"
             ],
             [
              0.5555555555555556,
              "#d8576b"
             ],
             [
              0.6666666666666666,
              "#ed7953"
             ],
             [
              0.7777777777777778,
              "#fb9f3a"
             ],
             [
              0.8888888888888888,
              "#fdca26"
             ],
             [
              1,
              "#f0f921"
             ]
            ],
            "type": "heatmapgl"
           }
          ],
          "histogram": [
           {
            "marker": {
             "colorbar": {
              "outlinewidth": 0,
              "ticks": ""
             }
            },
            "type": "histogram"
           }
          ],
          "histogram2d": [
           {
            "colorbar": {
             "outlinewidth": 0,
             "ticks": ""
            },
            "colorscale": [
             [
              0,
              "#0d0887"
             ],
             [
              0.1111111111111111,
              "#46039f"
             ],
             [
              0.2222222222222222,
              "#7201a8"
             ],
             [
              0.3333333333333333,
              "#9c179e"
             ],
             [
              0.4444444444444444,
              "#bd3786"
             ],
             [
              0.5555555555555556,
              "#d8576b"
             ],
             [
              0.6666666666666666,
              "#ed7953"
             ],
             [
              0.7777777777777778,
              "#fb9f3a"
             ],
             [
              0.8888888888888888,
              "#fdca26"
             ],
             [
              1,
              "#f0f921"
             ]
            ],
            "type": "histogram2d"
           }
          ],
          "histogram2dcontour": [
           {
            "colorbar": {
             "outlinewidth": 0,
             "ticks": ""
            },
            "colorscale": [
             [
              0,
              "#0d0887"
             ],
             [
              0.1111111111111111,
              "#46039f"
             ],
             [
              0.2222222222222222,
              "#7201a8"
             ],
             [
              0.3333333333333333,
              "#9c179e"
             ],
             [
              0.4444444444444444,
              "#bd3786"
             ],
             [
              0.5555555555555556,
              "#d8576b"
             ],
             [
              0.6666666666666666,
              "#ed7953"
             ],
             [
              0.7777777777777778,
              "#fb9f3a"
             ],
             [
              0.8888888888888888,
              "#fdca26"
             ],
             [
              1,
              "#f0f921"
             ]
            ],
            "type": "histogram2dcontour"
           }
          ],
          "mesh3d": [
           {
            "colorbar": {
             "outlinewidth": 0,
             "ticks": ""
            },
            "type": "mesh3d"
           }
          ],
          "parcoords": [
           {
            "line": {
             "colorbar": {
              "outlinewidth": 0,
              "ticks": ""
             }
            },
            "type": "parcoords"
           }
          ],
          "pie": [
           {
            "automargin": true,
            "type": "pie"
           }
          ],
          "scatter": [
           {
            "marker": {
             "colorbar": {
              "outlinewidth": 0,
              "ticks": ""
             }
            },
            "type": "scatter"
           }
          ],
          "scatter3d": [
           {
            "line": {
             "colorbar": {
              "outlinewidth": 0,
              "ticks": ""
             }
            },
            "marker": {
             "colorbar": {
              "outlinewidth": 0,
              "ticks": ""
             }
            },
            "type": "scatter3d"
           }
          ],
          "scattercarpet": [
           {
            "marker": {
             "colorbar": {
              "outlinewidth": 0,
              "ticks": ""
             }
            },
            "type": "scattercarpet"
           }
          ],
          "scattergeo": [
           {
            "marker": {
             "colorbar": {
              "outlinewidth": 0,
              "ticks": ""
             }
            },
            "type": "scattergeo"
           }
          ],
          "scattergl": [
           {
            "marker": {
             "colorbar": {
              "outlinewidth": 0,
              "ticks": ""
             }
            },
            "type": "scattergl"
           }
          ],
          "scattermapbox": [
           {
            "marker": {
             "colorbar": {
              "outlinewidth": 0,
              "ticks": ""
             }
            },
            "type": "scattermapbox"
           }
          ],
          "scatterpolar": [
           {
            "marker": {
             "colorbar": {
              "outlinewidth": 0,
              "ticks": ""
             }
            },
            "type": "scatterpolar"
           }
          ],
          "scatterpolargl": [
           {
            "marker": {
             "colorbar": {
              "outlinewidth": 0,
              "ticks": ""
             }
            },
            "type": "scatterpolargl"
           }
          ],
          "scatterternary": [
           {
            "marker": {
             "colorbar": {
              "outlinewidth": 0,
              "ticks": ""
             }
            },
            "type": "scatterternary"
           }
          ],
          "surface": [
           {
            "colorbar": {
             "outlinewidth": 0,
             "ticks": ""
            },
            "colorscale": [
             [
              0,
              "#0d0887"
             ],
             [
              0.1111111111111111,
              "#46039f"
             ],
             [
              0.2222222222222222,
              "#7201a8"
             ],
             [
              0.3333333333333333,
              "#9c179e"
             ],
             [
              0.4444444444444444,
              "#bd3786"
             ],
             [
              0.5555555555555556,
              "#d8576b"
             ],
             [
              0.6666666666666666,
              "#ed7953"
             ],
             [
              0.7777777777777778,
              "#fb9f3a"
             ],
             [
              0.8888888888888888,
              "#fdca26"
             ],
             [
              1,
              "#f0f921"
             ]
            ],
            "type": "surface"
           }
          ],
          "table": [
           {
            "cells": {
             "fill": {
              "color": "#EBF0F8"
             },
             "line": {
              "color": "white"
             }
            },
            "header": {
             "fill": {
              "color": "#C8D4E3"
             },
             "line": {
              "color": "white"
             }
            },
            "type": "table"
           }
          ]
         },
         "layout": {
          "annotationdefaults": {
           "arrowcolor": "#2a3f5f",
           "arrowhead": 0,
           "arrowwidth": 1
          },
          "coloraxis": {
           "colorbar": {
            "outlinewidth": 0,
            "ticks": ""
           }
          },
          "colorscale": {
           "diverging": [
            [
             0,
             "#8e0152"
            ],
            [
             0.1,
             "#c51b7d"
            ],
            [
             0.2,
             "#de77ae"
            ],
            [
             0.3,
             "#f1b6da"
            ],
            [
             0.4,
             "#fde0ef"
            ],
            [
             0.5,
             "#f7f7f7"
            ],
            [
             0.6,
             "#e6f5d0"
            ],
            [
             0.7,
             "#b8e186"
            ],
            [
             0.8,
             "#7fbc41"
            ],
            [
             0.9,
             "#4d9221"
            ],
            [
             1,
             "#276419"
            ]
           ],
           "sequential": [
            [
             0,
             "#0d0887"
            ],
            [
             0.1111111111111111,
             "#46039f"
            ],
            [
             0.2222222222222222,
             "#7201a8"
            ],
            [
             0.3333333333333333,
             "#9c179e"
            ],
            [
             0.4444444444444444,
             "#bd3786"
            ],
            [
             0.5555555555555556,
             "#d8576b"
            ],
            [
             0.6666666666666666,
             "#ed7953"
            ],
            [
             0.7777777777777778,
             "#fb9f3a"
            ],
            [
             0.8888888888888888,
             "#fdca26"
            ],
            [
             1,
             "#f0f921"
            ]
           ],
           "sequentialminus": [
            [
             0,
             "#0d0887"
            ],
            [
             0.1111111111111111,
             "#46039f"
            ],
            [
             0.2222222222222222,
             "#7201a8"
            ],
            [
             0.3333333333333333,
             "#9c179e"
            ],
            [
             0.4444444444444444,
             "#bd3786"
            ],
            [
             0.5555555555555556,
             "#d8576b"
            ],
            [
             0.6666666666666666,
             "#ed7953"
            ],
            [
             0.7777777777777778,
             "#fb9f3a"
            ],
            [
             0.8888888888888888,
             "#fdca26"
            ],
            [
             1,
             "#f0f921"
            ]
           ]
          },
          "colorway": [
           "#636efa",
           "#EF553B",
           "#00cc96",
           "#ab63fa",
           "#FFA15A",
           "#19d3f3",
           "#FF6692",
           "#B6E880",
           "#FF97FF",
           "#FECB52"
          ],
          "font": {
           "color": "#2a3f5f"
          },
          "geo": {
           "bgcolor": "white",
           "lakecolor": "white",
           "landcolor": "#E5ECF6",
           "showlakes": true,
           "showland": true,
           "subunitcolor": "white"
          },
          "hoverlabel": {
           "align": "left"
          },
          "hovermode": "closest",
          "mapbox": {
           "style": "light"
          },
          "paper_bgcolor": "white",
          "plot_bgcolor": "#E5ECF6",
          "polar": {
           "angularaxis": {
            "gridcolor": "white",
            "linecolor": "white",
            "ticks": ""
           },
           "bgcolor": "#E5ECF6",
           "radialaxis": {
            "gridcolor": "white",
            "linecolor": "white",
            "ticks": ""
           }
          },
          "scene": {
           "xaxis": {
            "backgroundcolor": "#E5ECF6",
            "gridcolor": "white",
            "gridwidth": 2,
            "linecolor": "white",
            "showbackground": true,
            "ticks": "",
            "zerolinecolor": "white"
           },
           "yaxis": {
            "backgroundcolor": "#E5ECF6",
            "gridcolor": "white",
            "gridwidth": 2,
            "linecolor": "white",
            "showbackground": true,
            "ticks": "",
            "zerolinecolor": "white"
           },
           "zaxis": {
            "backgroundcolor": "#E5ECF6",
            "gridcolor": "white",
            "gridwidth": 2,
            "linecolor": "white",
            "showbackground": true,
            "ticks": "",
            "zerolinecolor": "white"
           }
          },
          "shapedefaults": {
           "line": {
            "color": "#2a3f5f"
           }
          },
          "ternary": {
           "aaxis": {
            "gridcolor": "white",
            "linecolor": "white",
            "ticks": ""
           },
           "baxis": {
            "gridcolor": "white",
            "linecolor": "white",
            "ticks": ""
           },
           "bgcolor": "#E5ECF6",
           "caxis": {
            "gridcolor": "white",
            "linecolor": "white",
            "ticks": ""
           }
          },
          "title": {
           "x": 0.05
          },
          "xaxis": {
           "automargin": true,
           "gridcolor": "white",
           "linecolor": "white",
           "ticks": "",
           "title": {
            "standoff": 15
           },
           "zerolinecolor": "white",
           "zerolinewidth": 2
          },
          "yaxis": {
           "automargin": true,
           "gridcolor": "white",
           "linecolor": "white",
           "ticks": "",
           "title": {
            "standoff": 15
           },
           "zerolinecolor": "white",
           "zerolinewidth": 2
          }
         }
        },
        "title": {
         "font": {
          "color": "#4D5663"
         }
        },
        "xaxis": {
         "gridcolor": "#E1E5ED",
         "showgrid": true,
         "tickfont": {
          "color": "#4D5663"
         },
         "title": {
          "font": {
           "color": "#4D5663"
          },
          "text": ""
         },
         "zerolinecolor": "#E1E5ED"
        },
        "yaxis": {
         "gridcolor": "#E1E5ED",
         "showgrid": true,
         "tickfont": {
          "color": "#4D5663"
         },
         "title": {
          "font": {
           "color": "#4D5663"
          },
          "text": ""
         },
         "zerolinecolor": "#E1E5ED"
        }
       }
      },
      "text/html": [
       "<div>\n",
       "        \n",
       "        \n",
       "            <div id=\"9d5371b2-9069-421f-8dfc-20db296efd1c\" class=\"plotly-graph-div\" style=\"height:525px; width:100%;\"></div>\n",
       "            <script type=\"text/javascript\">\n",
       "                require([\"plotly\"], function(Plotly) {\n",
       "                    window.PLOTLYENV=window.PLOTLYENV || {};\n",
       "                    window.PLOTLYENV.BASE_URL='https://plot.ly';\n",
       "                    \n",
       "                if (document.getElementById(\"9d5371b2-9069-421f-8dfc-20db296efd1c\")) {\n",
       "                    Plotly.newPlot(\n",
       "                        '9d5371b2-9069-421f-8dfc-20db296efd1c',\n",
       "                        [{\"histfunc\": \"count\", \"histnorm\": \"\", \"marker\": {\"color\": \"rgba(255, 153, 51, 1.0)\", \"line\": {\"color\": \"#4D5663\", \"width\": 1.3}}, \"name\": \"A\", \"nbinsx\": 25, \"opacity\": 0.8, \"orientation\": \"v\", \"type\": \"histogram\", \"x\": [-2.19517732281781, 0.41297071995567625, 0.5238259134616036, 2.321660493048887, -1.7918868447130059, -1.4003185528924975, -1.7297604866535865, -0.44388711000201464, -0.5052550235591972, -0.20154762526484626, -0.08352134157213167, -0.6855060781663106, 1.0887687415999572, 0.2855894125108078, 0.7980404615235451, -1.0339660491462646, 0.552988758119476, -0.011700097264279497, 0.021437589270594415, -0.08236305549690165, 0.5291996261975528, 0.6551868758377841, -1.4859686060330128, -1.9244490589884782, 0.8448386798137778, 0.375889652742352, 0.6713684703182022, 0.5292666392387347, -1.8438289583630185, 0.558440068266143, -0.6563135402637561, -1.6316467385018294, -0.39836303303761095, 0.0691617062364122, 0.1353258261082668, 0.7185436507289951, 1.553925211212386, -0.5714655522307664, 1.4904875406858629, 0.6217440104496987, 0.7865768608697654, 0.7378588602432641, -0.8985395833921609, 0.6397978501868015, -0.2631592379934458, -0.18465379229969653, -1.766855324557164, 0.12173746345167527, -0.743605387049839, 0.784334833739347, 0.3917372705482704, -0.5909559239175638, -0.40630782754950207, -0.9881423673945723, -1.4597607300847637, 0.3023562251048793, -0.1954609877017618, 1.8127924584945665, -0.438196644574794, 0.9922522061400024, -0.859983652215299, 0.4246206377667659, 1.2931457895853469, -0.3197471206910602, -0.29015708985798294, -2.4200083935552144, -0.5531573484596305, 0.9919788860691116, -0.10068870784096433, 0.013473054882340725, 0.8870424485265856, -1.52983366553648, 0.8145957073039255, -0.81898061248173, -0.9098258908774242, -1.3752270874209238, 1.3669607304331788, -0.040484151685499445, -1.1206413918176934, 0.4768318852770323, -0.3417763069099912, -1.408962249978248, -1.5951427299765275, 1.2197177433735997, 0.5445789312288598, 0.6313147555355381, 0.32000780366272574, -0.8704515879612656, -0.627920771771115, 0.8440369058295358, -1.2010314467224608, 0.10303101875969292, 1.7119342867501717, 1.345218350267589, 1.8895042692650679, 0.5245714274017701, -0.010284788799988025, 1.4983859268949218, 0.6627916098655476, -0.9058275513453036]}],\n",
       "                        {\"barmode\": \"overlay\", \"legend\": {\"bgcolor\": \"#F5F6F9\", \"font\": {\"color\": \"#4D5663\"}}, \"paper_bgcolor\": \"#F5F6F9\", \"plot_bgcolor\": \"#F5F6F9\", \"template\": {\"data\": {\"bar\": [{\"error_x\": {\"color\": \"#2a3f5f\"}, \"error_y\": {\"color\": \"#2a3f5f\"}, \"marker\": {\"line\": {\"color\": \"#E5ECF6\", \"width\": 0.5}}, \"type\": \"bar\"}], \"barpolar\": [{\"marker\": {\"line\": {\"color\": \"#E5ECF6\", \"width\": 0.5}}, \"type\": \"barpolar\"}], \"carpet\": [{\"aaxis\": {\"endlinecolor\": \"#2a3f5f\", \"gridcolor\": \"white\", \"linecolor\": \"white\", \"minorgridcolor\": \"white\", \"startlinecolor\": \"#2a3f5f\"}, \"baxis\": {\"endlinecolor\": \"#2a3f5f\", \"gridcolor\": \"white\", \"linecolor\": \"white\", \"minorgridcolor\": \"white\", \"startlinecolor\": \"#2a3f5f\"}, \"type\": \"carpet\"}], \"choropleth\": [{\"colorbar\": {\"outlinewidth\": 0, \"ticks\": \"\"}, \"type\": \"choropleth\"}], \"contour\": [{\"colorbar\": {\"outlinewidth\": 0, \"ticks\": \"\"}, \"colorscale\": [[0.0, \"#0d0887\"], [0.1111111111111111, \"#46039f\"], [0.2222222222222222, \"#7201a8\"], [0.3333333333333333, \"#9c179e\"], [0.4444444444444444, \"#bd3786\"], [0.5555555555555556, \"#d8576b\"], [0.6666666666666666, \"#ed7953\"], [0.7777777777777778, \"#fb9f3a\"], [0.8888888888888888, \"#fdca26\"], [1.0, \"#f0f921\"]], \"type\": \"contour\"}], \"contourcarpet\": [{\"colorbar\": {\"outlinewidth\": 0, \"ticks\": \"\"}, \"type\": \"contourcarpet\"}], \"heatmap\": [{\"colorbar\": {\"outlinewidth\": 0, \"ticks\": \"\"}, \"colorscale\": [[0.0, \"#0d0887\"], [0.1111111111111111, \"#46039f\"], [0.2222222222222222, \"#7201a8\"], [0.3333333333333333, \"#9c179e\"], [0.4444444444444444, \"#bd3786\"], [0.5555555555555556, \"#d8576b\"], [0.6666666666666666, \"#ed7953\"], [0.7777777777777778, \"#fb9f3a\"], [0.8888888888888888, \"#fdca26\"], [1.0, \"#f0f921\"]], \"type\": \"heatmap\"}], \"heatmapgl\": [{\"colorbar\": {\"outlinewidth\": 0, \"ticks\": \"\"}, \"colorscale\": [[0.0, \"#0d0887\"], [0.1111111111111111, \"#46039f\"], [0.2222222222222222, \"#7201a8\"], [0.3333333333333333, \"#9c179e\"], [0.4444444444444444, \"#bd3786\"], [0.5555555555555556, \"#d8576b\"], [0.6666666666666666, \"#ed7953\"], [0.7777777777777778, \"#fb9f3a\"], [0.8888888888888888, \"#fdca26\"], [1.0, \"#f0f921\"]], \"type\": \"heatmapgl\"}], \"histogram\": [{\"marker\": {\"colorbar\": {\"outlinewidth\": 0, \"ticks\": \"\"}}, \"type\": \"histogram\"}], \"histogram2d\": [{\"colorbar\": {\"outlinewidth\": 0, \"ticks\": \"\"}, \"colorscale\": [[0.0, \"#0d0887\"], [0.1111111111111111, \"#46039f\"], [0.2222222222222222, \"#7201a8\"], [0.3333333333333333, \"#9c179e\"], [0.4444444444444444, \"#bd3786\"], [0.5555555555555556, \"#d8576b\"], [0.6666666666666666, \"#ed7953\"], [0.7777777777777778, \"#fb9f3a\"], [0.8888888888888888, \"#fdca26\"], [1.0, \"#f0f921\"]], \"type\": \"histogram2d\"}], \"histogram2dcontour\": [{\"colorbar\": {\"outlinewidth\": 0, \"ticks\": \"\"}, \"colorscale\": [[0.0, \"#0d0887\"], [0.1111111111111111, \"#46039f\"], [0.2222222222222222, \"#7201a8\"], [0.3333333333333333, \"#9c179e\"], [0.4444444444444444, \"#bd3786\"], [0.5555555555555556, \"#d8576b\"], [0.6666666666666666, \"#ed7953\"], [0.7777777777777778, \"#fb9f3a\"], [0.8888888888888888, \"#fdca26\"], [1.0, \"#f0f921\"]], \"type\": \"histogram2dcontour\"}], \"mesh3d\": [{\"colorbar\": {\"outlinewidth\": 0, \"ticks\": \"\"}, \"type\": \"mesh3d\"}], \"parcoords\": [{\"line\": {\"colorbar\": {\"outlinewidth\": 0, \"ticks\": \"\"}}, \"type\": \"parcoords\"}], \"pie\": [{\"automargin\": true, \"type\": \"pie\"}], \"scatter\": [{\"marker\": {\"colorbar\": {\"outlinewidth\": 0, \"ticks\": \"\"}}, \"type\": \"scatter\"}], \"scatter3d\": [{\"line\": {\"colorbar\": {\"outlinewidth\": 0, \"ticks\": \"\"}}, \"marker\": {\"colorbar\": {\"outlinewidth\": 0, \"ticks\": \"\"}}, \"type\": \"scatter3d\"}], \"scattercarpet\": [{\"marker\": {\"colorbar\": {\"outlinewidth\": 0, \"ticks\": \"\"}}, \"type\": \"scattercarpet\"}], \"scattergeo\": [{\"marker\": {\"colorbar\": {\"outlinewidth\": 0, \"ticks\": \"\"}}, \"type\": \"scattergeo\"}], \"scattergl\": [{\"marker\": {\"colorbar\": {\"outlinewidth\": 0, \"ticks\": \"\"}}, \"type\": \"scattergl\"}], \"scattermapbox\": [{\"marker\": {\"colorbar\": {\"outlinewidth\": 0, \"ticks\": \"\"}}, \"type\": \"scattermapbox\"}], \"scatterpolar\": [{\"marker\": {\"colorbar\": {\"outlinewidth\": 0, \"ticks\": \"\"}}, \"type\": \"scatterpolar\"}], \"scatterpolargl\": [{\"marker\": {\"colorbar\": {\"outlinewidth\": 0, \"ticks\": \"\"}}, \"type\": \"scatterpolargl\"}], \"scatterternary\": [{\"marker\": {\"colorbar\": {\"outlinewidth\": 0, \"ticks\": \"\"}}, \"type\": \"scatterternary\"}], \"surface\": [{\"colorbar\": {\"outlinewidth\": 0, \"ticks\": \"\"}, \"colorscale\": [[0.0, \"#0d0887\"], [0.1111111111111111, \"#46039f\"], [0.2222222222222222, \"#7201a8\"], [0.3333333333333333, \"#9c179e\"], [0.4444444444444444, \"#bd3786\"], [0.5555555555555556, \"#d8576b\"], [0.6666666666666666, \"#ed7953\"], [0.7777777777777778, \"#fb9f3a\"], [0.8888888888888888, \"#fdca26\"], [1.0, \"#f0f921\"]], \"type\": \"surface\"}], \"table\": [{\"cells\": {\"fill\": {\"color\": \"#EBF0F8\"}, \"line\": {\"color\": \"white\"}}, \"header\": {\"fill\": {\"color\": \"#C8D4E3\"}, \"line\": {\"color\": \"white\"}}, \"type\": \"table\"}]}, \"layout\": {\"annotationdefaults\": {\"arrowcolor\": \"#2a3f5f\", \"arrowhead\": 0, \"arrowwidth\": 1}, \"coloraxis\": {\"colorbar\": {\"outlinewidth\": 0, \"ticks\": \"\"}}, \"colorscale\": {\"diverging\": [[0, \"#8e0152\"], [0.1, \"#c51b7d\"], [0.2, \"#de77ae\"], [0.3, \"#f1b6da\"], [0.4, \"#fde0ef\"], [0.5, \"#f7f7f7\"], [0.6, \"#e6f5d0\"], [0.7, \"#b8e186\"], [0.8, \"#7fbc41\"], [0.9, \"#4d9221\"], [1, \"#276419\"]], \"sequential\": [[0.0, \"#0d0887\"], [0.1111111111111111, \"#46039f\"], [0.2222222222222222, \"#7201a8\"], [0.3333333333333333, \"#9c179e\"], [0.4444444444444444, \"#bd3786\"], [0.5555555555555556, \"#d8576b\"], [0.6666666666666666, \"#ed7953\"], [0.7777777777777778, \"#fb9f3a\"], [0.8888888888888888, \"#fdca26\"], [1.0, \"#f0f921\"]], \"sequentialminus\": [[0.0, \"#0d0887\"], [0.1111111111111111, \"#46039f\"], [0.2222222222222222, \"#7201a8\"], [0.3333333333333333, \"#9c179e\"], [0.4444444444444444, \"#bd3786\"], [0.5555555555555556, \"#d8576b\"], [0.6666666666666666, \"#ed7953\"], [0.7777777777777778, \"#fb9f3a\"], [0.8888888888888888, \"#fdca26\"], [1.0, \"#f0f921\"]]}, \"colorway\": [\"#636efa\", \"#EF553B\", \"#00cc96\", \"#ab63fa\", \"#FFA15A\", \"#19d3f3\", \"#FF6692\", \"#B6E880\", \"#FF97FF\", \"#FECB52\"], \"font\": {\"color\": \"#2a3f5f\"}, \"geo\": {\"bgcolor\": \"white\", \"lakecolor\": \"white\", \"landcolor\": \"#E5ECF6\", \"showlakes\": true, \"showland\": true, \"subunitcolor\": \"white\"}, \"hoverlabel\": {\"align\": \"left\"}, \"hovermode\": \"closest\", \"mapbox\": {\"style\": \"light\"}, \"paper_bgcolor\": \"white\", \"plot_bgcolor\": \"#E5ECF6\", \"polar\": {\"angularaxis\": {\"gridcolor\": \"white\", \"linecolor\": \"white\", \"ticks\": \"\"}, \"bgcolor\": \"#E5ECF6\", \"radialaxis\": {\"gridcolor\": \"white\", \"linecolor\": \"white\", \"ticks\": \"\"}}, \"scene\": {\"xaxis\": {\"backgroundcolor\": \"#E5ECF6\", \"gridcolor\": \"white\", \"gridwidth\": 2, \"linecolor\": \"white\", \"showbackground\": true, \"ticks\": \"\", \"zerolinecolor\": \"white\"}, \"yaxis\": {\"backgroundcolor\": \"#E5ECF6\", \"gridcolor\": \"white\", \"gridwidth\": 2, \"linecolor\": \"white\", \"showbackground\": true, \"ticks\": \"\", \"zerolinecolor\": \"white\"}, \"zaxis\": {\"backgroundcolor\": \"#E5ECF6\", \"gridcolor\": \"white\", \"gridwidth\": 2, \"linecolor\": \"white\", \"showbackground\": true, \"ticks\": \"\", \"zerolinecolor\": \"white\"}}, \"shapedefaults\": {\"line\": {\"color\": \"#2a3f5f\"}}, \"ternary\": {\"aaxis\": {\"gridcolor\": \"white\", \"linecolor\": \"white\", \"ticks\": \"\"}, \"baxis\": {\"gridcolor\": \"white\", \"linecolor\": \"white\", \"ticks\": \"\"}, \"bgcolor\": \"#E5ECF6\", \"caxis\": {\"gridcolor\": \"white\", \"linecolor\": \"white\", \"ticks\": \"\"}}, \"title\": {\"x\": 0.05}, \"xaxis\": {\"automargin\": true, \"gridcolor\": \"white\", \"linecolor\": \"white\", \"ticks\": \"\", \"title\": {\"standoff\": 15}, \"zerolinecolor\": \"white\", \"zerolinewidth\": 2}, \"yaxis\": {\"automargin\": true, \"gridcolor\": \"white\", \"linecolor\": \"white\", \"ticks\": \"\", \"title\": {\"standoff\": 15}, \"zerolinecolor\": \"white\", \"zerolinewidth\": 2}}}, \"title\": {\"font\": {\"color\": \"#4D5663\"}}, \"xaxis\": {\"gridcolor\": \"#E1E5ED\", \"showgrid\": true, \"tickfont\": {\"color\": \"#4D5663\"}, \"title\": {\"font\": {\"color\": \"#4D5663\"}, \"text\": \"\"}, \"zerolinecolor\": \"#E1E5ED\"}, \"yaxis\": {\"gridcolor\": \"#E1E5ED\", \"showgrid\": true, \"tickfont\": {\"color\": \"#4D5663\"}, \"title\": {\"font\": {\"color\": \"#4D5663\"}, \"text\": \"\"}, \"zerolinecolor\": \"#E1E5ED\"}},\n",
       "                        {\"showLink\": true, \"linkText\": \"Export to plot.ly\", \"plotlyServerURL\": \"https://plot.ly\", \"responsive\": true}\n",
       "                    ).then(function(){\n",
       "                            \n",
       "var gd = document.getElementById('9d5371b2-9069-421f-8dfc-20db296efd1c');\n",
       "var x = new MutationObserver(function (mutations, observer) {{\n",
       "        var display = window.getComputedStyle(gd).display;\n",
       "        if (!display || display === 'none') {{\n",
       "            console.log([gd, 'removed!']);\n",
       "            Plotly.purge(gd);\n",
       "            observer.disconnect();\n",
       "        }}\n",
       "}});\n",
       "\n",
       "// Listen for the removal of the full notebook cells\n",
       "var notebookContainer = gd.closest('#notebook-container');\n",
       "if (notebookContainer) {{\n",
       "    x.observe(notebookContainer, {childList: true});\n",
       "}}\n",
       "\n",
       "// Listen for the clearing of the current output cell\n",
       "var outputEl = gd.closest('.output');\n",
       "if (outputEl) {{\n",
       "    x.observe(outputEl, {childList: true});\n",
       "}}\n",
       "\n",
       "                        })\n",
       "                };\n",
       "                });\n",
       "            </script>\n",
       "        </div>"
      ]
     },
     "metadata": {},
     "output_type": "display_data"
    }
   ],
   "source": [
    "df['A'].iplot(kind='hist',bins=25)"
   ]
  },
  {
   "cell_type": "code",
   "execution_count": 18,
   "metadata": {},
   "outputs": [
    {
     "data": {
      "application/vnd.plotly.v1+json": {
       "config": {
        "linkText": "Export to plot.ly",
        "plotlyServerURL": "https://plot.ly",
        "showLink": true
       },
       "data": [
        {
         "marker": {
          "color": [
           "rgb(255, 153, 51)",
           "rgb(55, 128, 191)",
           "rgb(50, 171, 96)",
           "rgb(128, 0, 128)",
           "rgb(219, 64, 82)",
           "rgb(0, 128, 128)",
           "rgb(255, 255, 51)",
           "rgb(128, 128, 0)",
           "rgb(251, 128, 114)",
           "rgb(128, 177, 211)"
          ],
          "line": {
           "width": 1.3
          },
          "size": [
           33,
           29,
           112,
           92,
           60,
           81,
           37,
           78,
           74,
           60,
           68,
           61,
           29,
           31,
           28,
           53,
           68,
           31,
           26,
           82,
           100,
           62,
           63,
           97,
           58,
           58,
           40,
           48,
           58,
           49,
           29,
           13,
           54,
           44,
           71,
           92,
           90,
           35,
           49,
           34,
           76,
           27,
           12,
           48,
           42,
           52,
           46,
           26,
           56,
           49,
           74,
           42,
           29,
           59,
           45,
           27,
           68,
           69,
           58,
           80,
           61,
           64,
           87,
           85,
           70,
           65,
           58,
           90,
           49,
           41,
           75,
           74,
           35,
           64,
           24,
           82,
           27,
           47,
           45,
           83,
           71,
           71,
           45,
           38,
           70,
           71,
           68,
           49,
           77,
           54,
           51,
           24,
           47,
           56,
           44,
           88,
           109,
           79,
           40,
           94
          ],
          "symbol": "circle"
         },
         "mode": "markers",
         "text": "",
         "type": "scatter",
         "x": [
          -2.19517732281781,
          0.41297071995567625,
          0.5238259134616036,
          2.321660493048887,
          -1.7918868447130059,
          -1.4003185528924975,
          -1.7297604866535865,
          -0.44388711000201464,
          -0.5052550235591972,
          -0.20154762526484626,
          -0.08352134157213167,
          -0.6855060781663106,
          1.0887687415999572,
          0.2855894125108078,
          0.7980404615235451,
          -1.0339660491462646,
          0.552988758119476,
          -0.011700097264279497,
          0.021437589270594415,
          -0.08236305549690165,
          0.5291996261975528,
          0.6551868758377841,
          -1.4859686060330128,
          -1.9244490589884782,
          0.8448386798137778,
          0.375889652742352,
          0.6713684703182022,
          0.5292666392387347,
          -1.8438289583630185,
          0.558440068266143,
          -0.6563135402637561,
          -1.6316467385018294,
          -0.39836303303761095,
          0.0691617062364122,
          0.1353258261082668,
          0.7185436507289951,
          1.553925211212386,
          -0.5714655522307664,
          1.4904875406858629,
          0.6217440104496987,
          0.7865768608697654,
          0.7378588602432641,
          -0.8985395833921609,
          0.6397978501868015,
          -0.2631592379934458,
          -0.18465379229969653,
          -1.766855324557164,
          0.12173746345167527,
          -0.743605387049839,
          0.784334833739347,
          0.3917372705482704,
          -0.5909559239175638,
          -0.40630782754950207,
          -0.9881423673945723,
          -1.4597607300847637,
          0.3023562251048793,
          -0.1954609877017618,
          1.8127924584945665,
          -0.438196644574794,
          0.9922522061400024,
          -0.859983652215299,
          0.4246206377667659,
          1.2931457895853469,
          -0.3197471206910602,
          -0.29015708985798294,
          -2.4200083935552144,
          -0.5531573484596305,
          0.9919788860691116,
          -0.10068870784096433,
          0.013473054882340725,
          0.8870424485265856,
          -1.52983366553648,
          0.8145957073039255,
          -0.81898061248173,
          -0.9098258908774242,
          -1.3752270874209238,
          1.3669607304331788,
          -0.040484151685499445,
          -1.1206413918176934,
          0.4768318852770323,
          -0.3417763069099912,
          -1.408962249978248,
          -1.5951427299765275,
          1.2197177433735997,
          0.5445789312288598,
          0.6313147555355381,
          0.32000780366272574,
          -0.8704515879612656,
          -0.627920771771115,
          0.8440369058295358,
          -1.2010314467224608,
          0.10303101875969292,
          1.7119342867501717,
          1.345218350267589,
          1.8895042692650679,
          0.5245714274017701,
          -0.010284788799988025,
          1.4983859268949218,
          0.6627916098655476,
          -0.9058275513453036
         ],
         "y": [
          -0.2551109513862989,
          -1.5127464737870182,
          0.3758014389849401,
          1.8857727661935286,
          1.662544285322015,
          -1.2664294656572934,
          -1.5174696024398788,
          0.5852178156544476,
          0.6965117049576418,
          -1.1279399272931596,
          -0.6863623724755933,
          -1.1044899382302837,
          0.07098359754755064,
          1.2151791713518312,
          0.2203176108637594,
          2.6295732761898005,
          0.6798859657591843,
          0.986074789157596,
          -1.2317801711589613,
          -0.7665611492450716,
          -0.022858667742858704,
          -0.6294825856993135,
          1.6306391943001899,
          1.6995515594849566,
          -0.5905495429530158,
          0.47793027697582735,
          -0.44609211623245887,
          1.7576040287335875,
          -1.0923347767002078,
          -1.8993634237607036,
          0.5844253290883914,
          -0.04822525857137415,
          0.3463651631429565,
          0.40013204209307585,
          0.22836136631949458,
          0.5377706594361823,
          -0.046788587259596004,
          -2.5718183127194134,
          -0.15116176468220824,
          -0.21953364549617513,
          -0.3325484225048974,
          -1.8096452038883564,
          0.7289382006548182,
          -0.09439706742108991,
          0.012540101956239863,
          -0.48136707668519524,
          1.1582886336009641,
          -0.4248727474952323,
          0.40709870307468116,
          1.0717332510596662,
          0.458827727449291,
          0.9438296370958118,
          1.4303013514646175,
          -0.403906433119754,
          0.7027145404728263,
          0.5103829539116806,
          -0.8123969957649172,
          0.3383761382920852,
          -1.171096152810323,
          0.46599418331537706,
          0.47419707617009593,
          -2.56535748723371,
          -0.06782037218279009,
          -0.9328199422531491,
          0.08936881595781979,
          1.105071798487719,
          1.292664158575097,
          -2.6250692746878195,
          -0.45631212365946394,
          1.018318165064855,
          -1.2526436138204882,
          -0.17168542970891618,
          -0.4699345868151425,
          0.38738762957994255,
          -1.5998498437689137,
          0.7609470697567795,
          -0.2616975602236235,
          0.08826540754723577,
          0.2378673846850535,
          0.32753070517438304,
          -0.6997696295911957,
          -0.9027758435345248,
          -0.07465487316390441,
          -2.4577222932537945,
          0.3340426817758278,
          0.6960081666749737,
          -0.26319239683785034,
          -0.9980782560498498,
          -0.12339060576071016,
          -0.17112287315675134,
          0.6429944355509232,
          0.9524051082923007,
          -1.323623217934063,
          0.23723427993329563,
          0.09923915891778237,
          0.05748639326282414,
          -0.8615285511403645,
          0.5099022980535224,
          -0.29916479814974173,
          -0.3551225033150403
         ]
        }
       ],
       "layout": {
        "legend": {
         "bgcolor": "#F5F6F9",
         "font": {
          "color": "#4D5663"
         }
        },
        "paper_bgcolor": "#F5F6F9",
        "plot_bgcolor": "#F5F6F9",
        "template": {
         "data": {
          "bar": [
           {
            "error_x": {
             "color": "#2a3f5f"
            },
            "error_y": {
             "color": "#2a3f5f"
            },
            "marker": {
             "line": {
              "color": "#E5ECF6",
              "width": 0.5
             }
            },
            "type": "bar"
           }
          ],
          "barpolar": [
           {
            "marker": {
             "line": {
              "color": "#E5ECF6",
              "width": 0.5
             }
            },
            "type": "barpolar"
           }
          ],
          "carpet": [
           {
            "aaxis": {
             "endlinecolor": "#2a3f5f",
             "gridcolor": "white",
             "linecolor": "white",
             "minorgridcolor": "white",
             "startlinecolor": "#2a3f5f"
            },
            "baxis": {
             "endlinecolor": "#2a3f5f",
             "gridcolor": "white",
             "linecolor": "white",
             "minorgridcolor": "white",
             "startlinecolor": "#2a3f5f"
            },
            "type": "carpet"
           }
          ],
          "choropleth": [
           {
            "colorbar": {
             "outlinewidth": 0,
             "ticks": ""
            },
            "type": "choropleth"
           }
          ],
          "contour": [
           {
            "colorbar": {
             "outlinewidth": 0,
             "ticks": ""
            },
            "colorscale": [
             [
              0,
              "#0d0887"
             ],
             [
              0.1111111111111111,
              "#46039f"
             ],
             [
              0.2222222222222222,
              "#7201a8"
             ],
             [
              0.3333333333333333,
              "#9c179e"
             ],
             [
              0.4444444444444444,
              "#bd3786"
             ],
             [
              0.5555555555555556,
              "#d8576b"
             ],
             [
              0.6666666666666666,
              "#ed7953"
             ],
             [
              0.7777777777777778,
              "#fb9f3a"
             ],
             [
              0.8888888888888888,
              "#fdca26"
             ],
             [
              1,
              "#f0f921"
             ]
            ],
            "type": "contour"
           }
          ],
          "contourcarpet": [
           {
            "colorbar": {
             "outlinewidth": 0,
             "ticks": ""
            },
            "type": "contourcarpet"
           }
          ],
          "heatmap": [
           {
            "colorbar": {
             "outlinewidth": 0,
             "ticks": ""
            },
            "colorscale": [
             [
              0,
              "#0d0887"
             ],
             [
              0.1111111111111111,
              "#46039f"
             ],
             [
              0.2222222222222222,
              "#7201a8"
             ],
             [
              0.3333333333333333,
              "#9c179e"
             ],
             [
              0.4444444444444444,
              "#bd3786"
             ],
             [
              0.5555555555555556,
              "#d8576b"
             ],
             [
              0.6666666666666666,
              "#ed7953"
             ],
             [
              0.7777777777777778,
              "#fb9f3a"
             ],
             [
              0.8888888888888888,
              "#fdca26"
             ],
             [
              1,
              "#f0f921"
             ]
            ],
            "type": "heatmap"
           }
          ],
          "heatmapgl": [
           {
            "colorbar": {
             "outlinewidth": 0,
             "ticks": ""
            },
            "colorscale": [
             [
              0,
              "#0d0887"
             ],
             [
              0.1111111111111111,
              "#46039f"
             ],
             [
              0.2222222222222222,
              "#7201a8"
             ],
             [
              0.3333333333333333,
              "#9c179e"
             ],
             [
              0.4444444444444444,
              "#bd3786"
             ],
             [
              0.5555555555555556,
              "#d8576b"
             ],
             [
              0.6666666666666666,
              "#ed7953"
             ],
             [
              0.7777777777777778,
              "#fb9f3a"
             ],
             [
              0.8888888888888888,
              "#fdca26"
             ],
             [
              1,
              "#f0f921"
             ]
            ],
            "type": "heatmapgl"
           }
          ],
          "histogram": [
           {
            "marker": {
             "colorbar": {
              "outlinewidth": 0,
              "ticks": ""
             }
            },
            "type": "histogram"
           }
          ],
          "histogram2d": [
           {
            "colorbar": {
             "outlinewidth": 0,
             "ticks": ""
            },
            "colorscale": [
             [
              0,
              "#0d0887"
             ],
             [
              0.1111111111111111,
              "#46039f"
             ],
             [
              0.2222222222222222,
              "#7201a8"
             ],
             [
              0.3333333333333333,
              "#9c179e"
             ],
             [
              0.4444444444444444,
              "#bd3786"
             ],
             [
              0.5555555555555556,
              "#d8576b"
             ],
             [
              0.6666666666666666,
              "#ed7953"
             ],
             [
              0.7777777777777778,
              "#fb9f3a"
             ],
             [
              0.8888888888888888,
              "#fdca26"
             ],
             [
              1,
              "#f0f921"
             ]
            ],
            "type": "histogram2d"
           }
          ],
          "histogram2dcontour": [
           {
            "colorbar": {
             "outlinewidth": 0,
             "ticks": ""
            },
            "colorscale": [
             [
              0,
              "#0d0887"
             ],
             [
              0.1111111111111111,
              "#46039f"
             ],
             [
              0.2222222222222222,
              "#7201a8"
             ],
             [
              0.3333333333333333,
              "#9c179e"
             ],
             [
              0.4444444444444444,
              "#bd3786"
             ],
             [
              0.5555555555555556,
              "#d8576b"
             ],
             [
              0.6666666666666666,
              "#ed7953"
             ],
             [
              0.7777777777777778,
              "#fb9f3a"
             ],
             [
              0.8888888888888888,
              "#fdca26"
             ],
             [
              1,
              "#f0f921"
             ]
            ],
            "type": "histogram2dcontour"
           }
          ],
          "mesh3d": [
           {
            "colorbar": {
             "outlinewidth": 0,
             "ticks": ""
            },
            "type": "mesh3d"
           }
          ],
          "parcoords": [
           {
            "line": {
             "colorbar": {
              "outlinewidth": 0,
              "ticks": ""
             }
            },
            "type": "parcoords"
           }
          ],
          "pie": [
           {
            "automargin": true,
            "type": "pie"
           }
          ],
          "scatter": [
           {
            "marker": {
             "colorbar": {
              "outlinewidth": 0,
              "ticks": ""
             }
            },
            "type": "scatter"
           }
          ],
          "scatter3d": [
           {
            "line": {
             "colorbar": {
              "outlinewidth": 0,
              "ticks": ""
             }
            },
            "marker": {
             "colorbar": {
              "outlinewidth": 0,
              "ticks": ""
             }
            },
            "type": "scatter3d"
           }
          ],
          "scattercarpet": [
           {
            "marker": {
             "colorbar": {
              "outlinewidth": 0,
              "ticks": ""
             }
            },
            "type": "scattercarpet"
           }
          ],
          "scattergeo": [
           {
            "marker": {
             "colorbar": {
              "outlinewidth": 0,
              "ticks": ""
             }
            },
            "type": "scattergeo"
           }
          ],
          "scattergl": [
           {
            "marker": {
             "colorbar": {
              "outlinewidth": 0,
              "ticks": ""
             }
            },
            "type": "scattergl"
           }
          ],
          "scattermapbox": [
           {
            "marker": {
             "colorbar": {
              "outlinewidth": 0,
              "ticks": ""
             }
            },
            "type": "scattermapbox"
           }
          ],
          "scatterpolar": [
           {
            "marker": {
             "colorbar": {
              "outlinewidth": 0,
              "ticks": ""
             }
            },
            "type": "scatterpolar"
           }
          ],
          "scatterpolargl": [
           {
            "marker": {
             "colorbar": {
              "outlinewidth": 0,
              "ticks": ""
             }
            },
            "type": "scatterpolargl"
           }
          ],
          "scatterternary": [
           {
            "marker": {
             "colorbar": {
              "outlinewidth": 0,
              "ticks": ""
             }
            },
            "type": "scatterternary"
           }
          ],
          "surface": [
           {
            "colorbar": {
             "outlinewidth": 0,
             "ticks": ""
            },
            "colorscale": [
             [
              0,
              "#0d0887"
             ],
             [
              0.1111111111111111,
              "#46039f"
             ],
             [
              0.2222222222222222,
              "#7201a8"
             ],
             [
              0.3333333333333333,
              "#9c179e"
             ],
             [
              0.4444444444444444,
              "#bd3786"
             ],
             [
              0.5555555555555556,
              "#d8576b"
             ],
             [
              0.6666666666666666,
              "#ed7953"
             ],
             [
              0.7777777777777778,
              "#fb9f3a"
             ],
             [
              0.8888888888888888,
              "#fdca26"
             ],
             [
              1,
              "#f0f921"
             ]
            ],
            "type": "surface"
           }
          ],
          "table": [
           {
            "cells": {
             "fill": {
              "color": "#EBF0F8"
             },
             "line": {
              "color": "white"
             }
            },
            "header": {
             "fill": {
              "color": "#C8D4E3"
             },
             "line": {
              "color": "white"
             }
            },
            "type": "table"
           }
          ]
         },
         "layout": {
          "annotationdefaults": {
           "arrowcolor": "#2a3f5f",
           "arrowhead": 0,
           "arrowwidth": 1
          },
          "coloraxis": {
           "colorbar": {
            "outlinewidth": 0,
            "ticks": ""
           }
          },
          "colorscale": {
           "diverging": [
            [
             0,
             "#8e0152"
            ],
            [
             0.1,
             "#c51b7d"
            ],
            [
             0.2,
             "#de77ae"
            ],
            [
             0.3,
             "#f1b6da"
            ],
            [
             0.4,
             "#fde0ef"
            ],
            [
             0.5,
             "#f7f7f7"
            ],
            [
             0.6,
             "#e6f5d0"
            ],
            [
             0.7,
             "#b8e186"
            ],
            [
             0.8,
             "#7fbc41"
            ],
            [
             0.9,
             "#4d9221"
            ],
            [
             1,
             "#276419"
            ]
           ],
           "sequential": [
            [
             0,
             "#0d0887"
            ],
            [
             0.1111111111111111,
             "#46039f"
            ],
            [
             0.2222222222222222,
             "#7201a8"
            ],
            [
             0.3333333333333333,
             "#9c179e"
            ],
            [
             0.4444444444444444,
             "#bd3786"
            ],
            [
             0.5555555555555556,
             "#d8576b"
            ],
            [
             0.6666666666666666,
             "#ed7953"
            ],
            [
             0.7777777777777778,
             "#fb9f3a"
            ],
            [
             0.8888888888888888,
             "#fdca26"
            ],
            [
             1,
             "#f0f921"
            ]
           ],
           "sequentialminus": [
            [
             0,
             "#0d0887"
            ],
            [
             0.1111111111111111,
             "#46039f"
            ],
            [
             0.2222222222222222,
             "#7201a8"
            ],
            [
             0.3333333333333333,
             "#9c179e"
            ],
            [
             0.4444444444444444,
             "#bd3786"
            ],
            [
             0.5555555555555556,
             "#d8576b"
            ],
            [
             0.6666666666666666,
             "#ed7953"
            ],
            [
             0.7777777777777778,
             "#fb9f3a"
            ],
            [
             0.8888888888888888,
             "#fdca26"
            ],
            [
             1,
             "#f0f921"
            ]
           ]
          },
          "colorway": [
           "#636efa",
           "#EF553B",
           "#00cc96",
           "#ab63fa",
           "#FFA15A",
           "#19d3f3",
           "#FF6692",
           "#B6E880",
           "#FF97FF",
           "#FECB52"
          ],
          "font": {
           "color": "#2a3f5f"
          },
          "geo": {
           "bgcolor": "white",
           "lakecolor": "white",
           "landcolor": "#E5ECF6",
           "showlakes": true,
           "showland": true,
           "subunitcolor": "white"
          },
          "hoverlabel": {
           "align": "left"
          },
          "hovermode": "closest",
          "mapbox": {
           "style": "light"
          },
          "paper_bgcolor": "white",
          "plot_bgcolor": "#E5ECF6",
          "polar": {
           "angularaxis": {
            "gridcolor": "white",
            "linecolor": "white",
            "ticks": ""
           },
           "bgcolor": "#E5ECF6",
           "radialaxis": {
            "gridcolor": "white",
            "linecolor": "white",
            "ticks": ""
           }
          },
          "scene": {
           "xaxis": {
            "backgroundcolor": "#E5ECF6",
            "gridcolor": "white",
            "gridwidth": 2,
            "linecolor": "white",
            "showbackground": true,
            "ticks": "",
            "zerolinecolor": "white"
           },
           "yaxis": {
            "backgroundcolor": "#E5ECF6",
            "gridcolor": "white",
            "gridwidth": 2,
            "linecolor": "white",
            "showbackground": true,
            "ticks": "",
            "zerolinecolor": "white"
           },
           "zaxis": {
            "backgroundcolor": "#E5ECF6",
            "gridcolor": "white",
            "gridwidth": 2,
            "linecolor": "white",
            "showbackground": true,
            "ticks": "",
            "zerolinecolor": "white"
           }
          },
          "shapedefaults": {
           "line": {
            "color": "#2a3f5f"
           }
          },
          "ternary": {
           "aaxis": {
            "gridcolor": "white",
            "linecolor": "white",
            "ticks": ""
           },
           "baxis": {
            "gridcolor": "white",
            "linecolor": "white",
            "ticks": ""
           },
           "bgcolor": "#E5ECF6",
           "caxis": {
            "gridcolor": "white",
            "linecolor": "white",
            "ticks": ""
           }
          },
          "title": {
           "x": 0.05
          },
          "xaxis": {
           "automargin": true,
           "gridcolor": "white",
           "linecolor": "white",
           "ticks": "",
           "title": {
            "standoff": 15
           },
           "zerolinecolor": "white",
           "zerolinewidth": 2
          },
          "yaxis": {
           "automargin": true,
           "gridcolor": "white",
           "linecolor": "white",
           "ticks": "",
           "title": {
            "standoff": 15
           },
           "zerolinecolor": "white",
           "zerolinewidth": 2
          }
         }
        },
        "title": {
         "font": {
          "color": "#4D5663"
         }
        },
        "xaxis": {
         "gridcolor": "#E1E5ED",
         "showgrid": true,
         "tickfont": {
          "color": "#4D5663"
         },
         "title": {
          "font": {
           "color": "#4D5663"
          },
          "text": ""
         },
         "zerolinecolor": "#E1E5ED"
        },
        "yaxis": {
         "gridcolor": "#E1E5ED",
         "showgrid": true,
         "tickfont": {
          "color": "#4D5663"
         },
         "title": {
          "font": {
           "color": "#4D5663"
          },
          "text": ""
         },
         "zerolinecolor": "#E1E5ED"
        }
       }
      },
      "text/html": [
       "<div>\n",
       "        \n",
       "        \n",
       "            <div id=\"7636edba-d586-4d49-a92f-8e1b2c99be40\" class=\"plotly-graph-div\" style=\"height:525px; width:100%;\"></div>\n",
       "            <script type=\"text/javascript\">\n",
       "                require([\"plotly\"], function(Plotly) {\n",
       "                    window.PLOTLYENV=window.PLOTLYENV || {};\n",
       "                    window.PLOTLYENV.BASE_URL='https://plot.ly';\n",
       "                    \n",
       "                if (document.getElementById(\"7636edba-d586-4d49-a92f-8e1b2c99be40\")) {\n",
       "                    Plotly.newPlot(\n",
       "                        '7636edba-d586-4d49-a92f-8e1b2c99be40',\n",
       "                        [{\"marker\": {\"color\": [\"rgb(255, 153, 51)\", \"rgb(55, 128, 191)\", \"rgb(50, 171, 96)\", \"rgb(128, 0, 128)\", \"rgb(219, 64, 82)\", \"rgb(0, 128, 128)\", \"rgb(255, 255, 51)\", \"rgb(128, 128, 0)\", \"rgb(251, 128, 114)\", \"rgb(128, 177, 211)\"], \"line\": {\"width\": 1.3}, \"size\": [33, 29, 112, 92, 60, 81, 37, 78, 74, 60, 68, 61, 29, 31, 28, 53, 68, 31, 26, 82, 100, 62, 63, 97, 58, 58, 40, 48, 58, 49, 29, 13, 54, 44, 71, 92, 90, 35, 49, 34, 76, 27, 12, 48, 42, 52, 46, 26, 56, 49, 74, 42, 29, 59, 45, 27, 68, 69, 58, 80, 61, 64, 87, 85, 70, 65, 58, 90, 49, 41, 75, 74, 35, 64, 24, 82, 27, 47, 45, 83, 71, 71, 45, 38, 70, 71, 68, 49, 77, 54, 51, 24, 47, 56, 44, 88, 109, 79, 40, 94], \"symbol\": \"circle\"}, \"mode\": \"markers\", \"text\": \"\", \"type\": \"scatter\", \"x\": [-2.19517732281781, 0.41297071995567625, 0.5238259134616036, 2.321660493048887, -1.7918868447130059, -1.4003185528924975, -1.7297604866535865, -0.44388711000201464, -0.5052550235591972, -0.20154762526484626, -0.08352134157213167, -0.6855060781663106, 1.0887687415999572, 0.2855894125108078, 0.7980404615235451, -1.0339660491462646, 0.552988758119476, -0.011700097264279497, 0.021437589270594415, -0.08236305549690165, 0.5291996261975528, 0.6551868758377841, -1.4859686060330128, -1.9244490589884782, 0.8448386798137778, 0.375889652742352, 0.6713684703182022, 0.5292666392387347, -1.8438289583630185, 0.558440068266143, -0.6563135402637561, -1.6316467385018294, -0.39836303303761095, 0.0691617062364122, 0.1353258261082668, 0.7185436507289951, 1.553925211212386, -0.5714655522307664, 1.4904875406858629, 0.6217440104496987, 0.7865768608697654, 0.7378588602432641, -0.8985395833921609, 0.6397978501868015, -0.2631592379934458, -0.18465379229969653, -1.766855324557164, 0.12173746345167527, -0.743605387049839, 0.784334833739347, 0.3917372705482704, -0.5909559239175638, -0.40630782754950207, -0.9881423673945723, -1.4597607300847637, 0.3023562251048793, -0.1954609877017618, 1.8127924584945665, -0.438196644574794, 0.9922522061400024, -0.859983652215299, 0.4246206377667659, 1.2931457895853469, -0.3197471206910602, -0.29015708985798294, -2.4200083935552144, -0.5531573484596305, 0.9919788860691116, -0.10068870784096433, 0.013473054882340725, 0.8870424485265856, -1.52983366553648, 0.8145957073039255, -0.81898061248173, -0.9098258908774242, -1.3752270874209238, 1.3669607304331788, -0.040484151685499445, -1.1206413918176934, 0.4768318852770323, -0.3417763069099912, -1.408962249978248, -1.5951427299765275, 1.2197177433735997, 0.5445789312288598, 0.6313147555355381, 0.32000780366272574, -0.8704515879612656, -0.627920771771115, 0.8440369058295358, -1.2010314467224608, 0.10303101875969292, 1.7119342867501717, 1.345218350267589, 1.8895042692650679, 0.5245714274017701, -0.010284788799988025, 1.4983859268949218, 0.6627916098655476, -0.9058275513453036], \"y\": [-0.2551109513862989, -1.5127464737870182, 0.3758014389849401, 1.8857727661935286, 1.662544285322015, -1.2664294656572934, -1.5174696024398788, 0.5852178156544476, 0.6965117049576418, -1.1279399272931596, -0.6863623724755933, -1.1044899382302837, 0.07098359754755064, 1.2151791713518312, 0.2203176108637594, 2.6295732761898005, 0.6798859657591843, 0.986074789157596, -1.2317801711589613, -0.7665611492450716, -0.022858667742858704, -0.6294825856993135, 1.6306391943001899, 1.6995515594849566, -0.5905495429530158, 0.47793027697582735, -0.44609211623245887, 1.7576040287335875, -1.0923347767002078, -1.8993634237607036, 0.5844253290883914, -0.04822525857137415, 0.3463651631429565, 0.40013204209307585, 0.22836136631949458, 0.5377706594361823, -0.046788587259596004, -2.5718183127194134, -0.15116176468220824, -0.21953364549617513, -0.3325484225048974, -1.8096452038883564, 0.7289382006548182, -0.09439706742108991, 0.012540101956239863, -0.48136707668519524, 1.1582886336009641, -0.4248727474952323, 0.40709870307468116, 1.0717332510596662, 0.458827727449291, 0.9438296370958118, 1.4303013514646175, -0.403906433119754, 0.7027145404728263, 0.5103829539116806, -0.8123969957649172, 0.3383761382920852, -1.171096152810323, 0.46599418331537706, 0.47419707617009593, -2.56535748723371, -0.06782037218279009, -0.9328199422531491, 0.08936881595781979, 1.105071798487719, 1.292664158575097, -2.6250692746878195, -0.45631212365946394, 1.018318165064855, -1.2526436138204882, -0.17168542970891618, -0.4699345868151425, 0.38738762957994255, -1.5998498437689137, 0.7609470697567795, -0.2616975602236235, 0.08826540754723577, 0.2378673846850535, 0.32753070517438304, -0.6997696295911957, -0.9027758435345248, -0.07465487316390441, -2.4577222932537945, 0.3340426817758278, 0.6960081666749737, -0.26319239683785034, -0.9980782560498498, -0.12339060576071016, -0.17112287315675134, 0.6429944355509232, 0.9524051082923007, -1.323623217934063, 0.23723427993329563, 0.09923915891778237, 0.05748639326282414, -0.8615285511403645, 0.5099022980535224, -0.29916479814974173, -0.3551225033150403]}],\n",
       "                        {\"legend\": {\"bgcolor\": \"#F5F6F9\", \"font\": {\"color\": \"#4D5663\"}}, \"paper_bgcolor\": \"#F5F6F9\", \"plot_bgcolor\": \"#F5F6F9\", \"template\": {\"data\": {\"bar\": [{\"error_x\": {\"color\": \"#2a3f5f\"}, \"error_y\": {\"color\": \"#2a3f5f\"}, \"marker\": {\"line\": {\"color\": \"#E5ECF6\", \"width\": 0.5}}, \"type\": \"bar\"}], \"barpolar\": [{\"marker\": {\"line\": {\"color\": \"#E5ECF6\", \"width\": 0.5}}, \"type\": \"barpolar\"}], \"carpet\": [{\"aaxis\": {\"endlinecolor\": \"#2a3f5f\", \"gridcolor\": \"white\", \"linecolor\": \"white\", \"minorgridcolor\": \"white\", \"startlinecolor\": \"#2a3f5f\"}, \"baxis\": {\"endlinecolor\": \"#2a3f5f\", \"gridcolor\": \"white\", \"linecolor\": \"white\", \"minorgridcolor\": \"white\", \"startlinecolor\": \"#2a3f5f\"}, \"type\": \"carpet\"}], \"choropleth\": [{\"colorbar\": {\"outlinewidth\": 0, \"ticks\": \"\"}, \"type\": \"choropleth\"}], \"contour\": [{\"colorbar\": {\"outlinewidth\": 0, \"ticks\": \"\"}, \"colorscale\": [[0.0, \"#0d0887\"], [0.1111111111111111, \"#46039f\"], [0.2222222222222222, \"#7201a8\"], [0.3333333333333333, \"#9c179e\"], [0.4444444444444444, \"#bd3786\"], [0.5555555555555556, \"#d8576b\"], [0.6666666666666666, \"#ed7953\"], [0.7777777777777778, \"#fb9f3a\"], [0.8888888888888888, \"#fdca26\"], [1.0, \"#f0f921\"]], \"type\": \"contour\"}], \"contourcarpet\": [{\"colorbar\": {\"outlinewidth\": 0, \"ticks\": \"\"}, \"type\": \"contourcarpet\"}], \"heatmap\": [{\"colorbar\": {\"outlinewidth\": 0, \"ticks\": \"\"}, \"colorscale\": [[0.0, \"#0d0887\"], [0.1111111111111111, \"#46039f\"], [0.2222222222222222, \"#7201a8\"], [0.3333333333333333, \"#9c179e\"], [0.4444444444444444, \"#bd3786\"], [0.5555555555555556, \"#d8576b\"], [0.6666666666666666, \"#ed7953\"], [0.7777777777777778, \"#fb9f3a\"], [0.8888888888888888, \"#fdca26\"], [1.0, \"#f0f921\"]], \"type\": \"heatmap\"}], \"heatmapgl\": [{\"colorbar\": {\"outlinewidth\": 0, \"ticks\": \"\"}, \"colorscale\": [[0.0, \"#0d0887\"], [0.1111111111111111, \"#46039f\"], [0.2222222222222222, \"#7201a8\"], [0.3333333333333333, \"#9c179e\"], [0.4444444444444444, \"#bd3786\"], [0.5555555555555556, \"#d8576b\"], [0.6666666666666666, \"#ed7953\"], [0.7777777777777778, \"#fb9f3a\"], [0.8888888888888888, \"#fdca26\"], [1.0, \"#f0f921\"]], \"type\": \"heatmapgl\"}], \"histogram\": [{\"marker\": {\"colorbar\": {\"outlinewidth\": 0, \"ticks\": \"\"}}, \"type\": \"histogram\"}], \"histogram2d\": [{\"colorbar\": {\"outlinewidth\": 0, \"ticks\": \"\"}, \"colorscale\": [[0.0, \"#0d0887\"], [0.1111111111111111, \"#46039f\"], [0.2222222222222222, \"#7201a8\"], [0.3333333333333333, \"#9c179e\"], [0.4444444444444444, \"#bd3786\"], [0.5555555555555556, \"#d8576b\"], [0.6666666666666666, \"#ed7953\"], [0.7777777777777778, \"#fb9f3a\"], [0.8888888888888888, \"#fdca26\"], [1.0, \"#f0f921\"]], \"type\": \"histogram2d\"}], \"histogram2dcontour\": [{\"colorbar\": {\"outlinewidth\": 0, \"ticks\": \"\"}, \"colorscale\": [[0.0, \"#0d0887\"], [0.1111111111111111, \"#46039f\"], [0.2222222222222222, \"#7201a8\"], [0.3333333333333333, \"#9c179e\"], [0.4444444444444444, \"#bd3786\"], [0.5555555555555556, \"#d8576b\"], [0.6666666666666666, \"#ed7953\"], [0.7777777777777778, \"#fb9f3a\"], [0.8888888888888888, \"#fdca26\"], [1.0, \"#f0f921\"]], \"type\": \"histogram2dcontour\"}], \"mesh3d\": [{\"colorbar\": {\"outlinewidth\": 0, \"ticks\": \"\"}, \"type\": \"mesh3d\"}], \"parcoords\": [{\"line\": {\"colorbar\": {\"outlinewidth\": 0, \"ticks\": \"\"}}, \"type\": \"parcoords\"}], \"pie\": [{\"automargin\": true, \"type\": \"pie\"}], \"scatter\": [{\"marker\": {\"colorbar\": {\"outlinewidth\": 0, \"ticks\": \"\"}}, \"type\": \"scatter\"}], \"scatter3d\": [{\"line\": {\"colorbar\": {\"outlinewidth\": 0, \"ticks\": \"\"}}, \"marker\": {\"colorbar\": {\"outlinewidth\": 0, \"ticks\": \"\"}}, \"type\": \"scatter3d\"}], \"scattercarpet\": [{\"marker\": {\"colorbar\": {\"outlinewidth\": 0, \"ticks\": \"\"}}, \"type\": \"scattercarpet\"}], \"scattergeo\": [{\"marker\": {\"colorbar\": {\"outlinewidth\": 0, \"ticks\": \"\"}}, \"type\": \"scattergeo\"}], \"scattergl\": [{\"marker\": {\"colorbar\": {\"outlinewidth\": 0, \"ticks\": \"\"}}, \"type\": \"scattergl\"}], \"scattermapbox\": [{\"marker\": {\"colorbar\": {\"outlinewidth\": 0, \"ticks\": \"\"}}, \"type\": \"scattermapbox\"}], \"scatterpolar\": [{\"marker\": {\"colorbar\": {\"outlinewidth\": 0, \"ticks\": \"\"}}, \"type\": \"scatterpolar\"}], \"scatterpolargl\": [{\"marker\": {\"colorbar\": {\"outlinewidth\": 0, \"ticks\": \"\"}}, \"type\": \"scatterpolargl\"}], \"scatterternary\": [{\"marker\": {\"colorbar\": {\"outlinewidth\": 0, \"ticks\": \"\"}}, \"type\": \"scatterternary\"}], \"surface\": [{\"colorbar\": {\"outlinewidth\": 0, \"ticks\": \"\"}, \"colorscale\": [[0.0, \"#0d0887\"], [0.1111111111111111, \"#46039f\"], [0.2222222222222222, \"#7201a8\"], [0.3333333333333333, \"#9c179e\"], [0.4444444444444444, \"#bd3786\"], [0.5555555555555556, \"#d8576b\"], [0.6666666666666666, \"#ed7953\"], [0.7777777777777778, \"#fb9f3a\"], [0.8888888888888888, \"#fdca26\"], [1.0, \"#f0f921\"]], \"type\": \"surface\"}], \"table\": [{\"cells\": {\"fill\": {\"color\": \"#EBF0F8\"}, \"line\": {\"color\": \"white\"}}, \"header\": {\"fill\": {\"color\": \"#C8D4E3\"}, \"line\": {\"color\": \"white\"}}, \"type\": \"table\"}]}, \"layout\": {\"annotationdefaults\": {\"arrowcolor\": \"#2a3f5f\", \"arrowhead\": 0, \"arrowwidth\": 1}, \"coloraxis\": {\"colorbar\": {\"outlinewidth\": 0, \"ticks\": \"\"}}, \"colorscale\": {\"diverging\": [[0, \"#8e0152\"], [0.1, \"#c51b7d\"], [0.2, \"#de77ae\"], [0.3, \"#f1b6da\"], [0.4, \"#fde0ef\"], [0.5, \"#f7f7f7\"], [0.6, \"#e6f5d0\"], [0.7, \"#b8e186\"], [0.8, \"#7fbc41\"], [0.9, \"#4d9221\"], [1, \"#276419\"]], \"sequential\": [[0.0, \"#0d0887\"], [0.1111111111111111, \"#46039f\"], [0.2222222222222222, \"#7201a8\"], [0.3333333333333333, \"#9c179e\"], [0.4444444444444444, \"#bd3786\"], [0.5555555555555556, \"#d8576b\"], [0.6666666666666666, \"#ed7953\"], [0.7777777777777778, \"#fb9f3a\"], [0.8888888888888888, \"#fdca26\"], [1.0, \"#f0f921\"]], \"sequentialminus\": [[0.0, \"#0d0887\"], [0.1111111111111111, \"#46039f\"], [0.2222222222222222, \"#7201a8\"], [0.3333333333333333, \"#9c179e\"], [0.4444444444444444, \"#bd3786\"], [0.5555555555555556, \"#d8576b\"], [0.6666666666666666, \"#ed7953\"], [0.7777777777777778, \"#fb9f3a\"], [0.8888888888888888, \"#fdca26\"], [1.0, \"#f0f921\"]]}, \"colorway\": [\"#636efa\", \"#EF553B\", \"#00cc96\", \"#ab63fa\", \"#FFA15A\", \"#19d3f3\", \"#FF6692\", \"#B6E880\", \"#FF97FF\", \"#FECB52\"], \"font\": {\"color\": \"#2a3f5f\"}, \"geo\": {\"bgcolor\": \"white\", \"lakecolor\": \"white\", \"landcolor\": \"#E5ECF6\", \"showlakes\": true, \"showland\": true, \"subunitcolor\": \"white\"}, \"hoverlabel\": {\"align\": \"left\"}, \"hovermode\": \"closest\", \"mapbox\": {\"style\": \"light\"}, \"paper_bgcolor\": \"white\", \"plot_bgcolor\": \"#E5ECF6\", \"polar\": {\"angularaxis\": {\"gridcolor\": \"white\", \"linecolor\": \"white\", \"ticks\": \"\"}, \"bgcolor\": \"#E5ECF6\", \"radialaxis\": {\"gridcolor\": \"white\", \"linecolor\": \"white\", \"ticks\": \"\"}}, \"scene\": {\"xaxis\": {\"backgroundcolor\": \"#E5ECF6\", \"gridcolor\": \"white\", \"gridwidth\": 2, \"linecolor\": \"white\", \"showbackground\": true, \"ticks\": \"\", \"zerolinecolor\": \"white\"}, \"yaxis\": {\"backgroundcolor\": \"#E5ECF6\", \"gridcolor\": \"white\", \"gridwidth\": 2, \"linecolor\": \"white\", \"showbackground\": true, \"ticks\": \"\", \"zerolinecolor\": \"white\"}, \"zaxis\": {\"backgroundcolor\": \"#E5ECF6\", \"gridcolor\": \"white\", \"gridwidth\": 2, \"linecolor\": \"white\", \"showbackground\": true, \"ticks\": \"\", \"zerolinecolor\": \"white\"}}, \"shapedefaults\": {\"line\": {\"color\": \"#2a3f5f\"}}, \"ternary\": {\"aaxis\": {\"gridcolor\": \"white\", \"linecolor\": \"white\", \"ticks\": \"\"}, \"baxis\": {\"gridcolor\": \"white\", \"linecolor\": \"white\", \"ticks\": \"\"}, \"bgcolor\": \"#E5ECF6\", \"caxis\": {\"gridcolor\": \"white\", \"linecolor\": \"white\", \"ticks\": \"\"}}, \"title\": {\"x\": 0.05}, \"xaxis\": {\"automargin\": true, \"gridcolor\": \"white\", \"linecolor\": \"white\", \"ticks\": \"\", \"title\": {\"standoff\": 15}, \"zerolinecolor\": \"white\", \"zerolinewidth\": 2}, \"yaxis\": {\"automargin\": true, \"gridcolor\": \"white\", \"linecolor\": \"white\", \"ticks\": \"\", \"title\": {\"standoff\": 15}, \"zerolinecolor\": \"white\", \"zerolinewidth\": 2}}}, \"title\": {\"font\": {\"color\": \"#4D5663\"}}, \"xaxis\": {\"gridcolor\": \"#E1E5ED\", \"showgrid\": true, \"tickfont\": {\"color\": \"#4D5663\"}, \"title\": {\"font\": {\"color\": \"#4D5663\"}, \"text\": \"\"}, \"zerolinecolor\": \"#E1E5ED\"}, \"yaxis\": {\"gridcolor\": \"#E1E5ED\", \"showgrid\": true, \"tickfont\": {\"color\": \"#4D5663\"}, \"title\": {\"font\": {\"color\": \"#4D5663\"}, \"text\": \"\"}, \"zerolinecolor\": \"#E1E5ED\"}},\n",
       "                        {\"showLink\": true, \"linkText\": \"Export to plot.ly\", \"plotlyServerURL\": \"https://plot.ly\", \"responsive\": true}\n",
       "                    ).then(function(){\n",
       "                            \n",
       "var gd = document.getElementById('7636edba-d586-4d49-a92f-8e1b2c99be40');\n",
       "var x = new MutationObserver(function (mutations, observer) {{\n",
       "        var display = window.getComputedStyle(gd).display;\n",
       "        if (!display || display === 'none') {{\n",
       "            console.log([gd, 'removed!']);\n",
       "            Plotly.purge(gd);\n",
       "            observer.disconnect();\n",
       "        }}\n",
       "}});\n",
       "\n",
       "// Listen for the removal of the full notebook cells\n",
       "var notebookContainer = gd.closest('#notebook-container');\n",
       "if (notebookContainer) {{\n",
       "    x.observe(notebookContainer, {childList: true});\n",
       "}}\n",
       "\n",
       "// Listen for the clearing of the current output cell\n",
       "var outputEl = gd.closest('.output');\n",
       "if (outputEl) {{\n",
       "    x.observe(outputEl, {childList: true});\n",
       "}}\n",
       "\n",
       "                        })\n",
       "                };\n",
       "                });\n",
       "            </script>\n",
       "        </div>"
      ]
     },
     "metadata": {},
     "output_type": "display_data"
    }
   ],
   "source": [
    "df.iplot(kind='bubble',x='A',y='B',size='C')"
   ]
  },
  {
   "cell_type": "markdown",
   "metadata": {},
   "source": [
    "## scatter matrix \n",
    "#### similar to pairplot"
   ]
  },
  {
   "cell_type": "code",
   "execution_count": 19,
   "metadata": {},
   "outputs": [
    {
     "data": {
      "application/vnd.plotly.v1+json": {
       "config": {
        "linkText": "Export to plot.ly",
        "plotlyServerURL": "https://plot.ly",
        "showLink": true
       },
       "data": [
        {
         "histfunc": "count",
         "histnorm": "",
         "marker": {
          "color": "rgba(255, 153, 51, 1.0)",
          "line": {
           "color": "#4D5663",
           "width": 1.3
          }
         },
         "name": "A",
         "nbinsx": 10,
         "opacity": 0.8,
         "orientation": "v",
         "type": "histogram",
         "x": [
          -2.19517732281781,
          0.41297071995567625,
          0.5238259134616036,
          2.321660493048887,
          -1.7918868447130059,
          -1.4003185528924975,
          -1.7297604866535865,
          -0.44388711000201464,
          -0.5052550235591972,
          -0.20154762526484626,
          -0.08352134157213167,
          -0.6855060781663106,
          1.0887687415999572,
          0.2855894125108078,
          0.7980404615235451,
          -1.0339660491462646,
          0.552988758119476,
          -0.011700097264279497,
          0.021437589270594415,
          -0.08236305549690165,
          0.5291996261975528,
          0.6551868758377841,
          -1.4859686060330128,
          -1.9244490589884782,
          0.8448386798137778,
          0.375889652742352,
          0.6713684703182022,
          0.5292666392387347,
          -1.8438289583630185,
          0.558440068266143,
          -0.6563135402637561,
          -1.6316467385018294,
          -0.39836303303761095,
          0.0691617062364122,
          0.1353258261082668,
          0.7185436507289951,
          1.553925211212386,
          -0.5714655522307664,
          1.4904875406858629,
          0.6217440104496987,
          0.7865768608697654,
          0.7378588602432641,
          -0.8985395833921609,
          0.6397978501868015,
          -0.2631592379934458,
          -0.18465379229969653,
          -1.766855324557164,
          0.12173746345167527,
          -0.743605387049839,
          0.784334833739347,
          0.3917372705482704,
          -0.5909559239175638,
          -0.40630782754950207,
          -0.9881423673945723,
          -1.4597607300847637,
          0.3023562251048793,
          -0.1954609877017618,
          1.8127924584945665,
          -0.438196644574794,
          0.9922522061400024,
          -0.859983652215299,
          0.4246206377667659,
          1.2931457895853469,
          -0.3197471206910602,
          -0.29015708985798294,
          -2.4200083935552144,
          -0.5531573484596305,
          0.9919788860691116,
          -0.10068870784096433,
          0.013473054882340725,
          0.8870424485265856,
          -1.52983366553648,
          0.8145957073039255,
          -0.81898061248173,
          -0.9098258908774242,
          -1.3752270874209238,
          1.3669607304331788,
          -0.040484151685499445,
          -1.1206413918176934,
          0.4768318852770323,
          -0.3417763069099912,
          -1.408962249978248,
          -1.5951427299765275,
          1.2197177433735997,
          0.5445789312288598,
          0.6313147555355381,
          0.32000780366272574,
          -0.8704515879612656,
          -0.627920771771115,
          0.8440369058295358,
          -1.2010314467224608,
          0.10303101875969292,
          1.7119342867501717,
          1.345218350267589,
          1.8895042692650679,
          0.5245714274017701,
          -0.010284788799988025,
          1.4983859268949218,
          0.6627916098655476,
          -0.9058275513453036
         ],
         "xaxis": "x",
         "yaxis": "y"
        },
        {
         "line": {
          "color": "rgba(128, 128, 128, 1.0)",
          "dash": "solid",
          "shape": "linear",
          "width": 1.3
         },
         "marker": {
          "size": 2,
          "symbol": "circle"
         },
         "mode": "markers",
         "name": "A",
         "text": "",
         "type": "scatter",
         "x": [
          -0.2551109513862989,
          -1.5127464737870182,
          0.3758014389849401,
          1.8857727661935286,
          1.662544285322015,
          -1.2664294656572934,
          -1.5174696024398788,
          0.5852178156544476,
          0.6965117049576418,
          -1.1279399272931596,
          -0.6863623724755933,
          -1.1044899382302837,
          0.07098359754755064,
          1.2151791713518312,
          0.2203176108637594,
          2.6295732761898005,
          0.6798859657591843,
          0.986074789157596,
          -1.2317801711589613,
          -0.7665611492450716,
          -0.022858667742858704,
          -0.6294825856993135,
          1.6306391943001899,
          1.6995515594849566,
          -0.5905495429530158,
          0.47793027697582735,
          -0.44609211623245887,
          1.7576040287335875,
          -1.0923347767002078,
          -1.8993634237607036,
          0.5844253290883914,
          -0.04822525857137415,
          0.3463651631429565,
          0.40013204209307585,
          0.22836136631949458,
          0.5377706594361823,
          -0.046788587259596004,
          -2.5718183127194134,
          -0.15116176468220824,
          -0.21953364549617513,
          -0.3325484225048974,
          -1.8096452038883564,
          0.7289382006548182,
          -0.09439706742108991,
          0.012540101956239863,
          -0.48136707668519524,
          1.1582886336009641,
          -0.4248727474952323,
          0.40709870307468116,
          1.0717332510596662,
          0.458827727449291,
          0.9438296370958118,
          1.4303013514646175,
          -0.403906433119754,
          0.7027145404728263,
          0.5103829539116806,
          -0.8123969957649172,
          0.3383761382920852,
          -1.171096152810323,
          0.46599418331537706,
          0.47419707617009593,
          -2.56535748723371,
          -0.06782037218279009,
          -0.9328199422531491,
          0.08936881595781979,
          1.105071798487719,
          1.292664158575097,
          -2.6250692746878195,
          -0.45631212365946394,
          1.018318165064855,
          -1.2526436138204882,
          -0.17168542970891618,
          -0.4699345868151425,
          0.38738762957994255,
          -1.5998498437689137,
          0.7609470697567795,
          -0.2616975602236235,
          0.08826540754723577,
          0.2378673846850535,
          0.32753070517438304,
          -0.6997696295911957,
          -0.9027758435345248,
          -0.07465487316390441,
          -2.4577222932537945,
          0.3340426817758278,
          0.6960081666749737,
          -0.26319239683785034,
          -0.9980782560498498,
          -0.12339060576071016,
          -0.17112287315675134,
          0.6429944355509232,
          0.9524051082923007,
          -1.323623217934063,
          0.23723427993329563,
          0.09923915891778237,
          0.05748639326282414,
          -0.8615285511403645,
          0.5099022980535224,
          -0.29916479814974173,
          -0.3551225033150403
         ],
         "xaxis": "x2",
         "y": [
          -2.19517732281781,
          0.41297071995567625,
          0.5238259134616036,
          2.321660493048887,
          -1.7918868447130059,
          -1.4003185528924975,
          -1.7297604866535865,
          -0.44388711000201464,
          -0.5052550235591972,
          -0.20154762526484626,
          -0.08352134157213167,
          -0.6855060781663106,
          1.0887687415999572,
          0.2855894125108078,
          0.7980404615235451,
          -1.0339660491462646,
          0.552988758119476,
          -0.011700097264279497,
          0.021437589270594415,
          -0.08236305549690165,
          0.5291996261975528,
          0.6551868758377841,
          -1.4859686060330128,
          -1.9244490589884782,
          0.8448386798137778,
          0.375889652742352,
          0.6713684703182022,
          0.5292666392387347,
          -1.8438289583630185,
          0.558440068266143,
          -0.6563135402637561,
          -1.6316467385018294,
          -0.39836303303761095,
          0.0691617062364122,
          0.1353258261082668,
          0.7185436507289951,
          1.553925211212386,
          -0.5714655522307664,
          1.4904875406858629,
          0.6217440104496987,
          0.7865768608697654,
          0.7378588602432641,
          -0.8985395833921609,
          0.6397978501868015,
          -0.2631592379934458,
          -0.18465379229969653,
          -1.766855324557164,
          0.12173746345167527,
          -0.743605387049839,
          0.784334833739347,
          0.3917372705482704,
          -0.5909559239175638,
          -0.40630782754950207,
          -0.9881423673945723,
          -1.4597607300847637,
          0.3023562251048793,
          -0.1954609877017618,
          1.8127924584945665,
          -0.438196644574794,
          0.9922522061400024,
          -0.859983652215299,
          0.4246206377667659,
          1.2931457895853469,
          -0.3197471206910602,
          -0.29015708985798294,
          -2.4200083935552144,
          -0.5531573484596305,
          0.9919788860691116,
          -0.10068870784096433,
          0.013473054882340725,
          0.8870424485265856,
          -1.52983366553648,
          0.8145957073039255,
          -0.81898061248173,
          -0.9098258908774242,
          -1.3752270874209238,
          1.3669607304331788,
          -0.040484151685499445,
          -1.1206413918176934,
          0.4768318852770323,
          -0.3417763069099912,
          -1.408962249978248,
          -1.5951427299765275,
          1.2197177433735997,
          0.5445789312288598,
          0.6313147555355381,
          0.32000780366272574,
          -0.8704515879612656,
          -0.627920771771115,
          0.8440369058295358,
          -1.2010314467224608,
          0.10303101875969292,
          1.7119342867501717,
          1.345218350267589,
          1.8895042692650679,
          0.5245714274017701,
          -0.010284788799988025,
          1.4983859268949218,
          0.6627916098655476,
          -0.9058275513453036
         ],
         "yaxis": "y2"
        },
        {
         "line": {
          "color": "rgba(128, 128, 128, 1.0)",
          "dash": "solid",
          "shape": "linear",
          "width": 1.3
         },
         "marker": {
          "size": 2,
          "symbol": "circle"
         },
         "mode": "markers",
         "name": "A",
         "text": "",
         "type": "scatter",
         "x": [
          -1.0788971856936262,
          -1.2567580655429562,
          2.306905757660575,
          1.4597194024759284,
          0.08993898843896211,
          0.99660105806891,
          -0.9019836835408349,
          0.859353588311807,
          0.71725570181717,
          0.08380403413390386,
          0.44119082233712265,
          0.1438418816097869,
          -1.247558375257457,
          -1.1442716126240062,
          -1.2617825554963564,
          -0.19087872415173907,
          0.4341101082887723,
          -1.1287682521621962,
          -1.3602623536692164,
          1.05375491177541,
          1.8209709905919105,
          0.1817511218888976,
          0.22467287735670233,
          1.6875574908256463,
          0.007166511506410807,
          -0.0050954727207124266,
          -0.7423566678317753,
          -0.40653941438145946,
          -0.0068370559735675875,
          -0.3841329768242768,
          -1.2524535142745092,
          -1.906151255377356,
          -0.1763321051587015,
          -0.5836410168125651,
          0.5518374528931556,
          1.4519255221120164,
          1.3643118237082614,
          -0.9979487982713429,
          -0.3645103593299708,
          -1.0174748573809365,
          0.8031952687280782,
          -1.3162986958711003,
          -1.9874803671405927,
          -0.40994448299083536,
          -0.657621109199126,
          -0.2441861701805242,
          -0.48494070247939963,
          -1.3795160568953664,
          -0.07059090968345638,
          -0.37464040312293606,
          0.6800215471504433,
          -0.6873726058624622,
          -1.241770993437353,
          0.05758086179807762,
          -0.5403668486477343,
          -1.3125466743292626,
          0.43703161569946325,
          0.4770647673840944,
          0.013742174347041376,
          0.9442069570899385,
          0.1528210048976337,
          0.25608505426833694,
          1.272652337867402,
          1.161795856037412,
          0.5306960137695097,
          0.30294924805684886,
          -0.011718203774587013,
          1.3751187811239185,
          -0.36030546879938913,
          -0.707594027756117,
          0.7255443632944976,
          0.6789982136122885,
          -0.9699242148957096,
          0.2778188395179725,
          -1.455676810569012,
          1.0279156175778397,
          -1.3393970564477102,
          -0.4543107025528251,
          -0.5360591728383689,
          1.0873434219180473,
          0.5713322131613005,
          0.5487943256282278,
          -0.5305824692030522,
          -0.8525390393332022,
          0.5113519006178853,
          0.5645692944823126,
          0.4296716748425944,
          -0.38857668370552584,
          0.8334927023304188,
          -0.17060926894242331,
          -0.29196042928222776,
          -1.4665800633973136,
          -0.4741414933070715,
          -0.07649969481687253,
          -0.5776916122635324,
          1.2800821684834214,
          2.1878392758982,
          0.9093467140440413,
          -0.7577571032797649,
          1.5706481783964563
         ],
         "xaxis": "x3",
         "y": [
          -2.19517732281781,
          0.41297071995567625,
          0.5238259134616036,
          2.321660493048887,
          -1.7918868447130059,
          -1.4003185528924975,
          -1.7297604866535865,
          -0.44388711000201464,
          -0.5052550235591972,
          -0.20154762526484626,
          -0.08352134157213167,
          -0.6855060781663106,
          1.0887687415999572,
          0.2855894125108078,
          0.7980404615235451,
          -1.0339660491462646,
          0.552988758119476,
          -0.011700097264279497,
          0.021437589270594415,
          -0.08236305549690165,
          0.5291996261975528,
          0.6551868758377841,
          -1.4859686060330128,
          -1.9244490589884782,
          0.8448386798137778,
          0.375889652742352,
          0.6713684703182022,
          0.5292666392387347,
          -1.8438289583630185,
          0.558440068266143,
          -0.6563135402637561,
          -1.6316467385018294,
          -0.39836303303761095,
          0.0691617062364122,
          0.1353258261082668,
          0.7185436507289951,
          1.553925211212386,
          -0.5714655522307664,
          1.4904875406858629,
          0.6217440104496987,
          0.7865768608697654,
          0.7378588602432641,
          -0.8985395833921609,
          0.6397978501868015,
          -0.2631592379934458,
          -0.18465379229969653,
          -1.766855324557164,
          0.12173746345167527,
          -0.743605387049839,
          0.784334833739347,
          0.3917372705482704,
          -0.5909559239175638,
          -0.40630782754950207,
          -0.9881423673945723,
          -1.4597607300847637,
          0.3023562251048793,
          -0.1954609877017618,
          1.8127924584945665,
          -0.438196644574794,
          0.9922522061400024,
          -0.859983652215299,
          0.4246206377667659,
          1.2931457895853469,
          -0.3197471206910602,
          -0.29015708985798294,
          -2.4200083935552144,
          -0.5531573484596305,
          0.9919788860691116,
          -0.10068870784096433,
          0.013473054882340725,
          0.8870424485265856,
          -1.52983366553648,
          0.8145957073039255,
          -0.81898061248173,
          -0.9098258908774242,
          -1.3752270874209238,
          1.3669607304331788,
          -0.040484151685499445,
          -1.1206413918176934,
          0.4768318852770323,
          -0.3417763069099912,
          -1.408962249978248,
          -1.5951427299765275,
          1.2197177433735997,
          0.5445789312288598,
          0.6313147555355381,
          0.32000780366272574,
          -0.8704515879612656,
          -0.627920771771115,
          0.8440369058295358,
          -1.2010314467224608,
          0.10303101875969292,
          1.7119342867501717,
          1.345218350267589,
          1.8895042692650679,
          0.5245714274017701,
          -0.010284788799988025,
          1.4983859268949218,
          0.6627916098655476,
          -0.9058275513453036
         ],
         "yaxis": "y3"
        },
        {
         "line": {
          "color": "rgba(128, 128, 128, 1.0)",
          "dash": "solid",
          "shape": "linear",
          "width": 1.3
         },
         "marker": {
          "size": 2,
          "symbol": "circle"
         },
         "mode": "markers",
         "name": "A",
         "text": "",
         "type": "scatter",
         "x": [
          -0.5590574727429467,
          -0.9652481973032375,
          -1.3906244582999019,
          -0.08687000251376722,
          0.1545456412609485,
          1.4654554026194144,
          1.7355261517364142,
          3.0866410008314973,
          1.007893155993295,
          -0.0878959082604831,
          1.284467497652036,
          -0.9963807409741994,
          0.036263894100578384,
          0.40023408716768255,
          -1.0246299571488198,
          2.28250247935137,
          -0.7013000342685121,
          -1.6206655240217647,
          1.4112203997059312,
          1.4373198921923294,
          -0.505991052532302,
          0.6779142603868307,
          -0.22510867140490098,
          0.8545883499934318,
          -1.4544427386993073,
          -0.9789075394224392,
          -0.9837519315782766,
          0.3885380832764085,
          -0.28032248335972537,
          0.7923336903765062,
          1.2075302537726125,
          -1.2176544591767497,
          0.0738198563533884,
          1.0064142879632798,
          -0.7706316917192473,
          0.4289913981974971,
          1.9084145086201643,
          -0.759623916011402,
          -0.7425070412671436,
          0.06277473045695621,
          -1.3580505718528622,
          0.10196013029678108,
          -0.5409824517556163,
          0.8786075417899561,
          -1.9178121656516358,
          -0.7370282624161755,
          -0.4237867494075362,
          1.9636892356315543,
          0.10401022158456855,
          -0.7365675799373227,
          -0.005439127042603156,
          -0.2933454827501467,
          1.4954542624775675,
          0.55802181627489,
          -0.6593403254748437,
          0.1988383461089805,
          1.964963411148573,
          1.3581791479795247,
          0.19833831351646278,
          -1.163290788844608,
          0.9132583074449778,
          1.1638660403619159,
          0.1982468492296855,
          -0.29347819983700696,
          -1.1289900244318574,
          1.6786268584259554,
          0.6752784131011865,
          0.28964405270534455,
          -1.7028904293033216,
          -0.3248457754664075,
          -0.044838207779540167,
          1.5281073134205174,
          -2.198051848748937,
          0.5219157564655361,
          0.13305749611839168,
          0.6697046858131003,
          2.0783492112196598,
          0.9929109397786321,
          0.16938681646939813,
          1.6124829761303008,
          1.1945936974657962,
          0.6407065679370807,
          1.077282719175627,
          -0.031450677049946675,
          1.721291153338183,
          -0.4883675671054236,
          -1.0751416403037444,
          -1.6437040422288198,
          -1.4805590800596549,
          -0.4327787443054158,
          1.4504884399154043,
          1.1293919825784633,
          -0.5720607111027293,
          -0.9108482132400754,
          0.15808052374103915,
          0.3987311937942134,
          -1.0799529107118289,
          -0.5951021534896669,
          -0.5904923295274668,
          -0.5697651843320882
         ],
         "xaxis": "x4",
         "y": [
          -2.19517732281781,
          0.41297071995567625,
          0.5238259134616036,
          2.321660493048887,
          -1.7918868447130059,
          -1.4003185528924975,
          -1.7297604866535865,
          -0.44388711000201464,
          -0.5052550235591972,
          -0.20154762526484626,
          -0.08352134157213167,
          -0.6855060781663106,
          1.0887687415999572,
          0.2855894125108078,
          0.7980404615235451,
          -1.0339660491462646,
          0.552988758119476,
          -0.011700097264279497,
          0.021437589270594415,
          -0.08236305549690165,
          0.5291996261975528,
          0.6551868758377841,
          -1.4859686060330128,
          -1.9244490589884782,
          0.8448386798137778,
          0.375889652742352,
          0.6713684703182022,
          0.5292666392387347,
          -1.8438289583630185,
          0.558440068266143,
          -0.6563135402637561,
          -1.6316467385018294,
          -0.39836303303761095,
          0.0691617062364122,
          0.1353258261082668,
          0.7185436507289951,
          1.553925211212386,
          -0.5714655522307664,
          1.4904875406858629,
          0.6217440104496987,
          0.7865768608697654,
          0.7378588602432641,
          -0.8985395833921609,
          0.6397978501868015,
          -0.2631592379934458,
          -0.18465379229969653,
          -1.766855324557164,
          0.12173746345167527,
          -0.743605387049839,
          0.784334833739347,
          0.3917372705482704,
          -0.5909559239175638,
          -0.40630782754950207,
          -0.9881423673945723,
          -1.4597607300847637,
          0.3023562251048793,
          -0.1954609877017618,
          1.8127924584945665,
          -0.438196644574794,
          0.9922522061400024,
          -0.859983652215299,
          0.4246206377667659,
          1.2931457895853469,
          -0.3197471206910602,
          -0.29015708985798294,
          -2.4200083935552144,
          -0.5531573484596305,
          0.9919788860691116,
          -0.10068870784096433,
          0.013473054882340725,
          0.8870424485265856,
          -1.52983366553648,
          0.8145957073039255,
          -0.81898061248173,
          -0.9098258908774242,
          -1.3752270874209238,
          1.3669607304331788,
          -0.040484151685499445,
          -1.1206413918176934,
          0.4768318852770323,
          -0.3417763069099912,
          -1.408962249978248,
          -1.5951427299765275,
          1.2197177433735997,
          0.5445789312288598,
          0.6313147555355381,
          0.32000780366272574,
          -0.8704515879612656,
          -0.627920771771115,
          0.8440369058295358,
          -1.2010314467224608,
          0.10303101875969292,
          1.7119342867501717,
          1.345218350267589,
          1.8895042692650679,
          0.5245714274017701,
          -0.010284788799988025,
          1.4983859268949218,
          0.6627916098655476,
          -0.9058275513453036
         ],
         "yaxis": "y4"
        },
        {
         "line": {
          "color": "rgba(128, 128, 128, 1.0)",
          "dash": "solid",
          "shape": "linear",
          "width": 1.3
         },
         "marker": {
          "size": 2,
          "symbol": "circle"
         },
         "mode": "markers",
         "name": "B",
         "text": "",
         "type": "scatter",
         "x": [
          -2.19517732281781,
          0.41297071995567625,
          0.5238259134616036,
          2.321660493048887,
          -1.7918868447130059,
          -1.4003185528924975,
          -1.7297604866535865,
          -0.44388711000201464,
          -0.5052550235591972,
          -0.20154762526484626,
          -0.08352134157213167,
          -0.6855060781663106,
          1.0887687415999572,
          0.2855894125108078,
          0.7980404615235451,
          -1.0339660491462646,
          0.552988758119476,
          -0.011700097264279497,
          0.021437589270594415,
          -0.08236305549690165,
          0.5291996261975528,
          0.6551868758377841,
          -1.4859686060330128,
          -1.9244490589884782,
          0.8448386798137778,
          0.375889652742352,
          0.6713684703182022,
          0.5292666392387347,
          -1.8438289583630185,
          0.558440068266143,
          -0.6563135402637561,
          -1.6316467385018294,
          -0.39836303303761095,
          0.0691617062364122,
          0.1353258261082668,
          0.7185436507289951,
          1.553925211212386,
          -0.5714655522307664,
          1.4904875406858629,
          0.6217440104496987,
          0.7865768608697654,
          0.7378588602432641,
          -0.8985395833921609,
          0.6397978501868015,
          -0.2631592379934458,
          -0.18465379229969653,
          -1.766855324557164,
          0.12173746345167527,
          -0.743605387049839,
          0.784334833739347,
          0.3917372705482704,
          -0.5909559239175638,
          -0.40630782754950207,
          -0.9881423673945723,
          -1.4597607300847637,
          0.3023562251048793,
          -0.1954609877017618,
          1.8127924584945665,
          -0.438196644574794,
          0.9922522061400024,
          -0.859983652215299,
          0.4246206377667659,
          1.2931457895853469,
          -0.3197471206910602,
          -0.29015708985798294,
          -2.4200083935552144,
          -0.5531573484596305,
          0.9919788860691116,
          -0.10068870784096433,
          0.013473054882340725,
          0.8870424485265856,
          -1.52983366553648,
          0.8145957073039255,
          -0.81898061248173,
          -0.9098258908774242,
          -1.3752270874209238,
          1.3669607304331788,
          -0.040484151685499445,
          -1.1206413918176934,
          0.4768318852770323,
          -0.3417763069099912,
          -1.408962249978248,
          -1.5951427299765275,
          1.2197177433735997,
          0.5445789312288598,
          0.6313147555355381,
          0.32000780366272574,
          -0.8704515879612656,
          -0.627920771771115,
          0.8440369058295358,
          -1.2010314467224608,
          0.10303101875969292,
          1.7119342867501717,
          1.345218350267589,
          1.8895042692650679,
          0.5245714274017701,
          -0.010284788799988025,
          1.4983859268949218,
          0.6627916098655476,
          -0.9058275513453036
         ],
         "xaxis": "x5",
         "y": [
          -0.2551109513862989,
          -1.5127464737870182,
          0.3758014389849401,
          1.8857727661935286,
          1.662544285322015,
          -1.2664294656572934,
          -1.5174696024398788,
          0.5852178156544476,
          0.6965117049576418,
          -1.1279399272931596,
          -0.6863623724755933,
          -1.1044899382302837,
          0.07098359754755064,
          1.2151791713518312,
          0.2203176108637594,
          2.6295732761898005,
          0.6798859657591843,
          0.986074789157596,
          -1.2317801711589613,
          -0.7665611492450716,
          -0.022858667742858704,
          -0.6294825856993135,
          1.6306391943001899,
          1.6995515594849566,
          -0.5905495429530158,
          0.47793027697582735,
          -0.44609211623245887,
          1.7576040287335875,
          -1.0923347767002078,
          -1.8993634237607036,
          0.5844253290883914,
          -0.04822525857137415,
          0.3463651631429565,
          0.40013204209307585,
          0.22836136631949458,
          0.5377706594361823,
          -0.046788587259596004,
          -2.5718183127194134,
          -0.15116176468220824,
          -0.21953364549617513,
          -0.3325484225048974,
          -1.8096452038883564,
          0.7289382006548182,
          -0.09439706742108991,
          0.012540101956239863,
          -0.48136707668519524,
          1.1582886336009641,
          -0.4248727474952323,
          0.40709870307468116,
          1.0717332510596662,
          0.458827727449291,
          0.9438296370958118,
          1.4303013514646175,
          -0.403906433119754,
          0.7027145404728263,
          0.5103829539116806,
          -0.8123969957649172,
          0.3383761382920852,
          -1.171096152810323,
          0.46599418331537706,
          0.47419707617009593,
          -2.56535748723371,
          -0.06782037218279009,
          -0.9328199422531491,
          0.08936881595781979,
          1.105071798487719,
          1.292664158575097,
          -2.6250692746878195,
          -0.45631212365946394,
          1.018318165064855,
          -1.2526436138204882,
          -0.17168542970891618,
          -0.4699345868151425,
          0.38738762957994255,
          -1.5998498437689137,
          0.7609470697567795,
          -0.2616975602236235,
          0.08826540754723577,
          0.2378673846850535,
          0.32753070517438304,
          -0.6997696295911957,
          -0.9027758435345248,
          -0.07465487316390441,
          -2.4577222932537945,
          0.3340426817758278,
          0.6960081666749737,
          -0.26319239683785034,
          -0.9980782560498498,
          -0.12339060576071016,
          -0.17112287315675134,
          0.6429944355509232,
          0.9524051082923007,
          -1.323623217934063,
          0.23723427993329563,
          0.09923915891778237,
          0.05748639326282414,
          -0.8615285511403645,
          0.5099022980535224,
          -0.29916479814974173,
          -0.3551225033150403
         ],
         "yaxis": "y5"
        },
        {
         "histfunc": "count",
         "histnorm": "",
         "marker": {
          "color": "rgba(55, 128, 191, 1.0)",
          "line": {
           "color": "#4D5663",
           "width": 1.3
          }
         },
         "name": "B",
         "nbinsx": 10,
         "opacity": 0.8,
         "orientation": "v",
         "type": "histogram",
         "x": [
          -0.2551109513862989,
          -1.5127464737870182,
          0.3758014389849401,
          1.8857727661935286,
          1.662544285322015,
          -1.2664294656572934,
          -1.5174696024398788,
          0.5852178156544476,
          0.6965117049576418,
          -1.1279399272931596,
          -0.6863623724755933,
          -1.1044899382302837,
          0.07098359754755064,
          1.2151791713518312,
          0.2203176108637594,
          2.6295732761898005,
          0.6798859657591843,
          0.986074789157596,
          -1.2317801711589613,
          -0.7665611492450716,
          -0.022858667742858704,
          -0.6294825856993135,
          1.6306391943001899,
          1.6995515594849566,
          -0.5905495429530158,
          0.47793027697582735,
          -0.44609211623245887,
          1.7576040287335875,
          -1.0923347767002078,
          -1.8993634237607036,
          0.5844253290883914,
          -0.04822525857137415,
          0.3463651631429565,
          0.40013204209307585,
          0.22836136631949458,
          0.5377706594361823,
          -0.046788587259596004,
          -2.5718183127194134,
          -0.15116176468220824,
          -0.21953364549617513,
          -0.3325484225048974,
          -1.8096452038883564,
          0.7289382006548182,
          -0.09439706742108991,
          0.012540101956239863,
          -0.48136707668519524,
          1.1582886336009641,
          -0.4248727474952323,
          0.40709870307468116,
          1.0717332510596662,
          0.458827727449291,
          0.9438296370958118,
          1.4303013514646175,
          -0.403906433119754,
          0.7027145404728263,
          0.5103829539116806,
          -0.8123969957649172,
          0.3383761382920852,
          -1.171096152810323,
          0.46599418331537706,
          0.47419707617009593,
          -2.56535748723371,
          -0.06782037218279009,
          -0.9328199422531491,
          0.08936881595781979,
          1.105071798487719,
          1.292664158575097,
          -2.6250692746878195,
          -0.45631212365946394,
          1.018318165064855,
          -1.2526436138204882,
          -0.17168542970891618,
          -0.4699345868151425,
          0.38738762957994255,
          -1.5998498437689137,
          0.7609470697567795,
          -0.2616975602236235,
          0.08826540754723577,
          0.2378673846850535,
          0.32753070517438304,
          -0.6997696295911957,
          -0.9027758435345248,
          -0.07465487316390441,
          -2.4577222932537945,
          0.3340426817758278,
          0.6960081666749737,
          -0.26319239683785034,
          -0.9980782560498498,
          -0.12339060576071016,
          -0.17112287315675134,
          0.6429944355509232,
          0.9524051082923007,
          -1.323623217934063,
          0.23723427993329563,
          0.09923915891778237,
          0.05748639326282414,
          -0.8615285511403645,
          0.5099022980535224,
          -0.29916479814974173,
          -0.3551225033150403
         ],
         "xaxis": "x6",
         "yaxis": "y6"
        },
        {
         "line": {
          "color": "rgba(128, 128, 128, 1.0)",
          "dash": "solid",
          "shape": "linear",
          "width": 1.3
         },
         "marker": {
          "size": 2,
          "symbol": "circle"
         },
         "mode": "markers",
         "name": "B",
         "text": "",
         "type": "scatter",
         "x": [
          -1.0788971856936262,
          -1.2567580655429562,
          2.306905757660575,
          1.4597194024759284,
          0.08993898843896211,
          0.99660105806891,
          -0.9019836835408349,
          0.859353588311807,
          0.71725570181717,
          0.08380403413390386,
          0.44119082233712265,
          0.1438418816097869,
          -1.247558375257457,
          -1.1442716126240062,
          -1.2617825554963564,
          -0.19087872415173907,
          0.4341101082887723,
          -1.1287682521621962,
          -1.3602623536692164,
          1.05375491177541,
          1.8209709905919105,
          0.1817511218888976,
          0.22467287735670233,
          1.6875574908256463,
          0.007166511506410807,
          -0.0050954727207124266,
          -0.7423566678317753,
          -0.40653941438145946,
          -0.0068370559735675875,
          -0.3841329768242768,
          -1.2524535142745092,
          -1.906151255377356,
          -0.1763321051587015,
          -0.5836410168125651,
          0.5518374528931556,
          1.4519255221120164,
          1.3643118237082614,
          -0.9979487982713429,
          -0.3645103593299708,
          -1.0174748573809365,
          0.8031952687280782,
          -1.3162986958711003,
          -1.9874803671405927,
          -0.40994448299083536,
          -0.657621109199126,
          -0.2441861701805242,
          -0.48494070247939963,
          -1.3795160568953664,
          -0.07059090968345638,
          -0.37464040312293606,
          0.6800215471504433,
          -0.6873726058624622,
          -1.241770993437353,
          0.05758086179807762,
          -0.5403668486477343,
          -1.3125466743292626,
          0.43703161569946325,
          0.4770647673840944,
          0.013742174347041376,
          0.9442069570899385,
          0.1528210048976337,
          0.25608505426833694,
          1.272652337867402,
          1.161795856037412,
          0.5306960137695097,
          0.30294924805684886,
          -0.011718203774587013,
          1.3751187811239185,
          -0.36030546879938913,
          -0.707594027756117,
          0.7255443632944976,
          0.6789982136122885,
          -0.9699242148957096,
          0.2778188395179725,
          -1.455676810569012,
          1.0279156175778397,
          -1.3393970564477102,
          -0.4543107025528251,
          -0.5360591728383689,
          1.0873434219180473,
          0.5713322131613005,
          0.5487943256282278,
          -0.5305824692030522,
          -0.8525390393332022,
          0.5113519006178853,
          0.5645692944823126,
          0.4296716748425944,
          -0.38857668370552584,
          0.8334927023304188,
          -0.17060926894242331,
          -0.29196042928222776,
          -1.4665800633973136,
          -0.4741414933070715,
          -0.07649969481687253,
          -0.5776916122635324,
          1.2800821684834214,
          2.1878392758982,
          0.9093467140440413,
          -0.7577571032797649,
          1.5706481783964563
         ],
         "xaxis": "x7",
         "y": [
          -0.2551109513862989,
          -1.5127464737870182,
          0.3758014389849401,
          1.8857727661935286,
          1.662544285322015,
          -1.2664294656572934,
          -1.5174696024398788,
          0.5852178156544476,
          0.6965117049576418,
          -1.1279399272931596,
          -0.6863623724755933,
          -1.1044899382302837,
          0.07098359754755064,
          1.2151791713518312,
          0.2203176108637594,
          2.6295732761898005,
          0.6798859657591843,
          0.986074789157596,
          -1.2317801711589613,
          -0.7665611492450716,
          -0.022858667742858704,
          -0.6294825856993135,
          1.6306391943001899,
          1.6995515594849566,
          -0.5905495429530158,
          0.47793027697582735,
          -0.44609211623245887,
          1.7576040287335875,
          -1.0923347767002078,
          -1.8993634237607036,
          0.5844253290883914,
          -0.04822525857137415,
          0.3463651631429565,
          0.40013204209307585,
          0.22836136631949458,
          0.5377706594361823,
          -0.046788587259596004,
          -2.5718183127194134,
          -0.15116176468220824,
          -0.21953364549617513,
          -0.3325484225048974,
          -1.8096452038883564,
          0.7289382006548182,
          -0.09439706742108991,
          0.012540101956239863,
          -0.48136707668519524,
          1.1582886336009641,
          -0.4248727474952323,
          0.40709870307468116,
          1.0717332510596662,
          0.458827727449291,
          0.9438296370958118,
          1.4303013514646175,
          -0.403906433119754,
          0.7027145404728263,
          0.5103829539116806,
          -0.8123969957649172,
          0.3383761382920852,
          -1.171096152810323,
          0.46599418331537706,
          0.47419707617009593,
          -2.56535748723371,
          -0.06782037218279009,
          -0.9328199422531491,
          0.08936881595781979,
          1.105071798487719,
          1.292664158575097,
          -2.6250692746878195,
          -0.45631212365946394,
          1.018318165064855,
          -1.2526436138204882,
          -0.17168542970891618,
          -0.4699345868151425,
          0.38738762957994255,
          -1.5998498437689137,
          0.7609470697567795,
          -0.2616975602236235,
          0.08826540754723577,
          0.2378673846850535,
          0.32753070517438304,
          -0.6997696295911957,
          -0.9027758435345248,
          -0.07465487316390441,
          -2.4577222932537945,
          0.3340426817758278,
          0.6960081666749737,
          -0.26319239683785034,
          -0.9980782560498498,
          -0.12339060576071016,
          -0.17112287315675134,
          0.6429944355509232,
          0.9524051082923007,
          -1.323623217934063,
          0.23723427993329563,
          0.09923915891778237,
          0.05748639326282414,
          -0.8615285511403645,
          0.5099022980535224,
          -0.29916479814974173,
          -0.3551225033150403
         ],
         "yaxis": "y7"
        },
        {
         "line": {
          "color": "rgba(128, 128, 128, 1.0)",
          "dash": "solid",
          "shape": "linear",
          "width": 1.3
         },
         "marker": {
          "size": 2,
          "symbol": "circle"
         },
         "mode": "markers",
         "name": "B",
         "text": "",
         "type": "scatter",
         "x": [
          -0.5590574727429467,
          -0.9652481973032375,
          -1.3906244582999019,
          -0.08687000251376722,
          0.1545456412609485,
          1.4654554026194144,
          1.7355261517364142,
          3.0866410008314973,
          1.007893155993295,
          -0.0878959082604831,
          1.284467497652036,
          -0.9963807409741994,
          0.036263894100578384,
          0.40023408716768255,
          -1.0246299571488198,
          2.28250247935137,
          -0.7013000342685121,
          -1.6206655240217647,
          1.4112203997059312,
          1.4373198921923294,
          -0.505991052532302,
          0.6779142603868307,
          -0.22510867140490098,
          0.8545883499934318,
          -1.4544427386993073,
          -0.9789075394224392,
          -0.9837519315782766,
          0.3885380832764085,
          -0.28032248335972537,
          0.7923336903765062,
          1.2075302537726125,
          -1.2176544591767497,
          0.0738198563533884,
          1.0064142879632798,
          -0.7706316917192473,
          0.4289913981974971,
          1.9084145086201643,
          -0.759623916011402,
          -0.7425070412671436,
          0.06277473045695621,
          -1.3580505718528622,
          0.10196013029678108,
          -0.5409824517556163,
          0.8786075417899561,
          -1.9178121656516358,
          -0.7370282624161755,
          -0.4237867494075362,
          1.9636892356315543,
          0.10401022158456855,
          -0.7365675799373227,
          -0.005439127042603156,
          -0.2933454827501467,
          1.4954542624775675,
          0.55802181627489,
          -0.6593403254748437,
          0.1988383461089805,
          1.964963411148573,
          1.3581791479795247,
          0.19833831351646278,
          -1.163290788844608,
          0.9132583074449778,
          1.1638660403619159,
          0.1982468492296855,
          -0.29347819983700696,
          -1.1289900244318574,
          1.6786268584259554,
          0.6752784131011865,
          0.28964405270534455,
          -1.7028904293033216,
          -0.3248457754664075,
          -0.044838207779540167,
          1.5281073134205174,
          -2.198051848748937,
          0.5219157564655361,
          0.13305749611839168,
          0.6697046858131003,
          2.0783492112196598,
          0.9929109397786321,
          0.16938681646939813,
          1.6124829761303008,
          1.1945936974657962,
          0.6407065679370807,
          1.077282719175627,
          -0.031450677049946675,
          1.721291153338183,
          -0.4883675671054236,
          -1.0751416403037444,
          -1.6437040422288198,
          -1.4805590800596549,
          -0.4327787443054158,
          1.4504884399154043,
          1.1293919825784633,
          -0.5720607111027293,
          -0.9108482132400754,
          0.15808052374103915,
          0.3987311937942134,
          -1.0799529107118289,
          -0.5951021534896669,
          -0.5904923295274668,
          -0.5697651843320882
         ],
         "xaxis": "x8",
         "y": [
          -0.2551109513862989,
          -1.5127464737870182,
          0.3758014389849401,
          1.8857727661935286,
          1.662544285322015,
          -1.2664294656572934,
          -1.5174696024398788,
          0.5852178156544476,
          0.6965117049576418,
          -1.1279399272931596,
          -0.6863623724755933,
          -1.1044899382302837,
          0.07098359754755064,
          1.2151791713518312,
          0.2203176108637594,
          2.6295732761898005,
          0.6798859657591843,
          0.986074789157596,
          -1.2317801711589613,
          -0.7665611492450716,
          -0.022858667742858704,
          -0.6294825856993135,
          1.6306391943001899,
          1.6995515594849566,
          -0.5905495429530158,
          0.47793027697582735,
          -0.44609211623245887,
          1.7576040287335875,
          -1.0923347767002078,
          -1.8993634237607036,
          0.5844253290883914,
          -0.04822525857137415,
          0.3463651631429565,
          0.40013204209307585,
          0.22836136631949458,
          0.5377706594361823,
          -0.046788587259596004,
          -2.5718183127194134,
          -0.15116176468220824,
          -0.21953364549617513,
          -0.3325484225048974,
          -1.8096452038883564,
          0.7289382006548182,
          -0.09439706742108991,
          0.012540101956239863,
          -0.48136707668519524,
          1.1582886336009641,
          -0.4248727474952323,
          0.40709870307468116,
          1.0717332510596662,
          0.458827727449291,
          0.9438296370958118,
          1.4303013514646175,
          -0.403906433119754,
          0.7027145404728263,
          0.5103829539116806,
          -0.8123969957649172,
          0.3383761382920852,
          -1.171096152810323,
          0.46599418331537706,
          0.47419707617009593,
          -2.56535748723371,
          -0.06782037218279009,
          -0.9328199422531491,
          0.08936881595781979,
          1.105071798487719,
          1.292664158575097,
          -2.6250692746878195,
          -0.45631212365946394,
          1.018318165064855,
          -1.2526436138204882,
          -0.17168542970891618,
          -0.4699345868151425,
          0.38738762957994255,
          -1.5998498437689137,
          0.7609470697567795,
          -0.2616975602236235,
          0.08826540754723577,
          0.2378673846850535,
          0.32753070517438304,
          -0.6997696295911957,
          -0.9027758435345248,
          -0.07465487316390441,
          -2.4577222932537945,
          0.3340426817758278,
          0.6960081666749737,
          -0.26319239683785034,
          -0.9980782560498498,
          -0.12339060576071016,
          -0.17112287315675134,
          0.6429944355509232,
          0.9524051082923007,
          -1.323623217934063,
          0.23723427993329563,
          0.09923915891778237,
          0.05748639326282414,
          -0.8615285511403645,
          0.5099022980535224,
          -0.29916479814974173,
          -0.3551225033150403
         ],
         "yaxis": "y8"
        },
        {
         "line": {
          "color": "rgba(128, 128, 128, 1.0)",
          "dash": "solid",
          "shape": "linear",
          "width": 1.3
         },
         "marker": {
          "size": 2,
          "symbol": "circle"
         },
         "mode": "markers",
         "name": "C",
         "text": "",
         "type": "scatter",
         "x": [
          -2.19517732281781,
          0.41297071995567625,
          0.5238259134616036,
          2.321660493048887,
          -1.7918868447130059,
          -1.4003185528924975,
          -1.7297604866535865,
          -0.44388711000201464,
          -0.5052550235591972,
          -0.20154762526484626,
          -0.08352134157213167,
          -0.6855060781663106,
          1.0887687415999572,
          0.2855894125108078,
          0.7980404615235451,
          -1.0339660491462646,
          0.552988758119476,
          -0.011700097264279497,
          0.021437589270594415,
          -0.08236305549690165,
          0.5291996261975528,
          0.6551868758377841,
          -1.4859686060330128,
          -1.9244490589884782,
          0.8448386798137778,
          0.375889652742352,
          0.6713684703182022,
          0.5292666392387347,
          -1.8438289583630185,
          0.558440068266143,
          -0.6563135402637561,
          -1.6316467385018294,
          -0.39836303303761095,
          0.0691617062364122,
          0.1353258261082668,
          0.7185436507289951,
          1.553925211212386,
          -0.5714655522307664,
          1.4904875406858629,
          0.6217440104496987,
          0.7865768608697654,
          0.7378588602432641,
          -0.8985395833921609,
          0.6397978501868015,
          -0.2631592379934458,
          -0.18465379229969653,
          -1.766855324557164,
          0.12173746345167527,
          -0.743605387049839,
          0.784334833739347,
          0.3917372705482704,
          -0.5909559239175638,
          -0.40630782754950207,
          -0.9881423673945723,
          -1.4597607300847637,
          0.3023562251048793,
          -0.1954609877017618,
          1.8127924584945665,
          -0.438196644574794,
          0.9922522061400024,
          -0.859983652215299,
          0.4246206377667659,
          1.2931457895853469,
          -0.3197471206910602,
          -0.29015708985798294,
          -2.4200083935552144,
          -0.5531573484596305,
          0.9919788860691116,
          -0.10068870784096433,
          0.013473054882340725,
          0.8870424485265856,
          -1.52983366553648,
          0.8145957073039255,
          -0.81898061248173,
          -0.9098258908774242,
          -1.3752270874209238,
          1.3669607304331788,
          -0.040484151685499445,
          -1.1206413918176934,
          0.4768318852770323,
          -0.3417763069099912,
          -1.408962249978248,
          -1.5951427299765275,
          1.2197177433735997,
          0.5445789312288598,
          0.6313147555355381,
          0.32000780366272574,
          -0.8704515879612656,
          -0.627920771771115,
          0.8440369058295358,
          -1.2010314467224608,
          0.10303101875969292,
          1.7119342867501717,
          1.345218350267589,
          1.8895042692650679,
          0.5245714274017701,
          -0.010284788799988025,
          1.4983859268949218,
          0.6627916098655476,
          -0.9058275513453036
         ],
         "xaxis": "x9",
         "y": [
          -1.0788971856936262,
          -1.2567580655429562,
          2.306905757660575,
          1.4597194024759284,
          0.08993898843896211,
          0.99660105806891,
          -0.9019836835408349,
          0.859353588311807,
          0.71725570181717,
          0.08380403413390386,
          0.44119082233712265,
          0.1438418816097869,
          -1.247558375257457,
          -1.1442716126240062,
          -1.2617825554963564,
          -0.19087872415173907,
          0.4341101082887723,
          -1.1287682521621962,
          -1.3602623536692164,
          1.05375491177541,
          1.8209709905919105,
          0.1817511218888976,
          0.22467287735670233,
          1.6875574908256463,
          0.007166511506410807,
          -0.0050954727207124266,
          -0.7423566678317753,
          -0.40653941438145946,
          -0.0068370559735675875,
          -0.3841329768242768,
          -1.2524535142745092,
          -1.906151255377356,
          -0.1763321051587015,
          -0.5836410168125651,
          0.5518374528931556,
          1.4519255221120164,
          1.3643118237082614,
          -0.9979487982713429,
          -0.3645103593299708,
          -1.0174748573809365,
          0.8031952687280782,
          -1.3162986958711003,
          -1.9874803671405927,
          -0.40994448299083536,
          -0.657621109199126,
          -0.2441861701805242,
          -0.48494070247939963,
          -1.3795160568953664,
          -0.07059090968345638,
          -0.37464040312293606,
          0.6800215471504433,
          -0.6873726058624622,
          -1.241770993437353,
          0.05758086179807762,
          -0.5403668486477343,
          -1.3125466743292626,
          0.43703161569946325,
          0.4770647673840944,
          0.013742174347041376,
          0.9442069570899385,
          0.1528210048976337,
          0.25608505426833694,
          1.272652337867402,
          1.161795856037412,
          0.5306960137695097,
          0.30294924805684886,
          -0.011718203774587013,
          1.3751187811239185,
          -0.36030546879938913,
          -0.707594027756117,
          0.7255443632944976,
          0.6789982136122885,
          -0.9699242148957096,
          0.2778188395179725,
          -1.455676810569012,
          1.0279156175778397,
          -1.3393970564477102,
          -0.4543107025528251,
          -0.5360591728383689,
          1.0873434219180473,
          0.5713322131613005,
          0.5487943256282278,
          -0.5305824692030522,
          -0.8525390393332022,
          0.5113519006178853,
          0.5645692944823126,
          0.4296716748425944,
          -0.38857668370552584,
          0.8334927023304188,
          -0.17060926894242331,
          -0.29196042928222776,
          -1.4665800633973136,
          -0.4741414933070715,
          -0.07649969481687253,
          -0.5776916122635324,
          1.2800821684834214,
          2.1878392758982,
          0.9093467140440413,
          -0.7577571032797649,
          1.5706481783964563
         ],
         "yaxis": "y9"
        },
        {
         "line": {
          "color": "rgba(128, 128, 128, 1.0)",
          "dash": "solid",
          "shape": "linear",
          "width": 1.3
         },
         "marker": {
          "size": 2,
          "symbol": "circle"
         },
         "mode": "markers",
         "name": "C",
         "text": "",
         "type": "scatter",
         "x": [
          -0.2551109513862989,
          -1.5127464737870182,
          0.3758014389849401,
          1.8857727661935286,
          1.662544285322015,
          -1.2664294656572934,
          -1.5174696024398788,
          0.5852178156544476,
          0.6965117049576418,
          -1.1279399272931596,
          -0.6863623724755933,
          -1.1044899382302837,
          0.07098359754755064,
          1.2151791713518312,
          0.2203176108637594,
          2.6295732761898005,
          0.6798859657591843,
          0.986074789157596,
          -1.2317801711589613,
          -0.7665611492450716,
          -0.022858667742858704,
          -0.6294825856993135,
          1.6306391943001899,
          1.6995515594849566,
          -0.5905495429530158,
          0.47793027697582735,
          -0.44609211623245887,
          1.7576040287335875,
          -1.0923347767002078,
          -1.8993634237607036,
          0.5844253290883914,
          -0.04822525857137415,
          0.3463651631429565,
          0.40013204209307585,
          0.22836136631949458,
          0.5377706594361823,
          -0.046788587259596004,
          -2.5718183127194134,
          -0.15116176468220824,
          -0.21953364549617513,
          -0.3325484225048974,
          -1.8096452038883564,
          0.7289382006548182,
          -0.09439706742108991,
          0.012540101956239863,
          -0.48136707668519524,
          1.1582886336009641,
          -0.4248727474952323,
          0.40709870307468116,
          1.0717332510596662,
          0.458827727449291,
          0.9438296370958118,
          1.4303013514646175,
          -0.403906433119754,
          0.7027145404728263,
          0.5103829539116806,
          -0.8123969957649172,
          0.3383761382920852,
          -1.171096152810323,
          0.46599418331537706,
          0.47419707617009593,
          -2.56535748723371,
          -0.06782037218279009,
          -0.9328199422531491,
          0.08936881595781979,
          1.105071798487719,
          1.292664158575097,
          -2.6250692746878195,
          -0.45631212365946394,
          1.018318165064855,
          -1.2526436138204882,
          -0.17168542970891618,
          -0.4699345868151425,
          0.38738762957994255,
          -1.5998498437689137,
          0.7609470697567795,
          -0.2616975602236235,
          0.08826540754723577,
          0.2378673846850535,
          0.32753070517438304,
          -0.6997696295911957,
          -0.9027758435345248,
          -0.07465487316390441,
          -2.4577222932537945,
          0.3340426817758278,
          0.6960081666749737,
          -0.26319239683785034,
          -0.9980782560498498,
          -0.12339060576071016,
          -0.17112287315675134,
          0.6429944355509232,
          0.9524051082923007,
          -1.323623217934063,
          0.23723427993329563,
          0.09923915891778237,
          0.05748639326282414,
          -0.8615285511403645,
          0.5099022980535224,
          -0.29916479814974173,
          -0.3551225033150403
         ],
         "xaxis": "x10",
         "y": [
          -1.0788971856936262,
          -1.2567580655429562,
          2.306905757660575,
          1.4597194024759284,
          0.08993898843896211,
          0.99660105806891,
          -0.9019836835408349,
          0.859353588311807,
          0.71725570181717,
          0.08380403413390386,
          0.44119082233712265,
          0.1438418816097869,
          -1.247558375257457,
          -1.1442716126240062,
          -1.2617825554963564,
          -0.19087872415173907,
          0.4341101082887723,
          -1.1287682521621962,
          -1.3602623536692164,
          1.05375491177541,
          1.8209709905919105,
          0.1817511218888976,
          0.22467287735670233,
          1.6875574908256463,
          0.007166511506410807,
          -0.0050954727207124266,
          -0.7423566678317753,
          -0.40653941438145946,
          -0.0068370559735675875,
          -0.3841329768242768,
          -1.2524535142745092,
          -1.906151255377356,
          -0.1763321051587015,
          -0.5836410168125651,
          0.5518374528931556,
          1.4519255221120164,
          1.3643118237082614,
          -0.9979487982713429,
          -0.3645103593299708,
          -1.0174748573809365,
          0.8031952687280782,
          -1.3162986958711003,
          -1.9874803671405927,
          -0.40994448299083536,
          -0.657621109199126,
          -0.2441861701805242,
          -0.48494070247939963,
          -1.3795160568953664,
          -0.07059090968345638,
          -0.37464040312293606,
          0.6800215471504433,
          -0.6873726058624622,
          -1.241770993437353,
          0.05758086179807762,
          -0.5403668486477343,
          -1.3125466743292626,
          0.43703161569946325,
          0.4770647673840944,
          0.013742174347041376,
          0.9442069570899385,
          0.1528210048976337,
          0.25608505426833694,
          1.272652337867402,
          1.161795856037412,
          0.5306960137695097,
          0.30294924805684886,
          -0.011718203774587013,
          1.3751187811239185,
          -0.36030546879938913,
          -0.707594027756117,
          0.7255443632944976,
          0.6789982136122885,
          -0.9699242148957096,
          0.2778188395179725,
          -1.455676810569012,
          1.0279156175778397,
          -1.3393970564477102,
          -0.4543107025528251,
          -0.5360591728383689,
          1.0873434219180473,
          0.5713322131613005,
          0.5487943256282278,
          -0.5305824692030522,
          -0.8525390393332022,
          0.5113519006178853,
          0.5645692944823126,
          0.4296716748425944,
          -0.38857668370552584,
          0.8334927023304188,
          -0.17060926894242331,
          -0.29196042928222776,
          -1.4665800633973136,
          -0.4741414933070715,
          -0.07649969481687253,
          -0.5776916122635324,
          1.2800821684834214,
          2.1878392758982,
          0.9093467140440413,
          -0.7577571032797649,
          1.5706481783964563
         ],
         "yaxis": "y10"
        },
        {
         "histfunc": "count",
         "histnorm": "",
         "marker": {
          "color": "rgba(50, 171, 96, 1.0)",
          "line": {
           "color": "#4D5663",
           "width": 1.3
          }
         },
         "name": "C",
         "nbinsx": 10,
         "opacity": 0.8,
         "orientation": "v",
         "type": "histogram",
         "x": [
          -1.0788971856936262,
          -1.2567580655429562,
          2.306905757660575,
          1.4597194024759284,
          0.08993898843896211,
          0.99660105806891,
          -0.9019836835408349,
          0.859353588311807,
          0.71725570181717,
          0.08380403413390386,
          0.44119082233712265,
          0.1438418816097869,
          -1.247558375257457,
          -1.1442716126240062,
          -1.2617825554963564,
          -0.19087872415173907,
          0.4341101082887723,
          -1.1287682521621962,
          -1.3602623536692164,
          1.05375491177541,
          1.8209709905919105,
          0.1817511218888976,
          0.22467287735670233,
          1.6875574908256463,
          0.007166511506410807,
          -0.0050954727207124266,
          -0.7423566678317753,
          -0.40653941438145946,
          -0.0068370559735675875,
          -0.3841329768242768,
          -1.2524535142745092,
          -1.906151255377356,
          -0.1763321051587015,
          -0.5836410168125651,
          0.5518374528931556,
          1.4519255221120164,
          1.3643118237082614,
          -0.9979487982713429,
          -0.3645103593299708,
          -1.0174748573809365,
          0.8031952687280782,
          -1.3162986958711003,
          -1.9874803671405927,
          -0.40994448299083536,
          -0.657621109199126,
          -0.2441861701805242,
          -0.48494070247939963,
          -1.3795160568953664,
          -0.07059090968345638,
          -0.37464040312293606,
          0.6800215471504433,
          -0.6873726058624622,
          -1.241770993437353,
          0.05758086179807762,
          -0.5403668486477343,
          -1.3125466743292626,
          0.43703161569946325,
          0.4770647673840944,
          0.013742174347041376,
          0.9442069570899385,
          0.1528210048976337,
          0.25608505426833694,
          1.272652337867402,
          1.161795856037412,
          0.5306960137695097,
          0.30294924805684886,
          -0.011718203774587013,
          1.3751187811239185,
          -0.36030546879938913,
          -0.707594027756117,
          0.7255443632944976,
          0.6789982136122885,
          -0.9699242148957096,
          0.2778188395179725,
          -1.455676810569012,
          1.0279156175778397,
          -1.3393970564477102,
          -0.4543107025528251,
          -0.5360591728383689,
          1.0873434219180473,
          0.5713322131613005,
          0.5487943256282278,
          -0.5305824692030522,
          -0.8525390393332022,
          0.5113519006178853,
          0.5645692944823126,
          0.4296716748425944,
          -0.38857668370552584,
          0.8334927023304188,
          -0.17060926894242331,
          -0.29196042928222776,
          -1.4665800633973136,
          -0.4741414933070715,
          -0.07649969481687253,
          -0.5776916122635324,
          1.2800821684834214,
          2.1878392758982,
          0.9093467140440413,
          -0.7577571032797649,
          1.5706481783964563
         ],
         "xaxis": "x11",
         "yaxis": "y11"
        },
        {
         "line": {
          "color": "rgba(128, 128, 128, 1.0)",
          "dash": "solid",
          "shape": "linear",
          "width": 1.3
         },
         "marker": {
          "size": 2,
          "symbol": "circle"
         },
         "mode": "markers",
         "name": "C",
         "text": "",
         "type": "scatter",
         "x": [
          -0.5590574727429467,
          -0.9652481973032375,
          -1.3906244582999019,
          -0.08687000251376722,
          0.1545456412609485,
          1.4654554026194144,
          1.7355261517364142,
          3.0866410008314973,
          1.007893155993295,
          -0.0878959082604831,
          1.284467497652036,
          -0.9963807409741994,
          0.036263894100578384,
          0.40023408716768255,
          -1.0246299571488198,
          2.28250247935137,
          -0.7013000342685121,
          -1.6206655240217647,
          1.4112203997059312,
          1.4373198921923294,
          -0.505991052532302,
          0.6779142603868307,
          -0.22510867140490098,
          0.8545883499934318,
          -1.4544427386993073,
          -0.9789075394224392,
          -0.9837519315782766,
          0.3885380832764085,
          -0.28032248335972537,
          0.7923336903765062,
          1.2075302537726125,
          -1.2176544591767497,
          0.0738198563533884,
          1.0064142879632798,
          -0.7706316917192473,
          0.4289913981974971,
          1.9084145086201643,
          -0.759623916011402,
          -0.7425070412671436,
          0.06277473045695621,
          -1.3580505718528622,
          0.10196013029678108,
          -0.5409824517556163,
          0.8786075417899561,
          -1.9178121656516358,
          -0.7370282624161755,
          -0.4237867494075362,
          1.9636892356315543,
          0.10401022158456855,
          -0.7365675799373227,
          -0.005439127042603156,
          -0.2933454827501467,
          1.4954542624775675,
          0.55802181627489,
          -0.6593403254748437,
          0.1988383461089805,
          1.964963411148573,
          1.3581791479795247,
          0.19833831351646278,
          -1.163290788844608,
          0.9132583074449778,
          1.1638660403619159,
          0.1982468492296855,
          -0.29347819983700696,
          -1.1289900244318574,
          1.6786268584259554,
          0.6752784131011865,
          0.28964405270534455,
          -1.7028904293033216,
          -0.3248457754664075,
          -0.044838207779540167,
          1.5281073134205174,
          -2.198051848748937,
          0.5219157564655361,
          0.13305749611839168,
          0.6697046858131003,
          2.0783492112196598,
          0.9929109397786321,
          0.16938681646939813,
          1.6124829761303008,
          1.1945936974657962,
          0.6407065679370807,
          1.077282719175627,
          -0.031450677049946675,
          1.721291153338183,
          -0.4883675671054236,
          -1.0751416403037444,
          -1.6437040422288198,
          -1.4805590800596549,
          -0.4327787443054158,
          1.4504884399154043,
          1.1293919825784633,
          -0.5720607111027293,
          -0.9108482132400754,
          0.15808052374103915,
          0.3987311937942134,
          -1.0799529107118289,
          -0.5951021534896669,
          -0.5904923295274668,
          -0.5697651843320882
         ],
         "xaxis": "x12",
         "y": [
          -1.0788971856936262,
          -1.2567580655429562,
          2.306905757660575,
          1.4597194024759284,
          0.08993898843896211,
          0.99660105806891,
          -0.9019836835408349,
          0.859353588311807,
          0.71725570181717,
          0.08380403413390386,
          0.44119082233712265,
          0.1438418816097869,
          -1.247558375257457,
          -1.1442716126240062,
          -1.2617825554963564,
          -0.19087872415173907,
          0.4341101082887723,
          -1.1287682521621962,
          -1.3602623536692164,
          1.05375491177541,
          1.8209709905919105,
          0.1817511218888976,
          0.22467287735670233,
          1.6875574908256463,
          0.007166511506410807,
          -0.0050954727207124266,
          -0.7423566678317753,
          -0.40653941438145946,
          -0.0068370559735675875,
          -0.3841329768242768,
          -1.2524535142745092,
          -1.906151255377356,
          -0.1763321051587015,
          -0.5836410168125651,
          0.5518374528931556,
          1.4519255221120164,
          1.3643118237082614,
          -0.9979487982713429,
          -0.3645103593299708,
          -1.0174748573809365,
          0.8031952687280782,
          -1.3162986958711003,
          -1.9874803671405927,
          -0.40994448299083536,
          -0.657621109199126,
          -0.2441861701805242,
          -0.48494070247939963,
          -1.3795160568953664,
          -0.07059090968345638,
          -0.37464040312293606,
          0.6800215471504433,
          -0.6873726058624622,
          -1.241770993437353,
          0.05758086179807762,
          -0.5403668486477343,
          -1.3125466743292626,
          0.43703161569946325,
          0.4770647673840944,
          0.013742174347041376,
          0.9442069570899385,
          0.1528210048976337,
          0.25608505426833694,
          1.272652337867402,
          1.161795856037412,
          0.5306960137695097,
          0.30294924805684886,
          -0.011718203774587013,
          1.3751187811239185,
          -0.36030546879938913,
          -0.707594027756117,
          0.7255443632944976,
          0.6789982136122885,
          -0.9699242148957096,
          0.2778188395179725,
          -1.455676810569012,
          1.0279156175778397,
          -1.3393970564477102,
          -0.4543107025528251,
          -0.5360591728383689,
          1.0873434219180473,
          0.5713322131613005,
          0.5487943256282278,
          -0.5305824692030522,
          -0.8525390393332022,
          0.5113519006178853,
          0.5645692944823126,
          0.4296716748425944,
          -0.38857668370552584,
          0.8334927023304188,
          -0.17060926894242331,
          -0.29196042928222776,
          -1.4665800633973136,
          -0.4741414933070715,
          -0.07649969481687253,
          -0.5776916122635324,
          1.2800821684834214,
          2.1878392758982,
          0.9093467140440413,
          -0.7577571032797649,
          1.5706481783964563
         ],
         "yaxis": "y12"
        },
        {
         "line": {
          "color": "rgba(128, 128, 128, 1.0)",
          "dash": "solid",
          "shape": "linear",
          "width": 1.3
         },
         "marker": {
          "size": 2,
          "symbol": "circle"
         },
         "mode": "markers",
         "name": "D",
         "text": "",
         "type": "scatter",
         "x": [
          -2.19517732281781,
          0.41297071995567625,
          0.5238259134616036,
          2.321660493048887,
          -1.7918868447130059,
          -1.4003185528924975,
          -1.7297604866535865,
          -0.44388711000201464,
          -0.5052550235591972,
          -0.20154762526484626,
          -0.08352134157213167,
          -0.6855060781663106,
          1.0887687415999572,
          0.2855894125108078,
          0.7980404615235451,
          -1.0339660491462646,
          0.552988758119476,
          -0.011700097264279497,
          0.021437589270594415,
          -0.08236305549690165,
          0.5291996261975528,
          0.6551868758377841,
          -1.4859686060330128,
          -1.9244490589884782,
          0.8448386798137778,
          0.375889652742352,
          0.6713684703182022,
          0.5292666392387347,
          -1.8438289583630185,
          0.558440068266143,
          -0.6563135402637561,
          -1.6316467385018294,
          -0.39836303303761095,
          0.0691617062364122,
          0.1353258261082668,
          0.7185436507289951,
          1.553925211212386,
          -0.5714655522307664,
          1.4904875406858629,
          0.6217440104496987,
          0.7865768608697654,
          0.7378588602432641,
          -0.8985395833921609,
          0.6397978501868015,
          -0.2631592379934458,
          -0.18465379229969653,
          -1.766855324557164,
          0.12173746345167527,
          -0.743605387049839,
          0.784334833739347,
          0.3917372705482704,
          -0.5909559239175638,
          -0.40630782754950207,
          -0.9881423673945723,
          -1.4597607300847637,
          0.3023562251048793,
          -0.1954609877017618,
          1.8127924584945665,
          -0.438196644574794,
          0.9922522061400024,
          -0.859983652215299,
          0.4246206377667659,
          1.2931457895853469,
          -0.3197471206910602,
          -0.29015708985798294,
          -2.4200083935552144,
          -0.5531573484596305,
          0.9919788860691116,
          -0.10068870784096433,
          0.013473054882340725,
          0.8870424485265856,
          -1.52983366553648,
          0.8145957073039255,
          -0.81898061248173,
          -0.9098258908774242,
          -1.3752270874209238,
          1.3669607304331788,
          -0.040484151685499445,
          -1.1206413918176934,
          0.4768318852770323,
          -0.3417763069099912,
          -1.408962249978248,
          -1.5951427299765275,
          1.2197177433735997,
          0.5445789312288598,
          0.6313147555355381,
          0.32000780366272574,
          -0.8704515879612656,
          -0.627920771771115,
          0.8440369058295358,
          -1.2010314467224608,
          0.10303101875969292,
          1.7119342867501717,
          1.345218350267589,
          1.8895042692650679,
          0.5245714274017701,
          -0.010284788799988025,
          1.4983859268949218,
          0.6627916098655476,
          -0.9058275513453036
         ],
         "xaxis": "x13",
         "y": [
          -0.5590574727429467,
          -0.9652481973032375,
          -1.3906244582999019,
          -0.08687000251376722,
          0.1545456412609485,
          1.4654554026194144,
          1.7355261517364142,
          3.0866410008314973,
          1.007893155993295,
          -0.0878959082604831,
          1.284467497652036,
          -0.9963807409741994,
          0.036263894100578384,
          0.40023408716768255,
          -1.0246299571488198,
          2.28250247935137,
          -0.7013000342685121,
          -1.6206655240217647,
          1.4112203997059312,
          1.4373198921923294,
          -0.505991052532302,
          0.6779142603868307,
          -0.22510867140490098,
          0.8545883499934318,
          -1.4544427386993073,
          -0.9789075394224392,
          -0.9837519315782766,
          0.3885380832764085,
          -0.28032248335972537,
          0.7923336903765062,
          1.2075302537726125,
          -1.2176544591767497,
          0.0738198563533884,
          1.0064142879632798,
          -0.7706316917192473,
          0.4289913981974971,
          1.9084145086201643,
          -0.759623916011402,
          -0.7425070412671436,
          0.06277473045695621,
          -1.3580505718528622,
          0.10196013029678108,
          -0.5409824517556163,
          0.8786075417899561,
          -1.9178121656516358,
          -0.7370282624161755,
          -0.4237867494075362,
          1.9636892356315543,
          0.10401022158456855,
          -0.7365675799373227,
          -0.005439127042603156,
          -0.2933454827501467,
          1.4954542624775675,
          0.55802181627489,
          -0.6593403254748437,
          0.1988383461089805,
          1.964963411148573,
          1.3581791479795247,
          0.19833831351646278,
          -1.163290788844608,
          0.9132583074449778,
          1.1638660403619159,
          0.1982468492296855,
          -0.29347819983700696,
          -1.1289900244318574,
          1.6786268584259554,
          0.6752784131011865,
          0.28964405270534455,
          -1.7028904293033216,
          -0.3248457754664075,
          -0.044838207779540167,
          1.5281073134205174,
          -2.198051848748937,
          0.5219157564655361,
          0.13305749611839168,
          0.6697046858131003,
          2.0783492112196598,
          0.9929109397786321,
          0.16938681646939813,
          1.6124829761303008,
          1.1945936974657962,
          0.6407065679370807,
          1.077282719175627,
          -0.031450677049946675,
          1.721291153338183,
          -0.4883675671054236,
          -1.0751416403037444,
          -1.6437040422288198,
          -1.4805590800596549,
          -0.4327787443054158,
          1.4504884399154043,
          1.1293919825784633,
          -0.5720607111027293,
          -0.9108482132400754,
          0.15808052374103915,
          0.3987311937942134,
          -1.0799529107118289,
          -0.5951021534896669,
          -0.5904923295274668,
          -0.5697651843320882
         ],
         "yaxis": "y13"
        },
        {
         "line": {
          "color": "rgba(128, 128, 128, 1.0)",
          "dash": "solid",
          "shape": "linear",
          "width": 1.3
         },
         "marker": {
          "size": 2,
          "symbol": "circle"
         },
         "mode": "markers",
         "name": "D",
         "text": "",
         "type": "scatter",
         "x": [
          -0.2551109513862989,
          -1.5127464737870182,
          0.3758014389849401,
          1.8857727661935286,
          1.662544285322015,
          -1.2664294656572934,
          -1.5174696024398788,
          0.5852178156544476,
          0.6965117049576418,
          -1.1279399272931596,
          -0.6863623724755933,
          -1.1044899382302837,
          0.07098359754755064,
          1.2151791713518312,
          0.2203176108637594,
          2.6295732761898005,
          0.6798859657591843,
          0.986074789157596,
          -1.2317801711589613,
          -0.7665611492450716,
          -0.022858667742858704,
          -0.6294825856993135,
          1.6306391943001899,
          1.6995515594849566,
          -0.5905495429530158,
          0.47793027697582735,
          -0.44609211623245887,
          1.7576040287335875,
          -1.0923347767002078,
          -1.8993634237607036,
          0.5844253290883914,
          -0.04822525857137415,
          0.3463651631429565,
          0.40013204209307585,
          0.22836136631949458,
          0.5377706594361823,
          -0.046788587259596004,
          -2.5718183127194134,
          -0.15116176468220824,
          -0.21953364549617513,
          -0.3325484225048974,
          -1.8096452038883564,
          0.7289382006548182,
          -0.09439706742108991,
          0.012540101956239863,
          -0.48136707668519524,
          1.1582886336009641,
          -0.4248727474952323,
          0.40709870307468116,
          1.0717332510596662,
          0.458827727449291,
          0.9438296370958118,
          1.4303013514646175,
          -0.403906433119754,
          0.7027145404728263,
          0.5103829539116806,
          -0.8123969957649172,
          0.3383761382920852,
          -1.171096152810323,
          0.46599418331537706,
          0.47419707617009593,
          -2.56535748723371,
          -0.06782037218279009,
          -0.9328199422531491,
          0.08936881595781979,
          1.105071798487719,
          1.292664158575097,
          -2.6250692746878195,
          -0.45631212365946394,
          1.018318165064855,
          -1.2526436138204882,
          -0.17168542970891618,
          -0.4699345868151425,
          0.38738762957994255,
          -1.5998498437689137,
          0.7609470697567795,
          -0.2616975602236235,
          0.08826540754723577,
          0.2378673846850535,
          0.32753070517438304,
          -0.6997696295911957,
          -0.9027758435345248,
          -0.07465487316390441,
          -2.4577222932537945,
          0.3340426817758278,
          0.6960081666749737,
          -0.26319239683785034,
          -0.9980782560498498,
          -0.12339060576071016,
          -0.17112287315675134,
          0.6429944355509232,
          0.9524051082923007,
          -1.323623217934063,
          0.23723427993329563,
          0.09923915891778237,
          0.05748639326282414,
          -0.8615285511403645,
          0.5099022980535224,
          -0.29916479814974173,
          -0.3551225033150403
         ],
         "xaxis": "x14",
         "y": [
          -0.5590574727429467,
          -0.9652481973032375,
          -1.3906244582999019,
          -0.08687000251376722,
          0.1545456412609485,
          1.4654554026194144,
          1.7355261517364142,
          3.0866410008314973,
          1.007893155993295,
          -0.0878959082604831,
          1.284467497652036,
          -0.9963807409741994,
          0.036263894100578384,
          0.40023408716768255,
          -1.0246299571488198,
          2.28250247935137,
          -0.7013000342685121,
          -1.6206655240217647,
          1.4112203997059312,
          1.4373198921923294,
          -0.505991052532302,
          0.6779142603868307,
          -0.22510867140490098,
          0.8545883499934318,
          -1.4544427386993073,
          -0.9789075394224392,
          -0.9837519315782766,
          0.3885380832764085,
          -0.28032248335972537,
          0.7923336903765062,
          1.2075302537726125,
          -1.2176544591767497,
          0.0738198563533884,
          1.0064142879632798,
          -0.7706316917192473,
          0.4289913981974971,
          1.9084145086201643,
          -0.759623916011402,
          -0.7425070412671436,
          0.06277473045695621,
          -1.3580505718528622,
          0.10196013029678108,
          -0.5409824517556163,
          0.8786075417899561,
          -1.9178121656516358,
          -0.7370282624161755,
          -0.4237867494075362,
          1.9636892356315543,
          0.10401022158456855,
          -0.7365675799373227,
          -0.005439127042603156,
          -0.2933454827501467,
          1.4954542624775675,
          0.55802181627489,
          -0.6593403254748437,
          0.1988383461089805,
          1.964963411148573,
          1.3581791479795247,
          0.19833831351646278,
          -1.163290788844608,
          0.9132583074449778,
          1.1638660403619159,
          0.1982468492296855,
          -0.29347819983700696,
          -1.1289900244318574,
          1.6786268584259554,
          0.6752784131011865,
          0.28964405270534455,
          -1.7028904293033216,
          -0.3248457754664075,
          -0.044838207779540167,
          1.5281073134205174,
          -2.198051848748937,
          0.5219157564655361,
          0.13305749611839168,
          0.6697046858131003,
          2.0783492112196598,
          0.9929109397786321,
          0.16938681646939813,
          1.6124829761303008,
          1.1945936974657962,
          0.6407065679370807,
          1.077282719175627,
          -0.031450677049946675,
          1.721291153338183,
          -0.4883675671054236,
          -1.0751416403037444,
          -1.6437040422288198,
          -1.4805590800596549,
          -0.4327787443054158,
          1.4504884399154043,
          1.1293919825784633,
          -0.5720607111027293,
          -0.9108482132400754,
          0.15808052374103915,
          0.3987311937942134,
          -1.0799529107118289,
          -0.5951021534896669,
          -0.5904923295274668,
          -0.5697651843320882
         ],
         "yaxis": "y14"
        },
        {
         "line": {
          "color": "rgba(128, 128, 128, 1.0)",
          "dash": "solid",
          "shape": "linear",
          "width": 1.3
         },
         "marker": {
          "size": 2,
          "symbol": "circle"
         },
         "mode": "markers",
         "name": "D",
         "text": "",
         "type": "scatter",
         "x": [
          -1.0788971856936262,
          -1.2567580655429562,
          2.306905757660575,
          1.4597194024759284,
          0.08993898843896211,
          0.99660105806891,
          -0.9019836835408349,
          0.859353588311807,
          0.71725570181717,
          0.08380403413390386,
          0.44119082233712265,
          0.1438418816097869,
          -1.247558375257457,
          -1.1442716126240062,
          -1.2617825554963564,
          -0.19087872415173907,
          0.4341101082887723,
          -1.1287682521621962,
          -1.3602623536692164,
          1.05375491177541,
          1.8209709905919105,
          0.1817511218888976,
          0.22467287735670233,
          1.6875574908256463,
          0.007166511506410807,
          -0.0050954727207124266,
          -0.7423566678317753,
          -0.40653941438145946,
          -0.0068370559735675875,
          -0.3841329768242768,
          -1.2524535142745092,
          -1.906151255377356,
          -0.1763321051587015,
          -0.5836410168125651,
          0.5518374528931556,
          1.4519255221120164,
          1.3643118237082614,
          -0.9979487982713429,
          -0.3645103593299708,
          -1.0174748573809365,
          0.8031952687280782,
          -1.3162986958711003,
          -1.9874803671405927,
          -0.40994448299083536,
          -0.657621109199126,
          -0.2441861701805242,
          -0.48494070247939963,
          -1.3795160568953664,
          -0.07059090968345638,
          -0.37464040312293606,
          0.6800215471504433,
          -0.6873726058624622,
          -1.241770993437353,
          0.05758086179807762,
          -0.5403668486477343,
          -1.3125466743292626,
          0.43703161569946325,
          0.4770647673840944,
          0.013742174347041376,
          0.9442069570899385,
          0.1528210048976337,
          0.25608505426833694,
          1.272652337867402,
          1.161795856037412,
          0.5306960137695097,
          0.30294924805684886,
          -0.011718203774587013,
          1.3751187811239185,
          -0.36030546879938913,
          -0.707594027756117,
          0.7255443632944976,
          0.6789982136122885,
          -0.9699242148957096,
          0.2778188395179725,
          -1.455676810569012,
          1.0279156175778397,
          -1.3393970564477102,
          -0.4543107025528251,
          -0.5360591728383689,
          1.0873434219180473,
          0.5713322131613005,
          0.5487943256282278,
          -0.5305824692030522,
          -0.8525390393332022,
          0.5113519006178853,
          0.5645692944823126,
          0.4296716748425944,
          -0.38857668370552584,
          0.8334927023304188,
          -0.17060926894242331,
          -0.29196042928222776,
          -1.4665800633973136,
          -0.4741414933070715,
          -0.07649969481687253,
          -0.5776916122635324,
          1.2800821684834214,
          2.1878392758982,
          0.9093467140440413,
          -0.7577571032797649,
          1.5706481783964563
         ],
         "xaxis": "x15",
         "y": [
          -0.5590574727429467,
          -0.9652481973032375,
          -1.3906244582999019,
          -0.08687000251376722,
          0.1545456412609485,
          1.4654554026194144,
          1.7355261517364142,
          3.0866410008314973,
          1.007893155993295,
          -0.0878959082604831,
          1.284467497652036,
          -0.9963807409741994,
          0.036263894100578384,
          0.40023408716768255,
          -1.0246299571488198,
          2.28250247935137,
          -0.7013000342685121,
          -1.6206655240217647,
          1.4112203997059312,
          1.4373198921923294,
          -0.505991052532302,
          0.6779142603868307,
          -0.22510867140490098,
          0.8545883499934318,
          -1.4544427386993073,
          -0.9789075394224392,
          -0.9837519315782766,
          0.3885380832764085,
          -0.28032248335972537,
          0.7923336903765062,
          1.2075302537726125,
          -1.2176544591767497,
          0.0738198563533884,
          1.0064142879632798,
          -0.7706316917192473,
          0.4289913981974971,
          1.9084145086201643,
          -0.759623916011402,
          -0.7425070412671436,
          0.06277473045695621,
          -1.3580505718528622,
          0.10196013029678108,
          -0.5409824517556163,
          0.8786075417899561,
          -1.9178121656516358,
          -0.7370282624161755,
          -0.4237867494075362,
          1.9636892356315543,
          0.10401022158456855,
          -0.7365675799373227,
          -0.005439127042603156,
          -0.2933454827501467,
          1.4954542624775675,
          0.55802181627489,
          -0.6593403254748437,
          0.1988383461089805,
          1.964963411148573,
          1.3581791479795247,
          0.19833831351646278,
          -1.163290788844608,
          0.9132583074449778,
          1.1638660403619159,
          0.1982468492296855,
          -0.29347819983700696,
          -1.1289900244318574,
          1.6786268584259554,
          0.6752784131011865,
          0.28964405270534455,
          -1.7028904293033216,
          -0.3248457754664075,
          -0.044838207779540167,
          1.5281073134205174,
          -2.198051848748937,
          0.5219157564655361,
          0.13305749611839168,
          0.6697046858131003,
          2.0783492112196598,
          0.9929109397786321,
          0.16938681646939813,
          1.6124829761303008,
          1.1945936974657962,
          0.6407065679370807,
          1.077282719175627,
          -0.031450677049946675,
          1.721291153338183,
          -0.4883675671054236,
          -1.0751416403037444,
          -1.6437040422288198,
          -1.4805590800596549,
          -0.4327787443054158,
          1.4504884399154043,
          1.1293919825784633,
          -0.5720607111027293,
          -0.9108482132400754,
          0.15808052374103915,
          0.3987311937942134,
          -1.0799529107118289,
          -0.5951021534896669,
          -0.5904923295274668,
          -0.5697651843320882
         ],
         "yaxis": "y15"
        },
        {
         "histfunc": "count",
         "histnorm": "",
         "marker": {
          "color": "rgba(128, 0, 128, 1.0)",
          "line": {
           "color": "#4D5663",
           "width": 1.3
          }
         },
         "name": "D",
         "nbinsx": 10,
         "opacity": 0.8,
         "orientation": "v",
         "type": "histogram",
         "x": [
          -0.5590574727429467,
          -0.9652481973032375,
          -1.3906244582999019,
          -0.08687000251376722,
          0.1545456412609485,
          1.4654554026194144,
          1.7355261517364142,
          3.0866410008314973,
          1.007893155993295,
          -0.0878959082604831,
          1.284467497652036,
          -0.9963807409741994,
          0.036263894100578384,
          0.40023408716768255,
          -1.0246299571488198,
          2.28250247935137,
          -0.7013000342685121,
          -1.6206655240217647,
          1.4112203997059312,
          1.4373198921923294,
          -0.505991052532302,
          0.6779142603868307,
          -0.22510867140490098,
          0.8545883499934318,
          -1.4544427386993073,
          -0.9789075394224392,
          -0.9837519315782766,
          0.3885380832764085,
          -0.28032248335972537,
          0.7923336903765062,
          1.2075302537726125,
          -1.2176544591767497,
          0.0738198563533884,
          1.0064142879632798,
          -0.7706316917192473,
          0.4289913981974971,
          1.9084145086201643,
          -0.759623916011402,
          -0.7425070412671436,
          0.06277473045695621,
          -1.3580505718528622,
          0.10196013029678108,
          -0.5409824517556163,
          0.8786075417899561,
          -1.9178121656516358,
          -0.7370282624161755,
          -0.4237867494075362,
          1.9636892356315543,
          0.10401022158456855,
          -0.7365675799373227,
          -0.005439127042603156,
          -0.2933454827501467,
          1.4954542624775675,
          0.55802181627489,
          -0.6593403254748437,
          0.1988383461089805,
          1.964963411148573,
          1.3581791479795247,
          0.19833831351646278,
          -1.163290788844608,
          0.9132583074449778,
          1.1638660403619159,
          0.1982468492296855,
          -0.29347819983700696,
          -1.1289900244318574,
          1.6786268584259554,
          0.6752784131011865,
          0.28964405270534455,
          -1.7028904293033216,
          -0.3248457754664075,
          -0.044838207779540167,
          1.5281073134205174,
          -2.198051848748937,
          0.5219157564655361,
          0.13305749611839168,
          0.6697046858131003,
          2.0783492112196598,
          0.9929109397786321,
          0.16938681646939813,
          1.6124829761303008,
          1.1945936974657962,
          0.6407065679370807,
          1.077282719175627,
          -0.031450677049946675,
          1.721291153338183,
          -0.4883675671054236,
          -1.0751416403037444,
          -1.6437040422288198,
          -1.4805590800596549,
          -0.4327787443054158,
          1.4504884399154043,
          1.1293919825784633,
          -0.5720607111027293,
          -0.9108482132400754,
          0.15808052374103915,
          0.3987311937942134,
          -1.0799529107118289,
          -0.5951021534896669,
          -0.5904923295274668,
          -0.5697651843320882
         ],
         "xaxis": "x16",
         "yaxis": "y16"
        }
       ],
       "layout": {
        "bargap": 0.02,
        "legend": {
         "bgcolor": "#F5F6F9",
         "font": {
          "color": "#4D5663"
         }
        },
        "paper_bgcolor": "#F5F6F9",
        "plot_bgcolor": "#F5F6F9",
        "showlegend": false,
        "template": {
         "data": {
          "bar": [
           {
            "error_x": {
             "color": "#2a3f5f"
            },
            "error_y": {
             "color": "#2a3f5f"
            },
            "marker": {
             "line": {
              "color": "#E5ECF6",
              "width": 0.5
             }
            },
            "type": "bar"
           }
          ],
          "barpolar": [
           {
            "marker": {
             "line": {
              "color": "#E5ECF6",
              "width": 0.5
             }
            },
            "type": "barpolar"
           }
          ],
          "carpet": [
           {
            "aaxis": {
             "endlinecolor": "#2a3f5f",
             "gridcolor": "white",
             "linecolor": "white",
             "minorgridcolor": "white",
             "startlinecolor": "#2a3f5f"
            },
            "baxis": {
             "endlinecolor": "#2a3f5f",
             "gridcolor": "white",
             "linecolor": "white",
             "minorgridcolor": "white",
             "startlinecolor": "#2a3f5f"
            },
            "type": "carpet"
           }
          ],
          "choropleth": [
           {
            "colorbar": {
             "outlinewidth": 0,
             "ticks": ""
            },
            "type": "choropleth"
           }
          ],
          "contour": [
           {
            "colorbar": {
             "outlinewidth": 0,
             "ticks": ""
            },
            "colorscale": [
             [
              0,
              "#0d0887"
             ],
             [
              0.1111111111111111,
              "#46039f"
             ],
             [
              0.2222222222222222,
              "#7201a8"
             ],
             [
              0.3333333333333333,
              "#9c179e"
             ],
             [
              0.4444444444444444,
              "#bd3786"
             ],
             [
              0.5555555555555556,
              "#d8576b"
             ],
             [
              0.6666666666666666,
              "#ed7953"
             ],
             [
              0.7777777777777778,
              "#fb9f3a"
             ],
             [
              0.8888888888888888,
              "#fdca26"
             ],
             [
              1,
              "#f0f921"
             ]
            ],
            "type": "contour"
           }
          ],
          "contourcarpet": [
           {
            "colorbar": {
             "outlinewidth": 0,
             "ticks": ""
            },
            "type": "contourcarpet"
           }
          ],
          "heatmap": [
           {
            "colorbar": {
             "outlinewidth": 0,
             "ticks": ""
            },
            "colorscale": [
             [
              0,
              "#0d0887"
             ],
             [
              0.1111111111111111,
              "#46039f"
             ],
             [
              0.2222222222222222,
              "#7201a8"
             ],
             [
              0.3333333333333333,
              "#9c179e"
             ],
             [
              0.4444444444444444,
              "#bd3786"
             ],
             [
              0.5555555555555556,
              "#d8576b"
             ],
             [
              0.6666666666666666,
              "#ed7953"
             ],
             [
              0.7777777777777778,
              "#fb9f3a"
             ],
             [
              0.8888888888888888,
              "#fdca26"
             ],
             [
              1,
              "#f0f921"
             ]
            ],
            "type": "heatmap"
           }
          ],
          "heatmapgl": [
           {
            "colorbar": {
             "outlinewidth": 0,
             "ticks": ""
            },
            "colorscale": [
             [
              0,
              "#0d0887"
             ],
             [
              0.1111111111111111,
              "#46039f"
             ],
             [
              0.2222222222222222,
              "#7201a8"
             ],
             [
              0.3333333333333333,
              "#9c179e"
             ],
             [
              0.4444444444444444,
              "#bd3786"
             ],
             [
              0.5555555555555556,
              "#d8576b"
             ],
             [
              0.6666666666666666,
              "#ed7953"
             ],
             [
              0.7777777777777778,
              "#fb9f3a"
             ],
             [
              0.8888888888888888,
              "#fdca26"
             ],
             [
              1,
              "#f0f921"
             ]
            ],
            "type": "heatmapgl"
           }
          ],
          "histogram": [
           {
            "marker": {
             "colorbar": {
              "outlinewidth": 0,
              "ticks": ""
             }
            },
            "type": "histogram"
           }
          ],
          "histogram2d": [
           {
            "colorbar": {
             "outlinewidth": 0,
             "ticks": ""
            },
            "colorscale": [
             [
              0,
              "#0d0887"
             ],
             [
              0.1111111111111111,
              "#46039f"
             ],
             [
              0.2222222222222222,
              "#7201a8"
             ],
             [
              0.3333333333333333,
              "#9c179e"
             ],
             [
              0.4444444444444444,
              "#bd3786"
             ],
             [
              0.5555555555555556,
              "#d8576b"
             ],
             [
              0.6666666666666666,
              "#ed7953"
             ],
             [
              0.7777777777777778,
              "#fb9f3a"
             ],
             [
              0.8888888888888888,
              "#fdca26"
             ],
             [
              1,
              "#f0f921"
             ]
            ],
            "type": "histogram2d"
           }
          ],
          "histogram2dcontour": [
           {
            "colorbar": {
             "outlinewidth": 0,
             "ticks": ""
            },
            "colorscale": [
             [
              0,
              "#0d0887"
             ],
             [
              0.1111111111111111,
              "#46039f"
             ],
             [
              0.2222222222222222,
              "#7201a8"
             ],
             [
              0.3333333333333333,
              "#9c179e"
             ],
             [
              0.4444444444444444,
              "#bd3786"
             ],
             [
              0.5555555555555556,
              "#d8576b"
             ],
             [
              0.6666666666666666,
              "#ed7953"
             ],
             [
              0.7777777777777778,
              "#fb9f3a"
             ],
             [
              0.8888888888888888,
              "#fdca26"
             ],
             [
              1,
              "#f0f921"
             ]
            ],
            "type": "histogram2dcontour"
           }
          ],
          "mesh3d": [
           {
            "colorbar": {
             "outlinewidth": 0,
             "ticks": ""
            },
            "type": "mesh3d"
           }
          ],
          "parcoords": [
           {
            "line": {
             "colorbar": {
              "outlinewidth": 0,
              "ticks": ""
             }
            },
            "type": "parcoords"
           }
          ],
          "pie": [
           {
            "automargin": true,
            "type": "pie"
           }
          ],
          "scatter": [
           {
            "marker": {
             "colorbar": {
              "outlinewidth": 0,
              "ticks": ""
             }
            },
            "type": "scatter"
           }
          ],
          "scatter3d": [
           {
            "line": {
             "colorbar": {
              "outlinewidth": 0,
              "ticks": ""
             }
            },
            "marker": {
             "colorbar": {
              "outlinewidth": 0,
              "ticks": ""
             }
            },
            "type": "scatter3d"
           }
          ],
          "scattercarpet": [
           {
            "marker": {
             "colorbar": {
              "outlinewidth": 0,
              "ticks": ""
             }
            },
            "type": "scattercarpet"
           }
          ],
          "scattergeo": [
           {
            "marker": {
             "colorbar": {
              "outlinewidth": 0,
              "ticks": ""
             }
            },
            "type": "scattergeo"
           }
          ],
          "scattergl": [
           {
            "marker": {
             "colorbar": {
              "outlinewidth": 0,
              "ticks": ""
             }
            },
            "type": "scattergl"
           }
          ],
          "scattermapbox": [
           {
            "marker": {
             "colorbar": {
              "outlinewidth": 0,
              "ticks": ""
             }
            },
            "type": "scattermapbox"
           }
          ],
          "scatterpolar": [
           {
            "marker": {
             "colorbar": {
              "outlinewidth": 0,
              "ticks": ""
             }
            },
            "type": "scatterpolar"
           }
          ],
          "scatterpolargl": [
           {
            "marker": {
             "colorbar": {
              "outlinewidth": 0,
              "ticks": ""
             }
            },
            "type": "scatterpolargl"
           }
          ],
          "scatterternary": [
           {
            "marker": {
             "colorbar": {
              "outlinewidth": 0,
              "ticks": ""
             }
            },
            "type": "scatterternary"
           }
          ],
          "surface": [
           {
            "colorbar": {
             "outlinewidth": 0,
             "ticks": ""
            },
            "colorscale": [
             [
              0,
              "#0d0887"
             ],
             [
              0.1111111111111111,
              "#46039f"
             ],
             [
              0.2222222222222222,
              "#7201a8"
             ],
             [
              0.3333333333333333,
              "#9c179e"
             ],
             [
              0.4444444444444444,
              "#bd3786"
             ],
             [
              0.5555555555555556,
              "#d8576b"
             ],
             [
              0.6666666666666666,
              "#ed7953"
             ],
             [
              0.7777777777777778,
              "#fb9f3a"
             ],
             [
              0.8888888888888888,
              "#fdca26"
             ],
             [
              1,
              "#f0f921"
             ]
            ],
            "type": "surface"
           }
          ],
          "table": [
           {
            "cells": {
             "fill": {
              "color": "#EBF0F8"
             },
             "line": {
              "color": "white"
             }
            },
            "header": {
             "fill": {
              "color": "#C8D4E3"
             },
             "line": {
              "color": "white"
             }
            },
            "type": "table"
           }
          ]
         },
         "layout": {
          "annotationdefaults": {
           "arrowcolor": "#2a3f5f",
           "arrowhead": 0,
           "arrowwidth": 1
          },
          "coloraxis": {
           "colorbar": {
            "outlinewidth": 0,
            "ticks": ""
           }
          },
          "colorscale": {
           "diverging": [
            [
             0,
             "#8e0152"
            ],
            [
             0.1,
             "#c51b7d"
            ],
            [
             0.2,
             "#de77ae"
            ],
            [
             0.3,
             "#f1b6da"
            ],
            [
             0.4,
             "#fde0ef"
            ],
            [
             0.5,
             "#f7f7f7"
            ],
            [
             0.6,
             "#e6f5d0"
            ],
            [
             0.7,
             "#b8e186"
            ],
            [
             0.8,
             "#7fbc41"
            ],
            [
             0.9,
             "#4d9221"
            ],
            [
             1,
             "#276419"
            ]
           ],
           "sequential": [
            [
             0,
             "#0d0887"
            ],
            [
             0.1111111111111111,
             "#46039f"
            ],
            [
             0.2222222222222222,
             "#7201a8"
            ],
            [
             0.3333333333333333,
             "#9c179e"
            ],
            [
             0.4444444444444444,
             "#bd3786"
            ],
            [
             0.5555555555555556,
             "#d8576b"
            ],
            [
             0.6666666666666666,
             "#ed7953"
            ],
            [
             0.7777777777777778,
             "#fb9f3a"
            ],
            [
             0.8888888888888888,
             "#fdca26"
            ],
            [
             1,
             "#f0f921"
            ]
           ],
           "sequentialminus": [
            [
             0,
             "#0d0887"
            ],
            [
             0.1111111111111111,
             "#46039f"
            ],
            [
             0.2222222222222222,
             "#7201a8"
            ],
            [
             0.3333333333333333,
             "#9c179e"
            ],
            [
             0.4444444444444444,
             "#bd3786"
            ],
            [
             0.5555555555555556,
             "#d8576b"
            ],
            [
             0.6666666666666666,
             "#ed7953"
            ],
            [
             0.7777777777777778,
             "#fb9f3a"
            ],
            [
             0.8888888888888888,
             "#fdca26"
            ],
            [
             1,
             "#f0f921"
            ]
           ]
          },
          "colorway": [
           "#636efa",
           "#EF553B",
           "#00cc96",
           "#ab63fa",
           "#FFA15A",
           "#19d3f3",
           "#FF6692",
           "#B6E880",
           "#FF97FF",
           "#FECB52"
          ],
          "font": {
           "color": "#2a3f5f"
          },
          "geo": {
           "bgcolor": "white",
           "lakecolor": "white",
           "landcolor": "#E5ECF6",
           "showlakes": true,
           "showland": true,
           "subunitcolor": "white"
          },
          "hoverlabel": {
           "align": "left"
          },
          "hovermode": "closest",
          "mapbox": {
           "style": "light"
          },
          "paper_bgcolor": "white",
          "plot_bgcolor": "#E5ECF6",
          "polar": {
           "angularaxis": {
            "gridcolor": "white",
            "linecolor": "white",
            "ticks": ""
           },
           "bgcolor": "#E5ECF6",
           "radialaxis": {
            "gridcolor": "white",
            "linecolor": "white",
            "ticks": ""
           }
          },
          "scene": {
           "xaxis": {
            "backgroundcolor": "#E5ECF6",
            "gridcolor": "white",
            "gridwidth": 2,
            "linecolor": "white",
            "showbackground": true,
            "ticks": "",
            "zerolinecolor": "white"
           },
           "yaxis": {
            "backgroundcolor": "#E5ECF6",
            "gridcolor": "white",
            "gridwidth": 2,
            "linecolor": "white",
            "showbackground": true,
            "ticks": "",
            "zerolinecolor": "white"
           },
           "zaxis": {
            "backgroundcolor": "#E5ECF6",
            "gridcolor": "white",
            "gridwidth": 2,
            "linecolor": "white",
            "showbackground": true,
            "ticks": "",
            "zerolinecolor": "white"
           }
          },
          "shapedefaults": {
           "line": {
            "color": "#2a3f5f"
           }
          },
          "ternary": {
           "aaxis": {
            "gridcolor": "white",
            "linecolor": "white",
            "ticks": ""
           },
           "baxis": {
            "gridcolor": "white",
            "linecolor": "white",
            "ticks": ""
           },
           "bgcolor": "#E5ECF6",
           "caxis": {
            "gridcolor": "white",
            "linecolor": "white",
            "ticks": ""
           }
          },
          "title": {
           "x": 0.05
          },
          "xaxis": {
           "automargin": true,
           "gridcolor": "white",
           "linecolor": "white",
           "ticks": "",
           "title": {
            "standoff": 15
           },
           "zerolinecolor": "white",
           "zerolinewidth": 2
          },
          "yaxis": {
           "automargin": true,
           "gridcolor": "white",
           "linecolor": "white",
           "ticks": "",
           "title": {
            "standoff": 15
           },
           "zerolinecolor": "white",
           "zerolinewidth": 2
          }
         }
        },
        "title": {
         "font": {
          "color": "#4D5663"
         }
        },
        "xaxis": {
         "anchor": "y",
         "domain": [
          0,
          0.2125
         ],
         "gridcolor": "#E1E5ED",
         "showgrid": false,
         "tickfont": {
          "color": "#4D5663"
         },
         "title": {
          "font": {
           "color": "#4D5663"
          },
          "text": ""
         },
         "zerolinecolor": "#E1E5ED"
        },
        "xaxis10": {
         "anchor": "y10",
         "domain": [
          0.2625,
          0.475
         ],
         "gridcolor": "#E1E5ED",
         "showgrid": false,
         "tickfont": {
          "color": "#4D5663"
         },
         "title": {
          "font": {
           "color": "#4D5663"
          },
          "text": ""
         },
         "zerolinecolor": "#E1E5ED"
        },
        "xaxis11": {
         "anchor": "y11",
         "domain": [
          0.525,
          0.7375
         ],
         "gridcolor": "#E1E5ED",
         "showgrid": false,
         "tickfont": {
          "color": "#4D5663"
         },
         "title": {
          "font": {
           "color": "#4D5663"
          },
          "text": ""
         },
         "zerolinecolor": "#E1E5ED"
        },
        "xaxis12": {
         "anchor": "y12",
         "domain": [
          0.7875,
          1
         ],
         "gridcolor": "#E1E5ED",
         "showgrid": false,
         "tickfont": {
          "color": "#4D5663"
         },
         "title": {
          "font": {
           "color": "#4D5663"
          },
          "text": ""
         },
         "zerolinecolor": "#E1E5ED"
        },
        "xaxis13": {
         "anchor": "y13",
         "domain": [
          0,
          0.2125
         ],
         "gridcolor": "#E1E5ED",
         "showgrid": false,
         "tickfont": {
          "color": "#4D5663"
         },
         "title": {
          "font": {
           "color": "#4D5663"
          },
          "text": ""
         },
         "zerolinecolor": "#E1E5ED"
        },
        "xaxis14": {
         "anchor": "y14",
         "domain": [
          0.2625,
          0.475
         ],
         "gridcolor": "#E1E5ED",
         "showgrid": false,
         "tickfont": {
          "color": "#4D5663"
         },
         "title": {
          "font": {
           "color": "#4D5663"
          },
          "text": ""
         },
         "zerolinecolor": "#E1E5ED"
        },
        "xaxis15": {
         "anchor": "y15",
         "domain": [
          0.525,
          0.7375
         ],
         "gridcolor": "#E1E5ED",
         "showgrid": false,
         "tickfont": {
          "color": "#4D5663"
         },
         "title": {
          "font": {
           "color": "#4D5663"
          },
          "text": ""
         },
         "zerolinecolor": "#E1E5ED"
        },
        "xaxis16": {
         "anchor": "y16",
         "domain": [
          0.7875,
          1
         ],
         "gridcolor": "#E1E5ED",
         "showgrid": false,
         "tickfont": {
          "color": "#4D5663"
         },
         "title": {
          "font": {
           "color": "#4D5663"
          },
          "text": ""
         },
         "zerolinecolor": "#E1E5ED"
        },
        "xaxis2": {
         "anchor": "y2",
         "domain": [
          0.2625,
          0.475
         ],
         "gridcolor": "#E1E5ED",
         "showgrid": false,
         "tickfont": {
          "color": "#4D5663"
         },
         "title": {
          "font": {
           "color": "#4D5663"
          },
          "text": ""
         },
         "zerolinecolor": "#E1E5ED"
        },
        "xaxis3": {
         "anchor": "y3",
         "domain": [
          0.525,
          0.7375
         ],
         "gridcolor": "#E1E5ED",
         "showgrid": false,
         "tickfont": {
          "color": "#4D5663"
         },
         "title": {
          "font": {
           "color": "#4D5663"
          },
          "text": ""
         },
         "zerolinecolor": "#E1E5ED"
        },
        "xaxis4": {
         "anchor": "y4",
         "domain": [
          0.7875,
          1
         ],
         "gridcolor": "#E1E5ED",
         "showgrid": false,
         "tickfont": {
          "color": "#4D5663"
         },
         "title": {
          "font": {
           "color": "#4D5663"
          },
          "text": ""
         },
         "zerolinecolor": "#E1E5ED"
        },
        "xaxis5": {
         "anchor": "y5",
         "domain": [
          0,
          0.2125
         ],
         "gridcolor": "#E1E5ED",
         "showgrid": false,
         "tickfont": {
          "color": "#4D5663"
         },
         "title": {
          "font": {
           "color": "#4D5663"
          },
          "text": ""
         },
         "zerolinecolor": "#E1E5ED"
        },
        "xaxis6": {
         "anchor": "y6",
         "domain": [
          0.2625,
          0.475
         ],
         "gridcolor": "#E1E5ED",
         "showgrid": false,
         "tickfont": {
          "color": "#4D5663"
         },
         "title": {
          "font": {
           "color": "#4D5663"
          },
          "text": ""
         },
         "zerolinecolor": "#E1E5ED"
        },
        "xaxis7": {
         "anchor": "y7",
         "domain": [
          0.525,
          0.7375
         ],
         "gridcolor": "#E1E5ED",
         "showgrid": false,
         "tickfont": {
          "color": "#4D5663"
         },
         "title": {
          "font": {
           "color": "#4D5663"
          },
          "text": ""
         },
         "zerolinecolor": "#E1E5ED"
        },
        "xaxis8": {
         "anchor": "y8",
         "domain": [
          0.7875,
          1
         ],
         "gridcolor": "#E1E5ED",
         "showgrid": false,
         "tickfont": {
          "color": "#4D5663"
         },
         "title": {
          "font": {
           "color": "#4D5663"
          },
          "text": ""
         },
         "zerolinecolor": "#E1E5ED"
        },
        "xaxis9": {
         "anchor": "y9",
         "domain": [
          0,
          0.2125
         ],
         "gridcolor": "#E1E5ED",
         "showgrid": false,
         "tickfont": {
          "color": "#4D5663"
         },
         "title": {
          "font": {
           "color": "#4D5663"
          },
          "text": ""
         },
         "zerolinecolor": "#E1E5ED"
        },
        "yaxis": {
         "anchor": "x",
         "domain": [
          0.8025,
          1
         ],
         "gridcolor": "#E1E5ED",
         "showgrid": false,
         "tickfont": {
          "color": "#4D5663"
         },
         "title": {
          "font": {
           "color": "#4D5663"
          },
          "text": ""
         },
         "zerolinecolor": "#E1E5ED"
        },
        "yaxis10": {
         "anchor": "x10",
         "domain": [
          0.2675,
          0.465
         ],
         "gridcolor": "#E1E5ED",
         "showgrid": false,
         "tickfont": {
          "color": "#4D5663"
         },
         "title": {
          "font": {
           "color": "#4D5663"
          },
          "text": ""
         },
         "zerolinecolor": "#E1E5ED"
        },
        "yaxis11": {
         "anchor": "x11",
         "domain": [
          0.2675,
          0.465
         ],
         "gridcolor": "#E1E5ED",
         "showgrid": false,
         "tickfont": {
          "color": "#4D5663"
         },
         "title": {
          "font": {
           "color": "#4D5663"
          },
          "text": ""
         },
         "zerolinecolor": "#E1E5ED"
        },
        "yaxis12": {
         "anchor": "x12",
         "domain": [
          0.2675,
          0.465
         ],
         "gridcolor": "#E1E5ED",
         "showgrid": false,
         "tickfont": {
          "color": "#4D5663"
         },
         "title": {
          "font": {
           "color": "#4D5663"
          },
          "text": ""
         },
         "zerolinecolor": "#E1E5ED"
        },
        "yaxis13": {
         "anchor": "x13",
         "domain": [
          0,
          0.1975
         ],
         "gridcolor": "#E1E5ED",
         "showgrid": false,
         "tickfont": {
          "color": "#4D5663"
         },
         "title": {
          "font": {
           "color": "#4D5663"
          },
          "text": ""
         },
         "zerolinecolor": "#E1E5ED"
        },
        "yaxis14": {
         "anchor": "x14",
         "domain": [
          0,
          0.1975
         ],
         "gridcolor": "#E1E5ED",
         "showgrid": false,
         "tickfont": {
          "color": "#4D5663"
         },
         "title": {
          "font": {
           "color": "#4D5663"
          },
          "text": ""
         },
         "zerolinecolor": "#E1E5ED"
        },
        "yaxis15": {
         "anchor": "x15",
         "domain": [
          0,
          0.1975
         ],
         "gridcolor": "#E1E5ED",
         "showgrid": false,
         "tickfont": {
          "color": "#4D5663"
         },
         "title": {
          "font": {
           "color": "#4D5663"
          },
          "text": ""
         },
         "zerolinecolor": "#E1E5ED"
        },
        "yaxis16": {
         "anchor": "x16",
         "domain": [
          0,
          0.1975
         ],
         "gridcolor": "#E1E5ED",
         "showgrid": false,
         "tickfont": {
          "color": "#4D5663"
         },
         "title": {
          "font": {
           "color": "#4D5663"
          },
          "text": ""
         },
         "zerolinecolor": "#E1E5ED"
        },
        "yaxis2": {
         "anchor": "x2",
         "domain": [
          0.8025,
          1
         ],
         "gridcolor": "#E1E5ED",
         "showgrid": false,
         "tickfont": {
          "color": "#4D5663"
         },
         "title": {
          "font": {
           "color": "#4D5663"
          },
          "text": ""
         },
         "zerolinecolor": "#E1E5ED"
        },
        "yaxis3": {
         "anchor": "x3",
         "domain": [
          0.8025,
          1
         ],
         "gridcolor": "#E1E5ED",
         "showgrid": false,
         "tickfont": {
          "color": "#4D5663"
         },
         "title": {
          "font": {
           "color": "#4D5663"
          },
          "text": ""
         },
         "zerolinecolor": "#E1E5ED"
        },
        "yaxis4": {
         "anchor": "x4",
         "domain": [
          0.8025,
          1
         ],
         "gridcolor": "#E1E5ED",
         "showgrid": false,
         "tickfont": {
          "color": "#4D5663"
         },
         "title": {
          "font": {
           "color": "#4D5663"
          },
          "text": ""
         },
         "zerolinecolor": "#E1E5ED"
        },
        "yaxis5": {
         "anchor": "x5",
         "domain": [
          0.535,
          0.7325
         ],
         "gridcolor": "#E1E5ED",
         "showgrid": false,
         "tickfont": {
          "color": "#4D5663"
         },
         "title": {
          "font": {
           "color": "#4D5663"
          },
          "text": ""
         },
         "zerolinecolor": "#E1E5ED"
        },
        "yaxis6": {
         "anchor": "x6",
         "domain": [
          0.535,
          0.7325
         ],
         "gridcolor": "#E1E5ED",
         "showgrid": false,
         "tickfont": {
          "color": "#4D5663"
         },
         "title": {
          "font": {
           "color": "#4D5663"
          },
          "text": ""
         },
         "zerolinecolor": "#E1E5ED"
        },
        "yaxis7": {
         "anchor": "x7",
         "domain": [
          0.535,
          0.7325
         ],
         "gridcolor": "#E1E5ED",
         "showgrid": false,
         "tickfont": {
          "color": "#4D5663"
         },
         "title": {
          "font": {
           "color": "#4D5663"
          },
          "text": ""
         },
         "zerolinecolor": "#E1E5ED"
        },
        "yaxis8": {
         "anchor": "x8",
         "domain": [
          0.535,
          0.7325
         ],
         "gridcolor": "#E1E5ED",
         "showgrid": false,
         "tickfont": {
          "color": "#4D5663"
         },
         "title": {
          "font": {
           "color": "#4D5663"
          },
          "text": ""
         },
         "zerolinecolor": "#E1E5ED"
        },
        "yaxis9": {
         "anchor": "x9",
         "domain": [
          0.2675,
          0.465
         ],
         "gridcolor": "#E1E5ED",
         "showgrid": false,
         "tickfont": {
          "color": "#4D5663"
         },
         "title": {
          "font": {
           "color": "#4D5663"
          },
          "text": ""
         },
         "zerolinecolor": "#E1E5ED"
        }
       }
      },
      "text/html": [
       "<div>\n",
       "        \n",
       "        \n",
       "            <div id=\"b3a3857f-f3a3-45f2-811d-b6ca22f5709a\" class=\"plotly-graph-div\" style=\"height:525px; width:100%;\"></div>\n",
       "            <script type=\"text/javascript\">\n",
       "                require([\"plotly\"], function(Plotly) {\n",
       "                    window.PLOTLYENV=window.PLOTLYENV || {};\n",
       "                    window.PLOTLYENV.BASE_URL='https://plot.ly';\n",
       "                    \n",
       "                if (document.getElementById(\"b3a3857f-f3a3-45f2-811d-b6ca22f5709a\")) {\n",
       "                    Plotly.newPlot(\n",
       "                        'b3a3857f-f3a3-45f2-811d-b6ca22f5709a',\n",
       "                        [{\"histfunc\": \"count\", \"histnorm\": \"\", \"marker\": {\"color\": \"rgba(255, 153, 51, 1.0)\", \"line\": {\"color\": \"#4D5663\", \"width\": 1.3}}, \"name\": \"A\", \"nbinsx\": 10, \"opacity\": 0.8, \"orientation\": \"v\", \"type\": \"histogram\", \"x\": [-2.19517732281781, 0.41297071995567625, 0.5238259134616036, 2.321660493048887, -1.7918868447130059, -1.4003185528924975, -1.7297604866535865, -0.44388711000201464, -0.5052550235591972, -0.20154762526484626, -0.08352134157213167, -0.6855060781663106, 1.0887687415999572, 0.2855894125108078, 0.7980404615235451, -1.0339660491462646, 0.552988758119476, -0.011700097264279497, 0.021437589270594415, -0.08236305549690165, 0.5291996261975528, 0.6551868758377841, -1.4859686060330128, -1.9244490589884782, 0.8448386798137778, 0.375889652742352, 0.6713684703182022, 0.5292666392387347, -1.8438289583630185, 0.558440068266143, -0.6563135402637561, -1.6316467385018294, -0.39836303303761095, 0.0691617062364122, 0.1353258261082668, 0.7185436507289951, 1.553925211212386, -0.5714655522307664, 1.4904875406858629, 0.6217440104496987, 0.7865768608697654, 0.7378588602432641, -0.8985395833921609, 0.6397978501868015, -0.2631592379934458, -0.18465379229969653, -1.766855324557164, 0.12173746345167527, -0.743605387049839, 0.784334833739347, 0.3917372705482704, -0.5909559239175638, -0.40630782754950207, -0.9881423673945723, -1.4597607300847637, 0.3023562251048793, -0.1954609877017618, 1.8127924584945665, -0.438196644574794, 0.9922522061400024, -0.859983652215299, 0.4246206377667659, 1.2931457895853469, -0.3197471206910602, -0.29015708985798294, -2.4200083935552144, -0.5531573484596305, 0.9919788860691116, -0.10068870784096433, 0.013473054882340725, 0.8870424485265856, -1.52983366553648, 0.8145957073039255, -0.81898061248173, -0.9098258908774242, -1.3752270874209238, 1.3669607304331788, -0.040484151685499445, -1.1206413918176934, 0.4768318852770323, -0.3417763069099912, -1.408962249978248, -1.5951427299765275, 1.2197177433735997, 0.5445789312288598, 0.6313147555355381, 0.32000780366272574, -0.8704515879612656, -0.627920771771115, 0.8440369058295358, -1.2010314467224608, 0.10303101875969292, 1.7119342867501717, 1.345218350267589, 1.8895042692650679, 0.5245714274017701, -0.010284788799988025, 1.4983859268949218, 0.6627916098655476, -0.9058275513453036], \"xaxis\": \"x\", \"yaxis\": \"y\"}, {\"line\": {\"color\": \"rgba(128, 128, 128, 1.0)\", \"dash\": \"solid\", \"shape\": \"linear\", \"width\": 1.3}, \"marker\": {\"size\": 2, \"symbol\": \"circle\"}, \"mode\": \"markers\", \"name\": \"A\", \"text\": \"\", \"type\": \"scatter\", \"x\": [-0.2551109513862989, -1.5127464737870182, 0.3758014389849401, 1.8857727661935286, 1.662544285322015, -1.2664294656572934, -1.5174696024398788, 0.5852178156544476, 0.6965117049576418, -1.1279399272931596, -0.6863623724755933, -1.1044899382302837, 0.07098359754755064, 1.2151791713518312, 0.2203176108637594, 2.6295732761898005, 0.6798859657591843, 0.986074789157596, -1.2317801711589613, -0.7665611492450716, -0.022858667742858704, -0.6294825856993135, 1.6306391943001899, 1.6995515594849566, -0.5905495429530158, 0.47793027697582735, -0.44609211623245887, 1.7576040287335875, -1.0923347767002078, -1.8993634237607036, 0.5844253290883914, -0.04822525857137415, 0.3463651631429565, 0.40013204209307585, 0.22836136631949458, 0.5377706594361823, -0.046788587259596004, -2.5718183127194134, -0.15116176468220824, -0.21953364549617513, -0.3325484225048974, -1.8096452038883564, 0.7289382006548182, -0.09439706742108991, 0.012540101956239863, -0.48136707668519524, 1.1582886336009641, -0.4248727474952323, 0.40709870307468116, 1.0717332510596662, 0.458827727449291, 0.9438296370958118, 1.4303013514646175, -0.403906433119754, 0.7027145404728263, 0.5103829539116806, -0.8123969957649172, 0.3383761382920852, -1.171096152810323, 0.46599418331537706, 0.47419707617009593, -2.56535748723371, -0.06782037218279009, -0.9328199422531491, 0.08936881595781979, 1.105071798487719, 1.292664158575097, -2.6250692746878195, -0.45631212365946394, 1.018318165064855, -1.2526436138204882, -0.17168542970891618, -0.4699345868151425, 0.38738762957994255, -1.5998498437689137, 0.7609470697567795, -0.2616975602236235, 0.08826540754723577, 0.2378673846850535, 0.32753070517438304, -0.6997696295911957, -0.9027758435345248, -0.07465487316390441, -2.4577222932537945, 0.3340426817758278, 0.6960081666749737, -0.26319239683785034, -0.9980782560498498, -0.12339060576071016, -0.17112287315675134, 0.6429944355509232, 0.9524051082923007, -1.323623217934063, 0.23723427993329563, 0.09923915891778237, 0.05748639326282414, -0.8615285511403645, 0.5099022980535224, -0.29916479814974173, -0.3551225033150403], \"xaxis\": \"x2\", \"y\": [-2.19517732281781, 0.41297071995567625, 0.5238259134616036, 2.321660493048887, -1.7918868447130059, -1.4003185528924975, -1.7297604866535865, -0.44388711000201464, -0.5052550235591972, -0.20154762526484626, -0.08352134157213167, -0.6855060781663106, 1.0887687415999572, 0.2855894125108078, 0.7980404615235451, -1.0339660491462646, 0.552988758119476, -0.011700097264279497, 0.021437589270594415, -0.08236305549690165, 0.5291996261975528, 0.6551868758377841, -1.4859686060330128, -1.9244490589884782, 0.8448386798137778, 0.375889652742352, 0.6713684703182022, 0.5292666392387347, -1.8438289583630185, 0.558440068266143, -0.6563135402637561, -1.6316467385018294, -0.39836303303761095, 0.0691617062364122, 0.1353258261082668, 0.7185436507289951, 1.553925211212386, -0.5714655522307664, 1.4904875406858629, 0.6217440104496987, 0.7865768608697654, 0.7378588602432641, -0.8985395833921609, 0.6397978501868015, -0.2631592379934458, -0.18465379229969653, -1.766855324557164, 0.12173746345167527, -0.743605387049839, 0.784334833739347, 0.3917372705482704, -0.5909559239175638, -0.40630782754950207, -0.9881423673945723, -1.4597607300847637, 0.3023562251048793, -0.1954609877017618, 1.8127924584945665, -0.438196644574794, 0.9922522061400024, -0.859983652215299, 0.4246206377667659, 1.2931457895853469, -0.3197471206910602, -0.29015708985798294, -2.4200083935552144, -0.5531573484596305, 0.9919788860691116, -0.10068870784096433, 0.013473054882340725, 0.8870424485265856, -1.52983366553648, 0.8145957073039255, -0.81898061248173, -0.9098258908774242, -1.3752270874209238, 1.3669607304331788, -0.040484151685499445, -1.1206413918176934, 0.4768318852770323, -0.3417763069099912, -1.408962249978248, -1.5951427299765275, 1.2197177433735997, 0.5445789312288598, 0.6313147555355381, 0.32000780366272574, -0.8704515879612656, -0.627920771771115, 0.8440369058295358, -1.2010314467224608, 0.10303101875969292, 1.7119342867501717, 1.345218350267589, 1.8895042692650679, 0.5245714274017701, -0.010284788799988025, 1.4983859268949218, 0.6627916098655476, -0.9058275513453036], \"yaxis\": \"y2\"}, {\"line\": {\"color\": \"rgba(128, 128, 128, 1.0)\", \"dash\": \"solid\", \"shape\": \"linear\", \"width\": 1.3}, \"marker\": {\"size\": 2, \"symbol\": \"circle\"}, \"mode\": \"markers\", \"name\": \"A\", \"text\": \"\", \"type\": \"scatter\", \"x\": [-1.0788971856936262, -1.2567580655429562, 2.306905757660575, 1.4597194024759284, 0.08993898843896211, 0.99660105806891, -0.9019836835408349, 0.859353588311807, 0.71725570181717, 0.08380403413390386, 0.44119082233712265, 0.1438418816097869, -1.247558375257457, -1.1442716126240062, -1.2617825554963564, -0.19087872415173907, 0.4341101082887723, -1.1287682521621962, -1.3602623536692164, 1.05375491177541, 1.8209709905919105, 0.1817511218888976, 0.22467287735670233, 1.6875574908256463, 0.007166511506410807, -0.0050954727207124266, -0.7423566678317753, -0.40653941438145946, -0.0068370559735675875, -0.3841329768242768, -1.2524535142745092, -1.906151255377356, -0.1763321051587015, -0.5836410168125651, 0.5518374528931556, 1.4519255221120164, 1.3643118237082614, -0.9979487982713429, -0.3645103593299708, -1.0174748573809365, 0.8031952687280782, -1.3162986958711003, -1.9874803671405927, -0.40994448299083536, -0.657621109199126, -0.2441861701805242, -0.48494070247939963, -1.3795160568953664, -0.07059090968345638, -0.37464040312293606, 0.6800215471504433, -0.6873726058624622, -1.241770993437353, 0.05758086179807762, -0.5403668486477343, -1.3125466743292626, 0.43703161569946325, 0.4770647673840944, 0.013742174347041376, 0.9442069570899385, 0.1528210048976337, 0.25608505426833694, 1.272652337867402, 1.161795856037412, 0.5306960137695097, 0.30294924805684886, -0.011718203774587013, 1.3751187811239185, -0.36030546879938913, -0.707594027756117, 0.7255443632944976, 0.6789982136122885, -0.9699242148957096, 0.2778188395179725, -1.455676810569012, 1.0279156175778397, -1.3393970564477102, -0.4543107025528251, -0.5360591728383689, 1.0873434219180473, 0.5713322131613005, 0.5487943256282278, -0.5305824692030522, -0.8525390393332022, 0.5113519006178853, 0.5645692944823126, 0.4296716748425944, -0.38857668370552584, 0.8334927023304188, -0.17060926894242331, -0.29196042928222776, -1.4665800633973136, -0.4741414933070715, -0.07649969481687253, -0.5776916122635324, 1.2800821684834214, 2.1878392758982, 0.9093467140440413, -0.7577571032797649, 1.5706481783964563], \"xaxis\": \"x3\", \"y\": [-2.19517732281781, 0.41297071995567625, 0.5238259134616036, 2.321660493048887, -1.7918868447130059, -1.4003185528924975, -1.7297604866535865, -0.44388711000201464, -0.5052550235591972, -0.20154762526484626, -0.08352134157213167, -0.6855060781663106, 1.0887687415999572, 0.2855894125108078, 0.7980404615235451, -1.0339660491462646, 0.552988758119476, -0.011700097264279497, 0.021437589270594415, -0.08236305549690165, 0.5291996261975528, 0.6551868758377841, -1.4859686060330128, -1.9244490589884782, 0.8448386798137778, 0.375889652742352, 0.6713684703182022, 0.5292666392387347, -1.8438289583630185, 0.558440068266143, -0.6563135402637561, -1.6316467385018294, -0.39836303303761095, 0.0691617062364122, 0.1353258261082668, 0.7185436507289951, 1.553925211212386, -0.5714655522307664, 1.4904875406858629, 0.6217440104496987, 0.7865768608697654, 0.7378588602432641, -0.8985395833921609, 0.6397978501868015, -0.2631592379934458, -0.18465379229969653, -1.766855324557164, 0.12173746345167527, -0.743605387049839, 0.784334833739347, 0.3917372705482704, -0.5909559239175638, -0.40630782754950207, -0.9881423673945723, -1.4597607300847637, 0.3023562251048793, -0.1954609877017618, 1.8127924584945665, -0.438196644574794, 0.9922522061400024, -0.859983652215299, 0.4246206377667659, 1.2931457895853469, -0.3197471206910602, -0.29015708985798294, -2.4200083935552144, -0.5531573484596305, 0.9919788860691116, -0.10068870784096433, 0.013473054882340725, 0.8870424485265856, -1.52983366553648, 0.8145957073039255, -0.81898061248173, -0.9098258908774242, -1.3752270874209238, 1.3669607304331788, -0.040484151685499445, -1.1206413918176934, 0.4768318852770323, -0.3417763069099912, -1.408962249978248, -1.5951427299765275, 1.2197177433735997, 0.5445789312288598, 0.6313147555355381, 0.32000780366272574, -0.8704515879612656, -0.627920771771115, 0.8440369058295358, -1.2010314467224608, 0.10303101875969292, 1.7119342867501717, 1.345218350267589, 1.8895042692650679, 0.5245714274017701, -0.010284788799988025, 1.4983859268949218, 0.6627916098655476, -0.9058275513453036], \"yaxis\": \"y3\"}, {\"line\": {\"color\": \"rgba(128, 128, 128, 1.0)\", \"dash\": \"solid\", \"shape\": \"linear\", \"width\": 1.3}, \"marker\": {\"size\": 2, \"symbol\": \"circle\"}, \"mode\": \"markers\", \"name\": \"A\", \"text\": \"\", \"type\": \"scatter\", \"x\": [-0.5590574727429467, -0.9652481973032375, -1.3906244582999019, -0.08687000251376722, 0.1545456412609485, 1.4654554026194144, 1.7355261517364142, 3.0866410008314973, 1.007893155993295, -0.0878959082604831, 1.284467497652036, -0.9963807409741994, 0.036263894100578384, 0.40023408716768255, -1.0246299571488198, 2.28250247935137, -0.7013000342685121, -1.6206655240217647, 1.4112203997059312, 1.4373198921923294, -0.505991052532302, 0.6779142603868307, -0.22510867140490098, 0.8545883499934318, -1.4544427386993073, -0.9789075394224392, -0.9837519315782766, 0.3885380832764085, -0.28032248335972537, 0.7923336903765062, 1.2075302537726125, -1.2176544591767497, 0.0738198563533884, 1.0064142879632798, -0.7706316917192473, 0.4289913981974971, 1.9084145086201643, -0.759623916011402, -0.7425070412671436, 0.06277473045695621, -1.3580505718528622, 0.10196013029678108, -0.5409824517556163, 0.8786075417899561, -1.9178121656516358, -0.7370282624161755, -0.4237867494075362, 1.9636892356315543, 0.10401022158456855, -0.7365675799373227, -0.005439127042603156, -0.2933454827501467, 1.4954542624775675, 0.55802181627489, -0.6593403254748437, 0.1988383461089805, 1.964963411148573, 1.3581791479795247, 0.19833831351646278, -1.163290788844608, 0.9132583074449778, 1.1638660403619159, 0.1982468492296855, -0.29347819983700696, -1.1289900244318574, 1.6786268584259554, 0.6752784131011865, 0.28964405270534455, -1.7028904293033216, -0.3248457754664075, -0.044838207779540167, 1.5281073134205174, -2.198051848748937, 0.5219157564655361, 0.13305749611839168, 0.6697046858131003, 2.0783492112196598, 0.9929109397786321, 0.16938681646939813, 1.6124829761303008, 1.1945936974657962, 0.6407065679370807, 1.077282719175627, -0.031450677049946675, 1.721291153338183, -0.4883675671054236, -1.0751416403037444, -1.6437040422288198, -1.4805590800596549, -0.4327787443054158, 1.4504884399154043, 1.1293919825784633, -0.5720607111027293, -0.9108482132400754, 0.15808052374103915, 0.3987311937942134, -1.0799529107118289, -0.5951021534896669, -0.5904923295274668, -0.5697651843320882], \"xaxis\": \"x4\", \"y\": [-2.19517732281781, 0.41297071995567625, 0.5238259134616036, 2.321660493048887, -1.7918868447130059, -1.4003185528924975, -1.7297604866535865, -0.44388711000201464, -0.5052550235591972, -0.20154762526484626, -0.08352134157213167, -0.6855060781663106, 1.0887687415999572, 0.2855894125108078, 0.7980404615235451, -1.0339660491462646, 0.552988758119476, -0.011700097264279497, 0.021437589270594415, -0.08236305549690165, 0.5291996261975528, 0.6551868758377841, -1.4859686060330128, -1.9244490589884782, 0.8448386798137778, 0.375889652742352, 0.6713684703182022, 0.5292666392387347, -1.8438289583630185, 0.558440068266143, -0.6563135402637561, -1.6316467385018294, -0.39836303303761095, 0.0691617062364122, 0.1353258261082668, 0.7185436507289951, 1.553925211212386, -0.5714655522307664, 1.4904875406858629, 0.6217440104496987, 0.7865768608697654, 0.7378588602432641, -0.8985395833921609, 0.6397978501868015, -0.2631592379934458, -0.18465379229969653, -1.766855324557164, 0.12173746345167527, -0.743605387049839, 0.784334833739347, 0.3917372705482704, -0.5909559239175638, -0.40630782754950207, -0.9881423673945723, -1.4597607300847637, 0.3023562251048793, -0.1954609877017618, 1.8127924584945665, -0.438196644574794, 0.9922522061400024, -0.859983652215299, 0.4246206377667659, 1.2931457895853469, -0.3197471206910602, -0.29015708985798294, -2.4200083935552144, -0.5531573484596305, 0.9919788860691116, -0.10068870784096433, 0.013473054882340725, 0.8870424485265856, -1.52983366553648, 0.8145957073039255, -0.81898061248173, -0.9098258908774242, -1.3752270874209238, 1.3669607304331788, -0.040484151685499445, -1.1206413918176934, 0.4768318852770323, -0.3417763069099912, -1.408962249978248, -1.5951427299765275, 1.2197177433735997, 0.5445789312288598, 0.6313147555355381, 0.32000780366272574, -0.8704515879612656, -0.627920771771115, 0.8440369058295358, -1.2010314467224608, 0.10303101875969292, 1.7119342867501717, 1.345218350267589, 1.8895042692650679, 0.5245714274017701, -0.010284788799988025, 1.4983859268949218, 0.6627916098655476, -0.9058275513453036], \"yaxis\": \"y4\"}, {\"line\": {\"color\": \"rgba(128, 128, 128, 1.0)\", \"dash\": \"solid\", \"shape\": \"linear\", \"width\": 1.3}, \"marker\": {\"size\": 2, \"symbol\": \"circle\"}, \"mode\": \"markers\", \"name\": \"B\", \"text\": \"\", \"type\": \"scatter\", \"x\": [-2.19517732281781, 0.41297071995567625, 0.5238259134616036, 2.321660493048887, -1.7918868447130059, -1.4003185528924975, -1.7297604866535865, -0.44388711000201464, -0.5052550235591972, -0.20154762526484626, -0.08352134157213167, -0.6855060781663106, 1.0887687415999572, 0.2855894125108078, 0.7980404615235451, -1.0339660491462646, 0.552988758119476, -0.011700097264279497, 0.021437589270594415, -0.08236305549690165, 0.5291996261975528, 0.6551868758377841, -1.4859686060330128, -1.9244490589884782, 0.8448386798137778, 0.375889652742352, 0.6713684703182022, 0.5292666392387347, -1.8438289583630185, 0.558440068266143, -0.6563135402637561, -1.6316467385018294, -0.39836303303761095, 0.0691617062364122, 0.1353258261082668, 0.7185436507289951, 1.553925211212386, -0.5714655522307664, 1.4904875406858629, 0.6217440104496987, 0.7865768608697654, 0.7378588602432641, -0.8985395833921609, 0.6397978501868015, -0.2631592379934458, -0.18465379229969653, -1.766855324557164, 0.12173746345167527, -0.743605387049839, 0.784334833739347, 0.3917372705482704, -0.5909559239175638, -0.40630782754950207, -0.9881423673945723, -1.4597607300847637, 0.3023562251048793, -0.1954609877017618, 1.8127924584945665, -0.438196644574794, 0.9922522061400024, -0.859983652215299, 0.4246206377667659, 1.2931457895853469, -0.3197471206910602, -0.29015708985798294, -2.4200083935552144, -0.5531573484596305, 0.9919788860691116, -0.10068870784096433, 0.013473054882340725, 0.8870424485265856, -1.52983366553648, 0.8145957073039255, -0.81898061248173, -0.9098258908774242, -1.3752270874209238, 1.3669607304331788, -0.040484151685499445, -1.1206413918176934, 0.4768318852770323, -0.3417763069099912, -1.408962249978248, -1.5951427299765275, 1.2197177433735997, 0.5445789312288598, 0.6313147555355381, 0.32000780366272574, -0.8704515879612656, -0.627920771771115, 0.8440369058295358, -1.2010314467224608, 0.10303101875969292, 1.7119342867501717, 1.345218350267589, 1.8895042692650679, 0.5245714274017701, -0.010284788799988025, 1.4983859268949218, 0.6627916098655476, -0.9058275513453036], \"xaxis\": \"x5\", \"y\": [-0.2551109513862989, -1.5127464737870182, 0.3758014389849401, 1.8857727661935286, 1.662544285322015, -1.2664294656572934, -1.5174696024398788, 0.5852178156544476, 0.6965117049576418, -1.1279399272931596, -0.6863623724755933, -1.1044899382302837, 0.07098359754755064, 1.2151791713518312, 0.2203176108637594, 2.6295732761898005, 0.6798859657591843, 0.986074789157596, -1.2317801711589613, -0.7665611492450716, -0.022858667742858704, -0.6294825856993135, 1.6306391943001899, 1.6995515594849566, -0.5905495429530158, 0.47793027697582735, -0.44609211623245887, 1.7576040287335875, -1.0923347767002078, -1.8993634237607036, 0.5844253290883914, -0.04822525857137415, 0.3463651631429565, 0.40013204209307585, 0.22836136631949458, 0.5377706594361823, -0.046788587259596004, -2.5718183127194134, -0.15116176468220824, -0.21953364549617513, -0.3325484225048974, -1.8096452038883564, 0.7289382006548182, -0.09439706742108991, 0.012540101956239863, -0.48136707668519524, 1.1582886336009641, -0.4248727474952323, 0.40709870307468116, 1.0717332510596662, 0.458827727449291, 0.9438296370958118, 1.4303013514646175, -0.403906433119754, 0.7027145404728263, 0.5103829539116806, -0.8123969957649172, 0.3383761382920852, -1.171096152810323, 0.46599418331537706, 0.47419707617009593, -2.56535748723371, -0.06782037218279009, -0.9328199422531491, 0.08936881595781979, 1.105071798487719, 1.292664158575097, -2.6250692746878195, -0.45631212365946394, 1.018318165064855, -1.2526436138204882, -0.17168542970891618, -0.4699345868151425, 0.38738762957994255, -1.5998498437689137, 0.7609470697567795, -0.2616975602236235, 0.08826540754723577, 0.2378673846850535, 0.32753070517438304, -0.6997696295911957, -0.9027758435345248, -0.07465487316390441, -2.4577222932537945, 0.3340426817758278, 0.6960081666749737, -0.26319239683785034, -0.9980782560498498, -0.12339060576071016, -0.17112287315675134, 0.6429944355509232, 0.9524051082923007, -1.323623217934063, 0.23723427993329563, 0.09923915891778237, 0.05748639326282414, -0.8615285511403645, 0.5099022980535224, -0.29916479814974173, -0.3551225033150403], \"yaxis\": \"y5\"}, {\"histfunc\": \"count\", \"histnorm\": \"\", \"marker\": {\"color\": \"rgba(55, 128, 191, 1.0)\", \"line\": {\"color\": \"#4D5663\", \"width\": 1.3}}, \"name\": \"B\", \"nbinsx\": 10, \"opacity\": 0.8, \"orientation\": \"v\", \"type\": \"histogram\", \"x\": [-0.2551109513862989, -1.5127464737870182, 0.3758014389849401, 1.8857727661935286, 1.662544285322015, -1.2664294656572934, -1.5174696024398788, 0.5852178156544476, 0.6965117049576418, -1.1279399272931596, -0.6863623724755933, -1.1044899382302837, 0.07098359754755064, 1.2151791713518312, 0.2203176108637594, 2.6295732761898005, 0.6798859657591843, 0.986074789157596, -1.2317801711589613, -0.7665611492450716, -0.022858667742858704, -0.6294825856993135, 1.6306391943001899, 1.6995515594849566, -0.5905495429530158, 0.47793027697582735, -0.44609211623245887, 1.7576040287335875, -1.0923347767002078, -1.8993634237607036, 0.5844253290883914, -0.04822525857137415, 0.3463651631429565, 0.40013204209307585, 0.22836136631949458, 0.5377706594361823, -0.046788587259596004, -2.5718183127194134, -0.15116176468220824, -0.21953364549617513, -0.3325484225048974, -1.8096452038883564, 0.7289382006548182, -0.09439706742108991, 0.012540101956239863, -0.48136707668519524, 1.1582886336009641, -0.4248727474952323, 0.40709870307468116, 1.0717332510596662, 0.458827727449291, 0.9438296370958118, 1.4303013514646175, -0.403906433119754, 0.7027145404728263, 0.5103829539116806, -0.8123969957649172, 0.3383761382920852, -1.171096152810323, 0.46599418331537706, 0.47419707617009593, -2.56535748723371, -0.06782037218279009, -0.9328199422531491, 0.08936881595781979, 1.105071798487719, 1.292664158575097, -2.6250692746878195, -0.45631212365946394, 1.018318165064855, -1.2526436138204882, -0.17168542970891618, -0.4699345868151425, 0.38738762957994255, -1.5998498437689137, 0.7609470697567795, -0.2616975602236235, 0.08826540754723577, 0.2378673846850535, 0.32753070517438304, -0.6997696295911957, -0.9027758435345248, -0.07465487316390441, -2.4577222932537945, 0.3340426817758278, 0.6960081666749737, -0.26319239683785034, -0.9980782560498498, -0.12339060576071016, -0.17112287315675134, 0.6429944355509232, 0.9524051082923007, -1.323623217934063, 0.23723427993329563, 0.09923915891778237, 0.05748639326282414, -0.8615285511403645, 0.5099022980535224, -0.29916479814974173, -0.3551225033150403], \"xaxis\": \"x6\", \"yaxis\": \"y6\"}, {\"line\": {\"color\": \"rgba(128, 128, 128, 1.0)\", \"dash\": \"solid\", \"shape\": \"linear\", \"width\": 1.3}, \"marker\": {\"size\": 2, \"symbol\": \"circle\"}, \"mode\": \"markers\", \"name\": \"B\", \"text\": \"\", \"type\": \"scatter\", \"x\": [-1.0788971856936262, -1.2567580655429562, 2.306905757660575, 1.4597194024759284, 0.08993898843896211, 0.99660105806891, -0.9019836835408349, 0.859353588311807, 0.71725570181717, 0.08380403413390386, 0.44119082233712265, 0.1438418816097869, -1.247558375257457, -1.1442716126240062, -1.2617825554963564, -0.19087872415173907, 0.4341101082887723, -1.1287682521621962, -1.3602623536692164, 1.05375491177541, 1.8209709905919105, 0.1817511218888976, 0.22467287735670233, 1.6875574908256463, 0.007166511506410807, -0.0050954727207124266, -0.7423566678317753, -0.40653941438145946, -0.0068370559735675875, -0.3841329768242768, -1.2524535142745092, -1.906151255377356, -0.1763321051587015, -0.5836410168125651, 0.5518374528931556, 1.4519255221120164, 1.3643118237082614, -0.9979487982713429, -0.3645103593299708, -1.0174748573809365, 0.8031952687280782, -1.3162986958711003, -1.9874803671405927, -0.40994448299083536, -0.657621109199126, -0.2441861701805242, -0.48494070247939963, -1.3795160568953664, -0.07059090968345638, -0.37464040312293606, 0.6800215471504433, -0.6873726058624622, -1.241770993437353, 0.05758086179807762, -0.5403668486477343, -1.3125466743292626, 0.43703161569946325, 0.4770647673840944, 0.013742174347041376, 0.9442069570899385, 0.1528210048976337, 0.25608505426833694, 1.272652337867402, 1.161795856037412, 0.5306960137695097, 0.30294924805684886, -0.011718203774587013, 1.3751187811239185, -0.36030546879938913, -0.707594027756117, 0.7255443632944976, 0.6789982136122885, -0.9699242148957096, 0.2778188395179725, -1.455676810569012, 1.0279156175778397, -1.3393970564477102, -0.4543107025528251, -0.5360591728383689, 1.0873434219180473, 0.5713322131613005, 0.5487943256282278, -0.5305824692030522, -0.8525390393332022, 0.5113519006178853, 0.5645692944823126, 0.4296716748425944, -0.38857668370552584, 0.8334927023304188, -0.17060926894242331, -0.29196042928222776, -1.4665800633973136, -0.4741414933070715, -0.07649969481687253, -0.5776916122635324, 1.2800821684834214, 2.1878392758982, 0.9093467140440413, -0.7577571032797649, 1.5706481783964563], \"xaxis\": \"x7\", \"y\": [-0.2551109513862989, -1.5127464737870182, 0.3758014389849401, 1.8857727661935286, 1.662544285322015, -1.2664294656572934, -1.5174696024398788, 0.5852178156544476, 0.6965117049576418, -1.1279399272931596, -0.6863623724755933, -1.1044899382302837, 0.07098359754755064, 1.2151791713518312, 0.2203176108637594, 2.6295732761898005, 0.6798859657591843, 0.986074789157596, -1.2317801711589613, -0.7665611492450716, -0.022858667742858704, -0.6294825856993135, 1.6306391943001899, 1.6995515594849566, -0.5905495429530158, 0.47793027697582735, -0.44609211623245887, 1.7576040287335875, -1.0923347767002078, -1.8993634237607036, 0.5844253290883914, -0.04822525857137415, 0.3463651631429565, 0.40013204209307585, 0.22836136631949458, 0.5377706594361823, -0.046788587259596004, -2.5718183127194134, -0.15116176468220824, -0.21953364549617513, -0.3325484225048974, -1.8096452038883564, 0.7289382006548182, -0.09439706742108991, 0.012540101956239863, -0.48136707668519524, 1.1582886336009641, -0.4248727474952323, 0.40709870307468116, 1.0717332510596662, 0.458827727449291, 0.9438296370958118, 1.4303013514646175, -0.403906433119754, 0.7027145404728263, 0.5103829539116806, -0.8123969957649172, 0.3383761382920852, -1.171096152810323, 0.46599418331537706, 0.47419707617009593, -2.56535748723371, -0.06782037218279009, -0.9328199422531491, 0.08936881595781979, 1.105071798487719, 1.292664158575097, -2.6250692746878195, -0.45631212365946394, 1.018318165064855, -1.2526436138204882, -0.17168542970891618, -0.4699345868151425, 0.38738762957994255, -1.5998498437689137, 0.7609470697567795, -0.2616975602236235, 0.08826540754723577, 0.2378673846850535, 0.32753070517438304, -0.6997696295911957, -0.9027758435345248, -0.07465487316390441, -2.4577222932537945, 0.3340426817758278, 0.6960081666749737, -0.26319239683785034, -0.9980782560498498, -0.12339060576071016, -0.17112287315675134, 0.6429944355509232, 0.9524051082923007, -1.323623217934063, 0.23723427993329563, 0.09923915891778237, 0.05748639326282414, -0.8615285511403645, 0.5099022980535224, -0.29916479814974173, -0.3551225033150403], \"yaxis\": \"y7\"}, {\"line\": {\"color\": \"rgba(128, 128, 128, 1.0)\", \"dash\": \"solid\", \"shape\": \"linear\", \"width\": 1.3}, \"marker\": {\"size\": 2, \"symbol\": \"circle\"}, \"mode\": \"markers\", \"name\": \"B\", \"text\": \"\", \"type\": \"scatter\", \"x\": [-0.5590574727429467, -0.9652481973032375, -1.3906244582999019, -0.08687000251376722, 0.1545456412609485, 1.4654554026194144, 1.7355261517364142, 3.0866410008314973, 1.007893155993295, -0.0878959082604831, 1.284467497652036, -0.9963807409741994, 0.036263894100578384, 0.40023408716768255, -1.0246299571488198, 2.28250247935137, -0.7013000342685121, -1.6206655240217647, 1.4112203997059312, 1.4373198921923294, -0.505991052532302, 0.6779142603868307, -0.22510867140490098, 0.8545883499934318, -1.4544427386993073, -0.9789075394224392, -0.9837519315782766, 0.3885380832764085, -0.28032248335972537, 0.7923336903765062, 1.2075302537726125, -1.2176544591767497, 0.0738198563533884, 1.0064142879632798, -0.7706316917192473, 0.4289913981974971, 1.9084145086201643, -0.759623916011402, -0.7425070412671436, 0.06277473045695621, -1.3580505718528622, 0.10196013029678108, -0.5409824517556163, 0.8786075417899561, -1.9178121656516358, -0.7370282624161755, -0.4237867494075362, 1.9636892356315543, 0.10401022158456855, -0.7365675799373227, -0.005439127042603156, -0.2933454827501467, 1.4954542624775675, 0.55802181627489, -0.6593403254748437, 0.1988383461089805, 1.964963411148573, 1.3581791479795247, 0.19833831351646278, -1.163290788844608, 0.9132583074449778, 1.1638660403619159, 0.1982468492296855, -0.29347819983700696, -1.1289900244318574, 1.6786268584259554, 0.6752784131011865, 0.28964405270534455, -1.7028904293033216, -0.3248457754664075, -0.044838207779540167, 1.5281073134205174, -2.198051848748937, 0.5219157564655361, 0.13305749611839168, 0.6697046858131003, 2.0783492112196598, 0.9929109397786321, 0.16938681646939813, 1.6124829761303008, 1.1945936974657962, 0.6407065679370807, 1.077282719175627, -0.031450677049946675, 1.721291153338183, -0.4883675671054236, -1.0751416403037444, -1.6437040422288198, -1.4805590800596549, -0.4327787443054158, 1.4504884399154043, 1.1293919825784633, -0.5720607111027293, -0.9108482132400754, 0.15808052374103915, 0.3987311937942134, -1.0799529107118289, -0.5951021534896669, -0.5904923295274668, -0.5697651843320882], \"xaxis\": \"x8\", \"y\": [-0.2551109513862989, -1.5127464737870182, 0.3758014389849401, 1.8857727661935286, 1.662544285322015, -1.2664294656572934, -1.5174696024398788, 0.5852178156544476, 0.6965117049576418, -1.1279399272931596, -0.6863623724755933, -1.1044899382302837, 0.07098359754755064, 1.2151791713518312, 0.2203176108637594, 2.6295732761898005, 0.6798859657591843, 0.986074789157596, -1.2317801711589613, -0.7665611492450716, -0.022858667742858704, -0.6294825856993135, 1.6306391943001899, 1.6995515594849566, -0.5905495429530158, 0.47793027697582735, -0.44609211623245887, 1.7576040287335875, -1.0923347767002078, -1.8993634237607036, 0.5844253290883914, -0.04822525857137415, 0.3463651631429565, 0.40013204209307585, 0.22836136631949458, 0.5377706594361823, -0.046788587259596004, -2.5718183127194134, -0.15116176468220824, -0.21953364549617513, -0.3325484225048974, -1.8096452038883564, 0.7289382006548182, -0.09439706742108991, 0.012540101956239863, -0.48136707668519524, 1.1582886336009641, -0.4248727474952323, 0.40709870307468116, 1.0717332510596662, 0.458827727449291, 0.9438296370958118, 1.4303013514646175, -0.403906433119754, 0.7027145404728263, 0.5103829539116806, -0.8123969957649172, 0.3383761382920852, -1.171096152810323, 0.46599418331537706, 0.47419707617009593, -2.56535748723371, -0.06782037218279009, -0.9328199422531491, 0.08936881595781979, 1.105071798487719, 1.292664158575097, -2.6250692746878195, -0.45631212365946394, 1.018318165064855, -1.2526436138204882, -0.17168542970891618, -0.4699345868151425, 0.38738762957994255, -1.5998498437689137, 0.7609470697567795, -0.2616975602236235, 0.08826540754723577, 0.2378673846850535, 0.32753070517438304, -0.6997696295911957, -0.9027758435345248, -0.07465487316390441, -2.4577222932537945, 0.3340426817758278, 0.6960081666749737, -0.26319239683785034, -0.9980782560498498, -0.12339060576071016, -0.17112287315675134, 0.6429944355509232, 0.9524051082923007, -1.323623217934063, 0.23723427993329563, 0.09923915891778237, 0.05748639326282414, -0.8615285511403645, 0.5099022980535224, -0.29916479814974173, -0.3551225033150403], \"yaxis\": \"y8\"}, {\"line\": {\"color\": \"rgba(128, 128, 128, 1.0)\", \"dash\": \"solid\", \"shape\": \"linear\", \"width\": 1.3}, \"marker\": {\"size\": 2, \"symbol\": \"circle\"}, \"mode\": \"markers\", \"name\": \"C\", \"text\": \"\", \"type\": \"scatter\", \"x\": [-2.19517732281781, 0.41297071995567625, 0.5238259134616036, 2.321660493048887, -1.7918868447130059, -1.4003185528924975, -1.7297604866535865, -0.44388711000201464, -0.5052550235591972, -0.20154762526484626, -0.08352134157213167, -0.6855060781663106, 1.0887687415999572, 0.2855894125108078, 0.7980404615235451, -1.0339660491462646, 0.552988758119476, -0.011700097264279497, 0.021437589270594415, -0.08236305549690165, 0.5291996261975528, 0.6551868758377841, -1.4859686060330128, -1.9244490589884782, 0.8448386798137778, 0.375889652742352, 0.6713684703182022, 0.5292666392387347, -1.8438289583630185, 0.558440068266143, -0.6563135402637561, -1.6316467385018294, -0.39836303303761095, 0.0691617062364122, 0.1353258261082668, 0.7185436507289951, 1.553925211212386, -0.5714655522307664, 1.4904875406858629, 0.6217440104496987, 0.7865768608697654, 0.7378588602432641, -0.8985395833921609, 0.6397978501868015, -0.2631592379934458, -0.18465379229969653, -1.766855324557164, 0.12173746345167527, -0.743605387049839, 0.784334833739347, 0.3917372705482704, -0.5909559239175638, -0.40630782754950207, -0.9881423673945723, -1.4597607300847637, 0.3023562251048793, -0.1954609877017618, 1.8127924584945665, -0.438196644574794, 0.9922522061400024, -0.859983652215299, 0.4246206377667659, 1.2931457895853469, -0.3197471206910602, -0.29015708985798294, -2.4200083935552144, -0.5531573484596305, 0.9919788860691116, -0.10068870784096433, 0.013473054882340725, 0.8870424485265856, -1.52983366553648, 0.8145957073039255, -0.81898061248173, -0.9098258908774242, -1.3752270874209238, 1.3669607304331788, -0.040484151685499445, -1.1206413918176934, 0.4768318852770323, -0.3417763069099912, -1.408962249978248, -1.5951427299765275, 1.2197177433735997, 0.5445789312288598, 0.6313147555355381, 0.32000780366272574, -0.8704515879612656, -0.627920771771115, 0.8440369058295358, -1.2010314467224608, 0.10303101875969292, 1.7119342867501717, 1.345218350267589, 1.8895042692650679, 0.5245714274017701, -0.010284788799988025, 1.4983859268949218, 0.6627916098655476, -0.9058275513453036], \"xaxis\": \"x9\", \"y\": [-1.0788971856936262, -1.2567580655429562, 2.306905757660575, 1.4597194024759284, 0.08993898843896211, 0.99660105806891, -0.9019836835408349, 0.859353588311807, 0.71725570181717, 0.08380403413390386, 0.44119082233712265, 0.1438418816097869, -1.247558375257457, -1.1442716126240062, -1.2617825554963564, -0.19087872415173907, 0.4341101082887723, -1.1287682521621962, -1.3602623536692164, 1.05375491177541, 1.8209709905919105, 0.1817511218888976, 0.22467287735670233, 1.6875574908256463, 0.007166511506410807, -0.0050954727207124266, -0.7423566678317753, -0.40653941438145946, -0.0068370559735675875, -0.3841329768242768, -1.2524535142745092, -1.906151255377356, -0.1763321051587015, -0.5836410168125651, 0.5518374528931556, 1.4519255221120164, 1.3643118237082614, -0.9979487982713429, -0.3645103593299708, -1.0174748573809365, 0.8031952687280782, -1.3162986958711003, -1.9874803671405927, -0.40994448299083536, -0.657621109199126, -0.2441861701805242, -0.48494070247939963, -1.3795160568953664, -0.07059090968345638, -0.37464040312293606, 0.6800215471504433, -0.6873726058624622, -1.241770993437353, 0.05758086179807762, -0.5403668486477343, -1.3125466743292626, 0.43703161569946325, 0.4770647673840944, 0.013742174347041376, 0.9442069570899385, 0.1528210048976337, 0.25608505426833694, 1.272652337867402, 1.161795856037412, 0.5306960137695097, 0.30294924805684886, -0.011718203774587013, 1.3751187811239185, -0.36030546879938913, -0.707594027756117, 0.7255443632944976, 0.6789982136122885, -0.9699242148957096, 0.2778188395179725, -1.455676810569012, 1.0279156175778397, -1.3393970564477102, -0.4543107025528251, -0.5360591728383689, 1.0873434219180473, 0.5713322131613005, 0.5487943256282278, -0.5305824692030522, -0.8525390393332022, 0.5113519006178853, 0.5645692944823126, 0.4296716748425944, -0.38857668370552584, 0.8334927023304188, -0.17060926894242331, -0.29196042928222776, -1.4665800633973136, -0.4741414933070715, -0.07649969481687253, -0.5776916122635324, 1.2800821684834214, 2.1878392758982, 0.9093467140440413, -0.7577571032797649, 1.5706481783964563], \"yaxis\": \"y9\"}, {\"line\": {\"color\": \"rgba(128, 128, 128, 1.0)\", \"dash\": \"solid\", \"shape\": \"linear\", \"width\": 1.3}, \"marker\": {\"size\": 2, \"symbol\": \"circle\"}, \"mode\": \"markers\", \"name\": \"C\", \"text\": \"\", \"type\": \"scatter\", \"x\": [-0.2551109513862989, -1.5127464737870182, 0.3758014389849401, 1.8857727661935286, 1.662544285322015, -1.2664294656572934, -1.5174696024398788, 0.5852178156544476, 0.6965117049576418, -1.1279399272931596, -0.6863623724755933, -1.1044899382302837, 0.07098359754755064, 1.2151791713518312, 0.2203176108637594, 2.6295732761898005, 0.6798859657591843, 0.986074789157596, -1.2317801711589613, -0.7665611492450716, -0.022858667742858704, -0.6294825856993135, 1.6306391943001899, 1.6995515594849566, -0.5905495429530158, 0.47793027697582735, -0.44609211623245887, 1.7576040287335875, -1.0923347767002078, -1.8993634237607036, 0.5844253290883914, -0.04822525857137415, 0.3463651631429565, 0.40013204209307585, 0.22836136631949458, 0.5377706594361823, -0.046788587259596004, -2.5718183127194134, -0.15116176468220824, -0.21953364549617513, -0.3325484225048974, -1.8096452038883564, 0.7289382006548182, -0.09439706742108991, 0.012540101956239863, -0.48136707668519524, 1.1582886336009641, -0.4248727474952323, 0.40709870307468116, 1.0717332510596662, 0.458827727449291, 0.9438296370958118, 1.4303013514646175, -0.403906433119754, 0.7027145404728263, 0.5103829539116806, -0.8123969957649172, 0.3383761382920852, -1.171096152810323, 0.46599418331537706, 0.47419707617009593, -2.56535748723371, -0.06782037218279009, -0.9328199422531491, 0.08936881595781979, 1.105071798487719, 1.292664158575097, -2.6250692746878195, -0.45631212365946394, 1.018318165064855, -1.2526436138204882, -0.17168542970891618, -0.4699345868151425, 0.38738762957994255, -1.5998498437689137, 0.7609470697567795, -0.2616975602236235, 0.08826540754723577, 0.2378673846850535, 0.32753070517438304, -0.6997696295911957, -0.9027758435345248, -0.07465487316390441, -2.4577222932537945, 0.3340426817758278, 0.6960081666749737, -0.26319239683785034, -0.9980782560498498, -0.12339060576071016, -0.17112287315675134, 0.6429944355509232, 0.9524051082923007, -1.323623217934063, 0.23723427993329563, 0.09923915891778237, 0.05748639326282414, -0.8615285511403645, 0.5099022980535224, -0.29916479814974173, -0.3551225033150403], \"xaxis\": \"x10\", \"y\": [-1.0788971856936262, -1.2567580655429562, 2.306905757660575, 1.4597194024759284, 0.08993898843896211, 0.99660105806891, -0.9019836835408349, 0.859353588311807, 0.71725570181717, 0.08380403413390386, 0.44119082233712265, 0.1438418816097869, -1.247558375257457, -1.1442716126240062, -1.2617825554963564, -0.19087872415173907, 0.4341101082887723, -1.1287682521621962, -1.3602623536692164, 1.05375491177541, 1.8209709905919105, 0.1817511218888976, 0.22467287735670233, 1.6875574908256463, 0.007166511506410807, -0.0050954727207124266, -0.7423566678317753, -0.40653941438145946, -0.0068370559735675875, -0.3841329768242768, -1.2524535142745092, -1.906151255377356, -0.1763321051587015, -0.5836410168125651, 0.5518374528931556, 1.4519255221120164, 1.3643118237082614, -0.9979487982713429, -0.3645103593299708, -1.0174748573809365, 0.8031952687280782, -1.3162986958711003, -1.9874803671405927, -0.40994448299083536, -0.657621109199126, -0.2441861701805242, -0.48494070247939963, -1.3795160568953664, -0.07059090968345638, -0.37464040312293606, 0.6800215471504433, -0.6873726058624622, -1.241770993437353, 0.05758086179807762, -0.5403668486477343, -1.3125466743292626, 0.43703161569946325, 0.4770647673840944, 0.013742174347041376, 0.9442069570899385, 0.1528210048976337, 0.25608505426833694, 1.272652337867402, 1.161795856037412, 0.5306960137695097, 0.30294924805684886, -0.011718203774587013, 1.3751187811239185, -0.36030546879938913, -0.707594027756117, 0.7255443632944976, 0.6789982136122885, -0.9699242148957096, 0.2778188395179725, -1.455676810569012, 1.0279156175778397, -1.3393970564477102, -0.4543107025528251, -0.5360591728383689, 1.0873434219180473, 0.5713322131613005, 0.5487943256282278, -0.5305824692030522, -0.8525390393332022, 0.5113519006178853, 0.5645692944823126, 0.4296716748425944, -0.38857668370552584, 0.8334927023304188, -0.17060926894242331, -0.29196042928222776, -1.4665800633973136, -0.4741414933070715, -0.07649969481687253, -0.5776916122635324, 1.2800821684834214, 2.1878392758982, 0.9093467140440413, -0.7577571032797649, 1.5706481783964563], \"yaxis\": \"y10\"}, {\"histfunc\": \"count\", \"histnorm\": \"\", \"marker\": {\"color\": \"rgba(50, 171, 96, 1.0)\", \"line\": {\"color\": \"#4D5663\", \"width\": 1.3}}, \"name\": \"C\", \"nbinsx\": 10, \"opacity\": 0.8, \"orientation\": \"v\", \"type\": \"histogram\", \"x\": [-1.0788971856936262, -1.2567580655429562, 2.306905757660575, 1.4597194024759284, 0.08993898843896211, 0.99660105806891, -0.9019836835408349, 0.859353588311807, 0.71725570181717, 0.08380403413390386, 0.44119082233712265, 0.1438418816097869, -1.247558375257457, -1.1442716126240062, -1.2617825554963564, -0.19087872415173907, 0.4341101082887723, -1.1287682521621962, -1.3602623536692164, 1.05375491177541, 1.8209709905919105, 0.1817511218888976, 0.22467287735670233, 1.6875574908256463, 0.007166511506410807, -0.0050954727207124266, -0.7423566678317753, -0.40653941438145946, -0.0068370559735675875, -0.3841329768242768, -1.2524535142745092, -1.906151255377356, -0.1763321051587015, -0.5836410168125651, 0.5518374528931556, 1.4519255221120164, 1.3643118237082614, -0.9979487982713429, -0.3645103593299708, -1.0174748573809365, 0.8031952687280782, -1.3162986958711003, -1.9874803671405927, -0.40994448299083536, -0.657621109199126, -0.2441861701805242, -0.48494070247939963, -1.3795160568953664, -0.07059090968345638, -0.37464040312293606, 0.6800215471504433, -0.6873726058624622, -1.241770993437353, 0.05758086179807762, -0.5403668486477343, -1.3125466743292626, 0.43703161569946325, 0.4770647673840944, 0.013742174347041376, 0.9442069570899385, 0.1528210048976337, 0.25608505426833694, 1.272652337867402, 1.161795856037412, 0.5306960137695097, 0.30294924805684886, -0.011718203774587013, 1.3751187811239185, -0.36030546879938913, -0.707594027756117, 0.7255443632944976, 0.6789982136122885, -0.9699242148957096, 0.2778188395179725, -1.455676810569012, 1.0279156175778397, -1.3393970564477102, -0.4543107025528251, -0.5360591728383689, 1.0873434219180473, 0.5713322131613005, 0.5487943256282278, -0.5305824692030522, -0.8525390393332022, 0.5113519006178853, 0.5645692944823126, 0.4296716748425944, -0.38857668370552584, 0.8334927023304188, -0.17060926894242331, -0.29196042928222776, -1.4665800633973136, -0.4741414933070715, -0.07649969481687253, -0.5776916122635324, 1.2800821684834214, 2.1878392758982, 0.9093467140440413, -0.7577571032797649, 1.5706481783964563], \"xaxis\": \"x11\", \"yaxis\": \"y11\"}, {\"line\": {\"color\": \"rgba(128, 128, 128, 1.0)\", \"dash\": \"solid\", \"shape\": \"linear\", \"width\": 1.3}, \"marker\": {\"size\": 2, \"symbol\": \"circle\"}, \"mode\": \"markers\", \"name\": \"C\", \"text\": \"\", \"type\": \"scatter\", \"x\": [-0.5590574727429467, -0.9652481973032375, -1.3906244582999019, -0.08687000251376722, 0.1545456412609485, 1.4654554026194144, 1.7355261517364142, 3.0866410008314973, 1.007893155993295, -0.0878959082604831, 1.284467497652036, -0.9963807409741994, 0.036263894100578384, 0.40023408716768255, -1.0246299571488198, 2.28250247935137, -0.7013000342685121, -1.6206655240217647, 1.4112203997059312, 1.4373198921923294, -0.505991052532302, 0.6779142603868307, -0.22510867140490098, 0.8545883499934318, -1.4544427386993073, -0.9789075394224392, -0.9837519315782766, 0.3885380832764085, -0.28032248335972537, 0.7923336903765062, 1.2075302537726125, -1.2176544591767497, 0.0738198563533884, 1.0064142879632798, -0.7706316917192473, 0.4289913981974971, 1.9084145086201643, -0.759623916011402, -0.7425070412671436, 0.06277473045695621, -1.3580505718528622, 0.10196013029678108, -0.5409824517556163, 0.8786075417899561, -1.9178121656516358, -0.7370282624161755, -0.4237867494075362, 1.9636892356315543, 0.10401022158456855, -0.7365675799373227, -0.005439127042603156, -0.2933454827501467, 1.4954542624775675, 0.55802181627489, -0.6593403254748437, 0.1988383461089805, 1.964963411148573, 1.3581791479795247, 0.19833831351646278, -1.163290788844608, 0.9132583074449778, 1.1638660403619159, 0.1982468492296855, -0.29347819983700696, -1.1289900244318574, 1.6786268584259554, 0.6752784131011865, 0.28964405270534455, -1.7028904293033216, -0.3248457754664075, -0.044838207779540167, 1.5281073134205174, -2.198051848748937, 0.5219157564655361, 0.13305749611839168, 0.6697046858131003, 2.0783492112196598, 0.9929109397786321, 0.16938681646939813, 1.6124829761303008, 1.1945936974657962, 0.6407065679370807, 1.077282719175627, -0.031450677049946675, 1.721291153338183, -0.4883675671054236, -1.0751416403037444, -1.6437040422288198, -1.4805590800596549, -0.4327787443054158, 1.4504884399154043, 1.1293919825784633, -0.5720607111027293, -0.9108482132400754, 0.15808052374103915, 0.3987311937942134, -1.0799529107118289, -0.5951021534896669, -0.5904923295274668, -0.5697651843320882], \"xaxis\": \"x12\", \"y\": [-1.0788971856936262, -1.2567580655429562, 2.306905757660575, 1.4597194024759284, 0.08993898843896211, 0.99660105806891, -0.9019836835408349, 0.859353588311807, 0.71725570181717, 0.08380403413390386, 0.44119082233712265, 0.1438418816097869, -1.247558375257457, -1.1442716126240062, -1.2617825554963564, -0.19087872415173907, 0.4341101082887723, -1.1287682521621962, -1.3602623536692164, 1.05375491177541, 1.8209709905919105, 0.1817511218888976, 0.22467287735670233, 1.6875574908256463, 0.007166511506410807, -0.0050954727207124266, -0.7423566678317753, -0.40653941438145946, -0.0068370559735675875, -0.3841329768242768, -1.2524535142745092, -1.906151255377356, -0.1763321051587015, -0.5836410168125651, 0.5518374528931556, 1.4519255221120164, 1.3643118237082614, -0.9979487982713429, -0.3645103593299708, -1.0174748573809365, 0.8031952687280782, -1.3162986958711003, -1.9874803671405927, -0.40994448299083536, -0.657621109199126, -0.2441861701805242, -0.48494070247939963, -1.3795160568953664, -0.07059090968345638, -0.37464040312293606, 0.6800215471504433, -0.6873726058624622, -1.241770993437353, 0.05758086179807762, -0.5403668486477343, -1.3125466743292626, 0.43703161569946325, 0.4770647673840944, 0.013742174347041376, 0.9442069570899385, 0.1528210048976337, 0.25608505426833694, 1.272652337867402, 1.161795856037412, 0.5306960137695097, 0.30294924805684886, -0.011718203774587013, 1.3751187811239185, -0.36030546879938913, -0.707594027756117, 0.7255443632944976, 0.6789982136122885, -0.9699242148957096, 0.2778188395179725, -1.455676810569012, 1.0279156175778397, -1.3393970564477102, -0.4543107025528251, -0.5360591728383689, 1.0873434219180473, 0.5713322131613005, 0.5487943256282278, -0.5305824692030522, -0.8525390393332022, 0.5113519006178853, 0.5645692944823126, 0.4296716748425944, -0.38857668370552584, 0.8334927023304188, -0.17060926894242331, -0.29196042928222776, -1.4665800633973136, -0.4741414933070715, -0.07649969481687253, -0.5776916122635324, 1.2800821684834214, 2.1878392758982, 0.9093467140440413, -0.7577571032797649, 1.5706481783964563], \"yaxis\": \"y12\"}, {\"line\": {\"color\": \"rgba(128, 128, 128, 1.0)\", \"dash\": \"solid\", \"shape\": \"linear\", \"width\": 1.3}, \"marker\": {\"size\": 2, \"symbol\": \"circle\"}, \"mode\": \"markers\", \"name\": \"D\", \"text\": \"\", \"type\": \"scatter\", \"x\": [-2.19517732281781, 0.41297071995567625, 0.5238259134616036, 2.321660493048887, -1.7918868447130059, -1.4003185528924975, -1.7297604866535865, -0.44388711000201464, -0.5052550235591972, -0.20154762526484626, -0.08352134157213167, -0.6855060781663106, 1.0887687415999572, 0.2855894125108078, 0.7980404615235451, -1.0339660491462646, 0.552988758119476, -0.011700097264279497, 0.021437589270594415, -0.08236305549690165, 0.5291996261975528, 0.6551868758377841, -1.4859686060330128, -1.9244490589884782, 0.8448386798137778, 0.375889652742352, 0.6713684703182022, 0.5292666392387347, -1.8438289583630185, 0.558440068266143, -0.6563135402637561, -1.6316467385018294, -0.39836303303761095, 0.0691617062364122, 0.1353258261082668, 0.7185436507289951, 1.553925211212386, -0.5714655522307664, 1.4904875406858629, 0.6217440104496987, 0.7865768608697654, 0.7378588602432641, -0.8985395833921609, 0.6397978501868015, -0.2631592379934458, -0.18465379229969653, -1.766855324557164, 0.12173746345167527, -0.743605387049839, 0.784334833739347, 0.3917372705482704, -0.5909559239175638, -0.40630782754950207, -0.9881423673945723, -1.4597607300847637, 0.3023562251048793, -0.1954609877017618, 1.8127924584945665, -0.438196644574794, 0.9922522061400024, -0.859983652215299, 0.4246206377667659, 1.2931457895853469, -0.3197471206910602, -0.29015708985798294, -2.4200083935552144, -0.5531573484596305, 0.9919788860691116, -0.10068870784096433, 0.013473054882340725, 0.8870424485265856, -1.52983366553648, 0.8145957073039255, -0.81898061248173, -0.9098258908774242, -1.3752270874209238, 1.3669607304331788, -0.040484151685499445, -1.1206413918176934, 0.4768318852770323, -0.3417763069099912, -1.408962249978248, -1.5951427299765275, 1.2197177433735997, 0.5445789312288598, 0.6313147555355381, 0.32000780366272574, -0.8704515879612656, -0.627920771771115, 0.8440369058295358, -1.2010314467224608, 0.10303101875969292, 1.7119342867501717, 1.345218350267589, 1.8895042692650679, 0.5245714274017701, -0.010284788799988025, 1.4983859268949218, 0.6627916098655476, -0.9058275513453036], \"xaxis\": \"x13\", \"y\": [-0.5590574727429467, -0.9652481973032375, -1.3906244582999019, -0.08687000251376722, 0.1545456412609485, 1.4654554026194144, 1.7355261517364142, 3.0866410008314973, 1.007893155993295, -0.0878959082604831, 1.284467497652036, -0.9963807409741994, 0.036263894100578384, 0.40023408716768255, -1.0246299571488198, 2.28250247935137, -0.7013000342685121, -1.6206655240217647, 1.4112203997059312, 1.4373198921923294, -0.505991052532302, 0.6779142603868307, -0.22510867140490098, 0.8545883499934318, -1.4544427386993073, -0.9789075394224392, -0.9837519315782766, 0.3885380832764085, -0.28032248335972537, 0.7923336903765062, 1.2075302537726125, -1.2176544591767497, 0.0738198563533884, 1.0064142879632798, -0.7706316917192473, 0.4289913981974971, 1.9084145086201643, -0.759623916011402, -0.7425070412671436, 0.06277473045695621, -1.3580505718528622, 0.10196013029678108, -0.5409824517556163, 0.8786075417899561, -1.9178121656516358, -0.7370282624161755, -0.4237867494075362, 1.9636892356315543, 0.10401022158456855, -0.7365675799373227, -0.005439127042603156, -0.2933454827501467, 1.4954542624775675, 0.55802181627489, -0.6593403254748437, 0.1988383461089805, 1.964963411148573, 1.3581791479795247, 0.19833831351646278, -1.163290788844608, 0.9132583074449778, 1.1638660403619159, 0.1982468492296855, -0.29347819983700696, -1.1289900244318574, 1.6786268584259554, 0.6752784131011865, 0.28964405270534455, -1.7028904293033216, -0.3248457754664075, -0.044838207779540167, 1.5281073134205174, -2.198051848748937, 0.5219157564655361, 0.13305749611839168, 0.6697046858131003, 2.0783492112196598, 0.9929109397786321, 0.16938681646939813, 1.6124829761303008, 1.1945936974657962, 0.6407065679370807, 1.077282719175627, -0.031450677049946675, 1.721291153338183, -0.4883675671054236, -1.0751416403037444, -1.6437040422288198, -1.4805590800596549, -0.4327787443054158, 1.4504884399154043, 1.1293919825784633, -0.5720607111027293, -0.9108482132400754, 0.15808052374103915, 0.3987311937942134, -1.0799529107118289, -0.5951021534896669, -0.5904923295274668, -0.5697651843320882], \"yaxis\": \"y13\"}, {\"line\": {\"color\": \"rgba(128, 128, 128, 1.0)\", \"dash\": \"solid\", \"shape\": \"linear\", \"width\": 1.3}, \"marker\": {\"size\": 2, \"symbol\": \"circle\"}, \"mode\": \"markers\", \"name\": \"D\", \"text\": \"\", \"type\": \"scatter\", \"x\": [-0.2551109513862989, -1.5127464737870182, 0.3758014389849401, 1.8857727661935286, 1.662544285322015, -1.2664294656572934, -1.5174696024398788, 0.5852178156544476, 0.6965117049576418, -1.1279399272931596, -0.6863623724755933, -1.1044899382302837, 0.07098359754755064, 1.2151791713518312, 0.2203176108637594, 2.6295732761898005, 0.6798859657591843, 0.986074789157596, -1.2317801711589613, -0.7665611492450716, -0.022858667742858704, -0.6294825856993135, 1.6306391943001899, 1.6995515594849566, -0.5905495429530158, 0.47793027697582735, -0.44609211623245887, 1.7576040287335875, -1.0923347767002078, -1.8993634237607036, 0.5844253290883914, -0.04822525857137415, 0.3463651631429565, 0.40013204209307585, 0.22836136631949458, 0.5377706594361823, -0.046788587259596004, -2.5718183127194134, -0.15116176468220824, -0.21953364549617513, -0.3325484225048974, -1.8096452038883564, 0.7289382006548182, -0.09439706742108991, 0.012540101956239863, -0.48136707668519524, 1.1582886336009641, -0.4248727474952323, 0.40709870307468116, 1.0717332510596662, 0.458827727449291, 0.9438296370958118, 1.4303013514646175, -0.403906433119754, 0.7027145404728263, 0.5103829539116806, -0.8123969957649172, 0.3383761382920852, -1.171096152810323, 0.46599418331537706, 0.47419707617009593, -2.56535748723371, -0.06782037218279009, -0.9328199422531491, 0.08936881595781979, 1.105071798487719, 1.292664158575097, -2.6250692746878195, -0.45631212365946394, 1.018318165064855, -1.2526436138204882, -0.17168542970891618, -0.4699345868151425, 0.38738762957994255, -1.5998498437689137, 0.7609470697567795, -0.2616975602236235, 0.08826540754723577, 0.2378673846850535, 0.32753070517438304, -0.6997696295911957, -0.9027758435345248, -0.07465487316390441, -2.4577222932537945, 0.3340426817758278, 0.6960081666749737, -0.26319239683785034, -0.9980782560498498, -0.12339060576071016, -0.17112287315675134, 0.6429944355509232, 0.9524051082923007, -1.323623217934063, 0.23723427993329563, 0.09923915891778237, 0.05748639326282414, -0.8615285511403645, 0.5099022980535224, -0.29916479814974173, -0.3551225033150403], \"xaxis\": \"x14\", \"y\": [-0.5590574727429467, -0.9652481973032375, -1.3906244582999019, -0.08687000251376722, 0.1545456412609485, 1.4654554026194144, 1.7355261517364142, 3.0866410008314973, 1.007893155993295, -0.0878959082604831, 1.284467497652036, -0.9963807409741994, 0.036263894100578384, 0.40023408716768255, -1.0246299571488198, 2.28250247935137, -0.7013000342685121, -1.6206655240217647, 1.4112203997059312, 1.4373198921923294, -0.505991052532302, 0.6779142603868307, -0.22510867140490098, 0.8545883499934318, -1.4544427386993073, -0.9789075394224392, -0.9837519315782766, 0.3885380832764085, -0.28032248335972537, 0.7923336903765062, 1.2075302537726125, -1.2176544591767497, 0.0738198563533884, 1.0064142879632798, -0.7706316917192473, 0.4289913981974971, 1.9084145086201643, -0.759623916011402, -0.7425070412671436, 0.06277473045695621, -1.3580505718528622, 0.10196013029678108, -0.5409824517556163, 0.8786075417899561, -1.9178121656516358, -0.7370282624161755, -0.4237867494075362, 1.9636892356315543, 0.10401022158456855, -0.7365675799373227, -0.005439127042603156, -0.2933454827501467, 1.4954542624775675, 0.55802181627489, -0.6593403254748437, 0.1988383461089805, 1.964963411148573, 1.3581791479795247, 0.19833831351646278, -1.163290788844608, 0.9132583074449778, 1.1638660403619159, 0.1982468492296855, -0.29347819983700696, -1.1289900244318574, 1.6786268584259554, 0.6752784131011865, 0.28964405270534455, -1.7028904293033216, -0.3248457754664075, -0.044838207779540167, 1.5281073134205174, -2.198051848748937, 0.5219157564655361, 0.13305749611839168, 0.6697046858131003, 2.0783492112196598, 0.9929109397786321, 0.16938681646939813, 1.6124829761303008, 1.1945936974657962, 0.6407065679370807, 1.077282719175627, -0.031450677049946675, 1.721291153338183, -0.4883675671054236, -1.0751416403037444, -1.6437040422288198, -1.4805590800596549, -0.4327787443054158, 1.4504884399154043, 1.1293919825784633, -0.5720607111027293, -0.9108482132400754, 0.15808052374103915, 0.3987311937942134, -1.0799529107118289, -0.5951021534896669, -0.5904923295274668, -0.5697651843320882], \"yaxis\": \"y14\"}, {\"line\": {\"color\": \"rgba(128, 128, 128, 1.0)\", \"dash\": \"solid\", \"shape\": \"linear\", \"width\": 1.3}, \"marker\": {\"size\": 2, \"symbol\": \"circle\"}, \"mode\": \"markers\", \"name\": \"D\", \"text\": \"\", \"type\": \"scatter\", \"x\": [-1.0788971856936262, -1.2567580655429562, 2.306905757660575, 1.4597194024759284, 0.08993898843896211, 0.99660105806891, -0.9019836835408349, 0.859353588311807, 0.71725570181717, 0.08380403413390386, 0.44119082233712265, 0.1438418816097869, -1.247558375257457, -1.1442716126240062, -1.2617825554963564, -0.19087872415173907, 0.4341101082887723, -1.1287682521621962, -1.3602623536692164, 1.05375491177541, 1.8209709905919105, 0.1817511218888976, 0.22467287735670233, 1.6875574908256463, 0.007166511506410807, -0.0050954727207124266, -0.7423566678317753, -0.40653941438145946, -0.0068370559735675875, -0.3841329768242768, -1.2524535142745092, -1.906151255377356, -0.1763321051587015, -0.5836410168125651, 0.5518374528931556, 1.4519255221120164, 1.3643118237082614, -0.9979487982713429, -0.3645103593299708, -1.0174748573809365, 0.8031952687280782, -1.3162986958711003, -1.9874803671405927, -0.40994448299083536, -0.657621109199126, -0.2441861701805242, -0.48494070247939963, -1.3795160568953664, -0.07059090968345638, -0.37464040312293606, 0.6800215471504433, -0.6873726058624622, -1.241770993437353, 0.05758086179807762, -0.5403668486477343, -1.3125466743292626, 0.43703161569946325, 0.4770647673840944, 0.013742174347041376, 0.9442069570899385, 0.1528210048976337, 0.25608505426833694, 1.272652337867402, 1.161795856037412, 0.5306960137695097, 0.30294924805684886, -0.011718203774587013, 1.3751187811239185, -0.36030546879938913, -0.707594027756117, 0.7255443632944976, 0.6789982136122885, -0.9699242148957096, 0.2778188395179725, -1.455676810569012, 1.0279156175778397, -1.3393970564477102, -0.4543107025528251, -0.5360591728383689, 1.0873434219180473, 0.5713322131613005, 0.5487943256282278, -0.5305824692030522, -0.8525390393332022, 0.5113519006178853, 0.5645692944823126, 0.4296716748425944, -0.38857668370552584, 0.8334927023304188, -0.17060926894242331, -0.29196042928222776, -1.4665800633973136, -0.4741414933070715, -0.07649969481687253, -0.5776916122635324, 1.2800821684834214, 2.1878392758982, 0.9093467140440413, -0.7577571032797649, 1.5706481783964563], \"xaxis\": \"x15\", \"y\": [-0.5590574727429467, -0.9652481973032375, -1.3906244582999019, -0.08687000251376722, 0.1545456412609485, 1.4654554026194144, 1.7355261517364142, 3.0866410008314973, 1.007893155993295, -0.0878959082604831, 1.284467497652036, -0.9963807409741994, 0.036263894100578384, 0.40023408716768255, -1.0246299571488198, 2.28250247935137, -0.7013000342685121, -1.6206655240217647, 1.4112203997059312, 1.4373198921923294, -0.505991052532302, 0.6779142603868307, -0.22510867140490098, 0.8545883499934318, -1.4544427386993073, -0.9789075394224392, -0.9837519315782766, 0.3885380832764085, -0.28032248335972537, 0.7923336903765062, 1.2075302537726125, -1.2176544591767497, 0.0738198563533884, 1.0064142879632798, -0.7706316917192473, 0.4289913981974971, 1.9084145086201643, -0.759623916011402, -0.7425070412671436, 0.06277473045695621, -1.3580505718528622, 0.10196013029678108, -0.5409824517556163, 0.8786075417899561, -1.9178121656516358, -0.7370282624161755, -0.4237867494075362, 1.9636892356315543, 0.10401022158456855, -0.7365675799373227, -0.005439127042603156, -0.2933454827501467, 1.4954542624775675, 0.55802181627489, -0.6593403254748437, 0.1988383461089805, 1.964963411148573, 1.3581791479795247, 0.19833831351646278, -1.163290788844608, 0.9132583074449778, 1.1638660403619159, 0.1982468492296855, -0.29347819983700696, -1.1289900244318574, 1.6786268584259554, 0.6752784131011865, 0.28964405270534455, -1.7028904293033216, -0.3248457754664075, -0.044838207779540167, 1.5281073134205174, -2.198051848748937, 0.5219157564655361, 0.13305749611839168, 0.6697046858131003, 2.0783492112196598, 0.9929109397786321, 0.16938681646939813, 1.6124829761303008, 1.1945936974657962, 0.6407065679370807, 1.077282719175627, -0.031450677049946675, 1.721291153338183, -0.4883675671054236, -1.0751416403037444, -1.6437040422288198, -1.4805590800596549, -0.4327787443054158, 1.4504884399154043, 1.1293919825784633, -0.5720607111027293, -0.9108482132400754, 0.15808052374103915, 0.3987311937942134, -1.0799529107118289, -0.5951021534896669, -0.5904923295274668, -0.5697651843320882], \"yaxis\": \"y15\"}, {\"histfunc\": \"count\", \"histnorm\": \"\", \"marker\": {\"color\": \"rgba(128, 0, 128, 1.0)\", \"line\": {\"color\": \"#4D5663\", \"width\": 1.3}}, \"name\": \"D\", \"nbinsx\": 10, \"opacity\": 0.8, \"orientation\": \"v\", \"type\": \"histogram\", \"x\": [-0.5590574727429467, -0.9652481973032375, -1.3906244582999019, -0.08687000251376722, 0.1545456412609485, 1.4654554026194144, 1.7355261517364142, 3.0866410008314973, 1.007893155993295, -0.0878959082604831, 1.284467497652036, -0.9963807409741994, 0.036263894100578384, 0.40023408716768255, -1.0246299571488198, 2.28250247935137, -0.7013000342685121, -1.6206655240217647, 1.4112203997059312, 1.4373198921923294, -0.505991052532302, 0.6779142603868307, -0.22510867140490098, 0.8545883499934318, -1.4544427386993073, -0.9789075394224392, -0.9837519315782766, 0.3885380832764085, -0.28032248335972537, 0.7923336903765062, 1.2075302537726125, -1.2176544591767497, 0.0738198563533884, 1.0064142879632798, -0.7706316917192473, 0.4289913981974971, 1.9084145086201643, -0.759623916011402, -0.7425070412671436, 0.06277473045695621, -1.3580505718528622, 0.10196013029678108, -0.5409824517556163, 0.8786075417899561, -1.9178121656516358, -0.7370282624161755, -0.4237867494075362, 1.9636892356315543, 0.10401022158456855, -0.7365675799373227, -0.005439127042603156, -0.2933454827501467, 1.4954542624775675, 0.55802181627489, -0.6593403254748437, 0.1988383461089805, 1.964963411148573, 1.3581791479795247, 0.19833831351646278, -1.163290788844608, 0.9132583074449778, 1.1638660403619159, 0.1982468492296855, -0.29347819983700696, -1.1289900244318574, 1.6786268584259554, 0.6752784131011865, 0.28964405270534455, -1.7028904293033216, -0.3248457754664075, -0.044838207779540167, 1.5281073134205174, -2.198051848748937, 0.5219157564655361, 0.13305749611839168, 0.6697046858131003, 2.0783492112196598, 0.9929109397786321, 0.16938681646939813, 1.6124829761303008, 1.1945936974657962, 0.6407065679370807, 1.077282719175627, -0.031450677049946675, 1.721291153338183, -0.4883675671054236, -1.0751416403037444, -1.6437040422288198, -1.4805590800596549, -0.4327787443054158, 1.4504884399154043, 1.1293919825784633, -0.5720607111027293, -0.9108482132400754, 0.15808052374103915, 0.3987311937942134, -1.0799529107118289, -0.5951021534896669, -0.5904923295274668, -0.5697651843320882], \"xaxis\": \"x16\", \"yaxis\": \"y16\"}],\n",
       "                        {\"bargap\": 0.02, \"legend\": {\"bgcolor\": \"#F5F6F9\", \"font\": {\"color\": \"#4D5663\"}}, \"paper_bgcolor\": \"#F5F6F9\", \"plot_bgcolor\": \"#F5F6F9\", \"showlegend\": false, \"template\": {\"data\": {\"bar\": [{\"error_x\": {\"color\": \"#2a3f5f\"}, \"error_y\": {\"color\": \"#2a3f5f\"}, \"marker\": {\"line\": {\"color\": \"#E5ECF6\", \"width\": 0.5}}, \"type\": \"bar\"}], \"barpolar\": [{\"marker\": {\"line\": {\"color\": \"#E5ECF6\", \"width\": 0.5}}, \"type\": \"barpolar\"}], \"carpet\": [{\"aaxis\": {\"endlinecolor\": \"#2a3f5f\", \"gridcolor\": \"white\", \"linecolor\": \"white\", \"minorgridcolor\": \"white\", \"startlinecolor\": \"#2a3f5f\"}, \"baxis\": {\"endlinecolor\": \"#2a3f5f\", \"gridcolor\": \"white\", \"linecolor\": \"white\", \"minorgridcolor\": \"white\", \"startlinecolor\": \"#2a3f5f\"}, \"type\": \"carpet\"}], \"choropleth\": [{\"colorbar\": {\"outlinewidth\": 0, \"ticks\": \"\"}, \"type\": \"choropleth\"}], \"contour\": [{\"colorbar\": {\"outlinewidth\": 0, \"ticks\": \"\"}, \"colorscale\": [[0.0, \"#0d0887\"], [0.1111111111111111, \"#46039f\"], [0.2222222222222222, \"#7201a8\"], [0.3333333333333333, \"#9c179e\"], [0.4444444444444444, \"#bd3786\"], [0.5555555555555556, \"#d8576b\"], [0.6666666666666666, \"#ed7953\"], [0.7777777777777778, \"#fb9f3a\"], [0.8888888888888888, \"#fdca26\"], [1.0, \"#f0f921\"]], \"type\": \"contour\"}], \"contourcarpet\": [{\"colorbar\": {\"outlinewidth\": 0, \"ticks\": \"\"}, \"type\": \"contourcarpet\"}], \"heatmap\": [{\"colorbar\": {\"outlinewidth\": 0, \"ticks\": \"\"}, \"colorscale\": [[0.0, \"#0d0887\"], [0.1111111111111111, \"#46039f\"], [0.2222222222222222, \"#7201a8\"], [0.3333333333333333, \"#9c179e\"], [0.4444444444444444, \"#bd3786\"], [0.5555555555555556, \"#d8576b\"], [0.6666666666666666, \"#ed7953\"], [0.7777777777777778, \"#fb9f3a\"], [0.8888888888888888, \"#fdca26\"], [1.0, \"#f0f921\"]], \"type\": \"heatmap\"}], \"heatmapgl\": [{\"colorbar\": {\"outlinewidth\": 0, \"ticks\": \"\"}, \"colorscale\": [[0.0, \"#0d0887\"], [0.1111111111111111, \"#46039f\"], [0.2222222222222222, \"#7201a8\"], [0.3333333333333333, \"#9c179e\"], [0.4444444444444444, \"#bd3786\"], [0.5555555555555556, \"#d8576b\"], [0.6666666666666666, \"#ed7953\"], [0.7777777777777778, \"#fb9f3a\"], [0.8888888888888888, \"#fdca26\"], [1.0, \"#f0f921\"]], \"type\": \"heatmapgl\"}], \"histogram\": [{\"marker\": {\"colorbar\": {\"outlinewidth\": 0, \"ticks\": \"\"}}, \"type\": \"histogram\"}], \"histogram2d\": [{\"colorbar\": {\"outlinewidth\": 0, \"ticks\": \"\"}, \"colorscale\": [[0.0, \"#0d0887\"], [0.1111111111111111, \"#46039f\"], [0.2222222222222222, \"#7201a8\"], [0.3333333333333333, \"#9c179e\"], [0.4444444444444444, \"#bd3786\"], [0.5555555555555556, \"#d8576b\"], [0.6666666666666666, \"#ed7953\"], [0.7777777777777778, \"#fb9f3a\"], [0.8888888888888888, \"#fdca26\"], [1.0, \"#f0f921\"]], \"type\": \"histogram2d\"}], \"histogram2dcontour\": [{\"colorbar\": {\"outlinewidth\": 0, \"ticks\": \"\"}, \"colorscale\": [[0.0, \"#0d0887\"], [0.1111111111111111, \"#46039f\"], [0.2222222222222222, \"#7201a8\"], [0.3333333333333333, \"#9c179e\"], [0.4444444444444444, \"#bd3786\"], [0.5555555555555556, \"#d8576b\"], [0.6666666666666666, \"#ed7953\"], [0.7777777777777778, \"#fb9f3a\"], [0.8888888888888888, \"#fdca26\"], [1.0, \"#f0f921\"]], \"type\": \"histogram2dcontour\"}], \"mesh3d\": [{\"colorbar\": {\"outlinewidth\": 0, \"ticks\": \"\"}, \"type\": \"mesh3d\"}], \"parcoords\": [{\"line\": {\"colorbar\": {\"outlinewidth\": 0, \"ticks\": \"\"}}, \"type\": \"parcoords\"}], \"pie\": [{\"automargin\": true, \"type\": \"pie\"}], \"scatter\": [{\"marker\": {\"colorbar\": {\"outlinewidth\": 0, \"ticks\": \"\"}}, \"type\": \"scatter\"}], \"scatter3d\": [{\"line\": {\"colorbar\": {\"outlinewidth\": 0, \"ticks\": \"\"}}, \"marker\": {\"colorbar\": {\"outlinewidth\": 0, \"ticks\": \"\"}}, \"type\": \"scatter3d\"}], \"scattercarpet\": [{\"marker\": {\"colorbar\": {\"outlinewidth\": 0, \"ticks\": \"\"}}, \"type\": \"scattercarpet\"}], \"scattergeo\": [{\"marker\": {\"colorbar\": {\"outlinewidth\": 0, \"ticks\": \"\"}}, \"type\": \"scattergeo\"}], \"scattergl\": [{\"marker\": {\"colorbar\": {\"outlinewidth\": 0, \"ticks\": \"\"}}, \"type\": \"scattergl\"}], \"scattermapbox\": [{\"marker\": {\"colorbar\": {\"outlinewidth\": 0, \"ticks\": \"\"}}, \"type\": \"scattermapbox\"}], \"scatterpolar\": [{\"marker\": {\"colorbar\": {\"outlinewidth\": 0, \"ticks\": \"\"}}, \"type\": \"scatterpolar\"}], \"scatterpolargl\": [{\"marker\": {\"colorbar\": {\"outlinewidth\": 0, \"ticks\": \"\"}}, \"type\": \"scatterpolargl\"}], \"scatterternary\": [{\"marker\": {\"colorbar\": {\"outlinewidth\": 0, \"ticks\": \"\"}}, \"type\": \"scatterternary\"}], \"surface\": [{\"colorbar\": {\"outlinewidth\": 0, \"ticks\": \"\"}, \"colorscale\": [[0.0, \"#0d0887\"], [0.1111111111111111, \"#46039f\"], [0.2222222222222222, \"#7201a8\"], [0.3333333333333333, \"#9c179e\"], [0.4444444444444444, \"#bd3786\"], [0.5555555555555556, \"#d8576b\"], [0.6666666666666666, \"#ed7953\"], [0.7777777777777778, \"#fb9f3a\"], [0.8888888888888888, \"#fdca26\"], [1.0, \"#f0f921\"]], \"type\": \"surface\"}], \"table\": [{\"cells\": {\"fill\": {\"color\": \"#EBF0F8\"}, \"line\": {\"color\": \"white\"}}, \"header\": {\"fill\": {\"color\": \"#C8D4E3\"}, \"line\": {\"color\": \"white\"}}, \"type\": \"table\"}]}, \"layout\": {\"annotationdefaults\": {\"arrowcolor\": \"#2a3f5f\", \"arrowhead\": 0, \"arrowwidth\": 1}, \"coloraxis\": {\"colorbar\": {\"outlinewidth\": 0, \"ticks\": \"\"}}, \"colorscale\": {\"diverging\": [[0, \"#8e0152\"], [0.1, \"#c51b7d\"], [0.2, \"#de77ae\"], [0.3, \"#f1b6da\"], [0.4, \"#fde0ef\"], [0.5, \"#f7f7f7\"], [0.6, \"#e6f5d0\"], [0.7, \"#b8e186\"], [0.8, \"#7fbc41\"], [0.9, \"#4d9221\"], [1, \"#276419\"]], \"sequential\": [[0.0, \"#0d0887\"], [0.1111111111111111, \"#46039f\"], [0.2222222222222222, \"#7201a8\"], [0.3333333333333333, \"#9c179e\"], [0.4444444444444444, \"#bd3786\"], [0.5555555555555556, \"#d8576b\"], [0.6666666666666666, \"#ed7953\"], [0.7777777777777778, \"#fb9f3a\"], [0.8888888888888888, \"#fdca26\"], [1.0, \"#f0f921\"]], \"sequentialminus\": [[0.0, \"#0d0887\"], [0.1111111111111111, \"#46039f\"], [0.2222222222222222, \"#7201a8\"], [0.3333333333333333, \"#9c179e\"], [0.4444444444444444, \"#bd3786\"], [0.5555555555555556, \"#d8576b\"], [0.6666666666666666, \"#ed7953\"], [0.7777777777777778, \"#fb9f3a\"], [0.8888888888888888, \"#fdca26\"], [1.0, \"#f0f921\"]]}, \"colorway\": [\"#636efa\", \"#EF553B\", \"#00cc96\", \"#ab63fa\", \"#FFA15A\", \"#19d3f3\", \"#FF6692\", \"#B6E880\", \"#FF97FF\", \"#FECB52\"], \"font\": {\"color\": \"#2a3f5f\"}, \"geo\": {\"bgcolor\": \"white\", \"lakecolor\": \"white\", \"landcolor\": \"#E5ECF6\", \"showlakes\": true, \"showland\": true, \"subunitcolor\": \"white\"}, \"hoverlabel\": {\"align\": \"left\"}, \"hovermode\": \"closest\", \"mapbox\": {\"style\": \"light\"}, \"paper_bgcolor\": \"white\", \"plot_bgcolor\": \"#E5ECF6\", \"polar\": {\"angularaxis\": {\"gridcolor\": \"white\", \"linecolor\": \"white\", \"ticks\": \"\"}, \"bgcolor\": \"#E5ECF6\", \"radialaxis\": {\"gridcolor\": \"white\", \"linecolor\": \"white\", \"ticks\": \"\"}}, \"scene\": {\"xaxis\": {\"backgroundcolor\": \"#E5ECF6\", \"gridcolor\": \"white\", \"gridwidth\": 2, \"linecolor\": \"white\", \"showbackground\": true, \"ticks\": \"\", \"zerolinecolor\": \"white\"}, \"yaxis\": {\"backgroundcolor\": \"#E5ECF6\", \"gridcolor\": \"white\", \"gridwidth\": 2, \"linecolor\": \"white\", \"showbackground\": true, \"ticks\": \"\", \"zerolinecolor\": \"white\"}, \"zaxis\": {\"backgroundcolor\": \"#E5ECF6\", \"gridcolor\": \"white\", \"gridwidth\": 2, \"linecolor\": \"white\", \"showbackground\": true, \"ticks\": \"\", \"zerolinecolor\": \"white\"}}, \"shapedefaults\": {\"line\": {\"color\": \"#2a3f5f\"}}, \"ternary\": {\"aaxis\": {\"gridcolor\": \"white\", \"linecolor\": \"white\", \"ticks\": \"\"}, \"baxis\": {\"gridcolor\": \"white\", \"linecolor\": \"white\", \"ticks\": \"\"}, \"bgcolor\": \"#E5ECF6\", \"caxis\": {\"gridcolor\": \"white\", \"linecolor\": \"white\", \"ticks\": \"\"}}, \"title\": {\"x\": 0.05}, \"xaxis\": {\"automargin\": true, \"gridcolor\": \"white\", \"linecolor\": \"white\", \"ticks\": \"\", \"title\": {\"standoff\": 15}, \"zerolinecolor\": \"white\", \"zerolinewidth\": 2}, \"yaxis\": {\"automargin\": true, \"gridcolor\": \"white\", \"linecolor\": \"white\", \"ticks\": \"\", \"title\": {\"standoff\": 15}, \"zerolinecolor\": \"white\", \"zerolinewidth\": 2}}}, \"title\": {\"font\": {\"color\": \"#4D5663\"}}, \"xaxis\": {\"anchor\": \"y\", \"domain\": [0.0, 0.2125], \"gridcolor\": \"#E1E5ED\", \"showgrid\": false, \"tickfont\": {\"color\": \"#4D5663\"}, \"title\": {\"font\": {\"color\": \"#4D5663\"}, \"text\": \"\"}, \"zerolinecolor\": \"#E1E5ED\"}, \"xaxis10\": {\"anchor\": \"y10\", \"domain\": [0.2625, 0.475], \"gridcolor\": \"#E1E5ED\", \"showgrid\": false, \"tickfont\": {\"color\": \"#4D5663\"}, \"title\": {\"font\": {\"color\": \"#4D5663\"}, \"text\": \"\"}, \"zerolinecolor\": \"#E1E5ED\"}, \"xaxis11\": {\"anchor\": \"y11\", \"domain\": [0.525, 0.7375], \"gridcolor\": \"#E1E5ED\", \"showgrid\": false, \"tickfont\": {\"color\": \"#4D5663\"}, \"title\": {\"font\": {\"color\": \"#4D5663\"}, \"text\": \"\"}, \"zerolinecolor\": \"#E1E5ED\"}, \"xaxis12\": {\"anchor\": \"y12\", \"domain\": [0.7875, 1.0], \"gridcolor\": \"#E1E5ED\", \"showgrid\": false, \"tickfont\": {\"color\": \"#4D5663\"}, \"title\": {\"font\": {\"color\": \"#4D5663\"}, \"text\": \"\"}, \"zerolinecolor\": \"#E1E5ED\"}, \"xaxis13\": {\"anchor\": \"y13\", \"domain\": [0.0, 0.2125], \"gridcolor\": \"#E1E5ED\", \"showgrid\": false, \"tickfont\": {\"color\": \"#4D5663\"}, \"title\": {\"font\": {\"color\": \"#4D5663\"}, \"text\": \"\"}, \"zerolinecolor\": \"#E1E5ED\"}, \"xaxis14\": {\"anchor\": \"y14\", \"domain\": [0.2625, 0.475], \"gridcolor\": \"#E1E5ED\", \"showgrid\": false, \"tickfont\": {\"color\": \"#4D5663\"}, \"title\": {\"font\": {\"color\": \"#4D5663\"}, \"text\": \"\"}, \"zerolinecolor\": \"#E1E5ED\"}, \"xaxis15\": {\"anchor\": \"y15\", \"domain\": [0.525, 0.7375], \"gridcolor\": \"#E1E5ED\", \"showgrid\": false, \"tickfont\": {\"color\": \"#4D5663\"}, \"title\": {\"font\": {\"color\": \"#4D5663\"}, \"text\": \"\"}, \"zerolinecolor\": \"#E1E5ED\"}, \"xaxis16\": {\"anchor\": \"y16\", \"domain\": [0.7875, 1.0], \"gridcolor\": \"#E1E5ED\", \"showgrid\": false, \"tickfont\": {\"color\": \"#4D5663\"}, \"title\": {\"font\": {\"color\": \"#4D5663\"}, \"text\": \"\"}, \"zerolinecolor\": \"#E1E5ED\"}, \"xaxis2\": {\"anchor\": \"y2\", \"domain\": [0.2625, 0.475], \"gridcolor\": \"#E1E5ED\", \"showgrid\": false, \"tickfont\": {\"color\": \"#4D5663\"}, \"title\": {\"font\": {\"color\": \"#4D5663\"}, \"text\": \"\"}, \"zerolinecolor\": \"#E1E5ED\"}, \"xaxis3\": {\"anchor\": \"y3\", \"domain\": [0.525, 0.7375], \"gridcolor\": \"#E1E5ED\", \"showgrid\": false, \"tickfont\": {\"color\": \"#4D5663\"}, \"title\": {\"font\": {\"color\": \"#4D5663\"}, \"text\": \"\"}, \"zerolinecolor\": \"#E1E5ED\"}, \"xaxis4\": {\"anchor\": \"y4\", \"domain\": [0.7875, 1.0], \"gridcolor\": \"#E1E5ED\", \"showgrid\": false, \"tickfont\": {\"color\": \"#4D5663\"}, \"title\": {\"font\": {\"color\": \"#4D5663\"}, \"text\": \"\"}, \"zerolinecolor\": \"#E1E5ED\"}, \"xaxis5\": {\"anchor\": \"y5\", \"domain\": [0.0, 0.2125], \"gridcolor\": \"#E1E5ED\", \"showgrid\": false, \"tickfont\": {\"color\": \"#4D5663\"}, \"title\": {\"font\": {\"color\": \"#4D5663\"}, \"text\": \"\"}, \"zerolinecolor\": \"#E1E5ED\"}, \"xaxis6\": {\"anchor\": \"y6\", \"domain\": [0.2625, 0.475], \"gridcolor\": \"#E1E5ED\", \"showgrid\": false, \"tickfont\": {\"color\": \"#4D5663\"}, \"title\": {\"font\": {\"color\": \"#4D5663\"}, \"text\": \"\"}, \"zerolinecolor\": \"#E1E5ED\"}, \"xaxis7\": {\"anchor\": \"y7\", \"domain\": [0.525, 0.7375], \"gridcolor\": \"#E1E5ED\", \"showgrid\": false, \"tickfont\": {\"color\": \"#4D5663\"}, \"title\": {\"font\": {\"color\": \"#4D5663\"}, \"text\": \"\"}, \"zerolinecolor\": \"#E1E5ED\"}, \"xaxis8\": {\"anchor\": \"y8\", \"domain\": [0.7875, 1.0], \"gridcolor\": \"#E1E5ED\", \"showgrid\": false, \"tickfont\": {\"color\": \"#4D5663\"}, \"title\": {\"font\": {\"color\": \"#4D5663\"}, \"text\": \"\"}, \"zerolinecolor\": \"#E1E5ED\"}, \"xaxis9\": {\"anchor\": \"y9\", \"domain\": [0.0, 0.2125], \"gridcolor\": \"#E1E5ED\", \"showgrid\": false, \"tickfont\": {\"color\": \"#4D5663\"}, \"title\": {\"font\": {\"color\": \"#4D5663\"}, \"text\": \"\"}, \"zerolinecolor\": \"#E1E5ED\"}, \"yaxis\": {\"anchor\": \"x\", \"domain\": [0.8025, 1.0], \"gridcolor\": \"#E1E5ED\", \"showgrid\": false, \"tickfont\": {\"color\": \"#4D5663\"}, \"title\": {\"font\": {\"color\": \"#4D5663\"}, \"text\": \"\"}, \"zerolinecolor\": \"#E1E5ED\"}, \"yaxis10\": {\"anchor\": \"x10\", \"domain\": [0.2675, 0.465], \"gridcolor\": \"#E1E5ED\", \"showgrid\": false, \"tickfont\": {\"color\": \"#4D5663\"}, \"title\": {\"font\": {\"color\": \"#4D5663\"}, \"text\": \"\"}, \"zerolinecolor\": \"#E1E5ED\"}, \"yaxis11\": {\"anchor\": \"x11\", \"domain\": [0.2675, 0.465], \"gridcolor\": \"#E1E5ED\", \"showgrid\": false, \"tickfont\": {\"color\": \"#4D5663\"}, \"title\": {\"font\": {\"color\": \"#4D5663\"}, \"text\": \"\"}, \"zerolinecolor\": \"#E1E5ED\"}, \"yaxis12\": {\"anchor\": \"x12\", \"domain\": [0.2675, 0.465], \"gridcolor\": \"#E1E5ED\", \"showgrid\": false, \"tickfont\": {\"color\": \"#4D5663\"}, \"title\": {\"font\": {\"color\": \"#4D5663\"}, \"text\": \"\"}, \"zerolinecolor\": \"#E1E5ED\"}, \"yaxis13\": {\"anchor\": \"x13\", \"domain\": [0.0, 0.1975], \"gridcolor\": \"#E1E5ED\", \"showgrid\": false, \"tickfont\": {\"color\": \"#4D5663\"}, \"title\": {\"font\": {\"color\": \"#4D5663\"}, \"text\": \"\"}, \"zerolinecolor\": \"#E1E5ED\"}, \"yaxis14\": {\"anchor\": \"x14\", \"domain\": [0.0, 0.1975], \"gridcolor\": \"#E1E5ED\", \"showgrid\": false, \"tickfont\": {\"color\": \"#4D5663\"}, \"title\": {\"font\": {\"color\": \"#4D5663\"}, \"text\": \"\"}, \"zerolinecolor\": \"#E1E5ED\"}, \"yaxis15\": {\"anchor\": \"x15\", \"domain\": [0.0, 0.1975], \"gridcolor\": \"#E1E5ED\", \"showgrid\": false, \"tickfont\": {\"color\": \"#4D5663\"}, \"title\": {\"font\": {\"color\": \"#4D5663\"}, \"text\": \"\"}, \"zerolinecolor\": \"#E1E5ED\"}, \"yaxis16\": {\"anchor\": \"x16\", \"domain\": [0.0, 0.1975], \"gridcolor\": \"#E1E5ED\", \"showgrid\": false, \"tickfont\": {\"color\": \"#4D5663\"}, \"title\": {\"font\": {\"color\": \"#4D5663\"}, \"text\": \"\"}, \"zerolinecolor\": \"#E1E5ED\"}, \"yaxis2\": {\"anchor\": \"x2\", \"domain\": [0.8025, 1.0], \"gridcolor\": \"#E1E5ED\", \"showgrid\": false, \"tickfont\": {\"color\": \"#4D5663\"}, \"title\": {\"font\": {\"color\": \"#4D5663\"}, \"text\": \"\"}, \"zerolinecolor\": \"#E1E5ED\"}, \"yaxis3\": {\"anchor\": \"x3\", \"domain\": [0.8025, 1.0], \"gridcolor\": \"#E1E5ED\", \"showgrid\": false, \"tickfont\": {\"color\": \"#4D5663\"}, \"title\": {\"font\": {\"color\": \"#4D5663\"}, \"text\": \"\"}, \"zerolinecolor\": \"#E1E5ED\"}, \"yaxis4\": {\"anchor\": \"x4\", \"domain\": [0.8025, 1.0], \"gridcolor\": \"#E1E5ED\", \"showgrid\": false, \"tickfont\": {\"color\": \"#4D5663\"}, \"title\": {\"font\": {\"color\": \"#4D5663\"}, \"text\": \"\"}, \"zerolinecolor\": \"#E1E5ED\"}, \"yaxis5\": {\"anchor\": \"x5\", \"domain\": [0.535, 0.7325], \"gridcolor\": \"#E1E5ED\", \"showgrid\": false, \"tickfont\": {\"color\": \"#4D5663\"}, \"title\": {\"font\": {\"color\": \"#4D5663\"}, \"text\": \"\"}, \"zerolinecolor\": \"#E1E5ED\"}, \"yaxis6\": {\"anchor\": \"x6\", \"domain\": [0.535, 0.7325], \"gridcolor\": \"#E1E5ED\", \"showgrid\": false, \"tickfont\": {\"color\": \"#4D5663\"}, \"title\": {\"font\": {\"color\": \"#4D5663\"}, \"text\": \"\"}, \"zerolinecolor\": \"#E1E5ED\"}, \"yaxis7\": {\"anchor\": \"x7\", \"domain\": [0.535, 0.7325], \"gridcolor\": \"#E1E5ED\", \"showgrid\": false, \"tickfont\": {\"color\": \"#4D5663\"}, \"title\": {\"font\": {\"color\": \"#4D5663\"}, \"text\": \"\"}, \"zerolinecolor\": \"#E1E5ED\"}, \"yaxis8\": {\"anchor\": \"x8\", \"domain\": [0.535, 0.7325], \"gridcolor\": \"#E1E5ED\", \"showgrid\": false, \"tickfont\": {\"color\": \"#4D5663\"}, \"title\": {\"font\": {\"color\": \"#4D5663\"}, \"text\": \"\"}, \"zerolinecolor\": \"#E1E5ED\"}, \"yaxis9\": {\"anchor\": \"x9\", \"domain\": [0.2675, 0.465], \"gridcolor\": \"#E1E5ED\", \"showgrid\": false, \"tickfont\": {\"color\": \"#4D5663\"}, \"title\": {\"font\": {\"color\": \"#4D5663\"}, \"text\": \"\"}, \"zerolinecolor\": \"#E1E5ED\"}},\n",
       "                        {\"showLink\": true, \"linkText\": \"Export to plot.ly\", \"plotlyServerURL\": \"https://plot.ly\", \"responsive\": true}\n",
       "                    ).then(function(){\n",
       "                            \n",
       "var gd = document.getElementById('b3a3857f-f3a3-45f2-811d-b6ca22f5709a');\n",
       "var x = new MutationObserver(function (mutations, observer) {{\n",
       "        var display = window.getComputedStyle(gd).display;\n",
       "        if (!display || display === 'none') {{\n",
       "            console.log([gd, 'removed!']);\n",
       "            Plotly.purge(gd);\n",
       "            observer.disconnect();\n",
       "        }}\n",
       "}});\n",
       "\n",
       "// Listen for the removal of the full notebook cells\n",
       "var notebookContainer = gd.closest('#notebook-container');\n",
       "if (notebookContainer) {{\n",
       "    x.observe(notebookContainer, {childList: true});\n",
       "}}\n",
       "\n",
       "// Listen for the clearing of the current output cell\n",
       "var outputEl = gd.closest('.output');\n",
       "if (outputEl) {{\n",
       "    x.observe(outputEl, {childList: true});\n",
       "}}\n",
       "\n",
       "                        })\n",
       "                };\n",
       "                });\n",
       "            </script>\n",
       "        </div>"
      ]
     },
     "metadata": {},
     "output_type": "display_data"
    }
   ],
   "source": [
    "df.scatter_matrix()"
   ]
  }
 ],
 "metadata": {
  "kernelspec": {
   "display_name": "Python 3",
   "language": "python",
   "name": "python3"
  },
  "language_info": {
   "codemirror_mode": {
    "name": "ipython",
    "version": 3
   },
   "file_extension": ".py",
   "mimetype": "text/x-python",
   "name": "python",
   "nbconvert_exporter": "python",
   "pygments_lexer": "ipython3",
   "version": "3.7.6"
  }
 },
 "nbformat": 4,
 "nbformat_minor": 1
}
